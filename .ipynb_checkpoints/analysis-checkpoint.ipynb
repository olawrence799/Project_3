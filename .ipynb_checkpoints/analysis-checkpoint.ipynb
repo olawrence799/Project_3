{
 "cells": [
  {
   "cell_type": "markdown",
   "metadata": {},
   "source": [
    "# Import and Clean Data"
   ]
  },
  {
   "cell_type": "code",
   "execution_count": 1,
   "metadata": {
    "collapsed": true
   },
   "outputs": [],
   "source": [
    "import pandas as pd\n",
    "import numpy as np\n",
    "import matplotlib.pyplot as plt"
   ]
  },
  {
   "cell_type": "code",
   "execution_count": null,
   "metadata": {},
   "outputs": [],
   "source": [
    "df = pd.read_csv('cleaned_data.csv')"
   ]
  },
  {
   "cell_type": "code",
   "execution_count": null,
   "metadata": {},
   "outputs": [],
   "source": [
    "df.shape"
   ]
  },
  {
   "cell_type": "code",
   "execution_count": null,
   "metadata": {},
   "outputs": [],
   "source": [
    "#df.head()"
   ]
  },
  {
   "cell_type": "code",
   "execution_count": null,
   "metadata": {},
   "outputs": [],
   "source": [
    "#df.tail()"
   ]
  },
  {
   "cell_type": "code",
   "execution_count": null,
   "metadata": {},
   "outputs": [],
   "source": [
    "#df['Player'].value_counts()"
   ]
  },
  {
   "cell_type": "code",
   "execution_count": null,
   "metadata": {},
   "outputs": [],
   "source": [
    "#df.loc[df['Player'] == 'Lou Amundson']"
   ]
  },
  {
   "cell_type": "code",
   "execution_count": null,
   "metadata": {},
   "outputs": [],
   "source": [
    "df.keys()"
   ]
  },
  {
   "cell_type": "code",
   "execution_count": null,
   "metadata": {},
   "outputs": [],
   "source": [
    "#df[df['WS/48'].isnull()]"
   ]
  },
  {
   "cell_type": "code",
   "execution_count": null,
   "metadata": {},
   "outputs": [],
   "source": [
    "#df[df['PER'].isnull()]"
   ]
  },
  {
   "cell_type": "code",
   "execution_count": null,
   "metadata": {},
   "outputs": [],
   "source": [
    "#df[df['YrsExperience'].isnull()]"
   ]
  },
  {
   "cell_type": "code",
   "execution_count": null,
   "metadata": {},
   "outputs": [],
   "source": [
    "#df[df['FG%'].isnull()]"
   ]
  },
  {
   "cell_type": "code",
   "execution_count": null,
   "metadata": {},
   "outputs": [],
   "source": [
    "#df = df.drop(df.index[[842, 1812, 3700, 5472, 5735]])\n",
    "df = df[np.isfinite(df['WS/48'])]\n",
    "df = df[np.isfinite(df['FG%'])]\n",
    "df = df[np.isfinite(df['YrsExperience'])]\n",
    "df.shape"
   ]
  },
  {
   "cell_type": "markdown",
   "metadata": {},
   "source": [
    "# Linear Regression Prediction of Player Efficiency Rating"
   ]
  },
  {
   "cell_type": "code",
   "execution_count": null,
   "metadata": {},
   "outputs": [],
   "source": [
    "X = df[['WS/48', 'BPM', 'USG%']]\n",
    "y = df['PER'].values.reshape(-1, 1)\n",
    "print(X.shape, y.shape)"
   ]
  },
  {
   "cell_type": "code",
   "execution_count": null,
   "metadata": {},
   "outputs": [],
   "source": [
    "from sklearn.model_selection import train_test_split\n",
    "\n",
    "X_train, X_test, y_train, y_test = train_test_split(X, y, random_state=42)"
   ]
  },
  {
   "cell_type": "code",
   "execution_count": null,
   "metadata": {},
   "outputs": [],
   "source": [
    "from sklearn.preprocessing import StandardScaler\n",
    "\n",
    "X_scaler = StandardScaler().fit(X_train)\n",
    "y_scaler = StandardScaler().fit(y_train)"
   ]
  },
  {
   "cell_type": "code",
   "execution_count": null,
   "metadata": {},
   "outputs": [],
   "source": [
    "X_train_scaled = X_scaler.transform(X_train)\n",
    "X_test_scaled = X_scaler.transform(X_test)\n",
    "y_train_scaled = y_scaler.transform(y_train)\n",
    "y_test_scaled = y_scaler.transform(y_test)"
   ]
  },
  {
   "cell_type": "code",
   "execution_count": null,
   "metadata": {},
   "outputs": [],
   "source": [
    "from sklearn.linear_model import LinearRegression\n",
    "model = LinearRegression()\n",
    "model.fit(X_train_scaled, y_train_scaled)"
   ]
  },
  {
   "cell_type": "code",
   "execution_count": null,
   "metadata": {},
   "outputs": [],
   "source": [
    "predictions = model.predict(X_test_scaled)\n",
    "model.fit(X_train_scaled, y_train_scaled)\n",
    "plt.scatter(model.predict(X_train_scaled), model.predict(X_train_scaled) - y_train_scaled, c=\"blue\", label=\"Training Data\")\n",
    "plt.scatter(model.predict(X_test_scaled), model.predict(X_test_scaled) - y_test_scaled, c=\"orange\", label=\"Testing Data\")\n",
    "plt.legend()\n",
    "plt.hlines(y=0, xmin=y_test_scaled.min(), xmax=y_test_scaled.max())\n",
    "plt.title(\"Residual Plot\")\n",
    "plt.show()"
   ]
  },
  {
   "cell_type": "code",
   "execution_count": null,
   "metadata": {},
   "outputs": [],
   "source": [
    "from sklearn.metrics import mean_squared_error\n",
    "\n",
    "MSE = mean_squared_error(y_test_scaled, predictions)\n",
    "r2 = model.score(X_test_scaled, y_test_scaled)\n",
    "\n",
    "print(f\"MSE: {MSE}, R2: {r2}\")"
   ]
  },
  {
   "cell_type": "code",
   "execution_count": null,
   "metadata": {},
   "outputs": [],
   "source": [
    "# LASSO model\n",
    "# Note: Use an alpha of .01 when creating the model for this activity\n",
    "from sklearn.linear_model import Lasso\n",
    "\n",
    "### BEGIN SOLUTION\n",
    "lasso = Lasso(alpha=.01).fit(X_train_scaled, y_train_scaled)\n",
    "\n",
    "predictions = lasso.predict(X_test_scaled)\n",
    "\n",
    "MSE = mean_squared_error(y_test_scaled, predictions)\n",
    "r2 = lasso.score(X_test_scaled, y_test_scaled)\n",
    "### END SOLUTION\n",
    "\n",
    "print(f\"MSE: {MSE}, R2: {r2}\")"
   ]
  },
  {
   "cell_type": "code",
   "execution_count": null,
   "metadata": {},
   "outputs": [],
   "source": [
    "# Ridge model\n",
    "# Note: Use an alpha of .01 when creating the model for this activity\n",
    "from sklearn.linear_model import Ridge\n",
    "\n",
    "### BEGIN SOLUTION\n",
    "ridge = Ridge(alpha=.01).fit(X_train_scaled, y_train_scaled)\n",
    "\n",
    "predictions = ridge.predict(X_test_scaled)\n",
    "\n",
    "MSE = mean_squared_error(y_test_scaled, predictions)\n",
    "r2 = ridge.score(X_test_scaled, y_test_scaled)\n",
    "### END SOLUTION\n",
    "\n",
    "print(f\"MSE: {MSE}, R2: {r2}\")"
   ]
  },
  {
   "cell_type": "code",
   "execution_count": null,
   "metadata": {},
   "outputs": [],
   "source": [
    "# ElasticNet model\n",
    "# Note: Use an alpha of .01 when creating the model for this activity\n",
    "from sklearn.linear_model import ElasticNet\n",
    "\n",
    "### BEGIN SOLUTION\n",
    "elasticnet = ElasticNet(alpha=.01).fit(X_train_scaled, y_train_scaled)\n",
    "\n",
    "predictions = elasticnet.predict(X_test_scaled)\n",
    "\n",
    "MSE = mean_squared_error(y_test_scaled, predictions)\n",
    "r2 = elasticnet.score(X_test_scaled, y_test_scaled)\n",
    "### END SOLUTION\n",
    "\n",
    "print(f\"MSE: {MSE}, R2: {r2}\")"
   ]
  },
  {
   "cell_type": "code",
   "execution_count": null,
   "metadata": {
    "collapsed": true
   },
   "outputs": [],
   "source": []
  },
  {
   "cell_type": "markdown",
   "metadata": {},
   "source": [
    "# Linear Regression Prediction of Minutes Played"
   ]
  },
  {
   "cell_type": "code",
   "execution_count": null,
   "metadata": {},
   "outputs": [],
   "source": [
    "X = df[['GS', 'G', 'PTS']]\n",
    "y = df['MP'].values.reshape(-1, 1)\n",
    "print(X.shape, y.shape)"
   ]
  },
  {
   "cell_type": "code",
   "execution_count": null,
   "metadata": {
    "collapsed": true
   },
   "outputs": [],
   "source": [
    "from sklearn.model_selection import train_test_split\n",
    "\n",
    "X_train, X_test, y_train, y_test = train_test_split(X, y, random_state=42)"
   ]
  },
  {
   "cell_type": "code",
   "execution_count": null,
   "metadata": {},
   "outputs": [],
   "source": [
    "from sklearn.preprocessing import StandardScaler\n",
    "\n",
    "X_scaler = StandardScaler().fit(X_train)\n",
    "y_scaler = StandardScaler().fit(y_train)"
   ]
  },
  {
   "cell_type": "code",
   "execution_count": null,
   "metadata": {},
   "outputs": [],
   "source": [
    "X_train_scaled = X_scaler.transform(X_train)\n",
    "X_test_scaled = X_scaler.transform(X_test)\n",
    "y_train_scaled = y_scaler.transform(y_train)\n",
    "y_test_scaled = y_scaler.transform(y_test)"
   ]
  },
  {
   "cell_type": "code",
   "execution_count": null,
   "metadata": {},
   "outputs": [],
   "source": [
    "from sklearn.linear_model import LinearRegression\n",
    "model = LinearRegression()\n",
    "model.fit(X_train_scaled, y_train_scaled)"
   ]
  },
  {
   "cell_type": "code",
   "execution_count": null,
   "metadata": {},
   "outputs": [],
   "source": [
    "predictions = model.predict(X_test_scaled)\n",
    "model.fit(X_train_scaled, y_train_scaled)\n",
    "plt.scatter(model.predict(X_train_scaled), model.predict(X_train_scaled) - y_train_scaled, c=\"blue\", label=\"Training Data\")\n",
    "plt.scatter(model.predict(X_test_scaled), model.predict(X_test_scaled) - y_test_scaled, c=\"orange\", label=\"Testing Data\")\n",
    "plt.legend()\n",
    "plt.hlines(y=0, xmin=y_test_scaled.min(), xmax=y_test_scaled.max())\n",
    "plt.title(\"Residual Plot\")\n",
    "plt.show()"
   ]
  },
  {
   "cell_type": "code",
   "execution_count": null,
   "metadata": {},
   "outputs": [],
   "source": [
    "from sklearn.metrics import mean_squared_error\n",
    "\n",
    "MSE = mean_squared_error(y_test_scaled, predictions)\n",
    "r2 = model.score(X_test_scaled, y_test_scaled)\n",
    "\n",
    "print(f\"MSE: {MSE}, R2: {r2}\")"
   ]
  },
  {
   "cell_type": "code",
   "execution_count": null,
   "metadata": {
    "collapsed": true
   },
   "outputs": [],
   "source": []
  },
  {
   "cell_type": "markdown",
   "metadata": {},
   "source": [
    "# Logistic Regression of Player Making it Past Rookie Season"
   ]
  },
  {
   "cell_type": "code",
   "execution_count": null,
   "metadata": {
    "collapsed": true
   },
   "outputs": [],
   "source": [
    "#X_train, X_test, y_train, y_test = train_test_split(X, y, random_state=1, stratify=y)"
   ]
  },
  {
   "cell_type": "code",
   "execution_count": null,
   "metadata": {
    "collapsed": true
   },
   "outputs": [],
   "source": []
  },
  {
   "cell_type": "markdown",
   "metadata": {},
   "source": [
    "# Dummy Regression"
   ]
  },
  {
   "cell_type": "code",
   "execution_count": null,
   "metadata": {},
   "outputs": [],
   "source": [
    "#dummy_df = pd.get_dummies(df)\n",
    "#dummy_df.head()"
   ]
  },
  {
   "cell_type": "code",
   "execution_count": null,
   "metadata": {
    "collapsed": true
   },
   "outputs": [],
   "source": []
  },
  {
   "cell_type": "markdown",
   "metadata": {},
   "source": [
    "# K Nearest Neighbors"
   ]
  },
  {
   "cell_type": "code",
   "execution_count": null,
   "metadata": {
    "collapsed": true
   },
   "outputs": [],
   "source": [
    "from sklearn.neighbors import KNeighborsClassifier"
   ]
  },
  {
   "cell_type": "code",
   "execution_count": null,
   "metadata": {},
   "outputs": [],
   "source": [
    "df['Pos'].value_counts()"
   ]
  },
  {
   "cell_type": "code",
   "execution_count": null,
   "metadata": {},
   "outputs": [],
   "source": [
    "df.shape"
   ]
  },
  {
   "cell_type": "code",
   "execution_count": null,
   "metadata": {
    "collapsed": true
   },
   "outputs": [],
   "source": [
    "df = df.reset_index(drop=True)"
   ]
  },
  {
   "cell_type": "code",
   "execution_count": null,
   "metadata": {},
   "outputs": [],
   "source": [
    "df.index[df['Pos'] == 'C-SF'].tolist()"
   ]
  },
  {
   "cell_type": "code",
   "execution_count": null,
   "metadata": {
    "collapsed": true
   },
   "outputs": [],
   "source": [
    "df = df.drop(df.index[[df.index[df['Pos'] == 'C-SF'].tolist()]])"
   ]
  },
  {
   "cell_type": "code",
   "execution_count": null,
   "metadata": {},
   "outputs": [],
   "source": [
    "df.shape"
   ]
  },
  {
   "cell_type": "code",
   "execution_count": null,
   "metadata": {
    "collapsed": true
   },
   "outputs": [],
   "source": [
    "df = df.reset_index(drop=True)"
   ]
  },
  {
   "cell_type": "code",
   "execution_count": null,
   "metadata": {},
   "outputs": [],
   "source": [
    "df.index[df['Pos'] == 'C-SF'].tolist()"
   ]
  },
  {
   "cell_type": "code",
   "execution_count": null,
   "metadata": {},
   "outputs": [],
   "source": [
    "df['Pos'].value_counts()"
   ]
  },
  {
   "cell_type": "code",
   "execution_count": null,
   "metadata": {},
   "outputs": [],
   "source": [
    "df = df.drop(\"blanl\", axis=1)\n",
    "df = df.drop(\"blank2\", axis=1)\n",
    "#df = df.drop(df['Pos'] == 'C-SF')"
   ]
  },
  {
   "cell_type": "code",
   "execution_count": null,
   "metadata": {
    "collapsed": true
   },
   "outputs": [],
   "source": [
    "df = df.dropna(axis=0, how='any')"
   ]
  },
  {
   "cell_type": "code",
   "execution_count": null,
   "metadata": {},
   "outputs": [],
   "source": [
    "data = df.drop(\"Pos\", axis=1)\n",
    "data = data.drop(\"Tm\", axis=1)\n",
    "data = data.drop(\"Player\", axis=1)\n",
    "data = data.drop(\"TrueSalary\", axis=1)\n",
    "data = data.drop(\"RoundedPosition\", axis=1)\n",
    "data = data.drop(\"Year\", axis=1)\n",
    "data = data.drop(\"Age\", axis=1)\n",
    "feature_names = data.columns\n",
    "target = df['Pos']\n",
    "target_names = target.value_counts().keys().tolist()\n",
    "data.head()"
   ]
  },
  {
   "cell_type": "code",
   "execution_count": null,
   "metadata": {},
   "outputs": [],
   "source": [
    "data.shape"
   ]
  },
  {
   "cell_type": "code",
   "execution_count": null,
   "metadata": {},
   "outputs": [],
   "source": [
    "target.shape"
   ]
  },
  {
   "cell_type": "code",
   "execution_count": null,
   "metadata": {},
   "outputs": [],
   "source": [
    "data.keys()"
   ]
  },
  {
   "cell_type": "code",
   "execution_count": null,
   "metadata": {
    "collapsed": true
   },
   "outputs": [],
   "source": [
    "X_train, X_test, y_train, y_test = train_test_split(data, target, random_state=42)"
   ]
  },
  {
   "cell_type": "code",
   "execution_count": null,
   "metadata": {},
   "outputs": [],
   "source": [
    "train_scores = []\n",
    "test_scores = []\n",
    "for k in range(1, 100, 2):\n",
    "    knn = KNeighborsClassifier(n_neighbors=k)\n",
    "    knn.fit(X_train, y_train)\n",
    "    train_score = knn.score(X_train, y_train)\n",
    "    test_score = knn.score(X_test, y_test)\n",
    "    train_scores.append(train_score)\n",
    "    test_scores.append(test_score)\n",
    "    print(f\"k: {k}, Train/Test Score: {train_score:.3f}/{test_score:.3f}\")\n",
    "    \n",
    "    \n",
    "plt.plot(range(1, 100, 2), train_scores, marker='o')\n",
    "plt.plot(range(1, 100, 2), test_scores, marker=\"x\")\n",
    "plt.xlabel(\"k neighbors\")\n",
    "plt.ylabel(\"Testing accuracy Score\")\n",
    "plt.show()"
   ]
  },
  {
   "cell_type": "code",
   "execution_count": null,
   "metadata": {},
   "outputs": [],
   "source": [
    "knn = KNeighborsClassifier(n_neighbors=15)\n",
    "knn.fit(X_train, y_train)\n",
    "print('k=15 Test Acc: %.3f' % knn.score(X_test, y_test))"
   ]
  },
  {
   "cell_type": "markdown",
   "metadata": {},
   "source": [
    "# Stratified KNN"
   ]
  },
  {
   "cell_type": "code",
   "execution_count": null,
   "metadata": {},
   "outputs": [],
   "source": [
    "#target.value_counts()"
   ]
  },
  {
   "cell_type": "code",
   "execution_count": null,
   "metadata": {},
   "outputs": [],
   "source": [
    "from sklearn.model_selection import train_test_split\n",
    "from sklearn.preprocessing import StandardScaler\n",
    "X_train, X_test, y_train, y_test = train_test_split(data, target, random_state=42, stratify=target)"
   ]
  },
  {
   "cell_type": "code",
   "execution_count": null,
   "metadata": {},
   "outputs": [],
   "source": [
    "#X_train.values.reshape(-1,1)"
   ]
  },
  {
   "cell_type": "code",
   "execution_count": null,
   "metadata": {},
   "outputs": [],
   "source": [
    "X_scaler = StandardScaler().fit(X_train.values.reshape(-1, 1))"
   ]
  },
  {
   "cell_type": "code",
   "execution_count": null,
   "metadata": {
    "collapsed": true
   },
   "outputs": [],
   "source": [
    "X_train_scaled = X_scaler.transform(X_train)\n",
    "X_test_scaled = X_scaler.transform(X_test)"
   ]
  },
  {
   "cell_type": "code",
   "execution_count": null,
   "metadata": {},
   "outputs": [],
   "source": [
    "train_scores = []\n",
    "test_scores = []\n",
    "for k in range(1, 100, 2):\n",
    "    knn = KNeighborsClassifier(n_neighbors=k)\n",
    "    knn.fit(X_train_scaled, y_train)\n",
    "    train_score = knn.score(X_train_scaled, y_train)\n",
    "    test_score = knn.score(X_test_scaled, y_test)\n",
    "    train_scores.append(train_score)\n",
    "    test_scores.append(test_score)\n",
    "    print(f\"k: {k}, Train/Test Score: {train_score:.3f}/{test_score:.3f}\")\n",
    "    \n",
    "    \n",
    "plt.plot(range(1, 100, 2), train_scores, marker='o')\n",
    "plt.plot(range(1, 100, 2), test_scores, marker=\"x\")\n",
    "plt.xlabel(\"k neighbors\")\n",
    "plt.ylabel(\"Testing accuracy Score\")\n",
    "plt.show()"
   ]
  },
  {
   "cell_type": "code",
   "execution_count": null,
   "metadata": {},
   "outputs": [],
   "source": [
    "knn = KNeighborsClassifier(n_neighbors=23)\n",
    "knn.fit(X_train_scaled, y_train)\n",
    "print('k=23 Test Acc: %.3f' % knn.score(X_test_scaled, y_test))"
   ]
  },
  {
   "cell_type": "code",
   "execution_count": null,
   "metadata": {
    "collapsed": true
   },
   "outputs": [],
   "source": []
  },
  {
   "cell_type": "markdown",
   "metadata": {},
   "source": [
    "# Random Forests"
   ]
  },
  {
   "cell_type": "code",
   "execution_count": null,
   "metadata": {
    "collapsed": true
   },
   "outputs": [],
   "source": [
    "from sklearn.ensemble import RandomForestClassifier"
   ]
  },
  {
   "cell_type": "code",
   "execution_count": null,
   "metadata": {},
   "outputs": [],
   "source": [
    "rf = RandomForestClassifier(n_estimators=200)\n",
    "rf = rf.fit(data, target)\n",
    "rf.score(data, target)"
   ]
  },
  {
   "cell_type": "code",
   "execution_count": null,
   "metadata": {},
   "outputs": [],
   "source": [
    "importances = rf.feature_importances_\n",
    "importances"
   ]
  },
  {
   "cell_type": "code",
   "execution_count": null,
   "metadata": {},
   "outputs": [],
   "source": [
    "sorted(zip(rf.feature_importances_, feature_names), reverse=True)"
   ]
  },
  {
   "cell_type": "code",
   "execution_count": null,
   "metadata": {
    "collapsed": true
   },
   "outputs": [],
   "source": []
  },
  {
   "cell_type": "markdown",
   "metadata": {},
   "source": [
    "# Decision Tree and Random Forests"
   ]
  },
  {
   "cell_type": "code",
   "execution_count": null,
   "metadata": {
    "collapsed": true
   },
   "outputs": [],
   "source": [
    "from sklearn import tree"
   ]
  },
  {
   "cell_type": "code",
   "execution_count": null,
   "metadata": {
    "collapsed": true
   },
   "outputs": [],
   "source": [
    "X_train, X_test, y_train, y_test = train_test_split(data, target, random_state=42)"
   ]
  },
  {
   "cell_type": "code",
   "execution_count": null,
   "metadata": {},
   "outputs": [],
   "source": [
    "clf = tree.DecisionTreeClassifier()\n",
    "clf = clf.fit(X_train, y_train)\n",
    "clf.score(X_test, y_test)"
   ]
  },
  {
   "cell_type": "code",
   "execution_count": null,
   "metadata": {},
   "outputs": [],
   "source": [
    "from sklearn.ensemble import RandomForestClassifier\n",
    "rf = RandomForestClassifier(n_estimators=200)\n",
    "rf = rf.fit(X_train, y_train)\n",
    "rf.score(X_test, y_test)"
   ]
  },
  {
   "cell_type": "code",
   "execution_count": null,
   "metadata": {},
   "outputs": [],
   "source": [
    "sorted(zip(rf.feature_importances_, feature_names), reverse=True)"
   ]
  },
  {
   "cell_type": "code",
   "execution_count": null,
   "metadata": {
    "collapsed": true
   },
   "outputs": [],
   "source": []
  },
  {
   "cell_type": "markdown",
   "metadata": {},
   "source": [
    "# Decision Tree and Random Forests: Rookie to Final Year"
   ]
  },
  {
   "cell_type": "code",
   "execution_count": null,
   "metadata": {
    "collapsed": true
   },
   "outputs": [],
   "source": [
    "df = pd.read_csv('cleaned_data.csv')"
   ]
  },
  {
   "cell_type": "code",
   "execution_count": null,
   "metadata": {},
   "outputs": [],
   "source": [
    "df.shape"
   ]
  },
  {
   "cell_type": "code",
   "execution_count": null,
   "metadata": {},
   "outputs": [],
   "source": [
    "df = df[np.isfinite(df['WS/48'])]\n",
    "df = df[np.isfinite(df['FG%'])]\n",
    "df = df[np.isfinite(df['YrsExperience'])]\n",
    "df.shape"
   ]
  },
  {
   "cell_type": "code",
   "execution_count": null,
   "metadata": {
    "collapsed": true
   },
   "outputs": [],
   "source": [
    "df = df.reset_index(drop=True)"
   ]
  },
  {
   "cell_type": "code",
   "execution_count": null,
   "metadata": {
    "collapsed": true
   },
   "outputs": [],
   "source": [
    "df = df.drop(\"blanl\", axis=1)\n",
    "df = df.drop(\"blank2\", axis=1)\n",
    "df = df.dropna(axis=0, how='any')"
   ]
  },
  {
   "cell_type": "code",
   "execution_count": null,
   "metadata": {},
   "outputs": [],
   "source": [
    "df.shape"
   ]
  },
  {
   "cell_type": "markdown",
   "metadata": {},
   "source": [
    "# Player Classification"
   ]
  },
  {
   "cell_type": "code",
   "execution_count": null,
   "metadata": {
    "collapsed": true
   },
   "outputs": [],
   "source": []
  },
  {
   "cell_type": "markdown",
   "metadata": {},
   "source": [
    "# Team Classification"
   ]
  },
  {
   "cell_type": "code",
   "execution_count": null,
   "metadata": {},
   "outputs": [],
   "source": [
    "df = pd.read_csv('cleaned_data.csv')\n",
    "df.shape"
   ]
  },
  {
   "cell_type": "code",
   "execution_count": null,
   "metadata": {},
   "outputs": [],
   "source": [
    "df = df[np.isfinite(df['WS/48'])]\n",
    "df = df[np.isfinite(df['FG%'])]\n",
    "df = df[np.isfinite(df['YrsExperience'])]\n",
    "df.shape"
   ]
  },
  {
   "cell_type": "code",
   "execution_count": null,
   "metadata": {
    "collapsed": true
   },
   "outputs": [],
   "source": [
    "df = df.reset_index(drop=True)"
   ]
  },
  {
   "cell_type": "code",
   "execution_count": null,
   "metadata": {
    "collapsed": true
   },
   "outputs": [],
   "source": [
    "df = df.drop(\"blanl\", axis=1)\n",
    "df = df.drop(\"blank2\", axis=1)\n",
    "df = df.dropna(axis=0, how='any')"
   ]
  },
  {
   "cell_type": "code",
   "execution_count": null,
   "metadata": {},
   "outputs": [],
   "source": [
    "df.shape"
   ]
  },
  {
   "cell_type": "code",
   "execution_count": null,
   "metadata": {},
   "outputs": [],
   "source": [
    "data = df.drop(\"Pos\", axis=1)\n",
    "data = data.drop(\"Tm\", axis=1)\n",
    "data = data.drop(\"Player\", axis=1)\n",
    "data = data.drop(\"TrueSalary\", axis=1)\n",
    "#data = data.drop(\"RoundedPosition\", axis=1)\n",
    "#data = data.drop(\"Year\", axis=1)\n",
    "data = data.drop(\"Age\", axis=1)\n",
    "feature_names = data.columns\n",
    "target = df['Tm']\n",
    "target_names = target.value_counts().keys().tolist()\n",
    "data.head()"
   ]
  },
  {
   "cell_type": "code",
   "execution_count": null,
   "metadata": {},
   "outputs": [],
   "source": [
    "data.shape"
   ]
  },
  {
   "cell_type": "code",
   "execution_count": null,
   "metadata": {},
   "outputs": [],
   "source": [
    "target.shape"
   ]
  },
  {
   "cell_type": "code",
   "execution_count": null,
   "metadata": {
    "collapsed": true
   },
   "outputs": [],
   "source": [
    "from sklearn.model_selection import train_test_split\n",
    "from sklearn.preprocessing import StandardScaler\n",
    "X_train, X_test, y_train, y_test = train_test_split(data, target, random_state=42, stratify=target)"
   ]
  },
  {
   "cell_type": "code",
   "execution_count": null,
   "metadata": {},
   "outputs": [],
   "source": [
    "X_scaler = StandardScaler().fit(X_train.values.reshape(-1, 1))"
   ]
  },
  {
   "cell_type": "code",
   "execution_count": null,
   "metadata": {
    "collapsed": true
   },
   "outputs": [],
   "source": [
    "X_train_scaled = X_scaler.transform(X_train)\n",
    "X_test_scaled = X_scaler.transform(X_test)"
   ]
  },
  {
   "cell_type": "code",
   "execution_count": null,
   "metadata": {},
   "outputs": [],
   "source": [
    "train_scores = []\n",
    "test_scores = []\n",
    "for k in range(1, 100, 2):\n",
    "    knn = KNeighborsClassifier(n_neighbors=k)\n",
    "    knn.fit(X_train_scaled, y_train)\n",
    "    train_score = knn.score(X_train_scaled, y_train)\n",
    "    test_score = knn.score(X_test_scaled, y_test)\n",
    "    train_scores.append(train_score)\n",
    "    test_scores.append(test_score)\n",
    "    print(f\"k: {k}, Train/Test Score: {train_score:.3f}/{test_score:.3f}\")\n",
    "    \n",
    "    \n",
    "plt.plot(range(1, 100, 2), train_scores, marker='o')\n",
    "plt.plot(range(1, 100, 2), test_scores, marker=\"x\")\n",
    "plt.xlabel(\"k neighbors\")\n",
    "plt.ylabel(\"Testing accuracy Score\")\n",
    "plt.show()"
   ]
  },
  {
   "cell_type": "code",
   "execution_count": null,
   "metadata": {
    "collapsed": true
   },
   "outputs": [],
   "source": [
    "from sklearn import tree"
   ]
  },
  {
   "cell_type": "code",
   "execution_count": null,
   "metadata": {
    "collapsed": true
   },
   "outputs": [],
   "source": [
    "X_train, X_test, y_train, y_test = train_test_split(data, target, random_state=42)"
   ]
  },
  {
   "cell_type": "code",
   "execution_count": null,
   "metadata": {},
   "outputs": [],
   "source": [
    "clf = tree.DecisionTreeClassifier()\n",
    "clf = clf.fit(X_train, y_train)\n",
    "clf.score(X_test, y_test)"
   ]
  },
  {
   "cell_type": "code",
   "execution_count": null,
   "metadata": {},
   "outputs": [],
   "source": [
    "from sklearn.ensemble import RandomForestClassifier\n",
    "rf = RandomForestClassifier(n_estimators=200)\n",
    "rf = rf.fit(X_train, y_train)\n",
    "rf.score(X_test, y_test)"
   ]
  },
  {
   "cell_type": "code",
   "execution_count": null,
   "metadata": {},
   "outputs": [],
   "source": [
    "sorted(zip(rf.feature_importances_, feature_names), reverse=True)"
   ]
  },
  {
   "cell_type": "code",
   "execution_count": null,
   "metadata": {
    "collapsed": true
   },
   "outputs": [],
   "source": []
  },
  {
   "cell_type": "markdown",
   "metadata": {},
   "source": [
    "# Combining With DPOY Data"
   ]
  },
  {
   "cell_type": "code",
   "execution_count": 2,
   "metadata": {
    "collapsed": true
   },
   "outputs": [],
   "source": [
    "season_stats = pd.read_csv('cleaned_data.csv')"
   ]
  },
  {
   "cell_type": "code",
   "execution_count": 3,
   "metadata": {},
   "outputs": [
    {
     "data": {
      "text/plain": [
       "Index(['Year', 'Player', 'Pos', 'Age', 'Tm', 'G', 'GS', 'MP', 'PER', 'TS%',\n",
       "       '3PAr', 'FTr', 'ORB%', 'DRB%', 'TRB%', 'AST%', 'STL%', 'BLK%', 'TOV%',\n",
       "       'USG%', 'blanl', 'OWS', 'DWS', 'WS', 'WS/48', 'blank2', 'OBPM', 'DBPM',\n",
       "       'BPM', 'VORP', 'FG', 'FGA', 'FG%', '3P', '3PA', '3P%', '2P', '2PA',\n",
       "       '2P%', 'eFG%', 'FT', 'FTA', 'FT%', 'ORB', 'DRB', 'TRB', 'AST', 'STL',\n",
       "       'BLK', 'TOV', 'PF', 'PTS', 'TrueSalary', 'YrsExperience', 'Height',\n",
       "       'Weight', 'RoundedPosition'],\n",
       "      dtype='object')"
      ]
     },
     "execution_count": 3,
     "metadata": {},
     "output_type": "execute_result"
    }
   ],
   "source": [
    "season_stats.columns"
   ]
  },
  {
   "cell_type": "code",
   "execution_count": 4,
   "metadata": {},
   "outputs": [
    {
     "data": {
      "text/html": [
       "<div>\n",
       "<style>\n",
       "    .dataframe thead tr:only-child th {\n",
       "        text-align: right;\n",
       "    }\n",
       "\n",
       "    .dataframe thead th {\n",
       "        text-align: left;\n",
       "    }\n",
       "\n",
       "    .dataframe tbody tr th {\n",
       "        vertical-align: top;\n",
       "    }\n",
       "</style>\n",
       "<table border=\"1\" class=\"dataframe\">\n",
       "  <thead>\n",
       "    <tr style=\"text-align: right;\">\n",
       "      <th></th>\n",
       "      <th>Year</th>\n",
       "      <th>Player</th>\n",
       "      <th>Pos</th>\n",
       "      <th>Age</th>\n",
       "      <th>Tm</th>\n",
       "      <th>G</th>\n",
       "      <th>GS</th>\n",
       "      <th>MP</th>\n",
       "      <th>PER</th>\n",
       "      <th>TS%</th>\n",
       "      <th>...</th>\n",
       "      <th>STL</th>\n",
       "      <th>BLK</th>\n",
       "      <th>TOV</th>\n",
       "      <th>PF</th>\n",
       "      <th>PTS</th>\n",
       "      <th>TrueSalary</th>\n",
       "      <th>YrsExperience</th>\n",
       "      <th>Height</th>\n",
       "      <th>Weight</th>\n",
       "      <th>RoundedPosition</th>\n",
       "    </tr>\n",
       "  </thead>\n",
       "  <tbody>\n",
       "    <tr>\n",
       "      <th>77</th>\n",
       "      <td>2007</td>\n",
       "      <td>Marcus Camby</td>\n",
       "      <td>C</td>\n",
       "      <td>32</td>\n",
       "      <td>DEN</td>\n",
       "      <td>70</td>\n",
       "      <td>70</td>\n",
       "      <td>2369</td>\n",
       "      <td>19.1</td>\n",
       "      <td>0.519</td>\n",
       "      <td>...</td>\n",
       "      <td>87</td>\n",
       "      <td>231</td>\n",
       "      <td>122</td>\n",
       "      <td>183</td>\n",
       "      <td>785</td>\n",
       "      <td>19300000</td>\n",
       "      <td>10.0</td>\n",
       "      <td>83.0</td>\n",
       "      <td>220.0</td>\n",
       "      <td>5.0</td>\n",
       "    </tr>\n",
       "    <tr>\n",
       "      <th>696</th>\n",
       "      <td>2008</td>\n",
       "      <td>Kevin Garnett</td>\n",
       "      <td>PF</td>\n",
       "      <td>31</td>\n",
       "      <td>BOS</td>\n",
       "      <td>71</td>\n",
       "      <td>71</td>\n",
       "      <td>2328</td>\n",
       "      <td>25.3</td>\n",
       "      <td>0.588</td>\n",
       "      <td>...</td>\n",
       "      <td>100</td>\n",
       "      <td>89</td>\n",
       "      <td>138</td>\n",
       "      <td>163</td>\n",
       "      <td>1337</td>\n",
       "      <td>24200000</td>\n",
       "      <td>12.0</td>\n",
       "      <td>83.0</td>\n",
       "      <td>220.0</td>\n",
       "      <td>4.0</td>\n",
       "    </tr>\n",
       "    <tr>\n",
       "      <th>1360</th>\n",
       "      <td>2009</td>\n",
       "      <td>Dwight Howard</td>\n",
       "      <td>C</td>\n",
       "      <td>23</td>\n",
       "      <td>ORL</td>\n",
       "      <td>79</td>\n",
       "      <td>79</td>\n",
       "      <td>2821</td>\n",
       "      <td>25.4</td>\n",
       "      <td>0.600</td>\n",
       "      <td>...</td>\n",
       "      <td>77</td>\n",
       "      <td>231</td>\n",
       "      <td>240</td>\n",
       "      <td>270</td>\n",
       "      <td>1624</td>\n",
       "      <td>19800000</td>\n",
       "      <td>4.0</td>\n",
       "      <td>83.0</td>\n",
       "      <td>240.0</td>\n",
       "      <td>5.0</td>\n",
       "    </tr>\n",
       "    <tr>\n",
       "      <th>1938</th>\n",
       "      <td>2010</td>\n",
       "      <td>Dwight Howard</td>\n",
       "      <td>C</td>\n",
       "      <td>24</td>\n",
       "      <td>ORL</td>\n",
       "      <td>82</td>\n",
       "      <td>82</td>\n",
       "      <td>2843</td>\n",
       "      <td>24.0</td>\n",
       "      <td>0.630</td>\n",
       "      <td>...</td>\n",
       "      <td>75</td>\n",
       "      <td>228</td>\n",
       "      <td>274</td>\n",
       "      <td>287</td>\n",
       "      <td>1503</td>\n",
       "      <td>21900000</td>\n",
       "      <td>5.0</td>\n",
       "      <td>83.0</td>\n",
       "      <td>240.0</td>\n",
       "      <td>5.0</td>\n",
       "    </tr>\n",
       "    <tr>\n",
       "      <th>2565</th>\n",
       "      <td>2011</td>\n",
       "      <td>Dwight Howard</td>\n",
       "      <td>C</td>\n",
       "      <td>25</td>\n",
       "      <td>ORL</td>\n",
       "      <td>78</td>\n",
       "      <td>78</td>\n",
       "      <td>2935</td>\n",
       "      <td>26.1</td>\n",
       "      <td>0.616</td>\n",
       "      <td>...</td>\n",
       "      <td>107</td>\n",
       "      <td>186</td>\n",
       "      <td>279</td>\n",
       "      <td>258</td>\n",
       "      <td>1784</td>\n",
       "      <td>20900000</td>\n",
       "      <td>6.0</td>\n",
       "      <td>83.0</td>\n",
       "      <td>240.0</td>\n",
       "      <td>5.0</td>\n",
       "    </tr>\n",
       "    <tr>\n",
       "      <th>2987</th>\n",
       "      <td>2012</td>\n",
       "      <td>Tyson Chandler</td>\n",
       "      <td>C</td>\n",
       "      <td>29</td>\n",
       "      <td>NYK</td>\n",
       "      <td>62</td>\n",
       "      <td>62</td>\n",
       "      <td>2061</td>\n",
       "      <td>18.7</td>\n",
       "      <td>0.708</td>\n",
       "      <td>...</td>\n",
       "      <td>56</td>\n",
       "      <td>89</td>\n",
       "      <td>102</td>\n",
       "      <td>186</td>\n",
       "      <td>699</td>\n",
       "      <td>17100000</td>\n",
       "      <td>10.0</td>\n",
       "      <td>85.0</td>\n",
       "      <td>235.0</td>\n",
       "      <td>5.0</td>\n",
       "    </tr>\n",
       "    <tr>\n",
       "      <th>3623</th>\n",
       "      <td>2013</td>\n",
       "      <td>Marc Gasol</td>\n",
       "      <td>C</td>\n",
       "      <td>28</td>\n",
       "      <td>MEM</td>\n",
       "      <td>80</td>\n",
       "      <td>80</td>\n",
       "      <td>2796</td>\n",
       "      <td>19.5</td>\n",
       "      <td>0.559</td>\n",
       "      <td>...</td>\n",
       "      <td>80</td>\n",
       "      <td>139</td>\n",
       "      <td>157</td>\n",
       "      <td>255</td>\n",
       "      <td>1127</td>\n",
       "      <td>22100000</td>\n",
       "      <td>4.0</td>\n",
       "      <td>85.0</td>\n",
       "      <td>265.0</td>\n",
       "      <td>5.0</td>\n",
       "    </tr>\n",
       "    <tr>\n",
       "      <th>4442</th>\n",
       "      <td>2014</td>\n",
       "      <td>Joakim Noah</td>\n",
       "      <td>C</td>\n",
       "      <td>28</td>\n",
       "      <td>CHI</td>\n",
       "      <td>80</td>\n",
       "      <td>80</td>\n",
       "      <td>2820</td>\n",
       "      <td>20.0</td>\n",
       "      <td>0.531</td>\n",
       "      <td>...</td>\n",
       "      <td>99</td>\n",
       "      <td>121</td>\n",
       "      <td>194</td>\n",
       "      <td>245</td>\n",
       "      <td>1007</td>\n",
       "      <td>22400000</td>\n",
       "      <td>6.0</td>\n",
       "      <td>83.0</td>\n",
       "      <td>232.0</td>\n",
       "      <td>4.0</td>\n",
       "    </tr>\n",
       "    <tr>\n",
       "      <th>4978</th>\n",
       "      <td>2015</td>\n",
       "      <td>Kawhi Leonard</td>\n",
       "      <td>SF</td>\n",
       "      <td>23</td>\n",
       "      <td>SAS</td>\n",
       "      <td>64</td>\n",
       "      <td>64</td>\n",
       "      <td>2033</td>\n",
       "      <td>22.0</td>\n",
       "      <td>0.567</td>\n",
       "      <td>...</td>\n",
       "      <td>148</td>\n",
       "      <td>48</td>\n",
       "      <td>97</td>\n",
       "      <td>128</td>\n",
       "      <td>1057</td>\n",
       "      <td>21600000</td>\n",
       "      <td>3.0</td>\n",
       "      <td>79.0</td>\n",
       "      <td>230.0</td>\n",
       "      <td>3.0</td>\n",
       "    </tr>\n",
       "    <tr>\n",
       "      <th>5604</th>\n",
       "      <td>2016</td>\n",
       "      <td>Kawhi Leonard</td>\n",
       "      <td>SF</td>\n",
       "      <td>24</td>\n",
       "      <td>SAS</td>\n",
       "      <td>72</td>\n",
       "      <td>72</td>\n",
       "      <td>2380</td>\n",
       "      <td>26.0</td>\n",
       "      <td>0.616</td>\n",
       "      <td>...</td>\n",
       "      <td>128</td>\n",
       "      <td>71</td>\n",
       "      <td>105</td>\n",
       "      <td>133</td>\n",
       "      <td>1523</td>\n",
       "      <td>11300000</td>\n",
       "      <td>4.0</td>\n",
       "      <td>79.0</td>\n",
       "      <td>230.0</td>\n",
       "      <td>3.0</td>\n",
       "    </tr>\n",
       "  </tbody>\n",
       "</table>\n",
       "<p>10 rows × 57 columns</p>\n",
       "</div>"
      ],
      "text/plain": [
       "      Year          Player Pos  Age   Tm   G  GS    MP   PER    TS%  \\\n",
       "77    2007    Marcus Camby   C   32  DEN  70  70  2369  19.1  0.519   \n",
       "696   2008   Kevin Garnett  PF   31  BOS  71  71  2328  25.3  0.588   \n",
       "1360  2009   Dwight Howard   C   23  ORL  79  79  2821  25.4  0.600   \n",
       "1938  2010   Dwight Howard   C   24  ORL  82  82  2843  24.0  0.630   \n",
       "2565  2011   Dwight Howard   C   25  ORL  78  78  2935  26.1  0.616   \n",
       "2987  2012  Tyson Chandler   C   29  NYK  62  62  2061  18.7  0.708   \n",
       "3623  2013      Marc Gasol   C   28  MEM  80  80  2796  19.5  0.559   \n",
       "4442  2014     Joakim Noah   C   28  CHI  80  80  2820  20.0  0.531   \n",
       "4978  2015   Kawhi Leonard  SF   23  SAS  64  64  2033  22.0  0.567   \n",
       "5604  2016   Kawhi Leonard  SF   24  SAS  72  72  2380  26.0  0.616   \n",
       "\n",
       "           ...         STL  BLK  TOV   PF   PTS  TrueSalary  YrsExperience  \\\n",
       "77         ...          87  231  122  183   785    19300000           10.0   \n",
       "696        ...         100   89  138  163  1337    24200000           12.0   \n",
       "1360       ...          77  231  240  270  1624    19800000            4.0   \n",
       "1938       ...          75  228  274  287  1503    21900000            5.0   \n",
       "2565       ...         107  186  279  258  1784    20900000            6.0   \n",
       "2987       ...          56   89  102  186   699    17100000           10.0   \n",
       "3623       ...          80  139  157  255  1127    22100000            4.0   \n",
       "4442       ...          99  121  194  245  1007    22400000            6.0   \n",
       "4978       ...         148   48   97  128  1057    21600000            3.0   \n",
       "5604       ...         128   71  105  133  1523    11300000            4.0   \n",
       "\n",
       "      Height  Weight  RoundedPosition  \n",
       "77      83.0   220.0              5.0  \n",
       "696     83.0   220.0              4.0  \n",
       "1360    83.0   240.0              5.0  \n",
       "1938    83.0   240.0              5.0  \n",
       "2565    83.0   240.0              5.0  \n",
       "2987    85.0   235.0              5.0  \n",
       "3623    85.0   265.0              5.0  \n",
       "4442    83.0   232.0              4.0  \n",
       "4978    79.0   230.0              3.0  \n",
       "5604    79.0   230.0              3.0  \n",
       "\n",
       "[10 rows x 57 columns]"
      ]
     },
     "execution_count": 4,
     "metadata": {},
     "output_type": "execute_result"
    }
   ],
   "source": [
    "dpoy_2016 = season_stats.loc[(season_stats['Year'] == 2016.0) & (season_stats['Player'] == 'Kawhi Leonard')]\n",
    "dpoy_2015 = season_stats.loc[(season_stats['Year'] == 2015.0) & (season_stats['Player'] == 'Kawhi Leonard')]\n",
    "dpoy_2014 = season_stats.loc[(season_stats['Year'] == 2014.0) & (season_stats['Player'] == 'Joakim Noah')]\n",
    "dpoy_2013 = season_stats.loc[(season_stats['Year'] == 2013.0) & (season_stats['Player'] == 'Marc Gasol')]\n",
    "dpoy_2012 = season_stats.loc[(season_stats['Year'] == 2012.0) & (season_stats['Player'] == 'Tyson Chandler')]\n",
    "dpoy_2011 = season_stats.loc[(season_stats['Year'] == 2011.0) & (season_stats['Player'] == 'Dwight Howard')]\n",
    "dpoy_2010 = season_stats.loc[(season_stats['Year'] == 2010.0) & (season_stats['Player'] == 'Dwight Howard')]\n",
    "dpoy_2009 = season_stats.loc[(season_stats['Year'] == 2009.0) & (season_stats['Player'] == 'Dwight Howard')]\n",
    "dpoy_2008 = season_stats.loc[(season_stats['Year'] == 2008.0) & (season_stats['Player'] == 'Kevin Garnett')]\n",
    "dpoy_2007 = season_stats.loc[(season_stats['Year'] == 2007.0) & (season_stats['Player'] == 'Marcus Camby')]\n",
    "\n",
    "dpoys = [dpoy_2007, dpoy_2008, dpoy_2009, dpoy_2010, dpoy_2011, dpoy_2012, dpoy_2013, dpoy_2014, dpoy_2015, dpoy_2016]\n",
    "\n",
    "dpoys_df = pd.concat(dpoys)\n",
    "dpoys_df"
   ]
  },
  {
   "cell_type": "code",
   "execution_count": 5,
   "metadata": {},
   "outputs": [
    {
     "data": {
      "text/plain": [
       "Index(['Year', 'Player', 'Pos', 'Age', 'Tm', 'G', 'GS', 'MP', 'PER', 'TS%',\n",
       "       '3PAr', 'FTr', 'ORB%', 'DRB%', 'TRB%', 'AST%', 'STL%', 'BLK%', 'TOV%',\n",
       "       'USG%', 'blanl', 'OWS', 'DWS', 'WS', 'WS/48', 'blank2', 'OBPM', 'DBPM',\n",
       "       'BPM', 'VORP', 'FG', 'FGA', 'FG%', '3P', '3PA', '3P%', '2P', '2PA',\n",
       "       '2P%', 'eFG%', 'FT', 'FTA', 'FT%', 'ORB', 'DRB', 'TRB', 'AST', 'STL',\n",
       "       'BLK', 'TOV', 'PF', 'PTS', 'TrueSalary', 'YrsExperience', 'Height',\n",
       "       'Weight', 'RoundedPosition'],\n",
       "      dtype='object')"
      ]
     },
     "execution_count": 5,
     "metadata": {},
     "output_type": "execute_result"
    }
   ],
   "source": [
    "df = season_stats\n",
    "df.columns"
   ]
  },
  {
   "cell_type": "code",
   "execution_count": 6,
   "metadata": {},
   "outputs": [
    {
     "data": {
      "text/plain": [
       "[77, 696, 1360, 1938, 2565, 2987, 3623, 4442, 4978, 5604]"
      ]
     },
     "execution_count": 6,
     "metadata": {},
     "output_type": "execute_result"
    }
   ],
   "source": [
    "dpoys_index = dpoys_df.index.values.tolist()\n",
    "dpoys_index"
   ]
  },
  {
   "cell_type": "code",
   "execution_count": 7,
   "metadata": {},
   "outputs": [],
   "source": [
    "#years = [2016, 2015, 2014, 2013, 2012, 2011, 2010, 2009, 2008, 2007]\n",
    "dpoy = []\n",
    "#for year in years:\n",
    "for i in range(0, len(df)):\n",
    "    if i in dpoys_index:\n",
    "        value = 1\n",
    "        dpoy.append(value)\n",
    "    else:\n",
    "        value = 0\n",
    "        dpoy.append(value)\n",
    "            "
   ]
  },
  {
   "cell_type": "code",
   "execution_count": 8,
   "metadata": {},
   "outputs": [
    {
     "data": {
      "text/plain": [
       "5860"
      ]
     },
     "execution_count": 8,
     "metadata": {},
     "output_type": "execute_result"
    }
   ],
   "source": [
    "len(dpoy)"
   ]
  },
  {
   "cell_type": "code",
   "execution_count": 9,
   "metadata": {},
   "outputs": [
    {
     "name": "stdout",
     "output_type": "stream",
     "text": [
      "10\n"
     ]
    }
   ],
   "source": [
    "sum = 0\n",
    "for i in range(0, len(dpoy)):\n",
    "    sum = sum + dpoy[i]\n",
    "print(sum)"
   ]
  },
  {
   "cell_type": "code",
   "execution_count": 10,
   "metadata": {},
   "outputs": [],
   "source": [
    "df['dpoy'] = dpoy"
   ]
  },
  {
   "cell_type": "code",
   "execution_count": 11,
   "metadata": {},
   "outputs": [
    {
     "data": {
      "text/plain": [
       "(5860, 58)"
      ]
     },
     "execution_count": 11,
     "metadata": {},
     "output_type": "execute_result"
    }
   ],
   "source": [
    "df.shape"
   ]
  },
  {
   "cell_type": "code",
   "execution_count": 12,
   "metadata": {},
   "outputs": [
    {
     "data": {
      "text/plain": [
       "Index(['Year', 'Player', 'Pos', 'Age', 'Tm', 'G', 'GS', 'MP', 'PER', 'TS%',\n",
       "       '3PAr', 'FTr', 'ORB%', 'DRB%', 'TRB%', 'AST%', 'STL%', 'BLK%', 'TOV%',\n",
       "       'USG%', 'blanl', 'OWS', 'DWS', 'WS', 'WS/48', 'blank2', 'OBPM', 'DBPM',\n",
       "       'BPM', 'VORP', 'FG', 'FGA', 'FG%', '3P', '3PA', '3P%', '2P', '2PA',\n",
       "       '2P%', 'eFG%', 'FT', 'FTA', 'FT%', 'ORB', 'DRB', 'TRB', 'AST', 'STL',\n",
       "       'BLK', 'TOV', 'PF', 'PTS', 'TrueSalary', 'YrsExperience', 'Height',\n",
       "       'Weight', 'RoundedPosition', 'dpoy'],\n",
       "      dtype='object')"
      ]
     },
     "execution_count": 12,
     "metadata": {},
     "output_type": "execute_result"
    }
   ],
   "source": [
    "df.keys()"
   ]
  },
  {
   "cell_type": "code",
   "execution_count": 13,
   "metadata": {},
   "outputs": [
    {
     "data": {
      "text/html": [
       "<div>\n",
       "<style>\n",
       "    .dataframe thead tr:only-child th {\n",
       "        text-align: right;\n",
       "    }\n",
       "\n",
       "    .dataframe thead th {\n",
       "        text-align: left;\n",
       "    }\n",
       "\n",
       "    .dataframe tbody tr th {\n",
       "        vertical-align: top;\n",
       "    }\n",
       "</style>\n",
       "<table border=\"1\" class=\"dataframe\">\n",
       "  <thead>\n",
       "    <tr style=\"text-align: right;\">\n",
       "      <th></th>\n",
       "      <th>Year</th>\n",
       "      <th>Player</th>\n",
       "      <th>Pos</th>\n",
       "      <th>Age</th>\n",
       "      <th>Tm</th>\n",
       "      <th>G</th>\n",
       "      <th>GS</th>\n",
       "      <th>MP</th>\n",
       "      <th>PER</th>\n",
       "      <th>TS%</th>\n",
       "      <th>...</th>\n",
       "      <th>BLK</th>\n",
       "      <th>TOV</th>\n",
       "      <th>PF</th>\n",
       "      <th>PTS</th>\n",
       "      <th>TrueSalary</th>\n",
       "      <th>YrsExperience</th>\n",
       "      <th>Height</th>\n",
       "      <th>Weight</th>\n",
       "      <th>RoundedPosition</th>\n",
       "      <th>dpoy</th>\n",
       "    </tr>\n",
       "  </thead>\n",
       "  <tbody>\n",
       "    <tr>\n",
       "      <th>0</th>\n",
       "      <td>2007</td>\n",
       "      <td>Shareef Abdur-Rahim</td>\n",
       "      <td>C</td>\n",
       "      <td>30</td>\n",
       "      <td>SAC</td>\n",
       "      <td>80</td>\n",
       "      <td>45</td>\n",
       "      <td>2015</td>\n",
       "      <td>13.1</td>\n",
       "      <td>0.524</td>\n",
       "      <td>...</td>\n",
       "      <td>40</td>\n",
       "      <td>116</td>\n",
       "      <td>243</td>\n",
       "      <td>793</td>\n",
       "      <td>1800000</td>\n",
       "      <td>10.0</td>\n",
       "      <td>81.0</td>\n",
       "      <td>225.0</td>\n",
       "      <td>4.0</td>\n",
       "      <td>0</td>\n",
       "    </tr>\n",
       "    <tr>\n",
       "      <th>1</th>\n",
       "      <td>2007</td>\n",
       "      <td>Hassan Adams</td>\n",
       "      <td>SG</td>\n",
       "      <td>22</td>\n",
       "      <td>NJN</td>\n",
       "      <td>61</td>\n",
       "      <td>8</td>\n",
       "      <td>495</td>\n",
       "      <td>13.0</td>\n",
       "      <td>0.577</td>\n",
       "      <td>...</td>\n",
       "      <td>4</td>\n",
       "      <td>22</td>\n",
       "      <td>47</td>\n",
       "      <td>174</td>\n",
       "      <td>0</td>\n",
       "      <td>0.0</td>\n",
       "      <td>76.0</td>\n",
       "      <td>220.0</td>\n",
       "      <td>2.0</td>\n",
       "      <td>0</td>\n",
       "    </tr>\n",
       "    <tr>\n",
       "      <th>2</th>\n",
       "      <td>2007</td>\n",
       "      <td>Maurice Ager</td>\n",
       "      <td>SG</td>\n",
       "      <td>22</td>\n",
       "      <td>DAL</td>\n",
       "      <td>32</td>\n",
       "      <td>1</td>\n",
       "      <td>214</td>\n",
       "      <td>2.9</td>\n",
       "      <td>0.408</td>\n",
       "      <td>...</td>\n",
       "      <td>3</td>\n",
       "      <td>15</td>\n",
       "      <td>27</td>\n",
       "      <td>69</td>\n",
       "      <td>0</td>\n",
       "      <td>0.0</td>\n",
       "      <td>77.0</td>\n",
       "      <td>202.0</td>\n",
       "      <td>2.0</td>\n",
       "      <td>0</td>\n",
       "    </tr>\n",
       "    <tr>\n",
       "      <th>3</th>\n",
       "      <td>2007</td>\n",
       "      <td>LaMarcus Aldridge</td>\n",
       "      <td>C</td>\n",
       "      <td>21</td>\n",
       "      <td>POR</td>\n",
       "      <td>63</td>\n",
       "      <td>22</td>\n",
       "      <td>1392</td>\n",
       "      <td>17.1</td>\n",
       "      <td>0.533</td>\n",
       "      <td>...</td>\n",
       "      <td>73</td>\n",
       "      <td>43</td>\n",
       "      <td>186</td>\n",
       "      <td>565</td>\n",
       "      <td>1900000</td>\n",
       "      <td>0.0</td>\n",
       "      <td>83.0</td>\n",
       "      <td>240.0</td>\n",
       "      <td>5.0</td>\n",
       "      <td>0</td>\n",
       "    </tr>\n",
       "    <tr>\n",
       "      <th>4</th>\n",
       "      <td>2007</td>\n",
       "      <td>Malik Allen</td>\n",
       "      <td>PF</td>\n",
       "      <td>28</td>\n",
       "      <td>CHI</td>\n",
       "      <td>60</td>\n",
       "      <td>1</td>\n",
       "      <td>638</td>\n",
       "      <td>10.4</td>\n",
       "      <td>0.443</td>\n",
       "      <td>...</td>\n",
       "      <td>16</td>\n",
       "      <td>21</td>\n",
       "      <td>85</td>\n",
       "      <td>242</td>\n",
       "      <td>0</td>\n",
       "      <td>5.0</td>\n",
       "      <td>82.0</td>\n",
       "      <td>255.0</td>\n",
       "      <td>4.0</td>\n",
       "      <td>0</td>\n",
       "    </tr>\n",
       "  </tbody>\n",
       "</table>\n",
       "<p>5 rows × 58 columns</p>\n",
       "</div>"
      ],
      "text/plain": [
       "   Year               Player Pos  Age   Tm   G  GS    MP   PER    TS%  ...   \\\n",
       "0  2007  Shareef Abdur-Rahim   C   30  SAC  80  45  2015  13.1  0.524  ...    \n",
       "1  2007         Hassan Adams  SG   22  NJN  61   8   495  13.0  0.577  ...    \n",
       "2  2007         Maurice Ager  SG   22  DAL  32   1   214   2.9  0.408  ...    \n",
       "3  2007    LaMarcus Aldridge   C   21  POR  63  22  1392  17.1  0.533  ...    \n",
       "4  2007          Malik Allen  PF   28  CHI  60   1   638  10.4  0.443  ...    \n",
       "\n",
       "   BLK  TOV   PF  PTS  TrueSalary  YrsExperience  Height  Weight  \\\n",
       "0   40  116  243  793     1800000           10.0    81.0   225.0   \n",
       "1    4   22   47  174           0            0.0    76.0   220.0   \n",
       "2    3   15   27   69           0            0.0    77.0   202.0   \n",
       "3   73   43  186  565     1900000            0.0    83.0   240.0   \n",
       "4   16   21   85  242           0            5.0    82.0   255.0   \n",
       "\n",
       "   RoundedPosition  dpoy  \n",
       "0              4.0     0  \n",
       "1              2.0     0  \n",
       "2              2.0     0  \n",
       "3              5.0     0  \n",
       "4              4.0     0  \n",
       "\n",
       "[5 rows x 58 columns]"
      ]
     },
     "execution_count": 13,
     "metadata": {},
     "output_type": "execute_result"
    }
   ],
   "source": [
    "df.head()"
   ]
  },
  {
   "cell_type": "code",
   "execution_count": 14,
   "metadata": {},
   "outputs": [
    {
     "data": {
      "text/html": [
       "<div>\n",
       "<style>\n",
       "    .dataframe thead tr:only-child th {\n",
       "        text-align: right;\n",
       "    }\n",
       "\n",
       "    .dataframe thead th {\n",
       "        text-align: left;\n",
       "    }\n",
       "\n",
       "    .dataframe tbody tr th {\n",
       "        vertical-align: top;\n",
       "    }\n",
       "</style>\n",
       "<table border=\"1\" class=\"dataframe\">\n",
       "  <thead>\n",
       "    <tr style=\"text-align: right;\">\n",
       "      <th></th>\n",
       "      <th>Year</th>\n",
       "      <th>Player</th>\n",
       "      <th>Pos</th>\n",
       "      <th>Age</th>\n",
       "      <th>Tm</th>\n",
       "      <th>G</th>\n",
       "      <th>GS</th>\n",
       "      <th>MP</th>\n",
       "      <th>PER</th>\n",
       "      <th>TS%</th>\n",
       "      <th>...</th>\n",
       "      <th>BLK</th>\n",
       "      <th>TOV</th>\n",
       "      <th>PF</th>\n",
       "      <th>PTS</th>\n",
       "      <th>TrueSalary</th>\n",
       "      <th>YrsExperience</th>\n",
       "      <th>Height</th>\n",
       "      <th>Weight</th>\n",
       "      <th>RoundedPosition</th>\n",
       "      <th>dpoy</th>\n",
       "    </tr>\n",
       "  </thead>\n",
       "  <tbody>\n",
       "    <tr>\n",
       "      <th>77</th>\n",
       "      <td>2007</td>\n",
       "      <td>Marcus Camby</td>\n",
       "      <td>C</td>\n",
       "      <td>32</td>\n",
       "      <td>DEN</td>\n",
       "      <td>70</td>\n",
       "      <td>70</td>\n",
       "      <td>2369</td>\n",
       "      <td>19.1</td>\n",
       "      <td>0.519</td>\n",
       "      <td>...</td>\n",
       "      <td>231</td>\n",
       "      <td>122</td>\n",
       "      <td>183</td>\n",
       "      <td>785</td>\n",
       "      <td>19300000</td>\n",
       "      <td>10.0</td>\n",
       "      <td>83.0</td>\n",
       "      <td>220.0</td>\n",
       "      <td>5.0</td>\n",
       "      <td>1</td>\n",
       "    </tr>\n",
       "    <tr>\n",
       "      <th>696</th>\n",
       "      <td>2008</td>\n",
       "      <td>Kevin Garnett</td>\n",
       "      <td>PF</td>\n",
       "      <td>31</td>\n",
       "      <td>BOS</td>\n",
       "      <td>71</td>\n",
       "      <td>71</td>\n",
       "      <td>2328</td>\n",
       "      <td>25.3</td>\n",
       "      <td>0.588</td>\n",
       "      <td>...</td>\n",
       "      <td>89</td>\n",
       "      <td>138</td>\n",
       "      <td>163</td>\n",
       "      <td>1337</td>\n",
       "      <td>24200000</td>\n",
       "      <td>12.0</td>\n",
       "      <td>83.0</td>\n",
       "      <td>220.0</td>\n",
       "      <td>4.0</td>\n",
       "      <td>1</td>\n",
       "    </tr>\n",
       "    <tr>\n",
       "      <th>1360</th>\n",
       "      <td>2009</td>\n",
       "      <td>Dwight Howard</td>\n",
       "      <td>C</td>\n",
       "      <td>23</td>\n",
       "      <td>ORL</td>\n",
       "      <td>79</td>\n",
       "      <td>79</td>\n",
       "      <td>2821</td>\n",
       "      <td>25.4</td>\n",
       "      <td>0.600</td>\n",
       "      <td>...</td>\n",
       "      <td>231</td>\n",
       "      <td>240</td>\n",
       "      <td>270</td>\n",
       "      <td>1624</td>\n",
       "      <td>19800000</td>\n",
       "      <td>4.0</td>\n",
       "      <td>83.0</td>\n",
       "      <td>240.0</td>\n",
       "      <td>5.0</td>\n",
       "      <td>1</td>\n",
       "    </tr>\n",
       "    <tr>\n",
       "      <th>1938</th>\n",
       "      <td>2010</td>\n",
       "      <td>Dwight Howard</td>\n",
       "      <td>C</td>\n",
       "      <td>24</td>\n",
       "      <td>ORL</td>\n",
       "      <td>82</td>\n",
       "      <td>82</td>\n",
       "      <td>2843</td>\n",
       "      <td>24.0</td>\n",
       "      <td>0.630</td>\n",
       "      <td>...</td>\n",
       "      <td>228</td>\n",
       "      <td>274</td>\n",
       "      <td>287</td>\n",
       "      <td>1503</td>\n",
       "      <td>21900000</td>\n",
       "      <td>5.0</td>\n",
       "      <td>83.0</td>\n",
       "      <td>240.0</td>\n",
       "      <td>5.0</td>\n",
       "      <td>1</td>\n",
       "    </tr>\n",
       "    <tr>\n",
       "      <th>2565</th>\n",
       "      <td>2011</td>\n",
       "      <td>Dwight Howard</td>\n",
       "      <td>C</td>\n",
       "      <td>25</td>\n",
       "      <td>ORL</td>\n",
       "      <td>78</td>\n",
       "      <td>78</td>\n",
       "      <td>2935</td>\n",
       "      <td>26.1</td>\n",
       "      <td>0.616</td>\n",
       "      <td>...</td>\n",
       "      <td>186</td>\n",
       "      <td>279</td>\n",
       "      <td>258</td>\n",
       "      <td>1784</td>\n",
       "      <td>20900000</td>\n",
       "      <td>6.0</td>\n",
       "      <td>83.0</td>\n",
       "      <td>240.0</td>\n",
       "      <td>5.0</td>\n",
       "      <td>1</td>\n",
       "    </tr>\n",
       "    <tr>\n",
       "      <th>2987</th>\n",
       "      <td>2012</td>\n",
       "      <td>Tyson Chandler</td>\n",
       "      <td>C</td>\n",
       "      <td>29</td>\n",
       "      <td>NYK</td>\n",
       "      <td>62</td>\n",
       "      <td>62</td>\n",
       "      <td>2061</td>\n",
       "      <td>18.7</td>\n",
       "      <td>0.708</td>\n",
       "      <td>...</td>\n",
       "      <td>89</td>\n",
       "      <td>102</td>\n",
       "      <td>186</td>\n",
       "      <td>699</td>\n",
       "      <td>17100000</td>\n",
       "      <td>10.0</td>\n",
       "      <td>85.0</td>\n",
       "      <td>235.0</td>\n",
       "      <td>5.0</td>\n",
       "      <td>1</td>\n",
       "    </tr>\n",
       "    <tr>\n",
       "      <th>3623</th>\n",
       "      <td>2013</td>\n",
       "      <td>Marc Gasol</td>\n",
       "      <td>C</td>\n",
       "      <td>28</td>\n",
       "      <td>MEM</td>\n",
       "      <td>80</td>\n",
       "      <td>80</td>\n",
       "      <td>2796</td>\n",
       "      <td>19.5</td>\n",
       "      <td>0.559</td>\n",
       "      <td>...</td>\n",
       "      <td>139</td>\n",
       "      <td>157</td>\n",
       "      <td>255</td>\n",
       "      <td>1127</td>\n",
       "      <td>22100000</td>\n",
       "      <td>4.0</td>\n",
       "      <td>85.0</td>\n",
       "      <td>265.0</td>\n",
       "      <td>5.0</td>\n",
       "      <td>1</td>\n",
       "    </tr>\n",
       "    <tr>\n",
       "      <th>4442</th>\n",
       "      <td>2014</td>\n",
       "      <td>Joakim Noah</td>\n",
       "      <td>C</td>\n",
       "      <td>28</td>\n",
       "      <td>CHI</td>\n",
       "      <td>80</td>\n",
       "      <td>80</td>\n",
       "      <td>2820</td>\n",
       "      <td>20.0</td>\n",
       "      <td>0.531</td>\n",
       "      <td>...</td>\n",
       "      <td>121</td>\n",
       "      <td>194</td>\n",
       "      <td>245</td>\n",
       "      <td>1007</td>\n",
       "      <td>22400000</td>\n",
       "      <td>6.0</td>\n",
       "      <td>83.0</td>\n",
       "      <td>232.0</td>\n",
       "      <td>4.0</td>\n",
       "      <td>1</td>\n",
       "    </tr>\n",
       "    <tr>\n",
       "      <th>4978</th>\n",
       "      <td>2015</td>\n",
       "      <td>Kawhi Leonard</td>\n",
       "      <td>SF</td>\n",
       "      <td>23</td>\n",
       "      <td>SAS</td>\n",
       "      <td>64</td>\n",
       "      <td>64</td>\n",
       "      <td>2033</td>\n",
       "      <td>22.0</td>\n",
       "      <td>0.567</td>\n",
       "      <td>...</td>\n",
       "      <td>48</td>\n",
       "      <td>97</td>\n",
       "      <td>128</td>\n",
       "      <td>1057</td>\n",
       "      <td>21600000</td>\n",
       "      <td>3.0</td>\n",
       "      <td>79.0</td>\n",
       "      <td>230.0</td>\n",
       "      <td>3.0</td>\n",
       "      <td>1</td>\n",
       "    </tr>\n",
       "    <tr>\n",
       "      <th>5604</th>\n",
       "      <td>2016</td>\n",
       "      <td>Kawhi Leonard</td>\n",
       "      <td>SF</td>\n",
       "      <td>24</td>\n",
       "      <td>SAS</td>\n",
       "      <td>72</td>\n",
       "      <td>72</td>\n",
       "      <td>2380</td>\n",
       "      <td>26.0</td>\n",
       "      <td>0.616</td>\n",
       "      <td>...</td>\n",
       "      <td>71</td>\n",
       "      <td>105</td>\n",
       "      <td>133</td>\n",
       "      <td>1523</td>\n",
       "      <td>11300000</td>\n",
       "      <td>4.0</td>\n",
       "      <td>79.0</td>\n",
       "      <td>230.0</td>\n",
       "      <td>3.0</td>\n",
       "      <td>1</td>\n",
       "    </tr>\n",
       "  </tbody>\n",
       "</table>\n",
       "<p>10 rows × 58 columns</p>\n",
       "</div>"
      ],
      "text/plain": [
       "      Year          Player Pos  Age   Tm   G  GS    MP   PER    TS%  ...   \\\n",
       "77    2007    Marcus Camby   C   32  DEN  70  70  2369  19.1  0.519  ...    \n",
       "696   2008   Kevin Garnett  PF   31  BOS  71  71  2328  25.3  0.588  ...    \n",
       "1360  2009   Dwight Howard   C   23  ORL  79  79  2821  25.4  0.600  ...    \n",
       "1938  2010   Dwight Howard   C   24  ORL  82  82  2843  24.0  0.630  ...    \n",
       "2565  2011   Dwight Howard   C   25  ORL  78  78  2935  26.1  0.616  ...    \n",
       "2987  2012  Tyson Chandler   C   29  NYK  62  62  2061  18.7  0.708  ...    \n",
       "3623  2013      Marc Gasol   C   28  MEM  80  80  2796  19.5  0.559  ...    \n",
       "4442  2014     Joakim Noah   C   28  CHI  80  80  2820  20.0  0.531  ...    \n",
       "4978  2015   Kawhi Leonard  SF   23  SAS  64  64  2033  22.0  0.567  ...    \n",
       "5604  2016   Kawhi Leonard  SF   24  SAS  72  72  2380  26.0  0.616  ...    \n",
       "\n",
       "      BLK  TOV   PF   PTS  TrueSalary  YrsExperience  Height  Weight  \\\n",
       "77    231  122  183   785    19300000           10.0    83.0   220.0   \n",
       "696    89  138  163  1337    24200000           12.0    83.0   220.0   \n",
       "1360  231  240  270  1624    19800000            4.0    83.0   240.0   \n",
       "1938  228  274  287  1503    21900000            5.0    83.0   240.0   \n",
       "2565  186  279  258  1784    20900000            6.0    83.0   240.0   \n",
       "2987   89  102  186   699    17100000           10.0    85.0   235.0   \n",
       "3623  139  157  255  1127    22100000            4.0    85.0   265.0   \n",
       "4442  121  194  245  1007    22400000            6.0    83.0   232.0   \n",
       "4978   48   97  128  1057    21600000            3.0    79.0   230.0   \n",
       "5604   71  105  133  1523    11300000            4.0    79.0   230.0   \n",
       "\n",
       "      RoundedPosition  dpoy  \n",
       "77                5.0     1  \n",
       "696               4.0     1  \n",
       "1360              5.0     1  \n",
       "1938              5.0     1  \n",
       "2565              5.0     1  \n",
       "2987              5.0     1  \n",
       "3623              5.0     1  \n",
       "4442              4.0     1  \n",
       "4978              3.0     1  \n",
       "5604              3.0     1  \n",
       "\n",
       "[10 rows x 58 columns]"
      ]
     },
     "execution_count": 14,
     "metadata": {},
     "output_type": "execute_result"
    }
   ],
   "source": [
    "df.loc[df['dpoy'] == 1]"
   ]
  },
  {
   "cell_type": "markdown",
   "metadata": {},
   "source": [
    "# Logistic Regression of Player Obtaining Defensive Player of Year"
   ]
  },
  {
   "cell_type": "code",
   "execution_count": 15,
   "metadata": {},
   "outputs": [
    {
     "data": {
      "text/html": [
       "<div>\n",
       "<style>\n",
       "    .dataframe thead tr:only-child th {\n",
       "        text-align: right;\n",
       "    }\n",
       "\n",
       "    .dataframe thead th {\n",
       "        text-align: left;\n",
       "    }\n",
       "\n",
       "    .dataframe tbody tr th {\n",
       "        vertical-align: top;\n",
       "    }\n",
       "</style>\n",
       "<table border=\"1\" class=\"dataframe\">\n",
       "  <thead>\n",
       "    <tr style=\"text-align: right;\">\n",
       "      <th></th>\n",
       "      <th>G</th>\n",
       "      <th>GS</th>\n",
       "      <th>MP</th>\n",
       "      <th>PER</th>\n",
       "      <th>TS%</th>\n",
       "      <th>3PAr</th>\n",
       "      <th>FTr</th>\n",
       "      <th>ORB%</th>\n",
       "      <th>DRB%</th>\n",
       "      <th>TRB%</th>\n",
       "      <th>...</th>\n",
       "      <th>TRB</th>\n",
       "      <th>AST</th>\n",
       "      <th>STL</th>\n",
       "      <th>BLK</th>\n",
       "      <th>TOV</th>\n",
       "      <th>PF</th>\n",
       "      <th>PTS</th>\n",
       "      <th>YrsExperience</th>\n",
       "      <th>Height</th>\n",
       "      <th>Weight</th>\n",
       "    </tr>\n",
       "  </thead>\n",
       "  <tbody>\n",
       "    <tr>\n",
       "      <th>0</th>\n",
       "      <td>80</td>\n",
       "      <td>45</td>\n",
       "      <td>2015</td>\n",
       "      <td>13.1</td>\n",
       "      <td>0.524</td>\n",
       "      <td>0.031</td>\n",
       "      <td>0.358</td>\n",
       "      <td>7.0</td>\n",
       "      <td>16.4</td>\n",
       "      <td>11.6</td>\n",
       "      <td>...</td>\n",
       "      <td>398</td>\n",
       "      <td>109</td>\n",
       "      <td>53</td>\n",
       "      <td>40</td>\n",
       "      <td>116</td>\n",
       "      <td>243</td>\n",
       "      <td>793</td>\n",
       "      <td>10.0</td>\n",
       "      <td>81.0</td>\n",
       "      <td>225.0</td>\n",
       "    </tr>\n",
       "    <tr>\n",
       "      <th>1</th>\n",
       "      <td>61</td>\n",
       "      <td>8</td>\n",
       "      <td>495</td>\n",
       "      <td>13.0</td>\n",
       "      <td>0.577</td>\n",
       "      <td>0.007</td>\n",
       "      <td>0.267</td>\n",
       "      <td>8.4</td>\n",
       "      <td>9.9</td>\n",
       "      <td>9.2</td>\n",
       "      <td>...</td>\n",
       "      <td>77</td>\n",
       "      <td>13</td>\n",
       "      <td>17</td>\n",
       "      <td>4</td>\n",
       "      <td>22</td>\n",
       "      <td>47</td>\n",
       "      <td>174</td>\n",
       "      <td>0.0</td>\n",
       "      <td>76.0</td>\n",
       "      <td>220.0</td>\n",
       "    </tr>\n",
       "    <tr>\n",
       "      <th>2</th>\n",
       "      <td>32</td>\n",
       "      <td>1</td>\n",
       "      <td>214</td>\n",
       "      <td>2.9</td>\n",
       "      <td>0.408</td>\n",
       "      <td>0.214</td>\n",
       "      <td>0.471</td>\n",
       "      <td>0.6</td>\n",
       "      <td>11.0</td>\n",
       "      <td>5.9</td>\n",
       "      <td>...</td>\n",
       "      <td>21</td>\n",
       "      <td>7</td>\n",
       "      <td>4</td>\n",
       "      <td>3</td>\n",
       "      <td>15</td>\n",
       "      <td>27</td>\n",
       "      <td>69</td>\n",
       "      <td>0.0</td>\n",
       "      <td>77.0</td>\n",
       "      <td>202.0</td>\n",
       "    </tr>\n",
       "    <tr>\n",
       "      <th>3</th>\n",
       "      <td>63</td>\n",
       "      <td>22</td>\n",
       "      <td>1392</td>\n",
       "      <td>17.1</td>\n",
       "      <td>0.533</td>\n",
       "      <td>0.004</td>\n",
       "      <td>0.240</td>\n",
       "      <td>12.6</td>\n",
       "      <td>15.3</td>\n",
       "      <td>13.9</td>\n",
       "      <td>...</td>\n",
       "      <td>312</td>\n",
       "      <td>24</td>\n",
       "      <td>22</td>\n",
       "      <td>73</td>\n",
       "      <td>43</td>\n",
       "      <td>186</td>\n",
       "      <td>565</td>\n",
       "      <td>0.0</td>\n",
       "      <td>83.0</td>\n",
       "      <td>240.0</td>\n",
       "    </tr>\n",
       "    <tr>\n",
       "      <th>4</th>\n",
       "      <td>60</td>\n",
       "      <td>1</td>\n",
       "      <td>638</td>\n",
       "      <td>10.4</td>\n",
       "      <td>0.443</td>\n",
       "      <td>0.004</td>\n",
       "      <td>0.132</td>\n",
       "      <td>7.6</td>\n",
       "      <td>13.7</td>\n",
       "      <td>10.6</td>\n",
       "      <td>...</td>\n",
       "      <td>119</td>\n",
       "      <td>16</td>\n",
       "      <td>17</td>\n",
       "      <td>16</td>\n",
       "      <td>21</td>\n",
       "      <td>85</td>\n",
       "      <td>242</td>\n",
       "      <td>5.0</td>\n",
       "      <td>82.0</td>\n",
       "      <td>255.0</td>\n",
       "    </tr>\n",
       "  </tbody>\n",
       "</table>\n",
       "<p>5 rows × 48 columns</p>\n",
       "</div>"
      ],
      "text/plain": [
       "    G  GS    MP   PER    TS%   3PAr    FTr  ORB%  DRB%  TRB%   ...    TRB  \\\n",
       "0  80  45  2015  13.1  0.524  0.031  0.358   7.0  16.4  11.6   ...    398   \n",
       "1  61   8   495  13.0  0.577  0.007  0.267   8.4   9.9   9.2   ...     77   \n",
       "2  32   1   214   2.9  0.408  0.214  0.471   0.6  11.0   5.9   ...     21   \n",
       "3  63  22  1392  17.1  0.533  0.004  0.240  12.6  15.3  13.9   ...    312   \n",
       "4  60   1   638  10.4  0.443  0.004  0.132   7.6  13.7  10.6   ...    119   \n",
       "\n",
       "   AST  STL  BLK  TOV   PF  PTS  YrsExperience  Height  Weight  \n",
       "0  109   53   40  116  243  793           10.0    81.0   225.0  \n",
       "1   13   17    4   22   47  174            0.0    76.0   220.0  \n",
       "2    7    4    3   15   27   69            0.0    77.0   202.0  \n",
       "3   24   22   73   43  186  565            0.0    83.0   240.0  \n",
       "4   16   17   16   21   85  242            5.0    82.0   255.0  \n",
       "\n",
       "[5 rows x 48 columns]"
      ]
     },
     "execution_count": 15,
     "metadata": {},
     "output_type": "execute_result"
    }
   ],
   "source": [
    "df = df[np.isfinite(df['WS/48'])]\n",
    "df = df[np.isfinite(df['FG%'])]\n",
    "df = df[np.isfinite(df['YrsExperience'])]\n",
    "df = df.drop(\"blanl\", axis=1)\n",
    "df = df.drop(\"blank2\", axis=1)\n",
    "df = df.dropna(axis=0, how='any')\n",
    "df = df.reset_index(drop=True) #RESET INDEX\n",
    "data = df.drop(\"Pos\", axis=1)\n",
    "data = data.drop(\"Tm\", axis=1)\n",
    "data = data.drop(\"Player\", axis=1)\n",
    "data = data.drop(\"TrueSalary\", axis=1)\n",
    "data = data.drop(\"RoundedPosition\", axis=1)\n",
    "data = data.drop(\"Year\", axis=1)\n",
    "data = data.drop(\"Age\", axis=1)\n",
    "data = data.drop(\"dpoy\", axis=1)\n",
    "feature_names = data.columns\n",
    "target = df['dpoy']\n",
    "#target_names = target.value_counts().keys().tolist()\n",
    "data.head()"
   ]
  },
  {
   "cell_type": "code",
   "execution_count": 16,
   "metadata": {},
   "outputs": [
    {
     "data": {
      "text/plain": [
       "(4780, 48)"
      ]
     },
     "execution_count": 16,
     "metadata": {},
     "output_type": "execute_result"
    }
   ],
   "source": [
    "data.shape"
   ]
  },
  {
   "cell_type": "code",
   "execution_count": 17,
   "metadata": {},
   "outputs": [
    {
     "data": {
      "text/plain": [
       "(4780,)"
      ]
     },
     "execution_count": 17,
     "metadata": {},
     "output_type": "execute_result"
    }
   ],
   "source": [
    "#target = target.reshape(-1,1)\n",
    "target.shape"
   ]
  },
  {
   "cell_type": "code",
   "execution_count": 18,
   "metadata": {
    "collapsed": true
   },
   "outputs": [],
   "source": [
    "from sklearn.model_selection import train_test_split\n",
    "\n",
    "X_train, X_test, y_train, y_test = train_test_split(data, target, random_state=1, stratify=target)"
   ]
  },
  {
   "cell_type": "code",
   "execution_count": 19,
   "metadata": {},
   "outputs": [
    {
     "name": "stderr",
     "output_type": "stream",
     "text": [
      "/Users/owen/anaconda/lib/python3.6/site-packages/sklearn/utils/validation.py:429: DataConversionWarning: Data with input dtype int64 was converted to float64 by StandardScaler.\n",
      "  warnings.warn(msg, _DataConversionWarning)\n",
      "/Users/owen/anaconda/lib/python3.6/site-packages/sklearn/preprocessing/data.py:586: DeprecationWarning: Passing 1d arrays as data is deprecated in 0.17 and will raise ValueError in 0.19. Reshape your data either using X.reshape(-1, 1) if your data has a single feature or X.reshape(1, -1) if it contains a single sample.\n",
      "  warnings.warn(DEPRECATION_MSG_1D, DeprecationWarning)\n"
     ]
    }
   ],
   "source": [
    "from sklearn.preprocessing import StandardScaler\n",
    "\n",
    "X_scaler = StandardScaler().fit(X_train)\n",
    "y_scaler = StandardScaler().fit(y_train)"
   ]
  },
  {
   "cell_type": "code",
   "execution_count": 20,
   "metadata": {},
   "outputs": [
    {
     "name": "stderr",
     "output_type": "stream",
     "text": [
      "/Users/owen/anaconda/lib/python3.6/site-packages/sklearn/utils/validation.py:429: DataConversionWarning: Data with input dtype int64 was converted to float64 by StandardScaler.\n",
      "  warnings.warn(msg, _DataConversionWarning)\n",
      "/Users/owen/anaconda/lib/python3.6/site-packages/sklearn/preprocessing/data.py:649: DeprecationWarning: Passing 1d arrays as data is deprecated in 0.17 and will raise ValueError in 0.19. Reshape your data either using X.reshape(-1, 1) if your data has a single feature or X.reshape(1, -1) if it contains a single sample.\n",
      "  warnings.warn(DEPRECATION_MSG_1D, DeprecationWarning)\n",
      "/Users/owen/anaconda/lib/python3.6/site-packages/sklearn/preprocessing/data.py:649: DeprecationWarning: Passing 1d arrays as data is deprecated in 0.17 and will raise ValueError in 0.19. Reshape your data either using X.reshape(-1, 1) if your data has a single feature or X.reshape(1, -1) if it contains a single sample.\n",
      "  warnings.warn(DEPRECATION_MSG_1D, DeprecationWarning)\n"
     ]
    }
   ],
   "source": [
    "X_train_scaled = X_scaler.transform(X_train)\n",
    "X_test_scaled = X_scaler.transform(X_test)\n",
    "y_train_scaled = y_scaler.transform(y_train)\n",
    "y_test_scaled = y_scaler.transform(y_test)"
   ]
  },
  {
   "cell_type": "code",
   "execution_count": 21,
   "metadata": {},
   "outputs": [
    {
     "data": {
      "text/plain": [
       "LogisticRegression(C=1.0, class_weight=None, dual=False, fit_intercept=True,\n",
       "          intercept_scaling=1, max_iter=100, multi_class='ovr', n_jobs=1,\n",
       "          penalty='l2', random_state=None, solver='liblinear', tol=0.0001,\n",
       "          verbose=0, warm_start=False)"
      ]
     },
     "execution_count": 21,
     "metadata": {},
     "output_type": "execute_result"
    }
   ],
   "source": [
    "from sklearn.linear_model import LogisticRegression\n",
    "classifier = LogisticRegression()\n",
    "classifier"
   ]
  },
  {
   "cell_type": "code",
   "execution_count": 22,
   "metadata": {},
   "outputs": [
    {
     "data": {
      "text/plain": [
       "LogisticRegression(C=1.0, class_weight=None, dual=False, fit_intercept=True,\n",
       "          intercept_scaling=1, max_iter=100, multi_class='ovr', n_jobs=1,\n",
       "          penalty='l2', random_state=None, solver='liblinear', tol=0.0001,\n",
       "          verbose=0, warm_start=False)"
      ]
     },
     "execution_count": 22,
     "metadata": {},
     "output_type": "execute_result"
    }
   ],
   "source": [
    "classifier.fit(X_train_scaled, y_train)"
   ]
  },
  {
   "cell_type": "code",
   "execution_count": 23,
   "metadata": {},
   "outputs": [
    {
     "name": "stdout",
     "output_type": "stream",
     "text": [
      "Testing Data Score: 0.9966527196652719\n"
     ]
    }
   ],
   "source": [
    "print(f\"Testing Data Score: {classifier.score(X_test, y_test)}\")"
   ]
  },
  {
   "cell_type": "code",
   "execution_count": 24,
   "metadata": {},
   "outputs": [
    {
     "data": {
      "text/html": [
       "<div>\n",
       "<style>\n",
       "    .dataframe thead tr:only-child th {\n",
       "        text-align: right;\n",
       "    }\n",
       "\n",
       "    .dataframe thead th {\n",
       "        text-align: left;\n",
       "    }\n",
       "\n",
       "    .dataframe tbody tr th {\n",
       "        vertical-align: top;\n",
       "    }\n",
       "</style>\n",
       "<table border=\"1\" class=\"dataframe\">\n",
       "  <thead>\n",
       "    <tr style=\"text-align: right;\">\n",
       "      <th></th>\n",
       "      <th>Actual</th>\n",
       "      <th>Prediction</th>\n",
       "    </tr>\n",
       "  </thead>\n",
       "  <tbody>\n",
       "    <tr>\n",
       "      <th>2053</th>\n",
       "      <td>1</td>\n",
       "      <td>0</td>\n",
       "    </tr>\n",
       "    <tr>\n",
       "      <th>1183</th>\n",
       "      <td>0</td>\n",
       "      <td>1</td>\n",
       "    </tr>\n",
       "    <tr>\n",
       "      <th>65</th>\n",
       "      <td>1</td>\n",
       "      <td>0</td>\n",
       "    </tr>\n",
       "    <tr>\n",
       "      <th>2385</th>\n",
       "      <td>1</td>\n",
       "      <td>0</td>\n",
       "    </tr>\n",
       "  </tbody>\n",
       "</table>\n",
       "</div>"
      ],
      "text/plain": [
       "      Actual  Prediction\n",
       "2053       1           0\n",
       "1183       0           1\n",
       "65         1           0\n",
       "2385       1           0"
      ]
     },
     "execution_count": 24,
     "metadata": {},
     "output_type": "execute_result"
    }
   ],
   "source": [
    "predictions = classifier.predict(X_test)\n",
    "predict_df = pd.DataFrame({\"Prediction\": predictions, \"Actual\": y_test})\n",
    "wrong_predict_df = predict_df.loc[predict_df['Actual'] != predict_df['Prediction']]\n",
    "wrong_predict_df"
   ]
  },
  {
   "cell_type": "code",
   "execution_count": 25,
   "metadata": {},
   "outputs": [
    {
     "data": {
      "text/html": [
       "<div>\n",
       "<style>\n",
       "    .dataframe thead tr:only-child th {\n",
       "        text-align: right;\n",
       "    }\n",
       "\n",
       "    .dataframe thead th {\n",
       "        text-align: left;\n",
       "    }\n",
       "\n",
       "    .dataframe tbody tr th {\n",
       "        vertical-align: top;\n",
       "    }\n",
       "</style>\n",
       "<table border=\"1\" class=\"dataframe\">\n",
       "  <thead>\n",
       "    <tr style=\"text-align: right;\">\n",
       "      <th></th>\n",
       "      <th>Actual</th>\n",
       "      <th>Prediction</th>\n",
       "    </tr>\n",
       "  </thead>\n",
       "  <tbody>\n",
       "    <tr>\n",
       "      <th>2053</th>\n",
       "      <td>1</td>\n",
       "      <td>0</td>\n",
       "    </tr>\n",
       "    <tr>\n",
       "      <th>65</th>\n",
       "      <td>1</td>\n",
       "      <td>0</td>\n",
       "    </tr>\n",
       "    <tr>\n",
       "      <th>2385</th>\n",
       "      <td>1</td>\n",
       "      <td>0</td>\n",
       "    </tr>\n",
       "  </tbody>\n",
       "</table>\n",
       "</div>"
      ],
      "text/plain": [
       "      Actual  Prediction\n",
       "2053       1           0\n",
       "65         1           0\n",
       "2385       1           0"
      ]
     },
     "execution_count": 25,
     "metadata": {},
     "output_type": "execute_result"
    }
   ],
   "source": [
    "act_df_1 = predict_df.loc[predict_df['Actual'] == 1]\n",
    "act_df_1"
   ]
  },
  {
   "cell_type": "code",
   "execution_count": 26,
   "metadata": {},
   "outputs": [
    {
     "data": {
      "text/html": [
       "<div>\n",
       "<style>\n",
       "    .dataframe thead tr:only-child th {\n",
       "        text-align: right;\n",
       "    }\n",
       "\n",
       "    .dataframe thead th {\n",
       "        text-align: left;\n",
       "    }\n",
       "\n",
       "    .dataframe tbody tr th {\n",
       "        vertical-align: top;\n",
       "    }\n",
       "</style>\n",
       "<table border=\"1\" class=\"dataframe\">\n",
       "  <thead>\n",
       "    <tr style=\"text-align: right;\">\n",
       "      <th></th>\n",
       "      <th>Actual</th>\n",
       "      <th>Prediction</th>\n",
       "    </tr>\n",
       "  </thead>\n",
       "  <tbody>\n",
       "    <tr>\n",
       "      <th>1183</th>\n",
       "      <td>0</td>\n",
       "      <td>1</td>\n",
       "    </tr>\n",
       "  </tbody>\n",
       "</table>\n",
       "</div>"
      ],
      "text/plain": [
       "      Actual  Prediction\n",
       "1183       0           1"
      ]
     },
     "execution_count": 26,
     "metadata": {},
     "output_type": "execute_result"
    }
   ],
   "source": [
    "predict_df_1 = predict_df.loc[predict_df['Prediction'] == 1]\n",
    "predict_df_1"
   ]
  },
  {
   "cell_type": "code",
   "execution_count": 27,
   "metadata": {},
   "outputs": [
    {
     "data": {
      "text/plain": [
       "(1195,)"
      ]
     },
     "execution_count": 27,
     "metadata": {},
     "output_type": "execute_result"
    }
   ],
   "source": [
    "predictions.shape"
   ]
  },
  {
   "cell_type": "code",
   "execution_count": 28,
   "metadata": {},
   "outputs": [
    {
     "data": {
      "text/plain": [
       "G                  2.000\n",
       "GS                 0.000\n",
       "MP                 9.000\n",
       "PER               15.700\n",
       "TS%                0.425\n",
       "3PAr               0.200\n",
       "FTr                0.400\n",
       "ORB%               0.000\n",
       "DRB%              25.200\n",
       "TRB%              12.200\n",
       "AST%               0.000\n",
       "STL%               0.000\n",
       "BLK%               8.100\n",
       "TOV%               0.000\n",
       "USG%              28.400\n",
       "OWS                0.000\n",
       "DWS                0.000\n",
       "WS                 0.000\n",
       "WS/48             -0.010\n",
       "OBPM              -9.900\n",
       "DBPM              -4.900\n",
       "BPM              -14.900\n",
       "VORP               0.000\n",
       "FG                 2.000\n",
       "FGA                5.000\n",
       "FG%                0.400\n",
       "3P                 0.000\n",
       "3PA                1.000\n",
       "3P%                0.000\n",
       "2P                 2.000\n",
       "2PA                4.000\n",
       "2P%                0.500\n",
       "eFG%               0.400\n",
       "FT                 1.000\n",
       "FTA                2.000\n",
       "FT%                0.500\n",
       "ORB                0.000\n",
       "DRB                2.000\n",
       "TRB                2.000\n",
       "AST                0.000\n",
       "STL                0.000\n",
       "BLK                1.000\n",
       "TOV                0.000\n",
       "PF                 0.000\n",
       "PTS                5.000\n",
       "YrsExperience      1.000\n",
       "Height            80.000\n",
       "Weight           216.000\n",
       "Name: 1183, dtype: float64"
      ]
     },
     "execution_count": 28,
     "metadata": {},
     "output_type": "execute_result"
    }
   ],
   "source": [
    "data.iloc[1183]"
   ]
  },
  {
   "cell_type": "code",
   "execution_count": 29,
   "metadata": {},
   "outputs": [
    {
     "data": {
      "text/plain": [
       "Year                           2009\n",
       "Player             Demetris Nichols\n",
       "Pos                              SF\n",
       "Age                              24\n",
       "Tm                              NYK\n",
       "G                                 2\n",
       "GS                                0\n",
       "MP                                9\n",
       "PER                            15.7\n",
       "TS%                           0.425\n",
       "3PAr                            0.2\n",
       "FTr                             0.4\n",
       "ORB%                              0\n",
       "DRB%                           25.2\n",
       "TRB%                           12.2\n",
       "AST%                              0\n",
       "STL%                              0\n",
       "BLK%                            8.1\n",
       "TOV%                              0\n",
       "USG%                           28.4\n",
       "OWS                               0\n",
       "DWS                               0\n",
       "WS                                0\n",
       "WS/48                         -0.01\n",
       "OBPM                           -9.9\n",
       "DBPM                           -4.9\n",
       "BPM                           -14.9\n",
       "VORP                              0\n",
       "FG                                2\n",
       "FGA                               5\n",
       "FG%                             0.4\n",
       "3P                                0\n",
       "3PA                               1\n",
       "3P%                               0\n",
       "2P                                2\n",
       "2PA                               4\n",
       "2P%                             0.5\n",
       "eFG%                            0.4\n",
       "FT                                1\n",
       "FTA                               2\n",
       "FT%                             0.5\n",
       "ORB                               0\n",
       "DRB                               2\n",
       "TRB                               2\n",
       "AST                               0\n",
       "STL                               0\n",
       "BLK                               1\n",
       "TOV                               0\n",
       "PF                                0\n",
       "PTS                               5\n",
       "TrueSalary                        0\n",
       "YrsExperience                     1\n",
       "Height                           80\n",
       "Weight                          216\n",
       "RoundedPosition                   4\n",
       "Name: 1500, dtype: object"
      ]
     },
     "execution_count": 29,
     "metadata": {},
     "output_type": "execute_result"
    }
   ],
   "source": [
    "df = pd.read_csv('cleaned_data.csv')\n",
    "df = df[np.isfinite(df['WS/48'])]\n",
    "df = df[np.isfinite(df['FG%'])]\n",
    "df = df[np.isfinite(df['YrsExperience'])]\n",
    "df = df.drop(\"blanl\", axis=1)\n",
    "df = df.drop(\"blank2\", axis=1)\n",
    "df = df.dropna(axis=0, how='any')\n",
    "df.iloc[1183]"
   ]
  },
  {
   "cell_type": "code",
   "execution_count": null,
   "metadata": {
    "collapsed": true
   },
   "outputs": [],
   "source": []
  },
  {
   "cell_type": "code",
   "execution_count": 30,
   "metadata": {
    "collapsed": true
   },
   "outputs": [],
   "source": [
    "from sklearn import tree"
   ]
  },
  {
   "cell_type": "code",
   "execution_count": 31,
   "metadata": {
    "collapsed": true
   },
   "outputs": [],
   "source": [
    "X_train, X_test, y_train, y_test = train_test_split(data, target, random_state=42)"
   ]
  },
  {
   "cell_type": "code",
   "execution_count": 40,
   "metadata": {},
   "outputs": [
    {
     "data": {
      "text/plain": [
       "0.99665271966527191"
      ]
     },
     "execution_count": 40,
     "metadata": {},
     "output_type": "execute_result"
    }
   ],
   "source": [
    "clf = tree.DecisionTreeClassifier()\n",
    "clf = clf.fit(X_train, y_train)\n",
    "clf.score(X_test, y_test)"
   ]
  },
  {
   "cell_type": "code",
   "execution_count": 41,
   "metadata": {},
   "outputs": [
    {
     "data": {
      "text/plain": [
       "0.99832635983263596"
      ]
     },
     "execution_count": 41,
     "metadata": {},
     "output_type": "execute_result"
    }
   ],
   "source": [
    "from sklearn.ensemble import RandomForestClassifier\n",
    "rf = RandomForestClassifier(n_estimators=200)\n",
    "rf = rf.fit(X_train, y_train)\n",
    "rf.score(X_test, y_test)"
   ]
  },
  {
   "cell_type": "code",
   "execution_count": 42,
   "metadata": {},
   "outputs": [
    {
     "data": {
      "text/plain": [
       "[(0.10840992960141244, 'DWS'),\n",
       " (0.062902843803249897, 'DBPM'),\n",
       " (0.048622846937764343, 'BPM'),\n",
       " (0.046859016971417242, 'VORP'),\n",
       " (0.035951189673640221, 'FTA'),\n",
       " (0.033224501920526665, 'TOV'),\n",
       " (0.027235585999651136, 'AST'),\n",
       " (0.027181849169031734, 'DRB'),\n",
       " (0.025500589219477038, 'ORB'),\n",
       " (0.025364861236084474, 'OBPM'),\n",
       " (0.025232905177779163, 'BLK'),\n",
       " (0.023762510253594629, 'TOV%'),\n",
       " (0.02365615493872579, 'TRB'),\n",
       " (0.022352285968918122, 'WS/48'),\n",
       " (0.021521380648744773, 'STL'),\n",
       " (0.021049420580808414, 'TS%'),\n",
       " (0.020510808035518843, 'FG%'),\n",
       " (0.020286792123041759, 'PTS'),\n",
       " (0.019942578980950844, 'FGA'),\n",
       " (0.019589825175185562, 'WS'),\n",
       " (0.01928441887583409, 'PER'),\n",
       " (0.018648397615028962, 'USG%'),\n",
       " (0.018288769103746386, 'AST%'),\n",
       " (0.017397071860511058, 'eFG%'),\n",
       " (0.017080014201215077, 'MP'),\n",
       " (0.016851539846996083, '3P%'),\n",
       " (0.016358080137786054, 'FG'),\n",
       " (0.015409195104327346, 'FTr'),\n",
       " (0.014590256916190637, 'TRB%'),\n",
       " (0.013136531132793885, 'Weight'),\n",
       " (0.012502948317668764, 'PF'),\n",
       " (0.012495796784087234, 'FT'),\n",
       " (0.01211718629867032, '2P%'),\n",
       " (0.011786806386282021, 'OWS'),\n",
       " (0.011683834646999076, 'YrsExperience'),\n",
       " (0.011430826635583466, '3P'),\n",
       " (0.01133105688013244, 'DRB%'),\n",
       " (0.010619692284436504, 'BLK%'),\n",
       " (0.01023973935332486, 'STL%'),\n",
       " (0.0099247676755263876, '3PA'),\n",
       " (0.009533256251371405, '3PAr'),\n",
       " (0.0095111527424116288, 'ORB%'),\n",
       " (0.0085364528940286358, 'Height'),\n",
       " (0.0081075012382019959, '2P'),\n",
       " (0.0079659135023124536, 'G'),\n",
       " (0.006800830959048502, 'FT%'),\n",
       " (0.0062432737276183646, '2PA'),\n",
       " (0.0029668122123433617, 'GS')]"
      ]
     },
     "execution_count": 42,
     "metadata": {},
     "output_type": "execute_result"
    }
   ],
   "source": [
    "sorted(zip(rf.feature_importances_, feature_names), reverse=True)"
   ]
  },
  {
   "cell_type": "code",
   "execution_count": 43,
   "metadata": {},
   "outputs": [
    {
     "data": {
      "text/html": [
       "<div>\n",
       "<style>\n",
       "    .dataframe thead tr:only-child th {\n",
       "        text-align: right;\n",
       "    }\n",
       "\n",
       "    .dataframe thead th {\n",
       "        text-align: left;\n",
       "    }\n",
       "\n",
       "    .dataframe tbody tr th {\n",
       "        vertical-align: top;\n",
       "    }\n",
       "</style>\n",
       "<table border=\"1\" class=\"dataframe\">\n",
       "  <thead>\n",
       "    <tr style=\"text-align: right;\">\n",
       "      <th></th>\n",
       "      <th>Actual</th>\n",
       "      <th>Prediction</th>\n",
       "    </tr>\n",
       "  </thead>\n",
       "  <tbody>\n",
       "    <tr>\n",
       "      <th>65</th>\n",
       "      <td>1</td>\n",
       "      <td>0</td>\n",
       "    </tr>\n",
       "    <tr>\n",
       "      <th>2053</th>\n",
       "      <td>1</td>\n",
       "      <td>0</td>\n",
       "    </tr>\n",
       "  </tbody>\n",
       "</table>\n",
       "</div>"
      ],
      "text/plain": [
       "      Actual  Prediction\n",
       "65         1           0\n",
       "2053       1           0"
      ]
     },
     "execution_count": 43,
     "metadata": {},
     "output_type": "execute_result"
    }
   ],
   "source": [
    "predictions = rf.predict(X_test)\n",
    "predict_df = pd.DataFrame({\"Prediction\": predictions, \"Actual\": y_test})\n",
    "wrong_predict_df = predict_df.loc[predict_df['Actual'] != predict_df['Prediction']]\n",
    "wrong_predict_df"
   ]
  },
  {
   "cell_type": "code",
   "execution_count": 45,
   "metadata": {},
   "outputs": [],
   "source": [
    "#df.iloc[65]"
   ]
  },
  {
   "cell_type": "code",
   "execution_count": 46,
   "metadata": {},
   "outputs": [
    {
     "data": {
      "text/html": [
       "<div>\n",
       "<style>\n",
       "    .dataframe thead tr:only-child th {\n",
       "        text-align: right;\n",
       "    }\n",
       "\n",
       "    .dataframe thead th {\n",
       "        text-align: left;\n",
       "    }\n",
       "\n",
       "    .dataframe tbody tr th {\n",
       "        vertical-align: top;\n",
       "    }\n",
       "</style>\n",
       "<table border=\"1\" class=\"dataframe\">\n",
       "  <thead>\n",
       "    <tr style=\"text-align: right;\">\n",
       "      <th></th>\n",
       "      <th>Actual</th>\n",
       "      <th>Prediction</th>\n",
       "    </tr>\n",
       "  </thead>\n",
       "  <tbody>\n",
       "    <tr>\n",
       "      <th>65</th>\n",
       "      <td>1</td>\n",
       "      <td>0</td>\n",
       "    </tr>\n",
       "    <tr>\n",
       "      <th>2053</th>\n",
       "      <td>1</td>\n",
       "      <td>0</td>\n",
       "    </tr>\n",
       "  </tbody>\n",
       "</table>\n",
       "</div>"
      ],
      "text/plain": [
       "      Actual  Prediction\n",
       "65         1           0\n",
       "2053       1           0"
      ]
     },
     "execution_count": 46,
     "metadata": {},
     "output_type": "execute_result"
    }
   ],
   "source": [
    "act_df_1 = predict_df.loc[predict_df['Actual'] == 1]\n",
    "act_df_1"
   ]
  },
  {
   "cell_type": "code",
   "execution_count": 47,
   "metadata": {},
   "outputs": [
    {
     "data": {
      "text/html": [
       "<div>\n",
       "<style>\n",
       "    .dataframe thead tr:only-child th {\n",
       "        text-align: right;\n",
       "    }\n",
       "\n",
       "    .dataframe thead th {\n",
       "        text-align: left;\n",
       "    }\n",
       "\n",
       "    .dataframe tbody tr th {\n",
       "        vertical-align: top;\n",
       "    }\n",
       "</style>\n",
       "<table border=\"1\" class=\"dataframe\">\n",
       "  <thead>\n",
       "    <tr style=\"text-align: right;\">\n",
       "      <th></th>\n",
       "      <th>Actual</th>\n",
       "      <th>Prediction</th>\n",
       "    </tr>\n",
       "  </thead>\n",
       "  <tbody>\n",
       "  </tbody>\n",
       "</table>\n",
       "</div>"
      ],
      "text/plain": [
       "Empty DataFrame\n",
       "Columns: [Actual, Prediction]\n",
       "Index: []"
      ]
     },
     "execution_count": 47,
     "metadata": {},
     "output_type": "execute_result"
    }
   ],
   "source": [
    "predict_df_1 = predict_df.loc[predict_df['Prediction'] == 1]\n",
    "predict_df_1"
   ]
  },
  {
   "cell_type": "code",
   "execution_count": 39,
   "metadata": {},
   "outputs": [
    {
     "data": {
      "text/plain": [
       "(1195, 2)"
      ]
     },
     "execution_count": 39,
     "metadata": {},
     "output_type": "execute_result"
    }
   ],
   "source": [
    "predict_df.shape"
   ]
  },
  {
   "cell_type": "code",
   "execution_count": null,
   "metadata": {
    "collapsed": true
   },
   "outputs": [],
   "source": []
  }
 ],
 "metadata": {
  "kernelspec": {
   "display_name": "Python 3",
   "language": "python",
   "name": "python3"
  },
  "language_info": {
   "codemirror_mode": {
    "name": "ipython",
    "version": 3
   },
   "file_extension": ".py",
   "mimetype": "text/x-python",
   "name": "python",
   "nbconvert_exporter": "python",
   "pygments_lexer": "ipython3",
   "version": "3.6.1"
  }
 },
 "nbformat": 4,
 "nbformat_minor": 2
}
