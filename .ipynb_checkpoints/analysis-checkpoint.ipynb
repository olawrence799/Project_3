{
 "cells": [
  {
   "cell_type": "markdown",
   "metadata": {},
   "source": [
    "# Import and Clean Data"
   ]
  },
  {
   "cell_type": "code",
   "execution_count": 1,
   "metadata": {
    "collapsed": true
   },
   "outputs": [],
   "source": [
    "import pandas as pd\n",
    "import numpy as np\n",
    "import matplotlib.pyplot as plt"
   ]
  },
  {
   "cell_type": "code",
   "execution_count": 2,
   "metadata": {},
   "outputs": [],
   "source": [
    "df = pd.read_csv('cleaned_data.csv')"
   ]
  },
  {
   "cell_type": "code",
   "execution_count": 3,
   "metadata": {},
   "outputs": [
    {
     "data": {
      "text/plain": [
       "(5860, 57)"
      ]
     },
     "execution_count": 3,
     "metadata": {},
     "output_type": "execute_result"
    }
   ],
   "source": [
    "df.shape"
   ]
  },
  {
   "cell_type": "code",
   "execution_count": 4,
   "metadata": {},
   "outputs": [
    {
     "data": {
      "text/plain": [
       "(5827, 57)"
      ]
     },
     "execution_count": 4,
     "metadata": {},
     "output_type": "execute_result"
    }
   ],
   "source": [
    "df = df[np.isfinite(df['WS/48'])]\n",
    "df = df[np.isfinite(df['FG%'])]\n",
    "df = df[np.isfinite(df['YrsExperience'])]\n",
    "df.shape"
   ]
  },
  {
   "cell_type": "markdown",
   "metadata": {},
   "source": [
    "# Linear Regression Prediction of Player Efficiency Rating"
   ]
  },
  {
   "cell_type": "code",
   "execution_count": 5,
   "metadata": {},
   "outputs": [
    {
     "name": "stdout",
     "output_type": "stream",
     "text": [
      "(5827, 3) (5827, 1)\n"
     ]
    }
   ],
   "source": [
    "X = df[['WS/48', 'BPM', 'USG%']]\n",
    "y = df['PER'].values.reshape(-1, 1)\n",
    "print(X.shape, y.shape)"
   ]
  },
  {
   "cell_type": "code",
   "execution_count": 6,
   "metadata": {},
   "outputs": [],
   "source": [
    "from sklearn.model_selection import train_test_split\n",
    "\n",
    "X_train, X_test, y_train, y_test = train_test_split(X, y, random_state=42)"
   ]
  },
  {
   "cell_type": "code",
   "execution_count": 7,
   "metadata": {},
   "outputs": [],
   "source": [
    "from sklearn.preprocessing import StandardScaler\n",
    "\n",
    "X_scaler = StandardScaler().fit(X_train)\n",
    "y_scaler = StandardScaler().fit(y_train)"
   ]
  },
  {
   "cell_type": "code",
   "execution_count": 8,
   "metadata": {},
   "outputs": [],
   "source": [
    "X_train_scaled = X_scaler.transform(X_train)\n",
    "X_test_scaled = X_scaler.transform(X_test)\n",
    "y_train_scaled = y_scaler.transform(y_train)\n",
    "y_test_scaled = y_scaler.transform(y_test)"
   ]
  },
  {
   "cell_type": "code",
   "execution_count": 9,
   "metadata": {},
   "outputs": [
    {
     "data": {
      "text/plain": [
       "LinearRegression(copy_X=True, fit_intercept=True, n_jobs=1, normalize=False)"
      ]
     },
     "execution_count": 9,
     "metadata": {},
     "output_type": "execute_result"
    }
   ],
   "source": [
    "from sklearn.linear_model import LinearRegression\n",
    "model = LinearRegression()\n",
    "model.fit(X_train_scaled, y_train_scaled)"
   ]
  },
  {
   "cell_type": "code",
   "execution_count": 10,
   "metadata": {},
   "outputs": [
    {
     "data": {
      "image/png": "[encoded data removed]",
      "text/plain": [
       "<matplotlib.figure.Figure at 0x114755d68>"
      ]
     },
     "metadata": {},
     "output_type": "display_data"
    }
   ],
   "source": [
    "predictions = model.predict(X_test_scaled)\n",
    "model.fit(X_train_scaled, y_train_scaled)\n",
    "plt.scatter(model.predict(X_train_scaled), model.predict(X_train_scaled) - y_train_scaled, c=\"blue\", label=\"Training Data\")\n",
    "plt.scatter(model.predict(X_test_scaled), model.predict(X_test_scaled) - y_test_scaled, c=\"orange\", label=\"Testing Data\")\n",
    "plt.legend()\n",
    "plt.hlines(y=0, xmin=y_test_scaled.min(), xmax=y_test_scaled.max())\n",
    "plt.title(\"Residual Plot\")\n",
    "plt.savefig(\"PER_residuals\")\n",
    "plt.show()"
   ]
  },
  {
   "cell_type": "code",
   "execution_count": 11,
   "metadata": {},
   "outputs": [
    {
     "name": "stdout",
     "output_type": "stream",
     "text": [
      "{'WS/48': '0.82', 'BPM': '0.08', 'USG%': '0.36'}\n"
     ]
    }
   ],
   "source": [
    "coefficients = model.coef_.tolist()[0]\n",
    "coefficients = [ '%.2f' % elem for elem in coefficients ]\n",
    "features = X\n",
    "print(dict(zip(features, coefficients)))"
   ]
  },
  {
   "cell_type": "code",
   "execution_count": 12,
   "metadata": {},
   "outputs": [
    {
     "name": "stdout",
     "output_type": "stream",
     "text": [
      "MSE: 0.06239664666880236, R2: 0.9286585611993972\n"
     ]
    }
   ],
   "source": [
    "from sklearn.metrics import mean_squared_error\n",
    "\n",
    "MSE = mean_squared_error(y_test_scaled, predictions)\n",
    "r2 = model.score(X_test_scaled, y_test_scaled)\n",
    "\n",
    "print(f\"MSE: {MSE}, R2: {r2}\")"
   ]
  },
  {
   "cell_type": "code",
   "execution_count": 13,
   "metadata": {},
   "outputs": [
    {
     "data": {
      "text/plain": [
       "'0.929'"
      ]
     },
     "execution_count": 13,
     "metadata": {},
     "output_type": "execute_result"
    }
   ],
   "source": [
    "score = model.score(X_test_scaled, y_test_scaled)\n",
    "score = \"%.3f\" % score\n",
    "score"
   ]
  },
  {
   "cell_type": "code",
   "execution_count": 14,
   "metadata": {},
   "outputs": [
    {
     "data": {
      "image/png": "[encoded data removed]",
      "text/plain": [
       "<matplotlib.figure.Figure at 0x11a4b32e8>"
      ]
     },
     "metadata": {},
     "output_type": "display_data"
    }
   ],
   "source": [
    "x_values = np.arange(len(features.columns))\n",
    "plt.figure(figsize=(10, 7))\n",
    "\n",
    "plt.title(\"Linear Regression Feature Coefficient; Testing Data Score: \"f\"{score}\")\n",
    "plt.xlabel(\"Feature Name\")\n",
    "plt.ylabel(\"Regression Coefficient\")\n",
    "\n",
    "plt.bar(x_values, coefficients, facecolor=\"darkblue\",\n",
    "        alpha=0.75, tick_label=features.columns)\n",
    "plt.xticks(rotation='vertical')\n",
    "plt.savefig(\"PER_Regression_Features\")\n",
    "plt.show()"
   ]
  },
  {
   "cell_type": "markdown",
   "metadata": {},
   "source": [
    "# Linear Regression Prediction of Minutes Played"
   ]
  },
  {
   "cell_type": "code",
   "execution_count": 15,
   "metadata": {},
   "outputs": [
    {
     "name": "stdout",
     "output_type": "stream",
     "text": [
      "(5827, 3) (5827, 1)\n"
     ]
    }
   ],
   "source": [
    "X = df[['GS', 'G', 'PTS']]\n",
    "y = df['MP'].values.reshape(-1, 1)\n",
    "print(X.shape, y.shape)"
   ]
  },
  {
   "cell_type": "code",
   "execution_count": 16,
   "metadata": {
    "collapsed": true
   },
   "outputs": [],
   "source": [
    "from sklearn.model_selection import train_test_split\n",
    "\n",
    "X_train, X_test, y_train, y_test = train_test_split(X, y, random_state=42)"
   ]
  },
  {
   "cell_type": "code",
   "execution_count": 17,
   "metadata": {},
   "outputs": [
    {
     "name": "stderr",
     "output_type": "stream",
     "text": [
      "/Users/owen/anaconda/lib/python3.6/site-packages/sklearn/utils/validation.py:429: DataConversionWarning: Data with input dtype int64 was converted to float64 by StandardScaler.\n",
      "  warnings.warn(msg, _DataConversionWarning)\n"
     ]
    }
   ],
   "source": [
    "from sklearn.preprocessing import StandardScaler\n",
    "\n",
    "X_scaler = StandardScaler().fit(X_train)\n",
    "y_scaler = StandardScaler().fit(y_train)"
   ]
  },
  {
   "cell_type": "code",
   "execution_count": 18,
   "metadata": {},
   "outputs": [
    {
     "name": "stderr",
     "output_type": "stream",
     "text": [
      "/Users/owen/anaconda/lib/python3.6/site-packages/sklearn/utils/validation.py:429: DataConversionWarning: Data with input dtype int64 was converted to float64 by StandardScaler.\n",
      "  warnings.warn(msg, _DataConversionWarning)\n"
     ]
    }
   ],
   "source": [
    "X_train_scaled = X_scaler.transform(X_train)\n",
    "X_test_scaled = X_scaler.transform(X_test)\n",
    "y_train_scaled = y_scaler.transform(y_train)\n",
    "y_test_scaled = y_scaler.transform(y_test)"
   ]
  },
  {
   "cell_type": "code",
   "execution_count": 19,
   "metadata": {},
   "outputs": [
    {
     "data": {
      "text/plain": [
       "LinearRegression(copy_X=True, fit_intercept=True, n_jobs=1, normalize=False)"
      ]
     },
     "execution_count": 19,
     "metadata": {},
     "output_type": "execute_result"
    }
   ],
   "source": [
    "from sklearn.linear_model import LinearRegression\n",
    "model = LinearRegression()\n",
    "model.fit(X_train_scaled, y_train_scaled)"
   ]
  },
  {
   "cell_type": "code",
   "execution_count": 20,
   "metadata": {},
   "outputs": [
    {
     "data": {
      "image/png": "[encoded data removed]",
      "text/plain": [
       "<matplotlib.figure.Figure at 0x117df5128>"
      ]
     },
     "metadata": {},
     "output_type": "display_data"
    }
   ],
   "source": [
    "predictions = model.predict(X_test_scaled)\n",
    "model.fit(X_train_scaled, y_train_scaled)\n",
    "plt.scatter(model.predict(X_train_scaled), model.predict(X_train_scaled) - y_train_scaled, c=\"blue\", label=\"Training Data\")\n",
    "plt.scatter(model.predict(X_test_scaled), model.predict(X_test_scaled) - y_test_scaled, c=\"orange\", label=\"Testing Data\")\n",
    "plt.legend()\n",
    "plt.hlines(y=0, xmin=y_test_scaled.min(), xmax=y_test_scaled.max())\n",
    "plt.title(\"Residual Plot\")\n",
    "plt.savefig(\"MP_residuals\")\n",
    "plt.show()"
   ]
  },
  {
   "cell_type": "code",
   "execution_count": 21,
   "metadata": {},
   "outputs": [
    {
     "name": "stdout",
     "output_type": "stream",
     "text": [
      "{'GS': '0.27', 'G': '0.39', 'PTS': '0.43'}\n"
     ]
    }
   ],
   "source": [
    "coefficients = model.coef_.tolist()[0]\n",
    "coefficients = [ '%.2f' % elem for elem in coefficients ]\n",
    "features = X\n",
    "print(dict(zip(features, coefficients)))"
   ]
  },
  {
   "cell_type": "code",
   "execution_count": 22,
   "metadata": {},
   "outputs": [
    {
     "name": "stdout",
     "output_type": "stream",
     "text": [
      "MSE: 0.03458932187394327, R2: 0.9649413971201148\n"
     ]
    }
   ],
   "source": [
    "from sklearn.metrics import mean_squared_error\n",
    "\n",
    "MSE = mean_squared_error(y_test_scaled, predictions)\n",
    "r2 = model.score(X_test_scaled, y_test_scaled)\n",
    "\n",
    "print(f\"MSE: {MSE}, R2: {r2}\")"
   ]
  },
  {
   "cell_type": "code",
   "execution_count": 23,
   "metadata": {},
   "outputs": [
    {
     "data": {
      "text/plain": [
       "'0.965'"
      ]
     },
     "execution_count": 23,
     "metadata": {},
     "output_type": "execute_result"
    }
   ],
   "source": [
    "score = model.score(X_test_scaled, y_test_scaled)\n",
    "score = \"%.3f\" % score\n",
    "score"
   ]
  },
  {
   "cell_type": "code",
   "execution_count": 24,
   "metadata": {},
   "outputs": [
    {
     "data": {
      "image/png": "[encoded data removed]",
      "text/plain": [
       "<matplotlib.figure.Figure at 0x11d85ea90>"
      ]
     },
     "metadata": {},
     "output_type": "display_data"
    }
   ],
   "source": [
    "x_values = np.arange(len(features.columns))\n",
    "plt.figure(figsize=(10, 7))\n",
    "\n",
    "plt.title(\"Linear Regression Feature Coefficient; Testing Data Score: \"f\"{score}\")\n",
    "plt.xlabel(\"Feature Name\")\n",
    "plt.ylabel(\"Regression Coefficient\")\n",
    "\n",
    "plt.bar(x_values, coefficients, facecolor=\"darkblue\",\n",
    "        alpha=0.75, tick_label=features.columns)\n",
    "plt.xticks(rotation='vertical')\n",
    "plt.savefig(\"MP_Regression_Features\")\n",
    "plt.show()"
   ]
  },
  {
   "cell_type": "markdown",
   "metadata": {},
   "source": [
    "# Logistic Regression and Decision Tree/Random Forest of Player Making it Past Rookie Season"
   ]
  },
  {
   "cell_type": "code",
   "execution_count": 25,
   "metadata": {},
   "outputs": [
    {
     "data": {
      "text/html": [
       "<div>\n",
       "<style>\n",
       "    .dataframe thead tr:only-child th {\n",
       "        text-align: right;\n",
       "    }\n",
       "\n",
       "    .dataframe thead th {\n",
       "        text-align: left;\n",
       "    }\n",
       "\n",
       "    .dataframe tbody tr th {\n",
       "        vertical-align: top;\n",
       "    }\n",
       "</style>\n",
       "<table border=\"1\" class=\"dataframe\">\n",
       "  <thead>\n",
       "    <tr style=\"text-align: right;\">\n",
       "      <th></th>\n",
       "      <th>Year</th>\n",
       "      <th>Player</th>\n",
       "      <th>Pos</th>\n",
       "      <th>Age</th>\n",
       "      <th>Tm</th>\n",
       "      <th>G</th>\n",
       "      <th>GS</th>\n",
       "      <th>MP</th>\n",
       "      <th>PER</th>\n",
       "      <th>TS%</th>\n",
       "      <th>...</th>\n",
       "      <th>STL</th>\n",
       "      <th>BLK</th>\n",
       "      <th>TOV</th>\n",
       "      <th>PF</th>\n",
       "      <th>PTS</th>\n",
       "      <th>TrueSalary</th>\n",
       "      <th>YrsExperience</th>\n",
       "      <th>Height</th>\n",
       "      <th>Weight</th>\n",
       "      <th>RoundedPosition</th>\n",
       "    </tr>\n",
       "  </thead>\n",
       "  <tbody>\n",
       "    <tr>\n",
       "      <th>1</th>\n",
       "      <td>2007</td>\n",
       "      <td>Hassan Adams</td>\n",
       "      <td>SG</td>\n",
       "      <td>22</td>\n",
       "      <td>NJN</td>\n",
       "      <td>61</td>\n",
       "      <td>8</td>\n",
       "      <td>495</td>\n",
       "      <td>13.0</td>\n",
       "      <td>0.577</td>\n",
       "      <td>...</td>\n",
       "      <td>17</td>\n",
       "      <td>4</td>\n",
       "      <td>22</td>\n",
       "      <td>47</td>\n",
       "      <td>174</td>\n",
       "      <td>0</td>\n",
       "      <td>0.0</td>\n",
       "      <td>76.0</td>\n",
       "      <td>220.0</td>\n",
       "      <td>2.0</td>\n",
       "    </tr>\n",
       "    <tr>\n",
       "      <th>2</th>\n",
       "      <td>2007</td>\n",
       "      <td>Maurice Ager</td>\n",
       "      <td>SG</td>\n",
       "      <td>22</td>\n",
       "      <td>DAL</td>\n",
       "      <td>32</td>\n",
       "      <td>1</td>\n",
       "      <td>214</td>\n",
       "      <td>2.9</td>\n",
       "      <td>0.408</td>\n",
       "      <td>...</td>\n",
       "      <td>4</td>\n",
       "      <td>3</td>\n",
       "      <td>15</td>\n",
       "      <td>27</td>\n",
       "      <td>69</td>\n",
       "      <td>0</td>\n",
       "      <td>0.0</td>\n",
       "      <td>77.0</td>\n",
       "      <td>202.0</td>\n",
       "      <td>2.0</td>\n",
       "    </tr>\n",
       "    <tr>\n",
       "      <th>3</th>\n",
       "      <td>2007</td>\n",
       "      <td>LaMarcus Aldridge</td>\n",
       "      <td>C</td>\n",
       "      <td>21</td>\n",
       "      <td>POR</td>\n",
       "      <td>63</td>\n",
       "      <td>22</td>\n",
       "      <td>1392</td>\n",
       "      <td>17.1</td>\n",
       "      <td>0.533</td>\n",
       "      <td>...</td>\n",
       "      <td>22</td>\n",
       "      <td>73</td>\n",
       "      <td>43</td>\n",
       "      <td>186</td>\n",
       "      <td>565</td>\n",
       "      <td>1900000</td>\n",
       "      <td>0.0</td>\n",
       "      <td>83.0</td>\n",
       "      <td>240.0</td>\n",
       "      <td>5.0</td>\n",
       "    </tr>\n",
       "    <tr>\n",
       "      <th>8</th>\n",
       "      <td>2007</td>\n",
       "      <td>Lou Amundson</td>\n",
       "      <td>PF</td>\n",
       "      <td>24</td>\n",
       "      <td>TOT</td>\n",
       "      <td>11</td>\n",
       "      <td>0</td>\n",
       "      <td>89</td>\n",
       "      <td>9.6</td>\n",
       "      <td>0.412</td>\n",
       "      <td>...</td>\n",
       "      <td>1</td>\n",
       "      <td>8</td>\n",
       "      <td>5</td>\n",
       "      <td>15</td>\n",
       "      <td>16</td>\n",
       "      <td>0</td>\n",
       "      <td>0.0</td>\n",
       "      <td>0.0</td>\n",
       "      <td>0.0</td>\n",
       "      <td>0.0</td>\n",
       "    </tr>\n",
       "    <tr>\n",
       "      <th>10</th>\n",
       "      <td>2007</td>\n",
       "      <td>Lou Amundson</td>\n",
       "      <td>PF</td>\n",
       "      <td>24</td>\n",
       "      <td>PHI</td>\n",
       "      <td>10</td>\n",
       "      <td>0</td>\n",
       "      <td>87</td>\n",
       "      <td>9.8</td>\n",
       "      <td>0.412</td>\n",
       "      <td>...</td>\n",
       "      <td>1</td>\n",
       "      <td>8</td>\n",
       "      <td>5</td>\n",
       "      <td>15</td>\n",
       "      <td>16</td>\n",
       "      <td>0</td>\n",
       "      <td>0.0</td>\n",
       "      <td>0.0</td>\n",
       "      <td>0.0</td>\n",
       "      <td>0.0</td>\n",
       "    </tr>\n",
       "    <tr>\n",
       "      <th>18</th>\n",
       "      <td>2007</td>\n",
       "      <td>Hilton Armstrong</td>\n",
       "      <td>C</td>\n",
       "      <td>22</td>\n",
       "      <td>NOK</td>\n",
       "      <td>56</td>\n",
       "      <td>5</td>\n",
       "      <td>634</td>\n",
       "      <td>12.2</td>\n",
       "      <td>0.570</td>\n",
       "      <td>...</td>\n",
       "      <td>12</td>\n",
       "      <td>26</td>\n",
       "      <td>35</td>\n",
       "      <td>79</td>\n",
       "      <td>176</td>\n",
       "      <td>700000</td>\n",
       "      <td>0.0</td>\n",
       "      <td>83.0</td>\n",
       "      <td>235.0</td>\n",
       "      <td>5.0</td>\n",
       "    </tr>\n",
       "    <tr>\n",
       "      <th>21</th>\n",
       "      <td>2007</td>\n",
       "      <td>James Augustine</td>\n",
       "      <td>PF</td>\n",
       "      <td>22</td>\n",
       "      <td>ORL</td>\n",
       "      <td>2</td>\n",
       "      <td>0</td>\n",
       "      <td>7</td>\n",
       "      <td>16.6</td>\n",
       "      <td>0.333</td>\n",
       "      <td>...</td>\n",
       "      <td>0</td>\n",
       "      <td>0</td>\n",
       "      <td>0</td>\n",
       "      <td>2</td>\n",
       "      <td>2</td>\n",
       "      <td>0</td>\n",
       "      <td>0.0</td>\n",
       "      <td>82.0</td>\n",
       "      <td>235.0</td>\n",
       "      <td>4.0</td>\n",
       "    </tr>\n",
       "    <tr>\n",
       "      <th>22</th>\n",
       "      <td>2007</td>\n",
       "      <td>Kelenna Azubuike</td>\n",
       "      <td>SG</td>\n",
       "      <td>23</td>\n",
       "      <td>GSW</td>\n",
       "      <td>41</td>\n",
       "      <td>9</td>\n",
       "      <td>669</td>\n",
       "      <td>13.4</td>\n",
       "      <td>0.572</td>\n",
       "      <td>...</td>\n",
       "      <td>22</td>\n",
       "      <td>10</td>\n",
       "      <td>39</td>\n",
       "      <td>49</td>\n",
       "      <td>291</td>\n",
       "      <td>700000</td>\n",
       "      <td>0.0</td>\n",
       "      <td>77.0</td>\n",
       "      <td>220.0</td>\n",
       "      <td>2.0</td>\n",
       "    </tr>\n",
       "    <tr>\n",
       "      <th>23</th>\n",
       "      <td>2007</td>\n",
       "      <td>Renaldo Balkman</td>\n",
       "      <td>SF</td>\n",
       "      <td>22</td>\n",
       "      <td>NYK</td>\n",
       "      <td>68</td>\n",
       "      <td>1</td>\n",
       "      <td>1064</td>\n",
       "      <td>16.1</td>\n",
       "      <td>0.531</td>\n",
       "      <td>...</td>\n",
       "      <td>57</td>\n",
       "      <td>44</td>\n",
       "      <td>49</td>\n",
       "      <td>146</td>\n",
       "      <td>334</td>\n",
       "      <td>3100000</td>\n",
       "      <td>0.0</td>\n",
       "      <td>80.0</td>\n",
       "      <td>208.0</td>\n",
       "      <td>4.0</td>\n",
       "    </tr>\n",
       "    <tr>\n",
       "      <th>26</th>\n",
       "      <td>2007</td>\n",
       "      <td>J.J. Barea</td>\n",
       "      <td>PG</td>\n",
       "      <td>22</td>\n",
       "      <td>DAL</td>\n",
       "      <td>33</td>\n",
       "      <td>1</td>\n",
       "      <td>191</td>\n",
       "      <td>9.6</td>\n",
       "      <td>0.440</td>\n",
       "      <td>...</td>\n",
       "      <td>1</td>\n",
       "      <td>1</td>\n",
       "      <td>14</td>\n",
       "      <td>19</td>\n",
       "      <td>78</td>\n",
       "      <td>0</td>\n",
       "      <td>0.0</td>\n",
       "      <td>0.0</td>\n",
       "      <td>0.0</td>\n",
       "      <td>0.0</td>\n",
       "    </tr>\n",
       "    <tr>\n",
       "      <th>27</th>\n",
       "      <td>2007</td>\n",
       "      <td>Andrea Bargnani</td>\n",
       "      <td>PF</td>\n",
       "      <td>21</td>\n",
       "      <td>TOR</td>\n",
       "      <td>65</td>\n",
       "      <td>2</td>\n",
       "      <td>1629</td>\n",
       "      <td>12.8</td>\n",
       "      <td>0.546</td>\n",
       "      <td>...</td>\n",
       "      <td>32</td>\n",
       "      <td>53</td>\n",
       "      <td>107</td>\n",
       "      <td>180</td>\n",
       "      <td>751</td>\n",
       "      <td>2400000</td>\n",
       "      <td>0.0</td>\n",
       "      <td>84.0</td>\n",
       "      <td>225.0</td>\n",
       "      <td>4.0</td>\n",
       "    </tr>\n",
       "    <tr>\n",
       "      <th>42</th>\n",
       "      <td>2007</td>\n",
       "      <td>Steve Blake</td>\n",
       "      <td>PG</td>\n",
       "      <td>26</td>\n",
       "      <td>TOT</td>\n",
       "      <td>82</td>\n",
       "      <td>42</td>\n",
       "      <td>2225</td>\n",
       "      <td>9.9</td>\n",
       "      <td>0.491</td>\n",
       "      <td>...</td>\n",
       "      <td>61</td>\n",
       "      <td>8</td>\n",
       "      <td>129</td>\n",
       "      <td>121</td>\n",
       "      <td>528</td>\n",
       "      <td>0</td>\n",
       "      <td>0.0</td>\n",
       "      <td>0.0</td>\n",
       "      <td>0.0</td>\n",
       "      <td>0.0</td>\n",
       "    </tr>\n",
       "    <tr>\n",
       "      <th>45</th>\n",
       "      <td>2007</td>\n",
       "      <td>Will Blalock</td>\n",
       "      <td>PG</td>\n",
       "      <td>23</td>\n",
       "      <td>DET</td>\n",
       "      <td>14</td>\n",
       "      <td>0</td>\n",
       "      <td>166</td>\n",
       "      <td>4.5</td>\n",
       "      <td>0.383</td>\n",
       "      <td>...</td>\n",
       "      <td>5</td>\n",
       "      <td>0</td>\n",
       "      <td>12</td>\n",
       "      <td>9</td>\n",
       "      <td>25</td>\n",
       "      <td>0</td>\n",
       "      <td>0.0</td>\n",
       "      <td>72.0</td>\n",
       "      <td>205.0</td>\n",
       "      <td>1.0</td>\n",
       "    </tr>\n",
       "    <tr>\n",
       "      <th>51</th>\n",
       "      <td>2007</td>\n",
       "      <td>Josh Boone</td>\n",
       "      <td>PF</td>\n",
       "      <td>22</td>\n",
       "      <td>NJN</td>\n",
       "      <td>61</td>\n",
       "      <td>0</td>\n",
       "      <td>669</td>\n",
       "      <td>14.6</td>\n",
       "      <td>0.587</td>\n",
       "      <td>...</td>\n",
       "      <td>11</td>\n",
       "      <td>21</td>\n",
       "      <td>33</td>\n",
       "      <td>94</td>\n",
       "      <td>254</td>\n",
       "      <td>0</td>\n",
       "      <td>0.0</td>\n",
       "      <td>82.0</td>\n",
       "      <td>237.0</td>\n",
       "      <td>4.0</td>\n",
       "    </tr>\n",
       "    <tr>\n",
       "      <th>56</th>\n",
       "      <td>2007</td>\n",
       "      <td>Earl Boykins</td>\n",
       "      <td>PG</td>\n",
       "      <td>30</td>\n",
       "      <td>TOT</td>\n",
       "      <td>66</td>\n",
       "      <td>23</td>\n",
       "      <td>2031</td>\n",
       "      <td>16.2</td>\n",
       "      <td>0.548</td>\n",
       "      <td>...</td>\n",
       "      <td>56</td>\n",
       "      <td>2</td>\n",
       "      <td>120</td>\n",
       "      <td>92</td>\n",
       "      <td>961</td>\n",
       "      <td>0</td>\n",
       "      <td>0.0</td>\n",
       "      <td>0.0</td>\n",
       "      <td>0.0</td>\n",
       "      <td>0.0</td>\n",
       "    </tr>\n",
       "    <tr>\n",
       "      <th>59</th>\n",
       "      <td>2007</td>\n",
       "      <td>Cedric Bozeman</td>\n",
       "      <td>SG</td>\n",
       "      <td>23</td>\n",
       "      <td>ATL</td>\n",
       "      <td>23</td>\n",
       "      <td>5</td>\n",
       "      <td>199</td>\n",
       "      <td>-0.1</td>\n",
       "      <td>0.312</td>\n",
       "      <td>...</td>\n",
       "      <td>5</td>\n",
       "      <td>2</td>\n",
       "      <td>9</td>\n",
       "      <td>32</td>\n",
       "      <td>26</td>\n",
       "      <td>0</td>\n",
       "      <td>0.0</td>\n",
       "      <td>78.0</td>\n",
       "      <td>207.0</td>\n",
       "      <td>2.0</td>\n",
       "    </tr>\n",
       "    <tr>\n",
       "      <th>61</th>\n",
       "      <td>2007</td>\n",
       "      <td>Ronnie Brewer</td>\n",
       "      <td>SG</td>\n",
       "      <td>21</td>\n",
       "      <td>UTA</td>\n",
       "      <td>56</td>\n",
       "      <td>14</td>\n",
       "      <td>675</td>\n",
       "      <td>15.2</td>\n",
       "      <td>0.566</td>\n",
       "      <td>...</td>\n",
       "      <td>37</td>\n",
       "      <td>6</td>\n",
       "      <td>24</td>\n",
       "      <td>44</td>\n",
       "      <td>260</td>\n",
       "      <td>1500000</td>\n",
       "      <td>0.0</td>\n",
       "      <td>79.0</td>\n",
       "      <td>220.0</td>\n",
       "      <td>3.0</td>\n",
       "    </tr>\n",
       "    <tr>\n",
       "      <th>63</th>\n",
       "      <td>2007</td>\n",
       "      <td>Andre Brown</td>\n",
       "      <td>PF</td>\n",
       "      <td>25</td>\n",
       "      <td>SEA</td>\n",
       "      <td>38</td>\n",
       "      <td>0</td>\n",
       "      <td>271</td>\n",
       "      <td>11.1</td>\n",
       "      <td>0.577</td>\n",
       "      <td>...</td>\n",
       "      <td>6</td>\n",
       "      <td>4</td>\n",
       "      <td>29</td>\n",
       "      <td>26</td>\n",
       "      <td>93</td>\n",
       "      <td>0</td>\n",
       "      <td>0.0</td>\n",
       "      <td>81.0</td>\n",
       "      <td>245.0</td>\n",
       "      <td>4.0</td>\n",
       "    </tr>\n",
       "    <tr>\n",
       "      <th>64</th>\n",
       "      <td>2007</td>\n",
       "      <td>Dee Brown</td>\n",
       "      <td>PG</td>\n",
       "      <td>22</td>\n",
       "      <td>UTA</td>\n",
       "      <td>49</td>\n",
       "      <td>0</td>\n",
       "      <td>450</td>\n",
       "      <td>8.6</td>\n",
       "      <td>0.411</td>\n",
       "      <td>...</td>\n",
       "      <td>22</td>\n",
       "      <td>7</td>\n",
       "      <td>31</td>\n",
       "      <td>51</td>\n",
       "      <td>94</td>\n",
       "      <td>900000</td>\n",
       "      <td>0.0</td>\n",
       "      <td>72.0</td>\n",
       "      <td>185.0</td>\n",
       "      <td>1.0</td>\n",
       "    </tr>\n",
       "    <tr>\n",
       "      <th>68</th>\n",
       "      <td>2007</td>\n",
       "      <td>Shannon Brown</td>\n",
       "      <td>SG</td>\n",
       "      <td>21</td>\n",
       "      <td>CLE</td>\n",
       "      <td>23</td>\n",
       "      <td>5</td>\n",
       "      <td>202</td>\n",
       "      <td>7.5</td>\n",
       "      <td>0.455</td>\n",
       "      <td>...</td>\n",
       "      <td>7</td>\n",
       "      <td>3</td>\n",
       "      <td>14</td>\n",
       "      <td>24</td>\n",
       "      <td>73</td>\n",
       "      <td>0</td>\n",
       "      <td>0.0</td>\n",
       "      <td>76.0</td>\n",
       "      <td>205.0</td>\n",
       "      <td>2.0</td>\n",
       "    </tr>\n",
       "    <tr>\n",
       "      <th>79</th>\n",
       "      <td>2007</td>\n",
       "      <td>Rodney Carney</td>\n",
       "      <td>SF</td>\n",
       "      <td>22</td>\n",
       "      <td>PHI</td>\n",
       "      <td>67</td>\n",
       "      <td>35</td>\n",
       "      <td>1169</td>\n",
       "      <td>11.4</td>\n",
       "      <td>0.514</td>\n",
       "      <td>...</td>\n",
       "      <td>38</td>\n",
       "      <td>23</td>\n",
       "      <td>43</td>\n",
       "      <td>118</td>\n",
       "      <td>442</td>\n",
       "      <td>700000</td>\n",
       "      <td>0.0</td>\n",
       "      <td>79.0</td>\n",
       "      <td>205.0</td>\n",
       "      <td>3.0</td>\n",
       "    </tr>\n",
       "    <tr>\n",
       "      <th>91</th>\n",
       "      <td>2007</td>\n",
       "      <td>Mardy Collins</td>\n",
       "      <td>SF</td>\n",
       "      <td>22</td>\n",
       "      <td>NYK</td>\n",
       "      <td>52</td>\n",
       "      <td>9</td>\n",
       "      <td>777</td>\n",
       "      <td>9.2</td>\n",
       "      <td>0.445</td>\n",
       "      <td>...</td>\n",
       "      <td>32</td>\n",
       "      <td>3</td>\n",
       "      <td>57</td>\n",
       "      <td>75</td>\n",
       "      <td>235</td>\n",
       "      <td>900000</td>\n",
       "      <td>0.0</td>\n",
       "      <td>78.0</td>\n",
       "      <td>220.0</td>\n",
       "      <td>2.0</td>\n",
       "    </tr>\n",
       "    <tr>\n",
       "      <th>93</th>\n",
       "      <td>2007</td>\n",
       "      <td>Will Conroy</td>\n",
       "      <td>PG-SG</td>\n",
       "      <td>24</td>\n",
       "      <td>TOT</td>\n",
       "      <td>7</td>\n",
       "      <td>0</td>\n",
       "      <td>52</td>\n",
       "      <td>1.1</td>\n",
       "      <td>0.000</td>\n",
       "      <td>...</td>\n",
       "      <td>0</td>\n",
       "      <td>0</td>\n",
       "      <td>2</td>\n",
       "      <td>7</td>\n",
       "      <td>0</td>\n",
       "      <td>0</td>\n",
       "      <td>0.0</td>\n",
       "      <td>0.0</td>\n",
       "      <td>0.0</td>\n",
       "      <td>0.0</td>\n",
       "    </tr>\n",
       "    <tr>\n",
       "      <th>95</th>\n",
       "      <td>2007</td>\n",
       "      <td>Will Conroy</td>\n",
       "      <td>PG</td>\n",
       "      <td>24</td>\n",
       "      <td>LAC</td>\n",
       "      <td>4</td>\n",
       "      <td>0</td>\n",
       "      <td>35</td>\n",
       "      <td>-0.4</td>\n",
       "      <td>0.000</td>\n",
       "      <td>...</td>\n",
       "      <td>0</td>\n",
       "      <td>0</td>\n",
       "      <td>2</td>\n",
       "      <td>6</td>\n",
       "      <td>0</td>\n",
       "      <td>0</td>\n",
       "      <td>0.0</td>\n",
       "      <td>74.0</td>\n",
       "      <td>195.0</td>\n",
       "      <td>1.0</td>\n",
       "    </tr>\n",
       "    <tr>\n",
       "      <th>106</th>\n",
       "      <td>2007</td>\n",
       "      <td>Paul Davis</td>\n",
       "      <td>C</td>\n",
       "      <td>22</td>\n",
       "      <td>LAC</td>\n",
       "      <td>31</td>\n",
       "      <td>0</td>\n",
       "      <td>180</td>\n",
       "      <td>11.2</td>\n",
       "      <td>0.452</td>\n",
       "      <td>...</td>\n",
       "      <td>6</td>\n",
       "      <td>5</td>\n",
       "      <td>8</td>\n",
       "      <td>28</td>\n",
       "      <td>51</td>\n",
       "      <td>0</td>\n",
       "      <td>0.0</td>\n",
       "      <td>83.0</td>\n",
       "      <td>270.0</td>\n",
       "      <td>5.0</td>\n",
       "    </tr>\n",
       "    <tr>\n",
       "      <th>111</th>\n",
       "      <td>2007</td>\n",
       "      <td>Yakhouba Diawara</td>\n",
       "      <td>SG</td>\n",
       "      <td>24</td>\n",
       "      <td>DEN</td>\n",
       "      <td>64</td>\n",
       "      <td>19</td>\n",
       "      <td>1177</td>\n",
       "      <td>5.3</td>\n",
       "      <td>0.450</td>\n",
       "      <td>...</td>\n",
       "      <td>30</td>\n",
       "      <td>7</td>\n",
       "      <td>37</td>\n",
       "      <td>132</td>\n",
       "      <td>284</td>\n",
       "      <td>700000</td>\n",
       "      <td>0.0</td>\n",
       "      <td>79.0</td>\n",
       "      <td>225.0</td>\n",
       "      <td>3.0</td>\n",
       "    </tr>\n",
       "    <tr>\n",
       "      <th>114</th>\n",
       "      <td>2007</td>\n",
       "      <td>Ike Diogu</td>\n",
       "      <td>PF</td>\n",
       "      <td>23</td>\n",
       "      <td>TOT</td>\n",
       "      <td>59</td>\n",
       "      <td>2</td>\n",
       "      <td>760</td>\n",
       "      <td>14.9</td>\n",
       "      <td>0.559</td>\n",
       "      <td>...</td>\n",
       "      <td>8</td>\n",
       "      <td>26</td>\n",
       "      <td>67</td>\n",
       "      <td>122</td>\n",
       "      <td>366</td>\n",
       "      <td>0</td>\n",
       "      <td>0.0</td>\n",
       "      <td>0.0</td>\n",
       "      <td>0.0</td>\n",
       "      <td>0.0</td>\n",
       "    </tr>\n",
       "    <tr>\n",
       "      <th>118</th>\n",
       "      <td>2007</td>\n",
       "      <td>Juan Dixon</td>\n",
       "      <td>SG</td>\n",
       "      <td>28</td>\n",
       "      <td>TOT</td>\n",
       "      <td>81</td>\n",
       "      <td>6</td>\n",
       "      <td>1926</td>\n",
       "      <td>11.8</td>\n",
       "      <td>0.516</td>\n",
       "      <td>...</td>\n",
       "      <td>76</td>\n",
       "      <td>9</td>\n",
       "      <td>101</td>\n",
       "      <td>177</td>\n",
       "      <td>778</td>\n",
       "      <td>0</td>\n",
       "      <td>0.0</td>\n",
       "      <td>0.0</td>\n",
       "      <td>0.0</td>\n",
       "      <td>0.0</td>\n",
       "    </tr>\n",
       "    <tr>\n",
       "      <th>123</th>\n",
       "      <td>2007</td>\n",
       "      <td>Quincy Douby</td>\n",
       "      <td>PG</td>\n",
       "      <td>22</td>\n",
       "      <td>SAC</td>\n",
       "      <td>42</td>\n",
       "      <td>0</td>\n",
       "      <td>359</td>\n",
       "      <td>9.0</td>\n",
       "      <td>0.449</td>\n",
       "      <td>...</td>\n",
       "      <td>15</td>\n",
       "      <td>4</td>\n",
       "      <td>15</td>\n",
       "      <td>21</td>\n",
       "      <td>119</td>\n",
       "      <td>0</td>\n",
       "      <td>0.0</td>\n",
       "      <td>75.0</td>\n",
       "      <td>175.0</td>\n",
       "      <td>1.0</td>\n",
       "    </tr>\n",
       "    <tr>\n",
       "      <th>126</th>\n",
       "      <td>2007</td>\n",
       "      <td>Mike Dunleavy</td>\n",
       "      <td>SG-PF</td>\n",
       "      <td>26</td>\n",
       "      <td>TOT</td>\n",
       "      <td>82</td>\n",
       "      <td>49</td>\n",
       "      <td>2580</td>\n",
       "      <td>14.1</td>\n",
       "      <td>0.542</td>\n",
       "      <td>...</td>\n",
       "      <td>84</td>\n",
       "      <td>22</td>\n",
       "      <td>149</td>\n",
       "      <td>203</td>\n",
       "      <td>1049</td>\n",
       "      <td>0</td>\n",
       "      <td>0.0</td>\n",
       "      <td>0.0</td>\n",
       "      <td>0.0</td>\n",
       "      <td>0.0</td>\n",
       "    </tr>\n",
       "    <tr>\n",
       "      <th>...</th>\n",
       "      <td>...</td>\n",
       "      <td>...</td>\n",
       "      <td>...</td>\n",
       "      <td>...</td>\n",
       "      <td>...</td>\n",
       "      <td>...</td>\n",
       "      <td>...</td>\n",
       "      <td>...</td>\n",
       "      <td>...</td>\n",
       "      <td>...</td>\n",
       "      <td>...</td>\n",
       "      <td>...</td>\n",
       "      <td>...</td>\n",
       "      <td>...</td>\n",
       "      <td>...</td>\n",
       "      <td>...</td>\n",
       "      <td>...</td>\n",
       "      <td>...</td>\n",
       "      <td>...</td>\n",
       "      <td>...</td>\n",
       "      <td>...</td>\n",
       "    </tr>\n",
       "    <tr>\n",
       "      <th>5168</th>\n",
       "      <td>2015</td>\n",
       "      <td>Marcus Smart</td>\n",
       "      <td>PG</td>\n",
       "      <td>20</td>\n",
       "      <td>BOS</td>\n",
       "      <td>67</td>\n",
       "      <td>38</td>\n",
       "      <td>1808</td>\n",
       "      <td>11.0</td>\n",
       "      <td>0.491</td>\n",
       "      <td>...</td>\n",
       "      <td>99</td>\n",
       "      <td>18</td>\n",
       "      <td>90</td>\n",
       "      <td>176</td>\n",
       "      <td>523</td>\n",
       "      <td>7700000</td>\n",
       "      <td>0.0</td>\n",
       "      <td>76.0</td>\n",
       "      <td>220.0</td>\n",
       "      <td>2.0</td>\n",
       "    </tr>\n",
       "    <tr>\n",
       "      <th>5170</th>\n",
       "      <td>2015</td>\n",
       "      <td>Ish Smith</td>\n",
       "      <td>PG</td>\n",
       "      <td>26</td>\n",
       "      <td>TOT</td>\n",
       "      <td>55</td>\n",
       "      <td>14</td>\n",
       "      <td>832</td>\n",
       "      <td>12.3</td>\n",
       "      <td>0.431</td>\n",
       "      <td>...</td>\n",
       "      <td>36</td>\n",
       "      <td>6</td>\n",
       "      <td>78</td>\n",
       "      <td>50</td>\n",
       "      <td>338</td>\n",
       "      <td>0</td>\n",
       "      <td>0.0</td>\n",
       "      <td>0.0</td>\n",
       "      <td>0.0</td>\n",
       "      <td>0.0</td>\n",
       "    </tr>\n",
       "    <tr>\n",
       "      <th>5173</th>\n",
       "      <td>2015</td>\n",
       "      <td>J.R. Smith</td>\n",
       "      <td>SG</td>\n",
       "      <td>29</td>\n",
       "      <td>TOT</td>\n",
       "      <td>70</td>\n",
       "      <td>51</td>\n",
       "      <td>2080</td>\n",
       "      <td>13.6</td>\n",
       "      <td>0.538</td>\n",
       "      <td>...</td>\n",
       "      <td>82</td>\n",
       "      <td>22</td>\n",
       "      <td>97</td>\n",
       "      <td>163</td>\n",
       "      <td>847</td>\n",
       "      <td>0</td>\n",
       "      <td>0.0</td>\n",
       "      <td>0.0</td>\n",
       "      <td>0.0</td>\n",
       "      <td>0.0</td>\n",
       "    </tr>\n",
       "    <tr>\n",
       "      <th>5177</th>\n",
       "      <td>2015</td>\n",
       "      <td>Josh Smith</td>\n",
       "      <td>PF</td>\n",
       "      <td>29</td>\n",
       "      <td>TOT</td>\n",
       "      <td>83</td>\n",
       "      <td>35</td>\n",
       "      <td>2300</td>\n",
       "      <td>14.9</td>\n",
       "      <td>0.467</td>\n",
       "      <td>...</td>\n",
       "      <td>87</td>\n",
       "      <td>116</td>\n",
       "      <td>206</td>\n",
       "      <td>228</td>\n",
       "      <td>1027</td>\n",
       "      <td>0</td>\n",
       "      <td>0.0</td>\n",
       "      <td>0.0</td>\n",
       "      <td>0.0</td>\n",
       "      <td>0.0</td>\n",
       "    </tr>\n",
       "    <tr>\n",
       "      <th>5180</th>\n",
       "      <td>2015</td>\n",
       "      <td>Russ Smith</td>\n",
       "      <td>PG</td>\n",
       "      <td>23</td>\n",
       "      <td>TOT</td>\n",
       "      <td>12</td>\n",
       "      <td>0</td>\n",
       "      <td>65</td>\n",
       "      <td>5.2</td>\n",
       "      <td>0.488</td>\n",
       "      <td>...</td>\n",
       "      <td>3</td>\n",
       "      <td>0</td>\n",
       "      <td>12</td>\n",
       "      <td>13</td>\n",
       "      <td>30</td>\n",
       "      <td>0</td>\n",
       "      <td>0.0</td>\n",
       "      <td>0.0</td>\n",
       "      <td>0.0</td>\n",
       "      <td>0.0</td>\n",
       "    </tr>\n",
       "    <tr>\n",
       "      <th>5181</th>\n",
       "      <td>2015</td>\n",
       "      <td>Russ Smith</td>\n",
       "      <td>PG</td>\n",
       "      <td>23</td>\n",
       "      <td>NOP</td>\n",
       "      <td>6</td>\n",
       "      <td>0</td>\n",
       "      <td>29</td>\n",
       "      <td>-16.6</td>\n",
       "      <td>0.250</td>\n",
       "      <td>...</td>\n",
       "      <td>0</td>\n",
       "      <td>0</td>\n",
       "      <td>7</td>\n",
       "      <td>6</td>\n",
       "      <td>5</td>\n",
       "      <td>0</td>\n",
       "      <td>0.0</td>\n",
       "      <td>72.0</td>\n",
       "      <td>165.0</td>\n",
       "      <td>1.0</td>\n",
       "    </tr>\n",
       "    <tr>\n",
       "      <th>5182</th>\n",
       "      <td>2015</td>\n",
       "      <td>Russ Smith</td>\n",
       "      <td>PG</td>\n",
       "      <td>23</td>\n",
       "      <td>MEM</td>\n",
       "      <td>6</td>\n",
       "      <td>0</td>\n",
       "      <td>36</td>\n",
       "      <td>22.7</td>\n",
       "      <td>0.603</td>\n",
       "      <td>...</td>\n",
       "      <td>3</td>\n",
       "      <td>0</td>\n",
       "      <td>5</td>\n",
       "      <td>7</td>\n",
       "      <td>25</td>\n",
       "      <td>900000</td>\n",
       "      <td>0.0</td>\n",
       "      <td>72.0</td>\n",
       "      <td>165.0</td>\n",
       "      <td>1.0</td>\n",
       "    </tr>\n",
       "    <tr>\n",
       "      <th>5186</th>\n",
       "      <td>2015</td>\n",
       "      <td>Nik Stauskas</td>\n",
       "      <td>SG</td>\n",
       "      <td>21</td>\n",
       "      <td>SAC</td>\n",
       "      <td>73</td>\n",
       "      <td>1</td>\n",
       "      <td>1127</td>\n",
       "      <td>7.5</td>\n",
       "      <td>0.492</td>\n",
       "      <td>...</td>\n",
       "      <td>20</td>\n",
       "      <td>17</td>\n",
       "      <td>40</td>\n",
       "      <td>92</td>\n",
       "      <td>319</td>\n",
       "      <td>900000</td>\n",
       "      <td>0.0</td>\n",
       "      <td>78.0</td>\n",
       "      <td>205.0</td>\n",
       "      <td>2.0</td>\n",
       "    </tr>\n",
       "    <tr>\n",
       "      <th>5189</th>\n",
       "      <td>2015</td>\n",
       "      <td>David Stockton</td>\n",
       "      <td>PG</td>\n",
       "      <td>23</td>\n",
       "      <td>SAC</td>\n",
       "      <td>3</td>\n",
       "      <td>0</td>\n",
       "      <td>33</td>\n",
       "      <td>10.8</td>\n",
       "      <td>0.463</td>\n",
       "      <td>...</td>\n",
       "      <td>2</td>\n",
       "      <td>0</td>\n",
       "      <td>4</td>\n",
       "      <td>1</td>\n",
       "      <td>8</td>\n",
       "      <td>0</td>\n",
       "      <td>0.0</td>\n",
       "      <td>71.0</td>\n",
       "      <td>165.0</td>\n",
       "      <td>1.0</td>\n",
       "    </tr>\n",
       "    <tr>\n",
       "      <th>5190</th>\n",
       "      <td>2015</td>\n",
       "      <td>Jarnell Stokes</td>\n",
       "      <td>PF</td>\n",
       "      <td>21</td>\n",
       "      <td>MEM</td>\n",
       "      <td>19</td>\n",
       "      <td>2</td>\n",
       "      <td>126</td>\n",
       "      <td>18.6</td>\n",
       "      <td>0.578</td>\n",
       "      <td>...</td>\n",
       "      <td>5</td>\n",
       "      <td>5</td>\n",
       "      <td>7</td>\n",
       "      <td>25</td>\n",
       "      <td>57</td>\n",
       "      <td>600000</td>\n",
       "      <td>0.0</td>\n",
       "      <td>81.0</td>\n",
       "      <td>263.0</td>\n",
       "      <td>5.0</td>\n",
       "    </tr>\n",
       "    <tr>\n",
       "      <th>5191</th>\n",
       "      <td>2015</td>\n",
       "      <td>Amar'e Stoudemire</td>\n",
       "      <td>PF</td>\n",
       "      <td>32</td>\n",
       "      <td>TOT</td>\n",
       "      <td>59</td>\n",
       "      <td>15</td>\n",
       "      <td>1245</td>\n",
       "      <td>20.3</td>\n",
       "      <td>0.595</td>\n",
       "      <td>...</td>\n",
       "      <td>29</td>\n",
       "      <td>38</td>\n",
       "      <td>78</td>\n",
       "      <td>161</td>\n",
       "      <td>680</td>\n",
       "      <td>0</td>\n",
       "      <td>0.0</td>\n",
       "      <td>0.0</td>\n",
       "      <td>0.0</td>\n",
       "      <td>0.0</td>\n",
       "    </tr>\n",
       "    <tr>\n",
       "      <th>5202</th>\n",
       "      <td>2015</td>\n",
       "      <td>Isaiah Thomas</td>\n",
       "      <td>PG</td>\n",
       "      <td>25</td>\n",
       "      <td>TOT</td>\n",
       "      <td>67</td>\n",
       "      <td>1</td>\n",
       "      <td>1726</td>\n",
       "      <td>20.6</td>\n",
       "      <td>0.579</td>\n",
       "      <td>...</td>\n",
       "      <td>57</td>\n",
       "      <td>5</td>\n",
       "      <td>143</td>\n",
       "      <td>150</td>\n",
       "      <td>1101</td>\n",
       "      <td>0</td>\n",
       "      <td>0.0</td>\n",
       "      <td>0.0</td>\n",
       "      <td>0.0</td>\n",
       "      <td>0.0</td>\n",
       "    </tr>\n",
       "    <tr>\n",
       "      <th>5205</th>\n",
       "      <td>2015</td>\n",
       "      <td>Lance Thomas</td>\n",
       "      <td>PF-SF</td>\n",
       "      <td>26</td>\n",
       "      <td>TOT</td>\n",
       "      <td>62</td>\n",
       "      <td>37</td>\n",
       "      <td>1490</td>\n",
       "      <td>8.0</td>\n",
       "      <td>0.456</td>\n",
       "      <td>...</td>\n",
       "      <td>37</td>\n",
       "      <td>8</td>\n",
       "      <td>74</td>\n",
       "      <td>101</td>\n",
       "      <td>443</td>\n",
       "      <td>0</td>\n",
       "      <td>0.0</td>\n",
       "      <td>0.0</td>\n",
       "      <td>0.0</td>\n",
       "      <td>0.0</td>\n",
       "    </tr>\n",
       "    <tr>\n",
       "      <th>5214</th>\n",
       "      <td>2015</td>\n",
       "      <td>Marcus Thornton</td>\n",
       "      <td>SG</td>\n",
       "      <td>27</td>\n",
       "      <td>TOT</td>\n",
       "      <td>48</td>\n",
       "      <td>0</td>\n",
       "      <td>721</td>\n",
       "      <td>15.0</td>\n",
       "      <td>0.514</td>\n",
       "      <td>...</td>\n",
       "      <td>27</td>\n",
       "      <td>7</td>\n",
       "      <td>27</td>\n",
       "      <td>38</td>\n",
       "      <td>380</td>\n",
       "      <td>0</td>\n",
       "      <td>0.0</td>\n",
       "      <td>0.0</td>\n",
       "      <td>0.0</td>\n",
       "      <td>0.0</td>\n",
       "    </tr>\n",
       "    <tr>\n",
       "      <th>5217</th>\n",
       "      <td>2015</td>\n",
       "      <td>Anthony Tolliver</td>\n",
       "      <td>PF</td>\n",
       "      <td>29</td>\n",
       "      <td>TOT</td>\n",
       "      <td>76</td>\n",
       "      <td>11</td>\n",
       "      <td>1432</td>\n",
       "      <td>11.1</td>\n",
       "      <td>0.569</td>\n",
       "      <td>...</td>\n",
       "      <td>24</td>\n",
       "      <td>16</td>\n",
       "      <td>51</td>\n",
       "      <td>137</td>\n",
       "      <td>482</td>\n",
       "      <td>0</td>\n",
       "      <td>0.0</td>\n",
       "      <td>0.0</td>\n",
       "      <td>0.0</td>\n",
       "      <td>0.0</td>\n",
       "    </tr>\n",
       "    <tr>\n",
       "      <th>5230</th>\n",
       "      <td>2015</td>\n",
       "      <td>Noah Vonleh</td>\n",
       "      <td>PF</td>\n",
       "      <td>19</td>\n",
       "      <td>CHO</td>\n",
       "      <td>25</td>\n",
       "      <td>0</td>\n",
       "      <td>259</td>\n",
       "      <td>13.2</td>\n",
       "      <td>0.475</td>\n",
       "      <td>...</td>\n",
       "      <td>4</td>\n",
       "      <td>9</td>\n",
       "      <td>11</td>\n",
       "      <td>20</td>\n",
       "      <td>83</td>\n",
       "      <td>0</td>\n",
       "      <td>0.0</td>\n",
       "      <td>82.0</td>\n",
       "      <td>240.0</td>\n",
       "      <td>5.0</td>\n",
       "    </tr>\n",
       "    <tr>\n",
       "      <th>5233</th>\n",
       "      <td>2015</td>\n",
       "      <td>Dion Waiters</td>\n",
       "      <td>SG</td>\n",
       "      <td>23</td>\n",
       "      <td>TOT</td>\n",
       "      <td>80</td>\n",
       "      <td>23</td>\n",
       "      <td>2208</td>\n",
       "      <td>10.9</td>\n",
       "      <td>0.460</td>\n",
       "      <td>...</td>\n",
       "      <td>90</td>\n",
       "      <td>21</td>\n",
       "      <td>113</td>\n",
       "      <td>155</td>\n",
       "      <td>940</td>\n",
       "      <td>0</td>\n",
       "      <td>0.0</td>\n",
       "      <td>0.0</td>\n",
       "      <td>0.0</td>\n",
       "      <td>0.0</td>\n",
       "    </tr>\n",
       "    <tr>\n",
       "      <th>5240</th>\n",
       "      <td>2015</td>\n",
       "      <td>T.J. Warren</td>\n",
       "      <td>SF</td>\n",
       "      <td>21</td>\n",
       "      <td>PHO</td>\n",
       "      <td>40</td>\n",
       "      <td>1</td>\n",
       "      <td>614</td>\n",
       "      <td>14.0</td>\n",
       "      <td>0.551</td>\n",
       "      <td>...</td>\n",
       "      <td>18</td>\n",
       "      <td>9</td>\n",
       "      <td>27</td>\n",
       "      <td>51</td>\n",
       "      <td>245</td>\n",
       "      <td>700000</td>\n",
       "      <td>0.0</td>\n",
       "      <td>80.0</td>\n",
       "      <td>230.0</td>\n",
       "      <td>3.0</td>\n",
       "    </tr>\n",
       "    <tr>\n",
       "      <th>5242</th>\n",
       "      <td>2015</td>\n",
       "      <td>David Wear</td>\n",
       "      <td>PF</td>\n",
       "      <td>24</td>\n",
       "      <td>SAC</td>\n",
       "      <td>2</td>\n",
       "      <td>0</td>\n",
       "      <td>7</td>\n",
       "      <td>2.4</td>\n",
       "      <td>0.000</td>\n",
       "      <td>...</td>\n",
       "      <td>0</td>\n",
       "      <td>0</td>\n",
       "      <td>0</td>\n",
       "      <td>1</td>\n",
       "      <td>0</td>\n",
       "      <td>0</td>\n",
       "      <td>0.0</td>\n",
       "      <td>82.0</td>\n",
       "      <td>230.0</td>\n",
       "      <td>4.0</td>\n",
       "    </tr>\n",
       "    <tr>\n",
       "      <th>5243</th>\n",
       "      <td>2015</td>\n",
       "      <td>Travis Wear</td>\n",
       "      <td>SF</td>\n",
       "      <td>24</td>\n",
       "      <td>NYK</td>\n",
       "      <td>51</td>\n",
       "      <td>1</td>\n",
       "      <td>672</td>\n",
       "      <td>8.5</td>\n",
       "      <td>0.451</td>\n",
       "      <td>...</td>\n",
       "      <td>15</td>\n",
       "      <td>11</td>\n",
       "      <td>35</td>\n",
       "      <td>55</td>\n",
       "      <td>199</td>\n",
       "      <td>0</td>\n",
       "      <td>0.0</td>\n",
       "      <td>82.0</td>\n",
       "      <td>230.0</td>\n",
       "      <td>4.0</td>\n",
       "    </tr>\n",
       "    <tr>\n",
       "      <th>5248</th>\n",
       "      <td>2015</td>\n",
       "      <td>Shayne Whittington</td>\n",
       "      <td>PF</td>\n",
       "      <td>23</td>\n",
       "      <td>IND</td>\n",
       "      <td>20</td>\n",
       "      <td>0</td>\n",
       "      <td>108</td>\n",
       "      <td>20.0</td>\n",
       "      <td>0.547</td>\n",
       "      <td>...</td>\n",
       "      <td>5</td>\n",
       "      <td>2</td>\n",
       "      <td>5</td>\n",
       "      <td>18</td>\n",
       "      <td>57</td>\n",
       "      <td>900000</td>\n",
       "      <td>0.0</td>\n",
       "      <td>83.0</td>\n",
       "      <td>250.0</td>\n",
       "      <td>5.0</td>\n",
       "    </tr>\n",
       "    <tr>\n",
       "      <th>5249</th>\n",
       "      <td>2015</td>\n",
       "      <td>Andrew Wiggins</td>\n",
       "      <td>SF</td>\n",
       "      <td>19</td>\n",
       "      <td>MIN</td>\n",
       "      <td>82</td>\n",
       "      <td>82</td>\n",
       "      <td>2969</td>\n",
       "      <td>13.9</td>\n",
       "      <td>0.517</td>\n",
       "      <td>...</td>\n",
       "      <td>86</td>\n",
       "      <td>50</td>\n",
       "      <td>177</td>\n",
       "      <td>190</td>\n",
       "      <td>1387</td>\n",
       "      <td>2700000</td>\n",
       "      <td>0.0</td>\n",
       "      <td>80.0</td>\n",
       "      <td>199.0</td>\n",
       "      <td>3.0</td>\n",
       "    </tr>\n",
       "    <tr>\n",
       "      <th>5250</th>\n",
       "      <td>2015</td>\n",
       "      <td>C.J. Wilcox</td>\n",
       "      <td>SG</td>\n",
       "      <td>24</td>\n",
       "      <td>LAC</td>\n",
       "      <td>21</td>\n",
       "      <td>0</td>\n",
       "      <td>101</td>\n",
       "      <td>8.5</td>\n",
       "      <td>0.527</td>\n",
       "      <td>...</td>\n",
       "      <td>3</td>\n",
       "      <td>1</td>\n",
       "      <td>10</td>\n",
       "      <td>7</td>\n",
       "      <td>41</td>\n",
       "      <td>0</td>\n",
       "      <td>0.0</td>\n",
       "      <td>77.0</td>\n",
       "      <td>195.0</td>\n",
       "      <td>2.0</td>\n",
       "    </tr>\n",
       "    <tr>\n",
       "      <th>5253</th>\n",
       "      <td>2015</td>\n",
       "      <td>Elliot Williams</td>\n",
       "      <td>SG</td>\n",
       "      <td>25</td>\n",
       "      <td>TOT</td>\n",
       "      <td>13</td>\n",
       "      <td>0</td>\n",
       "      <td>119</td>\n",
       "      <td>8.7</td>\n",
       "      <td>0.477</td>\n",
       "      <td>...</td>\n",
       "      <td>4</td>\n",
       "      <td>0</td>\n",
       "      <td>4</td>\n",
       "      <td>12</td>\n",
       "      <td>37</td>\n",
       "      <td>0</td>\n",
       "      <td>0.0</td>\n",
       "      <td>0.0</td>\n",
       "      <td>0.0</td>\n",
       "      <td>0.0</td>\n",
       "    </tr>\n",
       "    <tr>\n",
       "      <th>5258</th>\n",
       "      <td>2015</td>\n",
       "      <td>Mo Williams</td>\n",
       "      <td>PG</td>\n",
       "      <td>32</td>\n",
       "      <td>TOT</td>\n",
       "      <td>68</td>\n",
       "      <td>33</td>\n",
       "      <td>1980</td>\n",
       "      <td>15.4</td>\n",
       "      <td>0.512</td>\n",
       "      <td>...</td>\n",
       "      <td>46</td>\n",
       "      <td>14</td>\n",
       "      <td>172</td>\n",
       "      <td>162</td>\n",
       "      <td>964</td>\n",
       "      <td>0</td>\n",
       "      <td>0.0</td>\n",
       "      <td>0.0</td>\n",
       "      <td>0.0</td>\n",
       "      <td>0.0</td>\n",
       "    </tr>\n",
       "    <tr>\n",
       "      <th>5262</th>\n",
       "      <td>2015</td>\n",
       "      <td>Shawne Williams</td>\n",
       "      <td>SF</td>\n",
       "      <td>28</td>\n",
       "      <td>TOT</td>\n",
       "      <td>63</td>\n",
       "      <td>22</td>\n",
       "      <td>1087</td>\n",
       "      <td>10.5</td>\n",
       "      <td>0.537</td>\n",
       "      <td>...</td>\n",
       "      <td>25</td>\n",
       "      <td>21</td>\n",
       "      <td>30</td>\n",
       "      <td>135</td>\n",
       "      <td>341</td>\n",
       "      <td>0</td>\n",
       "      <td>0.0</td>\n",
       "      <td>0.0</td>\n",
       "      <td>0.0</td>\n",
       "      <td>0.0</td>\n",
       "    </tr>\n",
       "    <tr>\n",
       "      <th>5266</th>\n",
       "      <td>2015</td>\n",
       "      <td>Nate Wolters</td>\n",
       "      <td>PG</td>\n",
       "      <td>23</td>\n",
       "      <td>TOT</td>\n",
       "      <td>21</td>\n",
       "      <td>0</td>\n",
       "      <td>247</td>\n",
       "      <td>4.6</td>\n",
       "      <td>0.352</td>\n",
       "      <td>...</td>\n",
       "      <td>8</td>\n",
       "      <td>2</td>\n",
       "      <td>13</td>\n",
       "      <td>18</td>\n",
       "      <td>42</td>\n",
       "      <td>0</td>\n",
       "      <td>0.0</td>\n",
       "      <td>0.0</td>\n",
       "      <td>0.0</td>\n",
       "      <td>0.0</td>\n",
       "    </tr>\n",
       "    <tr>\n",
       "      <th>5269</th>\n",
       "      <td>2015</td>\n",
       "      <td>Brandan Wright</td>\n",
       "      <td>PF</td>\n",
       "      <td>27</td>\n",
       "      <td>TOT</td>\n",
       "      <td>75</td>\n",
       "      <td>7</td>\n",
       "      <td>1449</td>\n",
       "      <td>20.4</td>\n",
       "      <td>0.660</td>\n",
       "      <td>...</td>\n",
       "      <td>50</td>\n",
       "      <td>94</td>\n",
       "      <td>34</td>\n",
       "      <td>102</td>\n",
       "      <td>544</td>\n",
       "      <td>0</td>\n",
       "      <td>0.0</td>\n",
       "      <td>0.0</td>\n",
       "      <td>0.0</td>\n",
       "      <td>0.0</td>\n",
       "    </tr>\n",
       "    <tr>\n",
       "      <th>5275</th>\n",
       "      <td>2015</td>\n",
       "      <td>James Young</td>\n",
       "      <td>SG</td>\n",
       "      <td>19</td>\n",
       "      <td>BOS</td>\n",
       "      <td>31</td>\n",
       "      <td>0</td>\n",
       "      <td>332</td>\n",
       "      <td>8.5</td>\n",
       "      <td>0.457</td>\n",
       "      <td>...</td>\n",
       "      <td>8</td>\n",
       "      <td>2</td>\n",
       "      <td>5</td>\n",
       "      <td>22</td>\n",
       "      <td>105</td>\n",
       "      <td>0</td>\n",
       "      <td>0.0</td>\n",
       "      <td>78.0</td>\n",
       "      <td>215.0</td>\n",
       "      <td>3.0</td>\n",
       "    </tr>\n",
       "    <tr>\n",
       "      <th>5277</th>\n",
       "      <td>2015</td>\n",
       "      <td>Thaddeus Young</td>\n",
       "      <td>PF</td>\n",
       "      <td>26</td>\n",
       "      <td>TOT</td>\n",
       "      <td>76</td>\n",
       "      <td>68</td>\n",
       "      <td>2434</td>\n",
       "      <td>15.7</td>\n",
       "      <td>0.507</td>\n",
       "      <td>...</td>\n",
       "      <td>124</td>\n",
       "      <td>25</td>\n",
       "      <td>117</td>\n",
       "      <td>171</td>\n",
       "      <td>1071</td>\n",
       "      <td>0</td>\n",
       "      <td>0.0</td>\n",
       "      <td>0.0</td>\n",
       "      <td>0.0</td>\n",
       "      <td>0.0</td>\n",
       "    </tr>\n",
       "  </tbody>\n",
       "</table>\n",
       "<p>1285 rows × 57 columns</p>\n",
       "</div>"
      ],
      "text/plain": [
       "      Year              Player    Pos  Age   Tm   G  GS    MP   PER    TS%  \\\n",
       "1     2007        Hassan Adams     SG   22  NJN  61   8   495  13.0  0.577   \n",
       "2     2007        Maurice Ager     SG   22  DAL  32   1   214   2.9  0.408   \n",
       "3     2007   LaMarcus Aldridge      C   21  POR  63  22  1392  17.1  0.533   \n",
       "8     2007        Lou Amundson     PF   24  TOT  11   0    89   9.6  0.412   \n",
       "10    2007        Lou Amundson     PF   24  PHI  10   0    87   9.8  0.412   \n",
       "18    2007    Hilton Armstrong      C   22  NOK  56   5   634  12.2  0.570   \n",
       "21    2007     James Augustine     PF   22  ORL   2   0     7  16.6  0.333   \n",
       "22    2007    Kelenna Azubuike     SG   23  GSW  41   9   669  13.4  0.572   \n",
       "23    2007     Renaldo Balkman     SF   22  NYK  68   1  1064  16.1  0.531   \n",
       "26    2007          J.J. Barea     PG   22  DAL  33   1   191   9.6  0.440   \n",
       "27    2007     Andrea Bargnani     PF   21  TOR  65   2  1629  12.8  0.546   \n",
       "42    2007         Steve Blake     PG   26  TOT  82  42  2225   9.9  0.491   \n",
       "45    2007        Will Blalock     PG   23  DET  14   0   166   4.5  0.383   \n",
       "51    2007          Josh Boone     PF   22  NJN  61   0   669  14.6  0.587   \n",
       "56    2007        Earl Boykins     PG   30  TOT  66  23  2031  16.2  0.548   \n",
       "59    2007      Cedric Bozeman     SG   23  ATL  23   5   199  -0.1  0.312   \n",
       "61    2007       Ronnie Brewer     SG   21  UTA  56  14   675  15.2  0.566   \n",
       "63    2007         Andre Brown     PF   25  SEA  38   0   271  11.1  0.577   \n",
       "64    2007           Dee Brown     PG   22  UTA  49   0   450   8.6  0.411   \n",
       "68    2007       Shannon Brown     SG   21  CLE  23   5   202   7.5  0.455   \n",
       "79    2007       Rodney Carney     SF   22  PHI  67  35  1169  11.4  0.514   \n",
       "91    2007       Mardy Collins     SF   22  NYK  52   9   777   9.2  0.445   \n",
       "93    2007         Will Conroy  PG-SG   24  TOT   7   0    52   1.1  0.000   \n",
       "95    2007         Will Conroy     PG   24  LAC   4   0    35  -0.4  0.000   \n",
       "106   2007          Paul Davis      C   22  LAC  31   0   180  11.2  0.452   \n",
       "111   2007    Yakhouba Diawara     SG   24  DEN  64  19  1177   5.3  0.450   \n",
       "114   2007           Ike Diogu     PF   23  TOT  59   2   760  14.9  0.559   \n",
       "118   2007          Juan Dixon     SG   28  TOT  81   6  1926  11.8  0.516   \n",
       "123   2007        Quincy Douby     PG   22  SAC  42   0   359   9.0  0.449   \n",
       "126   2007       Mike Dunleavy  SG-PF   26  TOT  82  49  2580  14.1  0.542   \n",
       "...    ...                 ...    ...  ...  ...  ..  ..   ...   ...    ...   \n",
       "5168  2015        Marcus Smart     PG   20  BOS  67  38  1808  11.0  0.491   \n",
       "5170  2015           Ish Smith     PG   26  TOT  55  14   832  12.3  0.431   \n",
       "5173  2015          J.R. Smith     SG   29  TOT  70  51  2080  13.6  0.538   \n",
       "5177  2015          Josh Smith     PF   29  TOT  83  35  2300  14.9  0.467   \n",
       "5180  2015          Russ Smith     PG   23  TOT  12   0    65   5.2  0.488   \n",
       "5181  2015          Russ Smith     PG   23  NOP   6   0    29 -16.6  0.250   \n",
       "5182  2015          Russ Smith     PG   23  MEM   6   0    36  22.7  0.603   \n",
       "5186  2015        Nik Stauskas     SG   21  SAC  73   1  1127   7.5  0.492   \n",
       "5189  2015      David Stockton     PG   23  SAC   3   0    33  10.8  0.463   \n",
       "5190  2015      Jarnell Stokes     PF   21  MEM  19   2   126  18.6  0.578   \n",
       "5191  2015   Amar'e Stoudemire     PF   32  TOT  59  15  1245  20.3  0.595   \n",
       "5202  2015       Isaiah Thomas     PG   25  TOT  67   1  1726  20.6  0.579   \n",
       "5205  2015        Lance Thomas  PF-SF   26  TOT  62  37  1490   8.0  0.456   \n",
       "5214  2015     Marcus Thornton     SG   27  TOT  48   0   721  15.0  0.514   \n",
       "5217  2015    Anthony Tolliver     PF   29  TOT  76  11  1432  11.1  0.569   \n",
       "5230  2015         Noah Vonleh     PF   19  CHO  25   0   259  13.2  0.475   \n",
       "5233  2015        Dion Waiters     SG   23  TOT  80  23  2208  10.9  0.460   \n",
       "5240  2015         T.J. Warren     SF   21  PHO  40   1   614  14.0  0.551   \n",
       "5242  2015          David Wear     PF   24  SAC   2   0     7   2.4  0.000   \n",
       "5243  2015         Travis Wear     SF   24  NYK  51   1   672   8.5  0.451   \n",
       "5248  2015  Shayne Whittington     PF   23  IND  20   0   108  20.0  0.547   \n",
       "5249  2015      Andrew Wiggins     SF   19  MIN  82  82  2969  13.9  0.517   \n",
       "5250  2015         C.J. Wilcox     SG   24  LAC  21   0   101   8.5  0.527   \n",
       "5253  2015     Elliot Williams     SG   25  TOT  13   0   119   8.7  0.477   \n",
       "5258  2015         Mo Williams     PG   32  TOT  68  33  1980  15.4  0.512   \n",
       "5262  2015     Shawne Williams     SF   28  TOT  63  22  1087  10.5  0.537   \n",
       "5266  2015        Nate Wolters     PG   23  TOT  21   0   247   4.6  0.352   \n",
       "5269  2015      Brandan Wright     PF   27  TOT  75   7  1449  20.4  0.660   \n",
       "5275  2015         James Young     SG   19  BOS  31   0   332   8.5  0.457   \n",
       "5277  2015      Thaddeus Young     PF   26  TOT  76  68  2434  15.7  0.507   \n",
       "\n",
       "           ...         STL  BLK  TOV   PF   PTS  TrueSalary  YrsExperience  \\\n",
       "1          ...          17    4   22   47   174           0            0.0   \n",
       "2          ...           4    3   15   27    69           0            0.0   \n",
       "3          ...          22   73   43  186   565     1900000            0.0   \n",
       "8          ...           1    8    5   15    16           0            0.0   \n",
       "10         ...           1    8    5   15    16           0            0.0   \n",
       "18         ...          12   26   35   79   176      700000            0.0   \n",
       "21         ...           0    0    0    2     2           0            0.0   \n",
       "22         ...          22   10   39   49   291      700000            0.0   \n",
       "23         ...          57   44   49  146   334     3100000            0.0   \n",
       "26         ...           1    1   14   19    78           0            0.0   \n",
       "27         ...          32   53  107  180   751     2400000            0.0   \n",
       "42         ...          61    8  129  121   528           0            0.0   \n",
       "45         ...           5    0   12    9    25           0            0.0   \n",
       "51         ...          11   21   33   94   254           0            0.0   \n",
       "56         ...          56    2  120   92   961           0            0.0   \n",
       "59         ...           5    2    9   32    26           0            0.0   \n",
       "61         ...          37    6   24   44   260     1500000            0.0   \n",
       "63         ...           6    4   29   26    93           0            0.0   \n",
       "64         ...          22    7   31   51    94      900000            0.0   \n",
       "68         ...           7    3   14   24    73           0            0.0   \n",
       "79         ...          38   23   43  118   442      700000            0.0   \n",
       "91         ...          32    3   57   75   235      900000            0.0   \n",
       "93         ...           0    0    2    7     0           0            0.0   \n",
       "95         ...           0    0    2    6     0           0            0.0   \n",
       "106        ...           6    5    8   28    51           0            0.0   \n",
       "111        ...          30    7   37  132   284      700000            0.0   \n",
       "114        ...           8   26   67  122   366           0            0.0   \n",
       "118        ...          76    9  101  177   778           0            0.0   \n",
       "123        ...          15    4   15   21   119           0            0.0   \n",
       "126        ...          84   22  149  203  1049           0            0.0   \n",
       "...        ...         ...  ...  ...  ...   ...         ...            ...   \n",
       "5168       ...          99   18   90  176   523     7700000            0.0   \n",
       "5170       ...          36    6   78   50   338           0            0.0   \n",
       "5173       ...          82   22   97  163   847           0            0.0   \n",
       "5177       ...          87  116  206  228  1027           0            0.0   \n",
       "5180       ...           3    0   12   13    30           0            0.0   \n",
       "5181       ...           0    0    7    6     5           0            0.0   \n",
       "5182       ...           3    0    5    7    25      900000            0.0   \n",
       "5186       ...          20   17   40   92   319      900000            0.0   \n",
       "5189       ...           2    0    4    1     8           0            0.0   \n",
       "5190       ...           5    5    7   25    57      600000            0.0   \n",
       "5191       ...          29   38   78  161   680           0            0.0   \n",
       "5202       ...          57    5  143  150  1101           0            0.0   \n",
       "5205       ...          37    8   74  101   443           0            0.0   \n",
       "5214       ...          27    7   27   38   380           0            0.0   \n",
       "5217       ...          24   16   51  137   482           0            0.0   \n",
       "5230       ...           4    9   11   20    83           0            0.0   \n",
       "5233       ...          90   21  113  155   940           0            0.0   \n",
       "5240       ...          18    9   27   51   245      700000            0.0   \n",
       "5242       ...           0    0    0    1     0           0            0.0   \n",
       "5243       ...          15   11   35   55   199           0            0.0   \n",
       "5248       ...           5    2    5   18    57      900000            0.0   \n",
       "5249       ...          86   50  177  190  1387     2700000            0.0   \n",
       "5250       ...           3    1   10    7    41           0            0.0   \n",
       "5253       ...           4    0    4   12    37           0            0.0   \n",
       "5258       ...          46   14  172  162   964           0            0.0   \n",
       "5262       ...          25   21   30  135   341           0            0.0   \n",
       "5266       ...           8    2   13   18    42           0            0.0   \n",
       "5269       ...          50   94   34  102   544           0            0.0   \n",
       "5275       ...           8    2    5   22   105           0            0.0   \n",
       "5277       ...         124   25  117  171  1071           0            0.0   \n",
       "\n",
       "      Height  Weight  RoundedPosition  \n",
       "1       76.0   220.0              2.0  \n",
       "2       77.0   202.0              2.0  \n",
       "3       83.0   240.0              5.0  \n",
       "8        0.0     0.0              0.0  \n",
       "10       0.0     0.0              0.0  \n",
       "18      83.0   235.0              5.0  \n",
       "21      82.0   235.0              4.0  \n",
       "22      77.0   220.0              2.0  \n",
       "23      80.0   208.0              4.0  \n",
       "26       0.0     0.0              0.0  \n",
       "27      84.0   225.0              4.0  \n",
       "42       0.0     0.0              0.0  \n",
       "45      72.0   205.0              1.0  \n",
       "51      82.0   237.0              4.0  \n",
       "56       0.0     0.0              0.0  \n",
       "59      78.0   207.0              2.0  \n",
       "61      79.0   220.0              3.0  \n",
       "63      81.0   245.0              4.0  \n",
       "64      72.0   185.0              1.0  \n",
       "68      76.0   205.0              2.0  \n",
       "79      79.0   205.0              3.0  \n",
       "91      78.0   220.0              2.0  \n",
       "93       0.0     0.0              0.0  \n",
       "95      74.0   195.0              1.0  \n",
       "106     83.0   270.0              5.0  \n",
       "111     79.0   225.0              3.0  \n",
       "114      0.0     0.0              0.0  \n",
       "118      0.0     0.0              0.0  \n",
       "123     75.0   175.0              1.0  \n",
       "126      0.0     0.0              0.0  \n",
       "...      ...     ...              ...  \n",
       "5168    76.0   220.0              2.0  \n",
       "5170     0.0     0.0              0.0  \n",
       "5173     0.0     0.0              0.0  \n",
       "5177     0.0     0.0              0.0  \n",
       "5180     0.0     0.0              0.0  \n",
       "5181    72.0   165.0              1.0  \n",
       "5182    72.0   165.0              1.0  \n",
       "5186    78.0   205.0              2.0  \n",
       "5189    71.0   165.0              1.0  \n",
       "5190    81.0   263.0              5.0  \n",
       "5191     0.0     0.0              0.0  \n",
       "5202     0.0     0.0              0.0  \n",
       "5205     0.0     0.0              0.0  \n",
       "5214     0.0     0.0              0.0  \n",
       "5217     0.0     0.0              0.0  \n",
       "5230    82.0   240.0              5.0  \n",
       "5233     0.0     0.0              0.0  \n",
       "5240    80.0   230.0              3.0  \n",
       "5242    82.0   230.0              4.0  \n",
       "5243    82.0   230.0              4.0  \n",
       "5248    83.0   250.0              5.0  \n",
       "5249    80.0   199.0              3.0  \n",
       "5250    77.0   195.0              2.0  \n",
       "5253     0.0     0.0              0.0  \n",
       "5258     0.0     0.0              0.0  \n",
       "5262     0.0     0.0              0.0  \n",
       "5266     0.0     0.0              0.0  \n",
       "5269     0.0     0.0              0.0  \n",
       "5275    78.0   215.0              3.0  \n",
       "5277     0.0     0.0              0.0  \n",
       "\n",
       "[1285 rows x 57 columns]"
      ]
     },
     "execution_count": 25,
     "metadata": {},
     "output_type": "execute_result"
    }
   ],
   "source": [
    "df = pd.read_csv('cleaned_data.csv')\n",
    "df = df[np.isfinite(df['WS/48'])]\n",
    "df = df[np.isfinite(df['FG%'])]\n",
    "df = df[np.isfinite(df['YrsExperience'])]\n",
    "noExp_df = df.loc[(df['YrsExperience'] == 0) & (df['Year'] != 2016)]\n",
    "noExp_df"
   ]
  },
  {
   "cell_type": "code",
   "execution_count": 26,
   "metadata": {},
   "outputs": [],
   "source": [
    "noExp = noExp_df['Player']"
   ]
  },
  {
   "cell_type": "code",
   "execution_count": 27,
   "metadata": {},
   "outputs": [
    {
     "data": {
      "text/html": [
       "<div>\n",
       "<style>\n",
       "    .dataframe thead tr:only-child th {\n",
       "        text-align: right;\n",
       "    }\n",
       "\n",
       "    .dataframe thead th {\n",
       "        text-align: left;\n",
       "    }\n",
       "\n",
       "    .dataframe tbody tr th {\n",
       "        vertical-align: top;\n",
       "    }\n",
       "</style>\n",
       "<table border=\"1\" class=\"dataframe\">\n",
       "  <thead>\n",
       "    <tr style=\"text-align: right;\">\n",
       "      <th></th>\n",
       "      <th>Year</th>\n",
       "      <th>Player</th>\n",
       "      <th>Pos</th>\n",
       "      <th>Age</th>\n",
       "      <th>Tm</th>\n",
       "      <th>G</th>\n",
       "      <th>GS</th>\n",
       "      <th>MP</th>\n",
       "      <th>PER</th>\n",
       "      <th>TS%</th>\n",
       "      <th>...</th>\n",
       "      <th>STL</th>\n",
       "      <th>BLK</th>\n",
       "      <th>TOV</th>\n",
       "      <th>PF</th>\n",
       "      <th>PTS</th>\n",
       "      <th>TrueSalary</th>\n",
       "      <th>YrsExperience</th>\n",
       "      <th>Height</th>\n",
       "      <th>Weight</th>\n",
       "      <th>RoundedPosition</th>\n",
       "    </tr>\n",
       "  </thead>\n",
       "  <tbody>\n",
       "    <tr>\n",
       "      <th>519</th>\n",
       "      <td>2008</td>\n",
       "      <td>Maurice Ager</td>\n",
       "      <td>SG</td>\n",
       "      <td>23</td>\n",
       "      <td>DAL</td>\n",
       "      <td>12</td>\n",
       "      <td>3</td>\n",
       "      <td>77</td>\n",
       "      <td>-4.4</td>\n",
       "      <td>0.253</td>\n",
       "      <td>...</td>\n",
       "      <td>0</td>\n",
       "      <td>1</td>\n",
       "      <td>3</td>\n",
       "      <td>11</td>\n",
       "      <td>15</td>\n",
       "      <td>0</td>\n",
       "      <td>1.0</td>\n",
       "      <td>77.0</td>\n",
       "      <td>202.0</td>\n",
       "      <td>2.0</td>\n",
       "    </tr>\n",
       "    <tr>\n",
       "      <th>520</th>\n",
       "      <td>2008</td>\n",
       "      <td>Maurice Ager</td>\n",
       "      <td>SG</td>\n",
       "      <td>23</td>\n",
       "      <td>NJN</td>\n",
       "      <td>14</td>\n",
       "      <td>0</td>\n",
       "      <td>88</td>\n",
       "      <td>7.1</td>\n",
       "      <td>0.443</td>\n",
       "      <td>...</td>\n",
       "      <td>0</td>\n",
       "      <td>0</td>\n",
       "      <td>3</td>\n",
       "      <td>6</td>\n",
       "      <td>36</td>\n",
       "      <td>0</td>\n",
       "      <td>1.0</td>\n",
       "      <td>77.0</td>\n",
       "      <td>202.0</td>\n",
       "      <td>2.0</td>\n",
       "    </tr>\n",
       "    <tr>\n",
       "      <th>522</th>\n",
       "      <td>2008</td>\n",
       "      <td>LaMarcus Aldridge</td>\n",
       "      <td>PF</td>\n",
       "      <td>22</td>\n",
       "      <td>POR</td>\n",
       "      <td>76</td>\n",
       "      <td>76</td>\n",
       "      <td>2649</td>\n",
       "      <td>18.5</td>\n",
       "      <td>0.523</td>\n",
       "      <td>...</td>\n",
       "      <td>55</td>\n",
       "      <td>94</td>\n",
       "      <td>126</td>\n",
       "      <td>240</td>\n",
       "      <td>1350</td>\n",
       "      <td>10100000</td>\n",
       "      <td>1.0</td>\n",
       "      <td>83.0</td>\n",
       "      <td>240.0</td>\n",
       "      <td>4.0</td>\n",
       "    </tr>\n",
       "    <tr>\n",
       "      <th>541</th>\n",
       "      <td>2008</td>\n",
       "      <td>Hilton Armstrong</td>\n",
       "      <td>C</td>\n",
       "      <td>23</td>\n",
       "      <td>NOH</td>\n",
       "      <td>65</td>\n",
       "      <td>3</td>\n",
       "      <td>732</td>\n",
       "      <td>7.7</td>\n",
       "      <td>0.498</td>\n",
       "      <td>...</td>\n",
       "      <td>15</td>\n",
       "      <td>34</td>\n",
       "      <td>59</td>\n",
       "      <td>130</td>\n",
       "      <td>178</td>\n",
       "      <td>600000</td>\n",
       "      <td>1.0</td>\n",
       "      <td>83.0</td>\n",
       "      <td>235.0</td>\n",
       "      <td>5.0</td>\n",
       "    </tr>\n",
       "    <tr>\n",
       "      <th>544</th>\n",
       "      <td>2008</td>\n",
       "      <td>James Augustine</td>\n",
       "      <td>PF</td>\n",
       "      <td>23</td>\n",
       "      <td>ORL</td>\n",
       "      <td>25</td>\n",
       "      <td>0</td>\n",
       "      <td>149</td>\n",
       "      <td>10.8</td>\n",
       "      <td>0.533</td>\n",
       "      <td>...</td>\n",
       "      <td>5</td>\n",
       "      <td>2</td>\n",
       "      <td>6</td>\n",
       "      <td>18</td>\n",
       "      <td>40</td>\n",
       "      <td>900000</td>\n",
       "      <td>1.0</td>\n",
       "      <td>82.0</td>\n",
       "      <td>235.0</td>\n",
       "      <td>4.0</td>\n",
       "    </tr>\n",
       "    <tr>\n",
       "      <th>545</th>\n",
       "      <td>2008</td>\n",
       "      <td>Kelenna Azubuike</td>\n",
       "      <td>SG</td>\n",
       "      <td>24</td>\n",
       "      <td>GSW</td>\n",
       "      <td>81</td>\n",
       "      <td>17</td>\n",
       "      <td>1732</td>\n",
       "      <td>13.5</td>\n",
       "      <td>0.534</td>\n",
       "      <td>...</td>\n",
       "      <td>45</td>\n",
       "      <td>34</td>\n",
       "      <td>58</td>\n",
       "      <td>159</td>\n",
       "      <td>692</td>\n",
       "      <td>2200000</td>\n",
       "      <td>1.0</td>\n",
       "      <td>77.0</td>\n",
       "      <td>220.0</td>\n",
       "      <td>3.0</td>\n",
       "    </tr>\n",
       "    <tr>\n",
       "      <th>546</th>\n",
       "      <td>2008</td>\n",
       "      <td>Renaldo Balkman</td>\n",
       "      <td>SF</td>\n",
       "      <td>23</td>\n",
       "      <td>NYK</td>\n",
       "      <td>65</td>\n",
       "      <td>0</td>\n",
       "      <td>952</td>\n",
       "      <td>11.5</td>\n",
       "      <td>0.492</td>\n",
       "      <td>...</td>\n",
       "      <td>44</td>\n",
       "      <td>30</td>\n",
       "      <td>37</td>\n",
       "      <td>132</td>\n",
       "      <td>224</td>\n",
       "      <td>800000</td>\n",
       "      <td>1.0</td>\n",
       "      <td>80.0</td>\n",
       "      <td>208.0</td>\n",
       "      <td>3.0</td>\n",
       "    </tr>\n",
       "    <tr>\n",
       "      <th>552</th>\n",
       "      <td>2008</td>\n",
       "      <td>Andrea Bargnani</td>\n",
       "      <td>PF</td>\n",
       "      <td>22</td>\n",
       "      <td>TOR</td>\n",
       "      <td>78</td>\n",
       "      <td>53</td>\n",
       "      <td>1861</td>\n",
       "      <td>10.6</td>\n",
       "      <td>0.495</td>\n",
       "      <td>...</td>\n",
       "      <td>23</td>\n",
       "      <td>37</td>\n",
       "      <td>88</td>\n",
       "      <td>211</td>\n",
       "      <td>792</td>\n",
       "      <td>1300000</td>\n",
       "      <td>1.0</td>\n",
       "      <td>84.0</td>\n",
       "      <td>225.0</td>\n",
       "      <td>4.0</td>\n",
       "    </tr>\n",
       "    <tr>\n",
       "      <th>574</th>\n",
       "      <td>2008</td>\n",
       "      <td>Josh Boone</td>\n",
       "      <td>PF</td>\n",
       "      <td>23</td>\n",
       "      <td>NJN</td>\n",
       "      <td>70</td>\n",
       "      <td>53</td>\n",
       "      <td>1773</td>\n",
       "      <td>14.8</td>\n",
       "      <td>0.543</td>\n",
       "      <td>...</td>\n",
       "      <td>36</td>\n",
       "      <td>61</td>\n",
       "      <td>68</td>\n",
       "      <td>155</td>\n",
       "      <td>575</td>\n",
       "      <td>2000000</td>\n",
       "      <td>1.0</td>\n",
       "      <td>82.0</td>\n",
       "      <td>237.0</td>\n",
       "      <td>5.0</td>\n",
       "    </tr>\n",
       "    <tr>\n",
       "      <th>583</th>\n",
       "      <td>2008</td>\n",
       "      <td>Ronnie Brewer</td>\n",
       "      <td>SG</td>\n",
       "      <td>22</td>\n",
       "      <td>UTA</td>\n",
       "      <td>76</td>\n",
       "      <td>76</td>\n",
       "      <td>2088</td>\n",
       "      <td>18.4</td>\n",
       "      <td>0.612</td>\n",
       "      <td>...</td>\n",
       "      <td>129</td>\n",
       "      <td>19</td>\n",
       "      <td>69</td>\n",
       "      <td>110</td>\n",
       "      <td>914</td>\n",
       "      <td>15900000</td>\n",
       "      <td>1.0</td>\n",
       "      <td>79.0</td>\n",
       "      <td>220.0</td>\n",
       "      <td>3.0</td>\n",
       "    </tr>\n",
       "    <tr>\n",
       "      <th>589</th>\n",
       "      <td>2008</td>\n",
       "      <td>Andre Brown</td>\n",
       "      <td>PF</td>\n",
       "      <td>26</td>\n",
       "      <td>MEM</td>\n",
       "      <td>33</td>\n",
       "      <td>1</td>\n",
       "      <td>286</td>\n",
       "      <td>13.5</td>\n",
       "      <td>0.502</td>\n",
       "      <td>...</td>\n",
       "      <td>7</td>\n",
       "      <td>4</td>\n",
       "      <td>14</td>\n",
       "      <td>38</td>\n",
       "      <td>100</td>\n",
       "      <td>0</td>\n",
       "      <td>1.0</td>\n",
       "      <td>81.0</td>\n",
       "      <td>245.0</td>\n",
       "      <td>4.0</td>\n",
       "    </tr>\n",
       "    <tr>\n",
       "      <th>596</th>\n",
       "      <td>2008</td>\n",
       "      <td>Shannon Brown</td>\n",
       "      <td>SG</td>\n",
       "      <td>22</td>\n",
       "      <td>CLE</td>\n",
       "      <td>15</td>\n",
       "      <td>4</td>\n",
       "      <td>218</td>\n",
       "      <td>8.1</td>\n",
       "      <td>0.433</td>\n",
       "      <td>...</td>\n",
       "      <td>10</td>\n",
       "      <td>1</td>\n",
       "      <td>19</td>\n",
       "      <td>27</td>\n",
       "      <td>105</td>\n",
       "      <td>0</td>\n",
       "      <td>1.0</td>\n",
       "      <td>76.0</td>\n",
       "      <td>205.0</td>\n",
       "      <td>2.0</td>\n",
       "    </tr>\n",
       "    <tr>\n",
       "      <th>597</th>\n",
       "      <td>2008</td>\n",
       "      <td>Shannon Brown</td>\n",
       "      <td>SG</td>\n",
       "      <td>22</td>\n",
       "      <td>CHI</td>\n",
       "      <td>6</td>\n",
       "      <td>0</td>\n",
       "      <td>22</td>\n",
       "      <td>-11.8</td>\n",
       "      <td>0.255</td>\n",
       "      <td>...</td>\n",
       "      <td>1</td>\n",
       "      <td>2</td>\n",
       "      <td>5</td>\n",
       "      <td>2</td>\n",
       "      <td>9</td>\n",
       "      <td>0</td>\n",
       "      <td>1.0</td>\n",
       "      <td>76.0</td>\n",
       "      <td>205.0</td>\n",
       "      <td>2.0</td>\n",
       "    </tr>\n",
       "    <tr>\n",
       "      <th>606</th>\n",
       "      <td>2008</td>\n",
       "      <td>Rodney Carney</td>\n",
       "      <td>SF</td>\n",
       "      <td>23</td>\n",
       "      <td>PHI</td>\n",
       "      <td>70</td>\n",
       "      <td>6</td>\n",
       "      <td>1039</td>\n",
       "      <td>12.1</td>\n",
       "      <td>0.478</td>\n",
       "      <td>...</td>\n",
       "      <td>39</td>\n",
       "      <td>23</td>\n",
       "      <td>34</td>\n",
       "      <td>96</td>\n",
       "      <td>409</td>\n",
       "      <td>600000</td>\n",
       "      <td>1.0</td>\n",
       "      <td>79.0</td>\n",
       "      <td>205.0</td>\n",
       "      <td>3.0</td>\n",
       "    </tr>\n",
       "    <tr>\n",
       "      <th>620</th>\n",
       "      <td>2008</td>\n",
       "      <td>Mardy Collins</td>\n",
       "      <td>SG</td>\n",
       "      <td>23</td>\n",
       "      <td>NYK</td>\n",
       "      <td>46</td>\n",
       "      <td>8</td>\n",
       "      <td>634</td>\n",
       "      <td>5.9</td>\n",
       "      <td>0.378</td>\n",
       "      <td>...</td>\n",
       "      <td>24</td>\n",
       "      <td>8</td>\n",
       "      <td>56</td>\n",
       "      <td>56</td>\n",
       "      <td>145</td>\n",
       "      <td>0</td>\n",
       "      <td>1.0</td>\n",
       "      <td>78.0</td>\n",
       "      <td>220.0</td>\n",
       "      <td>2.0</td>\n",
       "    </tr>\n",
       "    <tr>\n",
       "      <th>640</th>\n",
       "      <td>2008</td>\n",
       "      <td>Paul Davis</td>\n",
       "      <td>PF</td>\n",
       "      <td>23</td>\n",
       "      <td>LAC</td>\n",
       "      <td>22</td>\n",
       "      <td>1</td>\n",
       "      <td>194</td>\n",
       "      <td>9.0</td>\n",
       "      <td>0.389</td>\n",
       "      <td>...</td>\n",
       "      <td>6</td>\n",
       "      <td>6</td>\n",
       "      <td>9</td>\n",
       "      <td>33</td>\n",
       "      <td>54</td>\n",
       "      <td>0</td>\n",
       "      <td>1.0</td>\n",
       "      <td>83.0</td>\n",
       "      <td>270.0</td>\n",
       "      <td>5.0</td>\n",
       "    </tr>\n",
       "    <tr>\n",
       "      <th>645</th>\n",
       "      <td>2008</td>\n",
       "      <td>Yakhouba Diawara</td>\n",
       "      <td>SG</td>\n",
       "      <td>25</td>\n",
       "      <td>DEN</td>\n",
       "      <td>54</td>\n",
       "      <td>14</td>\n",
       "      <td>542</td>\n",
       "      <td>8.1</td>\n",
       "      <td>0.518</td>\n",
       "      <td>...</td>\n",
       "      <td>8</td>\n",
       "      <td>3</td>\n",
       "      <td>16</td>\n",
       "      <td>61</td>\n",
       "      <td>153</td>\n",
       "      <td>800000</td>\n",
       "      <td>1.0</td>\n",
       "      <td>79.0</td>\n",
       "      <td>225.0</td>\n",
       "      <td>3.0</td>\n",
       "    </tr>\n",
       "    <tr>\n",
       "      <th>659</th>\n",
       "      <td>2008</td>\n",
       "      <td>Quincy Douby</td>\n",
       "      <td>PG</td>\n",
       "      <td>23</td>\n",
       "      <td>SAC</td>\n",
       "      <td>74</td>\n",
       "      <td>0</td>\n",
       "      <td>876</td>\n",
       "      <td>9.7</td>\n",
       "      <td>0.495</td>\n",
       "      <td>...</td>\n",
       "      <td>30</td>\n",
       "      <td>12</td>\n",
       "      <td>59</td>\n",
       "      <td>80</td>\n",
       "      <td>354</td>\n",
       "      <td>0</td>\n",
       "      <td>1.0</td>\n",
       "      <td>75.0</td>\n",
       "      <td>175.0</td>\n",
       "      <td>1.0</td>\n",
       "    </tr>\n",
       "    <tr>\n",
       "      <th>677</th>\n",
       "      <td>2008</td>\n",
       "      <td>Jordan Farmar</td>\n",
       "      <td>PG</td>\n",
       "      <td>21</td>\n",
       "      <td>LAL</td>\n",
       "      <td>82</td>\n",
       "      <td>0</td>\n",
       "      <td>1690</td>\n",
       "      <td>15.4</td>\n",
       "      <td>0.563</td>\n",
       "      <td>...</td>\n",
       "      <td>77</td>\n",
       "      <td>5</td>\n",
       "      <td>108</td>\n",
       "      <td>105</td>\n",
       "      <td>749</td>\n",
       "      <td>6400000</td>\n",
       "      <td>1.0</td>\n",
       "      <td>74.0</td>\n",
       "      <td>180.0</td>\n",
       "      <td>1.0</td>\n",
       "    </tr>\n",
       "    <tr>\n",
       "      <th>687</th>\n",
       "      <td>2008</td>\n",
       "      <td>Randy Foye</td>\n",
       "      <td>PG</td>\n",
       "      <td>24</td>\n",
       "      <td>MIN</td>\n",
       "      <td>39</td>\n",
       "      <td>31</td>\n",
       "      <td>1259</td>\n",
       "      <td>12.7</td>\n",
       "      <td>0.520</td>\n",
       "      <td>...</td>\n",
       "      <td>36</td>\n",
       "      <td>3</td>\n",
       "      <td>79</td>\n",
       "      <td>102</td>\n",
       "      <td>510</td>\n",
       "      <td>2900000</td>\n",
       "      <td>1.0</td>\n",
       "      <td>76.0</td>\n",
       "      <td>210.0</td>\n",
       "      <td>2.0</td>\n",
       "    </tr>\n",
       "    <tr>\n",
       "      <th>693</th>\n",
       "      <td>2008</td>\n",
       "      <td>Jorge Garbajosa</td>\n",
       "      <td>PF</td>\n",
       "      <td>30</td>\n",
       "      <td>TOR</td>\n",
       "      <td>7</td>\n",
       "      <td>0</td>\n",
       "      <td>74</td>\n",
       "      <td>10.4</td>\n",
       "      <td>0.440</td>\n",
       "      <td>...</td>\n",
       "      <td>3</td>\n",
       "      <td>0</td>\n",
       "      <td>1</td>\n",
       "      <td>2</td>\n",
       "      <td>22</td>\n",
       "      <td>1000000</td>\n",
       "      <td>1.0</td>\n",
       "      <td>81.0</td>\n",
       "      <td>245.0</td>\n",
       "      <td>4.0</td>\n",
       "    </tr>\n",
       "    <tr>\n",
       "      <th>701</th>\n",
       "      <td>2008</td>\n",
       "      <td>Rudy Gay</td>\n",
       "      <td>SF</td>\n",
       "      <td>21</td>\n",
       "      <td>MEM</td>\n",
       "      <td>81</td>\n",
       "      <td>81</td>\n",
       "      <td>3000</td>\n",
       "      <td>17.4</td>\n",
       "      <td>0.546</td>\n",
       "      <td>...</td>\n",
       "      <td>111</td>\n",
       "      <td>79</td>\n",
       "      <td>190</td>\n",
       "      <td>230</td>\n",
       "      <td>1632</td>\n",
       "      <td>9400000</td>\n",
       "      <td>1.0</td>\n",
       "      <td>80.0</td>\n",
       "      <td>230.0</td>\n",
       "      <td>3.0</td>\n",
       "    </tr>\n",
       "    <tr>\n",
       "      <th>702</th>\n",
       "      <td>2008</td>\n",
       "      <td>Mickael Gelabale</td>\n",
       "      <td>SG</td>\n",
       "      <td>24</td>\n",
       "      <td>SEA</td>\n",
       "      <td>39</td>\n",
       "      <td>0</td>\n",
       "      <td>465</td>\n",
       "      <td>10.5</td>\n",
       "      <td>0.509</td>\n",
       "      <td>...</td>\n",
       "      <td>10</td>\n",
       "      <td>9</td>\n",
       "      <td>27</td>\n",
       "      <td>31</td>\n",
       "      <td>168</td>\n",
       "      <td>0</td>\n",
       "      <td>1.0</td>\n",
       "      <td>79.0</td>\n",
       "      <td>215.0</td>\n",
       "      <td>3.0</td>\n",
       "    </tr>\n",
       "    <tr>\n",
       "      <th>704</th>\n",
       "      <td>2008</td>\n",
       "      <td>Daniel Gibson</td>\n",
       "      <td>PG</td>\n",
       "      <td>21</td>\n",
       "      <td>CLE</td>\n",
       "      <td>58</td>\n",
       "      <td>26</td>\n",
       "      <td>1765</td>\n",
       "      <td>11.7</td>\n",
       "      <td>0.592</td>\n",
       "      <td>...</td>\n",
       "      <td>47</td>\n",
       "      <td>14</td>\n",
       "      <td>76</td>\n",
       "      <td>163</td>\n",
       "      <td>605</td>\n",
       "      <td>6200000</td>\n",
       "      <td>1.0</td>\n",
       "      <td>74.0</td>\n",
       "      <td>190.0</td>\n",
       "      <td>1.0</td>\n",
       "    </tr>\n",
       "    <tr>\n",
       "      <th>756</th>\n",
       "      <td>2008</td>\n",
       "      <td>Walter Herrmann</td>\n",
       "      <td>PF</td>\n",
       "      <td>28</td>\n",
       "      <td>CHA</td>\n",
       "      <td>17</td>\n",
       "      <td>0</td>\n",
       "      <td>174</td>\n",
       "      <td>12.1</td>\n",
       "      <td>0.490</td>\n",
       "      <td>...</td>\n",
       "      <td>4</td>\n",
       "      <td>0</td>\n",
       "      <td>4</td>\n",
       "      <td>12</td>\n",
       "      <td>68</td>\n",
       "      <td>0</td>\n",
       "      <td>1.0</td>\n",
       "      <td>81.0</td>\n",
       "      <td>225.0</td>\n",
       "      <td>4.0</td>\n",
       "    </tr>\n",
       "    <tr>\n",
       "      <th>757</th>\n",
       "      <td>2008</td>\n",
       "      <td>Walter Herrmann</td>\n",
       "      <td>PF</td>\n",
       "      <td>28</td>\n",
       "      <td>DET</td>\n",
       "      <td>28</td>\n",
       "      <td>0</td>\n",
       "      <td>199</td>\n",
       "      <td>14.0</td>\n",
       "      <td>0.496</td>\n",
       "      <td>...</td>\n",
       "      <td>3</td>\n",
       "      <td>1</td>\n",
       "      <td>8</td>\n",
       "      <td>12</td>\n",
       "      <td>85</td>\n",
       "      <td>600000</td>\n",
       "      <td>1.0</td>\n",
       "      <td>81.0</td>\n",
       "      <td>225.0</td>\n",
       "      <td>3.0</td>\n",
       "    </tr>\n",
       "    <tr>\n",
       "      <th>761</th>\n",
       "      <td>2008</td>\n",
       "      <td>Ryan Hollins</td>\n",
       "      <td>PF</td>\n",
       "      <td>23</td>\n",
       "      <td>CHA</td>\n",
       "      <td>60</td>\n",
       "      <td>1</td>\n",
       "      <td>532</td>\n",
       "      <td>11.4</td>\n",
       "      <td>0.565</td>\n",
       "      <td>...</td>\n",
       "      <td>10</td>\n",
       "      <td>30</td>\n",
       "      <td>25</td>\n",
       "      <td>96</td>\n",
       "      <td>147</td>\n",
       "      <td>0</td>\n",
       "      <td>1.0</td>\n",
       "      <td>84.0</td>\n",
       "      <td>230.0</td>\n",
       "      <td>5.0</td>\n",
       "    </tr>\n",
       "    <tr>\n",
       "      <th>800</th>\n",
       "      <td>2008</td>\n",
       "      <td>Alexander Johnson</td>\n",
       "      <td>PF</td>\n",
       "      <td>24</td>\n",
       "      <td>MIA</td>\n",
       "      <td>43</td>\n",
       "      <td>6</td>\n",
       "      <td>549</td>\n",
       "      <td>8.9</td>\n",
       "      <td>0.554</td>\n",
       "      <td>...</td>\n",
       "      <td>13</td>\n",
       "      <td>10</td>\n",
       "      <td>42</td>\n",
       "      <td>80</td>\n",
       "      <td>179</td>\n",
       "      <td>0</td>\n",
       "      <td>1.0</td>\n",
       "      <td>81.0</td>\n",
       "      <td>240.0</td>\n",
       "      <td>4.0</td>\n",
       "    </tr>\n",
       "    <tr>\n",
       "      <th>811</th>\n",
       "      <td>2008</td>\n",
       "      <td>Bobby Jones</td>\n",
       "      <td>C</td>\n",
       "      <td>24</td>\n",
       "      <td>DEN</td>\n",
       "      <td>25</td>\n",
       "      <td>0</td>\n",
       "      <td>222</td>\n",
       "      <td>8.5</td>\n",
       "      <td>0.550</td>\n",
       "      <td>...</td>\n",
       "      <td>5</td>\n",
       "      <td>1</td>\n",
       "      <td>14</td>\n",
       "      <td>46</td>\n",
       "      <td>84</td>\n",
       "      <td>0</td>\n",
       "      <td>1.0</td>\n",
       "      <td>79.0</td>\n",
       "      <td>215.0</td>\n",
       "      <td>3.0</td>\n",
       "    </tr>\n",
       "    <tr>\n",
       "      <th>812</th>\n",
       "      <td>2008</td>\n",
       "      <td>Bobby Jones</td>\n",
       "      <td>SF</td>\n",
       "      <td>24</td>\n",
       "      <td>MEM</td>\n",
       "      <td>9</td>\n",
       "      <td>2</td>\n",
       "      <td>137</td>\n",
       "      <td>12.1</td>\n",
       "      <td>0.495</td>\n",
       "      <td>...</td>\n",
       "      <td>5</td>\n",
       "      <td>2</td>\n",
       "      <td>5</td>\n",
       "      <td>17</td>\n",
       "      <td>40</td>\n",
       "      <td>800000</td>\n",
       "      <td>1.0</td>\n",
       "      <td>79.0</td>\n",
       "      <td>215.0</td>\n",
       "      <td>3.0</td>\n",
       "    </tr>\n",
       "    <tr>\n",
       "      <th>...</th>\n",
       "      <td>...</td>\n",
       "      <td>...</td>\n",
       "      <td>...</td>\n",
       "      <td>...</td>\n",
       "      <td>...</td>\n",
       "      <td>...</td>\n",
       "      <td>...</td>\n",
       "      <td>...</td>\n",
       "      <td>...</td>\n",
       "      <td>...</td>\n",
       "      <td>...</td>\n",
       "      <td>...</td>\n",
       "      <td>...</td>\n",
       "      <td>...</td>\n",
       "      <td>...</td>\n",
       "      <td>...</td>\n",
       "      <td>...</td>\n",
       "      <td>...</td>\n",
       "      <td>...</td>\n",
       "      <td>...</td>\n",
       "      <td>...</td>\n",
       "    </tr>\n",
       "    <tr>\n",
       "      <th>5526</th>\n",
       "      <td>2016</td>\n",
       "      <td>Rodney Hood</td>\n",
       "      <td>SG</td>\n",
       "      <td>23</td>\n",
       "      <td>UTA</td>\n",
       "      <td>79</td>\n",
       "      <td>79</td>\n",
       "      <td>2541</td>\n",
       "      <td>14.1</td>\n",
       "      <td>0.542</td>\n",
       "      <td>...</td>\n",
       "      <td>73</td>\n",
       "      <td>16</td>\n",
       "      <td>125</td>\n",
       "      <td>202</td>\n",
       "      <td>1149</td>\n",
       "      <td>5700000</td>\n",
       "      <td>1.0</td>\n",
       "      <td>80.0</td>\n",
       "      <td>206.0</td>\n",
       "      <td>2.0</td>\n",
       "    </tr>\n",
       "    <tr>\n",
       "      <th>5541</th>\n",
       "      <td>2016</td>\n",
       "      <td>Joe Ingles</td>\n",
       "      <td>SF</td>\n",
       "      <td>28</td>\n",
       "      <td>UTA</td>\n",
       "      <td>81</td>\n",
       "      <td>2</td>\n",
       "      <td>1241</td>\n",
       "      <td>10.3</td>\n",
       "      <td>0.572</td>\n",
       "      <td>...</td>\n",
       "      <td>55</td>\n",
       "      <td>4</td>\n",
       "      <td>65</td>\n",
       "      <td>98</td>\n",
       "      <td>342</td>\n",
       "      <td>4000000</td>\n",
       "      <td>1.0</td>\n",
       "      <td>80.0</td>\n",
       "      <td>226.0</td>\n",
       "      <td>3.0</td>\n",
       "    </tr>\n",
       "    <tr>\n",
       "      <th>5567</th>\n",
       "      <td>2016</td>\n",
       "      <td>Tyler Johnson</td>\n",
       "      <td>SG</td>\n",
       "      <td>23</td>\n",
       "      <td>MIA</td>\n",
       "      <td>36</td>\n",
       "      <td>5</td>\n",
       "      <td>863</td>\n",
       "      <td>13.8</td>\n",
       "      <td>0.579</td>\n",
       "      <td>...</td>\n",
       "      <td>24</td>\n",
       "      <td>14</td>\n",
       "      <td>47</td>\n",
       "      <td>66</td>\n",
       "      <td>314</td>\n",
       "      <td>5900000</td>\n",
       "      <td>1.0</td>\n",
       "      <td>76.0</td>\n",
       "      <td>186.0</td>\n",
       "      <td>2.0</td>\n",
       "    </tr>\n",
       "    <tr>\n",
       "      <th>5592</th>\n",
       "      <td>2016</td>\n",
       "      <td>Joffrey Lauvergne</td>\n",
       "      <td>C</td>\n",
       "      <td>24</td>\n",
       "      <td>DEN</td>\n",
       "      <td>59</td>\n",
       "      <td>15</td>\n",
       "      <td>1041</td>\n",
       "      <td>15.7</td>\n",
       "      <td>0.567</td>\n",
       "      <td>...</td>\n",
       "      <td>13</td>\n",
       "      <td>15</td>\n",
       "      <td>54</td>\n",
       "      <td>115</td>\n",
       "      <td>465</td>\n",
       "      <td>1300000</td>\n",
       "      <td>1.0</td>\n",
       "      <td>83.0</td>\n",
       "      <td>220.0</td>\n",
       "      <td>4.0</td>\n",
       "    </tr>\n",
       "    <tr>\n",
       "      <th>5593</th>\n",
       "      <td>2016</td>\n",
       "      <td>Zach LaVine</td>\n",
       "      <td>SG</td>\n",
       "      <td>20</td>\n",
       "      <td>MIN</td>\n",
       "      <td>82</td>\n",
       "      <td>33</td>\n",
       "      <td>2294</td>\n",
       "      <td>14.3</td>\n",
       "      <td>0.548</td>\n",
       "      <td>...</td>\n",
       "      <td>69</td>\n",
       "      <td>17</td>\n",
       "      <td>155</td>\n",
       "      <td>193</td>\n",
       "      <td>1150</td>\n",
       "      <td>1400000</td>\n",
       "      <td>1.0</td>\n",
       "      <td>77.0</td>\n",
       "      <td>189.0</td>\n",
       "      <td>1.0</td>\n",
       "    </tr>\n",
       "    <tr>\n",
       "      <th>5637</th>\n",
       "      <td>2016</td>\n",
       "      <td>K.J. McDaniels</td>\n",
       "      <td>SF</td>\n",
       "      <td>22</td>\n",
       "      <td>HOU</td>\n",
       "      <td>37</td>\n",
       "      <td>1</td>\n",
       "      <td>235</td>\n",
       "      <td>10.6</td>\n",
       "      <td>0.522</td>\n",
       "      <td>...</td>\n",
       "      <td>7</td>\n",
       "      <td>6</td>\n",
       "      <td>17</td>\n",
       "      <td>30</td>\n",
       "      <td>89</td>\n",
       "      <td>0</td>\n",
       "      <td>1.0</td>\n",
       "      <td>78.0</td>\n",
       "      <td>205.0</td>\n",
       "      <td>3.0</td>\n",
       "    </tr>\n",
       "    <tr>\n",
       "      <th>5638</th>\n",
       "      <td>2016</td>\n",
       "      <td>Doug McDermott</td>\n",
       "      <td>SF</td>\n",
       "      <td>24</td>\n",
       "      <td>CHI</td>\n",
       "      <td>81</td>\n",
       "      <td>4</td>\n",
       "      <td>1861</td>\n",
       "      <td>10.9</td>\n",
       "      <td>0.561</td>\n",
       "      <td>...</td>\n",
       "      <td>14</td>\n",
       "      <td>6</td>\n",
       "      <td>53</td>\n",
       "      <td>127</td>\n",
       "      <td>764</td>\n",
       "      <td>2200000</td>\n",
       "      <td>1.0</td>\n",
       "      <td>80.0</td>\n",
       "      <td>225.0</td>\n",
       "      <td>3.0</td>\n",
       "    </tr>\n",
       "    <tr>\n",
       "      <th>5639</th>\n",
       "      <td>2016</td>\n",
       "      <td>Mitch McGary</td>\n",
       "      <td>PF</td>\n",
       "      <td>23</td>\n",
       "      <td>OKC</td>\n",
       "      <td>20</td>\n",
       "      <td>0</td>\n",
       "      <td>72</td>\n",
       "      <td>7.4</td>\n",
       "      <td>0.474</td>\n",
       "      <td>...</td>\n",
       "      <td>1</td>\n",
       "      <td>2</td>\n",
       "      <td>7</td>\n",
       "      <td>10</td>\n",
       "      <td>26</td>\n",
       "      <td>0</td>\n",
       "      <td>1.0</td>\n",
       "      <td>82.0</td>\n",
       "      <td>255.0</td>\n",
       "      <td>4.0</td>\n",
       "    </tr>\n",
       "    <tr>\n",
       "      <th>5656</th>\n",
       "      <td>2016</td>\n",
       "      <td>Elijah Millsap</td>\n",
       "      <td>SG</td>\n",
       "      <td>28</td>\n",
       "      <td>UTA</td>\n",
       "      <td>20</td>\n",
       "      <td>0</td>\n",
       "      <td>173</td>\n",
       "      <td>6.5</td>\n",
       "      <td>0.384</td>\n",
       "      <td>...</td>\n",
       "      <td>7</td>\n",
       "      <td>3</td>\n",
       "      <td>9</td>\n",
       "      <td>33</td>\n",
       "      <td>36</td>\n",
       "      <td>0</td>\n",
       "      <td>1.0</td>\n",
       "      <td>78.0</td>\n",
       "      <td>225.0</td>\n",
       "      <td>3.0</td>\n",
       "    </tr>\n",
       "    <tr>\n",
       "      <th>5658</th>\n",
       "      <td>2016</td>\n",
       "      <td>Nikola Mirotic</td>\n",
       "      <td>PF</td>\n",
       "      <td>24</td>\n",
       "      <td>CHI</td>\n",
       "      <td>66</td>\n",
       "      <td>38</td>\n",
       "      <td>1646</td>\n",
       "      <td>15.6</td>\n",
       "      <td>0.564</td>\n",
       "      <td>...</td>\n",
       "      <td>58</td>\n",
       "      <td>46</td>\n",
       "      <td>102</td>\n",
       "      <td>151</td>\n",
       "      <td>777</td>\n",
       "      <td>1600000</td>\n",
       "      <td>1.0</td>\n",
       "      <td>82.0</td>\n",
       "      <td>220.0</td>\n",
       "      <td>4.0</td>\n",
       "    </tr>\n",
       "    <tr>\n",
       "      <th>5663</th>\n",
       "      <td>2016</td>\n",
       "      <td>Eric Moreland</td>\n",
       "      <td>PF</td>\n",
       "      <td>24</td>\n",
       "      <td>SAC</td>\n",
       "      <td>8</td>\n",
       "      <td>0</td>\n",
       "      <td>48</td>\n",
       "      <td>7.4</td>\n",
       "      <td>0.515</td>\n",
       "      <td>...</td>\n",
       "      <td>0</td>\n",
       "      <td>4</td>\n",
       "      <td>3</td>\n",
       "      <td>4</td>\n",
       "      <td>8</td>\n",
       "      <td>0</td>\n",
       "      <td>1.0</td>\n",
       "      <td>82.0</td>\n",
       "      <td>238.0</td>\n",
       "      <td>5.0</td>\n",
       "    </tr>\n",
       "    <tr>\n",
       "      <th>5676</th>\n",
       "      <td>2016</td>\n",
       "      <td>Shabazz Napier</td>\n",
       "      <td>PG</td>\n",
       "      <td>24</td>\n",
       "      <td>ORL</td>\n",
       "      <td>55</td>\n",
       "      <td>0</td>\n",
       "      <td>600</td>\n",
       "      <td>9.6</td>\n",
       "      <td>0.460</td>\n",
       "      <td>...</td>\n",
       "      <td>23</td>\n",
       "      <td>1</td>\n",
       "      <td>46</td>\n",
       "      <td>38</td>\n",
       "      <td>203</td>\n",
       "      <td>0</td>\n",
       "      <td>1.0</td>\n",
       "      <td>73.0</td>\n",
       "      <td>175.0</td>\n",
       "      <td>1.0</td>\n",
       "    </tr>\n",
       "    <tr>\n",
       "      <th>5682</th>\n",
       "      <td>2016</td>\n",
       "      <td>Nerlens Noel</td>\n",
       "      <td>C</td>\n",
       "      <td>21</td>\n",
       "      <td>PHI</td>\n",
       "      <td>67</td>\n",
       "      <td>62</td>\n",
       "      <td>1965</td>\n",
       "      <td>16.2</td>\n",
       "      <td>0.544</td>\n",
       "      <td>...</td>\n",
       "      <td>118</td>\n",
       "      <td>100</td>\n",
       "      <td>158</td>\n",
       "      <td>192</td>\n",
       "      <td>747</td>\n",
       "      <td>700000</td>\n",
       "      <td>1.0</td>\n",
       "      <td>83.0</td>\n",
       "      <td>228.0</td>\n",
       "      <td>5.0</td>\n",
       "    </tr>\n",
       "    <tr>\n",
       "      <th>5683</th>\n",
       "      <td>2016</td>\n",
       "      <td>Lucas Nogueira</td>\n",
       "      <td>C</td>\n",
       "      <td>23</td>\n",
       "      <td>TOR</td>\n",
       "      <td>29</td>\n",
       "      <td>1</td>\n",
       "      <td>225</td>\n",
       "      <td>15.6</td>\n",
       "      <td>0.642</td>\n",
       "      <td>...</td>\n",
       "      <td>12</td>\n",
       "      <td>12</td>\n",
       "      <td>11</td>\n",
       "      <td>29</td>\n",
       "      <td>65</td>\n",
       "      <td>0</td>\n",
       "      <td>1.0</td>\n",
       "      <td>84.0</td>\n",
       "      <td>220.0</td>\n",
       "      <td>4.0</td>\n",
       "    </tr>\n",
       "    <tr>\n",
       "      <th>5690</th>\n",
       "      <td>2016</td>\n",
       "      <td>Johnny O'Bryant</td>\n",
       "      <td>PF</td>\n",
       "      <td>22</td>\n",
       "      <td>MIL</td>\n",
       "      <td>66</td>\n",
       "      <td>4</td>\n",
       "      <td>857</td>\n",
       "      <td>7.4</td>\n",
       "      <td>0.441</td>\n",
       "      <td>...</td>\n",
       "      <td>18</td>\n",
       "      <td>8</td>\n",
       "      <td>31</td>\n",
       "      <td>100</td>\n",
       "      <td>200</td>\n",
       "      <td>0</td>\n",
       "      <td>1.0</td>\n",
       "      <td>81.0</td>\n",
       "      <td>257.0</td>\n",
       "      <td>4.0</td>\n",
       "    </tr>\n",
       "    <tr>\n",
       "      <th>5697</th>\n",
       "      <td>2016</td>\n",
       "      <td>Kostas Papanikolaou</td>\n",
       "      <td>SF</td>\n",
       "      <td>25</td>\n",
       "      <td>DEN</td>\n",
       "      <td>26</td>\n",
       "      <td>6</td>\n",
       "      <td>294</td>\n",
       "      <td>6.0</td>\n",
       "      <td>0.464</td>\n",
       "      <td>...</td>\n",
       "      <td>13</td>\n",
       "      <td>5</td>\n",
       "      <td>21</td>\n",
       "      <td>24</td>\n",
       "      <td>67</td>\n",
       "      <td>0</td>\n",
       "      <td>1.0</td>\n",
       "      <td>80.0</td>\n",
       "      <td>225.0</td>\n",
       "      <td>3.0</td>\n",
       "    </tr>\n",
       "    <tr>\n",
       "      <th>5698</th>\n",
       "      <td>2016</td>\n",
       "      <td>Jabari Parker</td>\n",
       "      <td>PF</td>\n",
       "      <td>20</td>\n",
       "      <td>MIL</td>\n",
       "      <td>76</td>\n",
       "      <td>72</td>\n",
       "      <td>2408</td>\n",
       "      <td>14.8</td>\n",
       "      <td>0.535</td>\n",
       "      <td>...</td>\n",
       "      <td>69</td>\n",
       "      <td>29</td>\n",
       "      <td>116</td>\n",
       "      <td>154</td>\n",
       "      <td>1070</td>\n",
       "      <td>0</td>\n",
       "      <td>1.0</td>\n",
       "      <td>80.0</td>\n",
       "      <td>250.0</td>\n",
       "      <td>3.0</td>\n",
       "    </tr>\n",
       "    <tr>\n",
       "      <th>5704</th>\n",
       "      <td>2016</td>\n",
       "      <td>Adreian Payne</td>\n",
       "      <td>PF</td>\n",
       "      <td>24</td>\n",
       "      <td>MIN</td>\n",
       "      <td>52</td>\n",
       "      <td>2</td>\n",
       "      <td>486</td>\n",
       "      <td>5.6</td>\n",
       "      <td>0.422</td>\n",
       "      <td>...</td>\n",
       "      <td>16</td>\n",
       "      <td>11</td>\n",
       "      <td>36</td>\n",
       "      <td>77</td>\n",
       "      <td>132</td>\n",
       "      <td>0</td>\n",
       "      <td>1.0</td>\n",
       "      <td>82.0</td>\n",
       "      <td>237.0</td>\n",
       "      <td>4.0</td>\n",
       "    </tr>\n",
       "    <tr>\n",
       "      <th>5706</th>\n",
       "      <td>2016</td>\n",
       "      <td>Elfrid Payton</td>\n",
       "      <td>PG</td>\n",
       "      <td>21</td>\n",
       "      <td>ORL</td>\n",
       "      <td>73</td>\n",
       "      <td>69</td>\n",
       "      <td>2145</td>\n",
       "      <td>13.9</td>\n",
       "      <td>0.478</td>\n",
       "      <td>...</td>\n",
       "      <td>89</td>\n",
       "      <td>20</td>\n",
       "      <td>177</td>\n",
       "      <td>159</td>\n",
       "      <td>778</td>\n",
       "      <td>1400000</td>\n",
       "      <td>1.0</td>\n",
       "      <td>76.0</td>\n",
       "      <td>185.0</td>\n",
       "      <td>1.0</td>\n",
       "    </tr>\n",
       "    <tr>\n",
       "      <th>5716</th>\n",
       "      <td>2016</td>\n",
       "      <td>Dwight Powell</td>\n",
       "      <td>PF</td>\n",
       "      <td>24</td>\n",
       "      <td>DAL</td>\n",
       "      <td>69</td>\n",
       "      <td>2</td>\n",
       "      <td>992</td>\n",
       "      <td>16.8</td>\n",
       "      <td>0.557</td>\n",
       "      <td>...</td>\n",
       "      <td>36</td>\n",
       "      <td>24</td>\n",
       "      <td>40</td>\n",
       "      <td>118</td>\n",
       "      <td>399</td>\n",
       "      <td>1300000</td>\n",
       "      <td>1.0</td>\n",
       "      <td>83.0</td>\n",
       "      <td>240.0</td>\n",
       "      <td>5.0</td>\n",
       "    </tr>\n",
       "    <tr>\n",
       "      <th>5724</th>\n",
       "      <td>2016</td>\n",
       "      <td>Julius Randle</td>\n",
       "      <td>PF</td>\n",
       "      <td>21</td>\n",
       "      <td>LAL</td>\n",
       "      <td>81</td>\n",
       "      <td>60</td>\n",
       "      <td>2286</td>\n",
       "      <td>13.9</td>\n",
       "      <td>0.482</td>\n",
       "      <td>...</td>\n",
       "      <td>53</td>\n",
       "      <td>29</td>\n",
       "      <td>149</td>\n",
       "      <td>242</td>\n",
       "      <td>919</td>\n",
       "      <td>0</td>\n",
       "      <td>1.0</td>\n",
       "      <td>81.0</td>\n",
       "      <td>250.0</td>\n",
       "      <td>4.0</td>\n",
       "    </tr>\n",
       "    <tr>\n",
       "      <th>5742</th>\n",
       "      <td>2016</td>\n",
       "      <td>Damjan Rudez</td>\n",
       "      <td>SF</td>\n",
       "      <td>29</td>\n",
       "      <td>MIN</td>\n",
       "      <td>33</td>\n",
       "      <td>0</td>\n",
       "      <td>277</td>\n",
       "      <td>5.5</td>\n",
       "      <td>0.572</td>\n",
       "      <td>...</td>\n",
       "      <td>3</td>\n",
       "      <td>1</td>\n",
       "      <td>13</td>\n",
       "      <td>33</td>\n",
       "      <td>75</td>\n",
       "      <td>0</td>\n",
       "      <td>1.0</td>\n",
       "      <td>82.0</td>\n",
       "      <td>228.0</td>\n",
       "      <td>4.0</td>\n",
       "    </tr>\n",
       "    <tr>\n",
       "      <th>5747</th>\n",
       "      <td>2016</td>\n",
       "      <td>JaKarr Sampson</td>\n",
       "      <td>SF</td>\n",
       "      <td>22</td>\n",
       "      <td>PHI</td>\n",
       "      <td>47</td>\n",
       "      <td>18</td>\n",
       "      <td>691</td>\n",
       "      <td>7.7</td>\n",
       "      <td>0.490</td>\n",
       "      <td>...</td>\n",
       "      <td>11</td>\n",
       "      <td>16</td>\n",
       "      <td>51</td>\n",
       "      <td>91</td>\n",
       "      <td>240</td>\n",
       "      <td>0</td>\n",
       "      <td>1.0</td>\n",
       "      <td>81.0</td>\n",
       "      <td>214.0</td>\n",
       "      <td>4.0</td>\n",
       "    </tr>\n",
       "    <tr>\n",
       "      <th>5760</th>\n",
       "      <td>2016</td>\n",
       "      <td>Marcus Smart</td>\n",
       "      <td>PG</td>\n",
       "      <td>21</td>\n",
       "      <td>BOS</td>\n",
       "      <td>61</td>\n",
       "      <td>10</td>\n",
       "      <td>1667</td>\n",
       "      <td>11.3</td>\n",
       "      <td>0.463</td>\n",
       "      <td>...</td>\n",
       "      <td>91</td>\n",
       "      <td>18</td>\n",
       "      <td>80</td>\n",
       "      <td>183</td>\n",
       "      <td>558</td>\n",
       "      <td>2100000</td>\n",
       "      <td>1.0</td>\n",
       "      <td>76.0</td>\n",
       "      <td>220.0</td>\n",
       "      <td>2.0</td>\n",
       "    </tr>\n",
       "    <tr>\n",
       "      <th>5770</th>\n",
       "      <td>2016</td>\n",
       "      <td>Russ Smith</td>\n",
       "      <td>PG</td>\n",
       "      <td>24</td>\n",
       "      <td>MEM</td>\n",
       "      <td>15</td>\n",
       "      <td>0</td>\n",
       "      <td>66</td>\n",
       "      <td>10.5</td>\n",
       "      <td>0.415</td>\n",
       "      <td>...</td>\n",
       "      <td>5</td>\n",
       "      <td>1</td>\n",
       "      <td>7</td>\n",
       "      <td>5</td>\n",
       "      <td>23</td>\n",
       "      <td>0</td>\n",
       "      <td>1.0</td>\n",
       "      <td>72.0</td>\n",
       "      <td>165.0</td>\n",
       "      <td>1.0</td>\n",
       "    </tr>\n",
       "    <tr>\n",
       "      <th>5774</th>\n",
       "      <td>2016</td>\n",
       "      <td>Nik Stauskas</td>\n",
       "      <td>SG</td>\n",
       "      <td>22</td>\n",
       "      <td>PHI</td>\n",
       "      <td>73</td>\n",
       "      <td>35</td>\n",
       "      <td>1809</td>\n",
       "      <td>9.2</td>\n",
       "      <td>0.517</td>\n",
       "      <td>...</td>\n",
       "      <td>44</td>\n",
       "      <td>20</td>\n",
       "      <td>94</td>\n",
       "      <td>115</td>\n",
       "      <td>617</td>\n",
       "      <td>700000</td>\n",
       "      <td>1.0</td>\n",
       "      <td>78.0</td>\n",
       "      <td>205.0</td>\n",
       "      <td>2.0</td>\n",
       "    </tr>\n",
       "    <tr>\n",
       "      <th>5819</th>\n",
       "      <td>2016</td>\n",
       "      <td>Noah Vonleh</td>\n",
       "      <td>PF</td>\n",
       "      <td>20</td>\n",
       "      <td>POR</td>\n",
       "      <td>78</td>\n",
       "      <td>56</td>\n",
       "      <td>1174</td>\n",
       "      <td>8.6</td>\n",
       "      <td>0.471</td>\n",
       "      <td>...</td>\n",
       "      <td>27</td>\n",
       "      <td>26</td>\n",
       "      <td>50</td>\n",
       "      <td>152</td>\n",
       "      <td>283</td>\n",
       "      <td>0</td>\n",
       "      <td>1.0</td>\n",
       "      <td>82.0</td>\n",
       "      <td>240.0</td>\n",
       "      <td>4.0</td>\n",
       "    </tr>\n",
       "    <tr>\n",
       "      <th>5826</th>\n",
       "      <td>2016</td>\n",
       "      <td>T.J. Warren</td>\n",
       "      <td>SF</td>\n",
       "      <td>22</td>\n",
       "      <td>PHO</td>\n",
       "      <td>47</td>\n",
       "      <td>4</td>\n",
       "      <td>1070</td>\n",
       "      <td>15.7</td>\n",
       "      <td>0.549</td>\n",
       "      <td>...</td>\n",
       "      <td>37</td>\n",
       "      <td>16</td>\n",
       "      <td>32</td>\n",
       "      <td>94</td>\n",
       "      <td>515</td>\n",
       "      <td>800000</td>\n",
       "      <td>1.0</td>\n",
       "      <td>80.0</td>\n",
       "      <td>230.0</td>\n",
       "      <td>3.0</td>\n",
       "    </tr>\n",
       "    <tr>\n",
       "      <th>5837</th>\n",
       "      <td>2016</td>\n",
       "      <td>Shayne Whittington</td>\n",
       "      <td>PF</td>\n",
       "      <td>24</td>\n",
       "      <td>IND</td>\n",
       "      <td>7</td>\n",
       "      <td>0</td>\n",
       "      <td>41</td>\n",
       "      <td>7.4</td>\n",
       "      <td>0.463</td>\n",
       "      <td>...</td>\n",
       "      <td>1</td>\n",
       "      <td>1</td>\n",
       "      <td>5</td>\n",
       "      <td>7</td>\n",
       "      <td>11</td>\n",
       "      <td>0</td>\n",
       "      <td>1.0</td>\n",
       "      <td>83.0</td>\n",
       "      <td>250.0</td>\n",
       "      <td>4.0</td>\n",
       "    </tr>\n",
       "    <tr>\n",
       "      <th>5838</th>\n",
       "      <td>2016</td>\n",
       "      <td>Andrew Wiggins</td>\n",
       "      <td>SF</td>\n",
       "      <td>20</td>\n",
       "      <td>MIN</td>\n",
       "      <td>81</td>\n",
       "      <td>81</td>\n",
       "      <td>2845</td>\n",
       "      <td>16.5</td>\n",
       "      <td>0.543</td>\n",
       "      <td>...</td>\n",
       "      <td>78</td>\n",
       "      <td>46</td>\n",
       "      <td>182</td>\n",
       "      <td>165</td>\n",
       "      <td>1675</td>\n",
       "      <td>1300000</td>\n",
       "      <td>1.0</td>\n",
       "      <td>80.0</td>\n",
       "      <td>199.0</td>\n",
       "      <td>3.0</td>\n",
       "    </tr>\n",
       "  </tbody>\n",
       "</table>\n",
       "<p>588 rows × 57 columns</p>\n",
       "</div>"
      ],
      "text/plain": [
       "      Year               Player Pos  Age   Tm   G  GS    MP   PER    TS%  \\\n",
       "519   2008         Maurice Ager  SG   23  DAL  12   3    77  -4.4  0.253   \n",
       "520   2008         Maurice Ager  SG   23  NJN  14   0    88   7.1  0.443   \n",
       "522   2008    LaMarcus Aldridge  PF   22  POR  76  76  2649  18.5  0.523   \n",
       "541   2008     Hilton Armstrong   C   23  NOH  65   3   732   7.7  0.498   \n",
       "544   2008      James Augustine  PF   23  ORL  25   0   149  10.8  0.533   \n",
       "545   2008     Kelenna Azubuike  SG   24  GSW  81  17  1732  13.5  0.534   \n",
       "546   2008      Renaldo Balkman  SF   23  NYK  65   0   952  11.5  0.492   \n",
       "552   2008      Andrea Bargnani  PF   22  TOR  78  53  1861  10.6  0.495   \n",
       "574   2008           Josh Boone  PF   23  NJN  70  53  1773  14.8  0.543   \n",
       "583   2008        Ronnie Brewer  SG   22  UTA  76  76  2088  18.4  0.612   \n",
       "589   2008          Andre Brown  PF   26  MEM  33   1   286  13.5  0.502   \n",
       "596   2008        Shannon Brown  SG   22  CLE  15   4   218   8.1  0.433   \n",
       "597   2008        Shannon Brown  SG   22  CHI   6   0    22 -11.8  0.255   \n",
       "606   2008        Rodney Carney  SF   23  PHI  70   6  1039  12.1  0.478   \n",
       "620   2008        Mardy Collins  SG   23  NYK  46   8   634   5.9  0.378   \n",
       "640   2008           Paul Davis  PF   23  LAC  22   1   194   9.0  0.389   \n",
       "645   2008     Yakhouba Diawara  SG   25  DEN  54  14   542   8.1  0.518   \n",
       "659   2008         Quincy Douby  PG   23  SAC  74   0   876   9.7  0.495   \n",
       "677   2008        Jordan Farmar  PG   21  LAL  82   0  1690  15.4  0.563   \n",
       "687   2008           Randy Foye  PG   24  MIN  39  31  1259  12.7  0.520   \n",
       "693   2008      Jorge Garbajosa  PF   30  TOR   7   0    74  10.4  0.440   \n",
       "701   2008             Rudy Gay  SF   21  MEM  81  81  3000  17.4  0.546   \n",
       "702   2008     Mickael Gelabale  SG   24  SEA  39   0   465  10.5  0.509   \n",
       "704   2008        Daniel Gibson  PG   21  CLE  58  26  1765  11.7  0.592   \n",
       "756   2008      Walter Herrmann  PF   28  CHA  17   0   174  12.1  0.490   \n",
       "757   2008      Walter Herrmann  PF   28  DET  28   0   199  14.0  0.496   \n",
       "761   2008         Ryan Hollins  PF   23  CHA  60   1   532  11.4  0.565   \n",
       "800   2008    Alexander Johnson  PF   24  MIA  43   6   549   8.9  0.554   \n",
       "811   2008          Bobby Jones   C   24  DEN  25   0   222   8.5  0.550   \n",
       "812   2008          Bobby Jones  SF   24  MEM   9   2   137  12.1  0.495   \n",
       "...    ...                  ...  ..  ...  ...  ..  ..   ...   ...    ...   \n",
       "5526  2016          Rodney Hood  SG   23  UTA  79  79  2541  14.1  0.542   \n",
       "5541  2016           Joe Ingles  SF   28  UTA  81   2  1241  10.3  0.572   \n",
       "5567  2016        Tyler Johnson  SG   23  MIA  36   5   863  13.8  0.579   \n",
       "5592  2016    Joffrey Lauvergne   C   24  DEN  59  15  1041  15.7  0.567   \n",
       "5593  2016          Zach LaVine  SG   20  MIN  82  33  2294  14.3  0.548   \n",
       "5637  2016       K.J. McDaniels  SF   22  HOU  37   1   235  10.6  0.522   \n",
       "5638  2016       Doug McDermott  SF   24  CHI  81   4  1861  10.9  0.561   \n",
       "5639  2016         Mitch McGary  PF   23  OKC  20   0    72   7.4  0.474   \n",
       "5656  2016       Elijah Millsap  SG   28  UTA  20   0   173   6.5  0.384   \n",
       "5658  2016       Nikola Mirotic  PF   24  CHI  66  38  1646  15.6  0.564   \n",
       "5663  2016        Eric Moreland  PF   24  SAC   8   0    48   7.4  0.515   \n",
       "5676  2016       Shabazz Napier  PG   24  ORL  55   0   600   9.6  0.460   \n",
       "5682  2016         Nerlens Noel   C   21  PHI  67  62  1965  16.2  0.544   \n",
       "5683  2016       Lucas Nogueira   C   23  TOR  29   1   225  15.6  0.642   \n",
       "5690  2016      Johnny O'Bryant  PF   22  MIL  66   4   857   7.4  0.441   \n",
       "5697  2016  Kostas Papanikolaou  SF   25  DEN  26   6   294   6.0  0.464   \n",
       "5698  2016        Jabari Parker  PF   20  MIL  76  72  2408  14.8  0.535   \n",
       "5704  2016        Adreian Payne  PF   24  MIN  52   2   486   5.6  0.422   \n",
       "5706  2016        Elfrid Payton  PG   21  ORL  73  69  2145  13.9  0.478   \n",
       "5716  2016        Dwight Powell  PF   24  DAL  69   2   992  16.8  0.557   \n",
       "5724  2016        Julius Randle  PF   21  LAL  81  60  2286  13.9  0.482   \n",
       "5742  2016         Damjan Rudez  SF   29  MIN  33   0   277   5.5  0.572   \n",
       "5747  2016       JaKarr Sampson  SF   22  PHI  47  18   691   7.7  0.490   \n",
       "5760  2016         Marcus Smart  PG   21  BOS  61  10  1667  11.3  0.463   \n",
       "5770  2016           Russ Smith  PG   24  MEM  15   0    66  10.5  0.415   \n",
       "5774  2016         Nik Stauskas  SG   22  PHI  73  35  1809   9.2  0.517   \n",
       "5819  2016          Noah Vonleh  PF   20  POR  78  56  1174   8.6  0.471   \n",
       "5826  2016          T.J. Warren  SF   22  PHO  47   4  1070  15.7  0.549   \n",
       "5837  2016   Shayne Whittington  PF   24  IND   7   0    41   7.4  0.463   \n",
       "5838  2016       Andrew Wiggins  SF   20  MIN  81  81  2845  16.5  0.543   \n",
       "\n",
       "           ...         STL  BLK  TOV   PF   PTS  TrueSalary  YrsExperience  \\\n",
       "519        ...           0    1    3   11    15           0            1.0   \n",
       "520        ...           0    0    3    6    36           0            1.0   \n",
       "522        ...          55   94  126  240  1350    10100000            1.0   \n",
       "541        ...          15   34   59  130   178      600000            1.0   \n",
       "544        ...           5    2    6   18    40      900000            1.0   \n",
       "545        ...          45   34   58  159   692     2200000            1.0   \n",
       "546        ...          44   30   37  132   224      800000            1.0   \n",
       "552        ...          23   37   88  211   792     1300000            1.0   \n",
       "574        ...          36   61   68  155   575     2000000            1.0   \n",
       "583        ...         129   19   69  110   914    15900000            1.0   \n",
       "589        ...           7    4   14   38   100           0            1.0   \n",
       "596        ...          10    1   19   27   105           0            1.0   \n",
       "597        ...           1    2    5    2     9           0            1.0   \n",
       "606        ...          39   23   34   96   409      600000            1.0   \n",
       "620        ...          24    8   56   56   145           0            1.0   \n",
       "640        ...           6    6    9   33    54           0            1.0   \n",
       "645        ...           8    3   16   61   153      800000            1.0   \n",
       "659        ...          30   12   59   80   354           0            1.0   \n",
       "677        ...          77    5  108  105   749     6400000            1.0   \n",
       "687        ...          36    3   79  102   510     2900000            1.0   \n",
       "693        ...           3    0    1    2    22     1000000            1.0   \n",
       "701        ...         111   79  190  230  1632     9400000            1.0   \n",
       "702        ...          10    9   27   31   168           0            1.0   \n",
       "704        ...          47   14   76  163   605     6200000            1.0   \n",
       "756        ...           4    0    4   12    68           0            1.0   \n",
       "757        ...           3    1    8   12    85      600000            1.0   \n",
       "761        ...          10   30   25   96   147           0            1.0   \n",
       "800        ...          13   10   42   80   179           0            1.0   \n",
       "811        ...           5    1   14   46    84           0            1.0   \n",
       "812        ...           5    2    5   17    40      800000            1.0   \n",
       "...        ...         ...  ...  ...  ...   ...         ...            ...   \n",
       "5526       ...          73   16  125  202  1149     5700000            1.0   \n",
       "5541       ...          55    4   65   98   342     4000000            1.0   \n",
       "5567       ...          24   14   47   66   314     5900000            1.0   \n",
       "5592       ...          13   15   54  115   465     1300000            1.0   \n",
       "5593       ...          69   17  155  193  1150     1400000            1.0   \n",
       "5637       ...           7    6   17   30    89           0            1.0   \n",
       "5638       ...          14    6   53  127   764     2200000            1.0   \n",
       "5639       ...           1    2    7   10    26           0            1.0   \n",
       "5656       ...           7    3    9   33    36           0            1.0   \n",
       "5658       ...          58   46  102  151   777     1600000            1.0   \n",
       "5663       ...           0    4    3    4     8           0            1.0   \n",
       "5676       ...          23    1   46   38   203           0            1.0   \n",
       "5682       ...         118  100  158  192   747      700000            1.0   \n",
       "5683       ...          12   12   11   29    65           0            1.0   \n",
       "5690       ...          18    8   31  100   200           0            1.0   \n",
       "5697       ...          13    5   21   24    67           0            1.0   \n",
       "5698       ...          69   29  116  154  1070           0            1.0   \n",
       "5704       ...          16   11   36   77   132           0            1.0   \n",
       "5706       ...          89   20  177  159   778     1400000            1.0   \n",
       "5716       ...          36   24   40  118   399     1300000            1.0   \n",
       "5724       ...          53   29  149  242   919           0            1.0   \n",
       "5742       ...           3    1   13   33    75           0            1.0   \n",
       "5747       ...          11   16   51   91   240           0            1.0   \n",
       "5760       ...          91   18   80  183   558     2100000            1.0   \n",
       "5770       ...           5    1    7    5    23           0            1.0   \n",
       "5774       ...          44   20   94  115   617      700000            1.0   \n",
       "5819       ...          27   26   50  152   283           0            1.0   \n",
       "5826       ...          37   16   32   94   515      800000            1.0   \n",
       "5837       ...           1    1    5    7    11           0            1.0   \n",
       "5838       ...          78   46  182  165  1675     1300000            1.0   \n",
       "\n",
       "      Height  Weight  RoundedPosition  \n",
       "519     77.0   202.0              2.0  \n",
       "520     77.0   202.0              2.0  \n",
       "522     83.0   240.0              4.0  \n",
       "541     83.0   235.0              5.0  \n",
       "544     82.0   235.0              4.0  \n",
       "545     77.0   220.0              3.0  \n",
       "546     80.0   208.0              3.0  \n",
       "552     84.0   225.0              4.0  \n",
       "574     82.0   237.0              5.0  \n",
       "583     79.0   220.0              3.0  \n",
       "589     81.0   245.0              4.0  \n",
       "596     76.0   205.0              2.0  \n",
       "597     76.0   205.0              2.0  \n",
       "606     79.0   205.0              3.0  \n",
       "620     78.0   220.0              2.0  \n",
       "640     83.0   270.0              5.0  \n",
       "645     79.0   225.0              3.0  \n",
       "659     75.0   175.0              1.0  \n",
       "677     74.0   180.0              1.0  \n",
       "687     76.0   210.0              2.0  \n",
       "693     81.0   245.0              4.0  \n",
       "701     80.0   230.0              3.0  \n",
       "702     79.0   215.0              3.0  \n",
       "704     74.0   190.0              1.0  \n",
       "756     81.0   225.0              4.0  \n",
       "757     81.0   225.0              3.0  \n",
       "761     84.0   230.0              5.0  \n",
       "800     81.0   240.0              4.0  \n",
       "811     79.0   215.0              3.0  \n",
       "812     79.0   215.0              3.0  \n",
       "...      ...     ...              ...  \n",
       "5526    80.0   206.0              2.0  \n",
       "5541    80.0   226.0              3.0  \n",
       "5567    76.0   186.0              2.0  \n",
       "5592    83.0   220.0              4.0  \n",
       "5593    77.0   189.0              1.0  \n",
       "5637    78.0   205.0              3.0  \n",
       "5638    80.0   225.0              3.0  \n",
       "5639    82.0   255.0              4.0  \n",
       "5656    78.0   225.0              3.0  \n",
       "5658    82.0   220.0              4.0  \n",
       "5663    82.0   238.0              5.0  \n",
       "5676    73.0   175.0              1.0  \n",
       "5682    83.0   228.0              5.0  \n",
       "5683    84.0   220.0              4.0  \n",
       "5690    81.0   257.0              4.0  \n",
       "5697    80.0   225.0              3.0  \n",
       "5698    80.0   250.0              3.0  \n",
       "5704    82.0   237.0              4.0  \n",
       "5706    76.0   185.0              1.0  \n",
       "5716    83.0   240.0              5.0  \n",
       "5724    81.0   250.0              4.0  \n",
       "5742    82.0   228.0              4.0  \n",
       "5747    81.0   214.0              4.0  \n",
       "5760    76.0   220.0              2.0  \n",
       "5770    72.0   165.0              1.0  \n",
       "5774    78.0   205.0              2.0  \n",
       "5819    82.0   240.0              4.0  \n",
       "5826    80.0   230.0              3.0  \n",
       "5837    83.0   250.0              4.0  \n",
       "5838    80.0   199.0              3.0  \n",
       "\n",
       "[588 rows x 57 columns]"
      ]
     },
     "execution_count": 27,
     "metadata": {},
     "output_type": "execute_result"
    }
   ],
   "source": [
    "oneExp_df = df.loc[(df['YrsExperience'] == 1) & (df['Year'] != 2007)]\n",
    "oneExp_df"
   ]
  },
  {
   "cell_type": "code",
   "execution_count": 28,
   "metadata": {
    "collapsed": true
   },
   "outputs": [],
   "source": [
    "oneExp = oneExp_df['Player']"
   ]
  },
  {
   "cell_type": "code",
   "execution_count": 29,
   "metadata": {
    "collapsed": true
   },
   "outputs": [],
   "source": [
    "playersNone = []\n",
    "for player in noExp:\n",
    "    playersNone.append(player)"
   ]
  },
  {
   "cell_type": "code",
   "execution_count": 30,
   "metadata": {},
   "outputs": [],
   "source": [
    "playersOne = []\n",
    "for player in oneExp:\n",
    "    playersOne.append(player)"
   ]
  },
  {
   "cell_type": "code",
   "execution_count": 31,
   "metadata": {},
   "outputs": [],
   "source": [
    "twoYrs = []\n",
    "for player in playersNone:\n",
    "    if player in playersOne:\n",
    "        value = 1\n",
    "        twoYrs.append(value)\n",
    "    else:\n",
    "        value = 0\n",
    "        twoYrs.append(value)"
   ]
  },
  {
   "cell_type": "code",
   "execution_count": 32,
   "metadata": {},
   "outputs": [
    {
     "data": {
      "text/plain": [
       "1285"
      ]
     },
     "execution_count": 32,
     "metadata": {},
     "output_type": "execute_result"
    }
   ],
   "source": [
    "len(twoYrs)"
   ]
  },
  {
   "cell_type": "code",
   "execution_count": 33,
   "metadata": {},
   "outputs": [
    {
     "name": "stderr",
     "output_type": "stream",
     "text": [
      "/Users/owen/anaconda/lib/python3.6/site-packages/ipykernel_launcher.py:1: SettingWithCopyWarning: \n",
      "A value is trying to be set on a copy of a slice from a DataFrame.\n",
      "Try using .loc[row_indexer,col_indexer] = value instead\n",
      "\n",
      "See the caveats in the documentation: http://pandas.pydata.org/pandas-docs/stable/indexing.html#indexing-view-versus-copy\n",
      "  \"\"\"Entry point for launching an IPython kernel.\n"
     ]
    }
   ],
   "source": [
    "noExp_df['atLeast2Years'] = twoYrs"
   ]
  },
  {
   "cell_type": "code",
   "execution_count": 34,
   "metadata": {},
   "outputs": [
    {
     "data": {
      "text/html": [
       "<div>\n",
       "<style>\n",
       "    .dataframe thead tr:only-child th {\n",
       "        text-align: right;\n",
       "    }\n",
       "\n",
       "    .dataframe thead th {\n",
       "        text-align: left;\n",
       "    }\n",
       "\n",
       "    .dataframe tbody tr th {\n",
       "        vertical-align: top;\n",
       "    }\n",
       "</style>\n",
       "<table border=\"1\" class=\"dataframe\">\n",
       "  <thead>\n",
       "    <tr style=\"text-align: right;\">\n",
       "      <th></th>\n",
       "      <th>Year</th>\n",
       "      <th>Player</th>\n",
       "      <th>Pos</th>\n",
       "      <th>Age</th>\n",
       "      <th>Tm</th>\n",
       "      <th>G</th>\n",
       "      <th>GS</th>\n",
       "      <th>MP</th>\n",
       "      <th>PER</th>\n",
       "      <th>TS%</th>\n",
       "      <th>...</th>\n",
       "      <th>BLK</th>\n",
       "      <th>TOV</th>\n",
       "      <th>PF</th>\n",
       "      <th>PTS</th>\n",
       "      <th>TrueSalary</th>\n",
       "      <th>YrsExperience</th>\n",
       "      <th>Height</th>\n",
       "      <th>Weight</th>\n",
       "      <th>RoundedPosition</th>\n",
       "      <th>atLeast2Years</th>\n",
       "    </tr>\n",
       "  </thead>\n",
       "  <tbody>\n",
       "    <tr>\n",
       "      <th>1</th>\n",
       "      <td>2007</td>\n",
       "      <td>Hassan Adams</td>\n",
       "      <td>SG</td>\n",
       "      <td>22</td>\n",
       "      <td>NJN</td>\n",
       "      <td>61</td>\n",
       "      <td>8</td>\n",
       "      <td>495</td>\n",
       "      <td>13.0</td>\n",
       "      <td>0.577</td>\n",
       "      <td>...</td>\n",
       "      <td>4</td>\n",
       "      <td>22</td>\n",
       "      <td>47</td>\n",
       "      <td>174</td>\n",
       "      <td>0</td>\n",
       "      <td>0.0</td>\n",
       "      <td>76.0</td>\n",
       "      <td>220.0</td>\n",
       "      <td>2.0</td>\n",
       "      <td>1</td>\n",
       "    </tr>\n",
       "    <tr>\n",
       "      <th>2</th>\n",
       "      <td>2007</td>\n",
       "      <td>Maurice Ager</td>\n",
       "      <td>SG</td>\n",
       "      <td>22</td>\n",
       "      <td>DAL</td>\n",
       "      <td>32</td>\n",
       "      <td>1</td>\n",
       "      <td>214</td>\n",
       "      <td>2.9</td>\n",
       "      <td>0.408</td>\n",
       "      <td>...</td>\n",
       "      <td>3</td>\n",
       "      <td>15</td>\n",
       "      <td>27</td>\n",
       "      <td>69</td>\n",
       "      <td>0</td>\n",
       "      <td>0.0</td>\n",
       "      <td>77.0</td>\n",
       "      <td>202.0</td>\n",
       "      <td>2.0</td>\n",
       "      <td>1</td>\n",
       "    </tr>\n",
       "    <tr>\n",
       "      <th>3</th>\n",
       "      <td>2007</td>\n",
       "      <td>LaMarcus Aldridge</td>\n",
       "      <td>C</td>\n",
       "      <td>21</td>\n",
       "      <td>POR</td>\n",
       "      <td>63</td>\n",
       "      <td>22</td>\n",
       "      <td>1392</td>\n",
       "      <td>17.1</td>\n",
       "      <td>0.533</td>\n",
       "      <td>...</td>\n",
       "      <td>73</td>\n",
       "      <td>43</td>\n",
       "      <td>186</td>\n",
       "      <td>565</td>\n",
       "      <td>1900000</td>\n",
       "      <td>0.0</td>\n",
       "      <td>83.0</td>\n",
       "      <td>240.0</td>\n",
       "      <td>5.0</td>\n",
       "      <td>1</td>\n",
       "    </tr>\n",
       "    <tr>\n",
       "      <th>8</th>\n",
       "      <td>2007</td>\n",
       "      <td>Lou Amundson</td>\n",
       "      <td>PF</td>\n",
       "      <td>24</td>\n",
       "      <td>TOT</td>\n",
       "      <td>11</td>\n",
       "      <td>0</td>\n",
       "      <td>89</td>\n",
       "      <td>9.6</td>\n",
       "      <td>0.412</td>\n",
       "      <td>...</td>\n",
       "      <td>8</td>\n",
       "      <td>5</td>\n",
       "      <td>15</td>\n",
       "      <td>16</td>\n",
       "      <td>0</td>\n",
       "      <td>0.0</td>\n",
       "      <td>0.0</td>\n",
       "      <td>0.0</td>\n",
       "      <td>0.0</td>\n",
       "      <td>0</td>\n",
       "    </tr>\n",
       "    <tr>\n",
       "      <th>10</th>\n",
       "      <td>2007</td>\n",
       "      <td>Lou Amundson</td>\n",
       "      <td>PF</td>\n",
       "      <td>24</td>\n",
       "      <td>PHI</td>\n",
       "      <td>10</td>\n",
       "      <td>0</td>\n",
       "      <td>87</td>\n",
       "      <td>9.8</td>\n",
       "      <td>0.412</td>\n",
       "      <td>...</td>\n",
       "      <td>8</td>\n",
       "      <td>5</td>\n",
       "      <td>15</td>\n",
       "      <td>16</td>\n",
       "      <td>0</td>\n",
       "      <td>0.0</td>\n",
       "      <td>0.0</td>\n",
       "      <td>0.0</td>\n",
       "      <td>0.0</td>\n",
       "      <td>0</td>\n",
       "    </tr>\n",
       "    <tr>\n",
       "      <th>18</th>\n",
       "      <td>2007</td>\n",
       "      <td>Hilton Armstrong</td>\n",
       "      <td>C</td>\n",
       "      <td>22</td>\n",
       "      <td>NOK</td>\n",
       "      <td>56</td>\n",
       "      <td>5</td>\n",
       "      <td>634</td>\n",
       "      <td>12.2</td>\n",
       "      <td>0.570</td>\n",
       "      <td>...</td>\n",
       "      <td>26</td>\n",
       "      <td>35</td>\n",
       "      <td>79</td>\n",
       "      <td>176</td>\n",
       "      <td>700000</td>\n",
       "      <td>0.0</td>\n",
       "      <td>83.0</td>\n",
       "      <td>235.0</td>\n",
       "      <td>5.0</td>\n",
       "      <td>1</td>\n",
       "    </tr>\n",
       "    <tr>\n",
       "      <th>21</th>\n",
       "      <td>2007</td>\n",
       "      <td>James Augustine</td>\n",
       "      <td>PF</td>\n",
       "      <td>22</td>\n",
       "      <td>ORL</td>\n",
       "      <td>2</td>\n",
       "      <td>0</td>\n",
       "      <td>7</td>\n",
       "      <td>16.6</td>\n",
       "      <td>0.333</td>\n",
       "      <td>...</td>\n",
       "      <td>0</td>\n",
       "      <td>0</td>\n",
       "      <td>2</td>\n",
       "      <td>2</td>\n",
       "      <td>0</td>\n",
       "      <td>0.0</td>\n",
       "      <td>82.0</td>\n",
       "      <td>235.0</td>\n",
       "      <td>4.0</td>\n",
       "      <td>1</td>\n",
       "    </tr>\n",
       "    <tr>\n",
       "      <th>22</th>\n",
       "      <td>2007</td>\n",
       "      <td>Kelenna Azubuike</td>\n",
       "      <td>SG</td>\n",
       "      <td>23</td>\n",
       "      <td>GSW</td>\n",
       "      <td>41</td>\n",
       "      <td>9</td>\n",
       "      <td>669</td>\n",
       "      <td>13.4</td>\n",
       "      <td>0.572</td>\n",
       "      <td>...</td>\n",
       "      <td>10</td>\n",
       "      <td>39</td>\n",
       "      <td>49</td>\n",
       "      <td>291</td>\n",
       "      <td>700000</td>\n",
       "      <td>0.0</td>\n",
       "      <td>77.0</td>\n",
       "      <td>220.0</td>\n",
       "      <td>2.0</td>\n",
       "      <td>1</td>\n",
       "    </tr>\n",
       "    <tr>\n",
       "      <th>23</th>\n",
       "      <td>2007</td>\n",
       "      <td>Renaldo Balkman</td>\n",
       "      <td>SF</td>\n",
       "      <td>22</td>\n",
       "      <td>NYK</td>\n",
       "      <td>68</td>\n",
       "      <td>1</td>\n",
       "      <td>1064</td>\n",
       "      <td>16.1</td>\n",
       "      <td>0.531</td>\n",
       "      <td>...</td>\n",
       "      <td>44</td>\n",
       "      <td>49</td>\n",
       "      <td>146</td>\n",
       "      <td>334</td>\n",
       "      <td>3100000</td>\n",
       "      <td>0.0</td>\n",
       "      <td>80.0</td>\n",
       "      <td>208.0</td>\n",
       "      <td>4.0</td>\n",
       "      <td>1</td>\n",
       "    </tr>\n",
       "    <tr>\n",
       "      <th>26</th>\n",
       "      <td>2007</td>\n",
       "      <td>J.J. Barea</td>\n",
       "      <td>PG</td>\n",
       "      <td>22</td>\n",
       "      <td>DAL</td>\n",
       "      <td>33</td>\n",
       "      <td>1</td>\n",
       "      <td>191</td>\n",
       "      <td>9.6</td>\n",
       "      <td>0.440</td>\n",
       "      <td>...</td>\n",
       "      <td>1</td>\n",
       "      <td>14</td>\n",
       "      <td>19</td>\n",
       "      <td>78</td>\n",
       "      <td>0</td>\n",
       "      <td>0.0</td>\n",
       "      <td>0.0</td>\n",
       "      <td>0.0</td>\n",
       "      <td>0.0</td>\n",
       "      <td>0</td>\n",
       "    </tr>\n",
       "    <tr>\n",
       "      <th>27</th>\n",
       "      <td>2007</td>\n",
       "      <td>Andrea Bargnani</td>\n",
       "      <td>PF</td>\n",
       "      <td>21</td>\n",
       "      <td>TOR</td>\n",
       "      <td>65</td>\n",
       "      <td>2</td>\n",
       "      <td>1629</td>\n",
       "      <td>12.8</td>\n",
       "      <td>0.546</td>\n",
       "      <td>...</td>\n",
       "      <td>53</td>\n",
       "      <td>107</td>\n",
       "      <td>180</td>\n",
       "      <td>751</td>\n",
       "      <td>2400000</td>\n",
       "      <td>0.0</td>\n",
       "      <td>84.0</td>\n",
       "      <td>225.0</td>\n",
       "      <td>4.0</td>\n",
       "      <td>1</td>\n",
       "    </tr>\n",
       "    <tr>\n",
       "      <th>42</th>\n",
       "      <td>2007</td>\n",
       "      <td>Steve Blake</td>\n",
       "      <td>PG</td>\n",
       "      <td>26</td>\n",
       "      <td>TOT</td>\n",
       "      <td>82</td>\n",
       "      <td>42</td>\n",
       "      <td>2225</td>\n",
       "      <td>9.9</td>\n",
       "      <td>0.491</td>\n",
       "      <td>...</td>\n",
       "      <td>8</td>\n",
       "      <td>129</td>\n",
       "      <td>121</td>\n",
       "      <td>528</td>\n",
       "      <td>0</td>\n",
       "      <td>0.0</td>\n",
       "      <td>0.0</td>\n",
       "      <td>0.0</td>\n",
       "      <td>0.0</td>\n",
       "      <td>0</td>\n",
       "    </tr>\n",
       "    <tr>\n",
       "      <th>45</th>\n",
       "      <td>2007</td>\n",
       "      <td>Will Blalock</td>\n",
       "      <td>PG</td>\n",
       "      <td>23</td>\n",
       "      <td>DET</td>\n",
       "      <td>14</td>\n",
       "      <td>0</td>\n",
       "      <td>166</td>\n",
       "      <td>4.5</td>\n",
       "      <td>0.383</td>\n",
       "      <td>...</td>\n",
       "      <td>0</td>\n",
       "      <td>12</td>\n",
       "      <td>9</td>\n",
       "      <td>25</td>\n",
       "      <td>0</td>\n",
       "      <td>0.0</td>\n",
       "      <td>72.0</td>\n",
       "      <td>205.0</td>\n",
       "      <td>1.0</td>\n",
       "      <td>0</td>\n",
       "    </tr>\n",
       "    <tr>\n",
       "      <th>51</th>\n",
       "      <td>2007</td>\n",
       "      <td>Josh Boone</td>\n",
       "      <td>PF</td>\n",
       "      <td>22</td>\n",
       "      <td>NJN</td>\n",
       "      <td>61</td>\n",
       "      <td>0</td>\n",
       "      <td>669</td>\n",
       "      <td>14.6</td>\n",
       "      <td>0.587</td>\n",
       "      <td>...</td>\n",
       "      <td>21</td>\n",
       "      <td>33</td>\n",
       "      <td>94</td>\n",
       "      <td>254</td>\n",
       "      <td>0</td>\n",
       "      <td>0.0</td>\n",
       "      <td>82.0</td>\n",
       "      <td>237.0</td>\n",
       "      <td>4.0</td>\n",
       "      <td>1</td>\n",
       "    </tr>\n",
       "    <tr>\n",
       "      <th>56</th>\n",
       "      <td>2007</td>\n",
       "      <td>Earl Boykins</td>\n",
       "      <td>PG</td>\n",
       "      <td>30</td>\n",
       "      <td>TOT</td>\n",
       "      <td>66</td>\n",
       "      <td>23</td>\n",
       "      <td>2031</td>\n",
       "      <td>16.2</td>\n",
       "      <td>0.548</td>\n",
       "      <td>...</td>\n",
       "      <td>2</td>\n",
       "      <td>120</td>\n",
       "      <td>92</td>\n",
       "      <td>961</td>\n",
       "      <td>0</td>\n",
       "      <td>0.0</td>\n",
       "      <td>0.0</td>\n",
       "      <td>0.0</td>\n",
       "      <td>0.0</td>\n",
       "      <td>0</td>\n",
       "    </tr>\n",
       "    <tr>\n",
       "      <th>59</th>\n",
       "      <td>2007</td>\n",
       "      <td>Cedric Bozeman</td>\n",
       "      <td>SG</td>\n",
       "      <td>23</td>\n",
       "      <td>ATL</td>\n",
       "      <td>23</td>\n",
       "      <td>5</td>\n",
       "      <td>199</td>\n",
       "      <td>-0.1</td>\n",
       "      <td>0.312</td>\n",
       "      <td>...</td>\n",
       "      <td>2</td>\n",
       "      <td>9</td>\n",
       "      <td>32</td>\n",
       "      <td>26</td>\n",
       "      <td>0</td>\n",
       "      <td>0.0</td>\n",
       "      <td>78.0</td>\n",
       "      <td>207.0</td>\n",
       "      <td>2.0</td>\n",
       "      <td>0</td>\n",
       "    </tr>\n",
       "    <tr>\n",
       "      <th>61</th>\n",
       "      <td>2007</td>\n",
       "      <td>Ronnie Brewer</td>\n",
       "      <td>SG</td>\n",
       "      <td>21</td>\n",
       "      <td>UTA</td>\n",
       "      <td>56</td>\n",
       "      <td>14</td>\n",
       "      <td>675</td>\n",
       "      <td>15.2</td>\n",
       "      <td>0.566</td>\n",
       "      <td>...</td>\n",
       "      <td>6</td>\n",
       "      <td>24</td>\n",
       "      <td>44</td>\n",
       "      <td>260</td>\n",
       "      <td>1500000</td>\n",
       "      <td>0.0</td>\n",
       "      <td>79.0</td>\n",
       "      <td>220.0</td>\n",
       "      <td>3.0</td>\n",
       "      <td>1</td>\n",
       "    </tr>\n",
       "    <tr>\n",
       "      <th>63</th>\n",
       "      <td>2007</td>\n",
       "      <td>Andre Brown</td>\n",
       "      <td>PF</td>\n",
       "      <td>25</td>\n",
       "      <td>SEA</td>\n",
       "      <td>38</td>\n",
       "      <td>0</td>\n",
       "      <td>271</td>\n",
       "      <td>11.1</td>\n",
       "      <td>0.577</td>\n",
       "      <td>...</td>\n",
       "      <td>4</td>\n",
       "      <td>29</td>\n",
       "      <td>26</td>\n",
       "      <td>93</td>\n",
       "      <td>0</td>\n",
       "      <td>0.0</td>\n",
       "      <td>81.0</td>\n",
       "      <td>245.0</td>\n",
       "      <td>4.0</td>\n",
       "      <td>1</td>\n",
       "    </tr>\n",
       "    <tr>\n",
       "      <th>64</th>\n",
       "      <td>2007</td>\n",
       "      <td>Dee Brown</td>\n",
       "      <td>PG</td>\n",
       "      <td>22</td>\n",
       "      <td>UTA</td>\n",
       "      <td>49</td>\n",
       "      <td>0</td>\n",
       "      <td>450</td>\n",
       "      <td>8.6</td>\n",
       "      <td>0.411</td>\n",
       "      <td>...</td>\n",
       "      <td>7</td>\n",
       "      <td>31</td>\n",
       "      <td>51</td>\n",
       "      <td>94</td>\n",
       "      <td>900000</td>\n",
       "      <td>0.0</td>\n",
       "      <td>72.0</td>\n",
       "      <td>185.0</td>\n",
       "      <td>1.0</td>\n",
       "      <td>1</td>\n",
       "    </tr>\n",
       "    <tr>\n",
       "      <th>68</th>\n",
       "      <td>2007</td>\n",
       "      <td>Shannon Brown</td>\n",
       "      <td>SG</td>\n",
       "      <td>21</td>\n",
       "      <td>CLE</td>\n",
       "      <td>23</td>\n",
       "      <td>5</td>\n",
       "      <td>202</td>\n",
       "      <td>7.5</td>\n",
       "      <td>0.455</td>\n",
       "      <td>...</td>\n",
       "      <td>3</td>\n",
       "      <td>14</td>\n",
       "      <td>24</td>\n",
       "      <td>73</td>\n",
       "      <td>0</td>\n",
       "      <td>0.0</td>\n",
       "      <td>76.0</td>\n",
       "      <td>205.0</td>\n",
       "      <td>2.0</td>\n",
       "      <td>1</td>\n",
       "    </tr>\n",
       "  </tbody>\n",
       "</table>\n",
       "<p>20 rows × 58 columns</p>\n",
       "</div>"
      ],
      "text/plain": [
       "    Year             Player Pos  Age   Tm   G  GS    MP   PER    TS%  \\\n",
       "1   2007       Hassan Adams  SG   22  NJN  61   8   495  13.0  0.577   \n",
       "2   2007       Maurice Ager  SG   22  DAL  32   1   214   2.9  0.408   \n",
       "3   2007  LaMarcus Aldridge   C   21  POR  63  22  1392  17.1  0.533   \n",
       "8   2007       Lou Amundson  PF   24  TOT  11   0    89   9.6  0.412   \n",
       "10  2007       Lou Amundson  PF   24  PHI  10   0    87   9.8  0.412   \n",
       "18  2007   Hilton Armstrong   C   22  NOK  56   5   634  12.2  0.570   \n",
       "21  2007    James Augustine  PF   22  ORL   2   0     7  16.6  0.333   \n",
       "22  2007   Kelenna Azubuike  SG   23  GSW  41   9   669  13.4  0.572   \n",
       "23  2007    Renaldo Balkman  SF   22  NYK  68   1  1064  16.1  0.531   \n",
       "26  2007         J.J. Barea  PG   22  DAL  33   1   191   9.6  0.440   \n",
       "27  2007    Andrea Bargnani  PF   21  TOR  65   2  1629  12.8  0.546   \n",
       "42  2007        Steve Blake  PG   26  TOT  82  42  2225   9.9  0.491   \n",
       "45  2007       Will Blalock  PG   23  DET  14   0   166   4.5  0.383   \n",
       "51  2007         Josh Boone  PF   22  NJN  61   0   669  14.6  0.587   \n",
       "56  2007       Earl Boykins  PG   30  TOT  66  23  2031  16.2  0.548   \n",
       "59  2007     Cedric Bozeman  SG   23  ATL  23   5   199  -0.1  0.312   \n",
       "61  2007      Ronnie Brewer  SG   21  UTA  56  14   675  15.2  0.566   \n",
       "63  2007        Andre Brown  PF   25  SEA  38   0   271  11.1  0.577   \n",
       "64  2007          Dee Brown  PG   22  UTA  49   0   450   8.6  0.411   \n",
       "68  2007      Shannon Brown  SG   21  CLE  23   5   202   7.5  0.455   \n",
       "\n",
       "        ...        BLK  TOV   PF  PTS  TrueSalary  YrsExperience  Height  \\\n",
       "1       ...          4   22   47  174           0            0.0    76.0   \n",
       "2       ...          3   15   27   69           0            0.0    77.0   \n",
       "3       ...         73   43  186  565     1900000            0.0    83.0   \n",
       "8       ...          8    5   15   16           0            0.0     0.0   \n",
       "10      ...          8    5   15   16           0            0.0     0.0   \n",
       "18      ...         26   35   79  176      700000            0.0    83.0   \n",
       "21      ...          0    0    2    2           0            0.0    82.0   \n",
       "22      ...         10   39   49  291      700000            0.0    77.0   \n",
       "23      ...         44   49  146  334     3100000            0.0    80.0   \n",
       "26      ...          1   14   19   78           0            0.0     0.0   \n",
       "27      ...         53  107  180  751     2400000            0.0    84.0   \n",
       "42      ...          8  129  121  528           0            0.0     0.0   \n",
       "45      ...          0   12    9   25           0            0.0    72.0   \n",
       "51      ...         21   33   94  254           0            0.0    82.0   \n",
       "56      ...          2  120   92  961           0            0.0     0.0   \n",
       "59      ...          2    9   32   26           0            0.0    78.0   \n",
       "61      ...          6   24   44  260     1500000            0.0    79.0   \n",
       "63      ...          4   29   26   93           0            0.0    81.0   \n",
       "64      ...          7   31   51   94      900000            0.0    72.0   \n",
       "68      ...          3   14   24   73           0            0.0    76.0   \n",
       "\n",
       "    Weight  RoundedPosition  atLeast2Years  \n",
       "1    220.0              2.0              1  \n",
       "2    202.0              2.0              1  \n",
       "3    240.0              5.0              1  \n",
       "8      0.0              0.0              0  \n",
       "10     0.0              0.0              0  \n",
       "18   235.0              5.0              1  \n",
       "21   235.0              4.0              1  \n",
       "22   220.0              2.0              1  \n",
       "23   208.0              4.0              1  \n",
       "26     0.0              0.0              0  \n",
       "27   225.0              4.0              1  \n",
       "42     0.0              0.0              0  \n",
       "45   205.0              1.0              0  \n",
       "51   237.0              4.0              1  \n",
       "56     0.0              0.0              0  \n",
       "59   207.0              2.0              0  \n",
       "61   220.0              3.0              1  \n",
       "63   245.0              4.0              1  \n",
       "64   185.0              1.0              1  \n",
       "68   205.0              2.0              1  \n",
       "\n",
       "[20 rows x 58 columns]"
      ]
     },
     "execution_count": 34,
     "metadata": {},
     "output_type": "execute_result"
    }
   ],
   "source": [
    "noExp_df.head(20)"
   ]
  },
  {
   "cell_type": "code",
   "execution_count": 35,
   "metadata": {},
   "outputs": [
    {
     "data": {
      "text/plain": [
       "Index(['Year', 'Player', 'Pos', 'Age', 'Tm', 'G', 'GS', 'MP', 'PER', 'TS%',\n",
       "       '3PAr', 'FTr', 'ORB%', 'DRB%', 'TRB%', 'AST%', 'STL%', 'BLK%', 'TOV%',\n",
       "       'USG%', 'blanl', 'OWS', 'DWS', 'WS', 'WS/48', 'blank2', 'OBPM', 'DBPM',\n",
       "       'BPM', 'VORP', 'FG', 'FGA', 'FG%', '3P', '3PA', '3P%', '2P', '2PA',\n",
       "       '2P%', 'eFG%', 'FT', 'FTA', 'FT%', 'ORB', 'DRB', 'TRB', 'AST', 'STL',\n",
       "       'BLK', 'TOV', 'PF', 'PTS', 'TrueSalary', 'YrsExperience', 'Height',\n",
       "       'Weight', 'RoundedPosition', 'atLeast2Years'],\n",
       "      dtype='object')"
      ]
     },
     "execution_count": 35,
     "metadata": {},
     "output_type": "execute_result"
    }
   ],
   "source": [
    "noExp_df.keys()"
   ]
  },
  {
   "cell_type": "code",
   "execution_count": 36,
   "metadata": {},
   "outputs": [
    {
     "data": {
      "text/html": [
       "<div>\n",
       "<style>\n",
       "    .dataframe thead tr:only-child th {\n",
       "        text-align: right;\n",
       "    }\n",
       "\n",
       "    .dataframe thead th {\n",
       "        text-align: left;\n",
       "    }\n",
       "\n",
       "    .dataframe tbody tr th {\n",
       "        vertical-align: top;\n",
       "    }\n",
       "</style>\n",
       "<table border=\"1\" class=\"dataframe\">\n",
       "  <thead>\n",
       "    <tr style=\"text-align: right;\">\n",
       "      <th></th>\n",
       "      <th>G</th>\n",
       "      <th>GS</th>\n",
       "      <th>MP</th>\n",
       "      <th>PER</th>\n",
       "      <th>TS%</th>\n",
       "      <th>3PAr</th>\n",
       "      <th>FTr</th>\n",
       "      <th>ORB%</th>\n",
       "      <th>DRB%</th>\n",
       "      <th>TRB%</th>\n",
       "      <th>...</th>\n",
       "      <th>TRB</th>\n",
       "      <th>AST</th>\n",
       "      <th>STL</th>\n",
       "      <th>BLK</th>\n",
       "      <th>TOV</th>\n",
       "      <th>PF</th>\n",
       "      <th>PTS</th>\n",
       "      <th>YrsExperience</th>\n",
       "      <th>Height</th>\n",
       "      <th>Weight</th>\n",
       "    </tr>\n",
       "  </thead>\n",
       "  <tbody>\n",
       "    <tr>\n",
       "      <th>0</th>\n",
       "      <td>61</td>\n",
       "      <td>8</td>\n",
       "      <td>495</td>\n",
       "      <td>13.0</td>\n",
       "      <td>0.577</td>\n",
       "      <td>0.007</td>\n",
       "      <td>0.267</td>\n",
       "      <td>8.4</td>\n",
       "      <td>9.9</td>\n",
       "      <td>9.2</td>\n",
       "      <td>...</td>\n",
       "      <td>77</td>\n",
       "      <td>13</td>\n",
       "      <td>17</td>\n",
       "      <td>4</td>\n",
       "      <td>22</td>\n",
       "      <td>47</td>\n",
       "      <td>174</td>\n",
       "      <td>0.0</td>\n",
       "      <td>76.0</td>\n",
       "      <td>220.0</td>\n",
       "    </tr>\n",
       "    <tr>\n",
       "      <th>1</th>\n",
       "      <td>32</td>\n",
       "      <td>1</td>\n",
       "      <td>214</td>\n",
       "      <td>2.9</td>\n",
       "      <td>0.408</td>\n",
       "      <td>0.214</td>\n",
       "      <td>0.471</td>\n",
       "      <td>0.6</td>\n",
       "      <td>11.0</td>\n",
       "      <td>5.9</td>\n",
       "      <td>...</td>\n",
       "      <td>21</td>\n",
       "      <td>7</td>\n",
       "      <td>4</td>\n",
       "      <td>3</td>\n",
       "      <td>15</td>\n",
       "      <td>27</td>\n",
       "      <td>69</td>\n",
       "      <td>0.0</td>\n",
       "      <td>77.0</td>\n",
       "      <td>202.0</td>\n",
       "    </tr>\n",
       "    <tr>\n",
       "      <th>2</th>\n",
       "      <td>63</td>\n",
       "      <td>22</td>\n",
       "      <td>1392</td>\n",
       "      <td>17.1</td>\n",
       "      <td>0.533</td>\n",
       "      <td>0.004</td>\n",
       "      <td>0.240</td>\n",
       "      <td>12.6</td>\n",
       "      <td>15.3</td>\n",
       "      <td>13.9</td>\n",
       "      <td>...</td>\n",
       "      <td>312</td>\n",
       "      <td>24</td>\n",
       "      <td>22</td>\n",
       "      <td>73</td>\n",
       "      <td>43</td>\n",
       "      <td>186</td>\n",
       "      <td>565</td>\n",
       "      <td>0.0</td>\n",
       "      <td>83.0</td>\n",
       "      <td>240.0</td>\n",
       "    </tr>\n",
       "    <tr>\n",
       "      <th>3</th>\n",
       "      <td>41</td>\n",
       "      <td>9</td>\n",
       "      <td>669</td>\n",
       "      <td>13.4</td>\n",
       "      <td>0.572</td>\n",
       "      <td>0.359</td>\n",
       "      <td>0.355</td>\n",
       "      <td>4.2</td>\n",
       "      <td>11.4</td>\n",
       "      <td>7.7</td>\n",
       "      <td>...</td>\n",
       "      <td>94</td>\n",
       "      <td>28</td>\n",
       "      <td>22</td>\n",
       "      <td>10</td>\n",
       "      <td>39</td>\n",
       "      <td>49</td>\n",
       "      <td>291</td>\n",
       "      <td>0.0</td>\n",
       "      <td>77.0</td>\n",
       "      <td>220.0</td>\n",
       "    </tr>\n",
       "    <tr>\n",
       "      <th>4</th>\n",
       "      <td>68</td>\n",
       "      <td>1</td>\n",
       "      <td>1064</td>\n",
       "      <td>16.1</td>\n",
       "      <td>0.531</td>\n",
       "      <td>0.098</td>\n",
       "      <td>0.327</td>\n",
       "      <td>11.0</td>\n",
       "      <td>21.8</td>\n",
       "      <td>16.4</td>\n",
       "      <td>...</td>\n",
       "      <td>294</td>\n",
       "      <td>44</td>\n",
       "      <td>57</td>\n",
       "      <td>44</td>\n",
       "      <td>49</td>\n",
       "      <td>146</td>\n",
       "      <td>334</td>\n",
       "      <td>0.0</td>\n",
       "      <td>80.0</td>\n",
       "      <td>208.0</td>\n",
       "    </tr>\n",
       "  </tbody>\n",
       "</table>\n",
       "<p>5 rows × 48 columns</p>\n",
       "</div>"
      ],
      "text/plain": [
       "    G  GS    MP   PER    TS%   3PAr    FTr  ORB%  DRB%  TRB%   ...    TRB  \\\n",
       "0  61   8   495  13.0  0.577  0.007  0.267   8.4   9.9   9.2   ...     77   \n",
       "1  32   1   214   2.9  0.408  0.214  0.471   0.6  11.0   5.9   ...     21   \n",
       "2  63  22  1392  17.1  0.533  0.004  0.240  12.6  15.3  13.9   ...    312   \n",
       "3  41   9   669  13.4  0.572  0.359  0.355   4.2  11.4   7.7   ...     94   \n",
       "4  68   1  1064  16.1  0.531  0.098  0.327  11.0  21.8  16.4   ...    294   \n",
       "\n",
       "   AST  STL  BLK  TOV   PF  PTS  YrsExperience  Height  Weight  \n",
       "0   13   17    4   22   47  174            0.0    76.0   220.0  \n",
       "1    7    4    3   15   27   69            0.0    77.0   202.0  \n",
       "2   24   22   73   43  186  565            0.0    83.0   240.0  \n",
       "3   28   22   10   39   49  291            0.0    77.0   220.0  \n",
       "4   44   57   44   49  146  334            0.0    80.0   208.0  \n",
       "\n",
       "[5 rows x 48 columns]"
      ]
     },
     "execution_count": 36,
     "metadata": {},
     "output_type": "execute_result"
    }
   ],
   "source": [
    "noExp_df = noExp_df.drop(\"blanl\", axis=1)\n",
    "noExp_df = noExp_df.drop(\"blank2\", axis=1)\n",
    "noExp_df = noExp_df.dropna(axis=0, how='any')\n",
    "noExp_df = noExp_df.reset_index(drop=True) #RESET INDEX\n",
    "data = noExp_df.drop(\"Pos\", axis=1)\n",
    "data = data.drop(\"Tm\", axis=1)\n",
    "data = data.drop(\"Player\", axis=1)\n",
    "data = data.drop(\"TrueSalary\", axis=1)\n",
    "data = data.drop(\"RoundedPosition\", axis=1)\n",
    "data = data.drop(\"Year\", axis=1)\n",
    "data = data.drop(\"Age\", axis=1)\n",
    "data = data.drop(\"atLeast2Years\", axis=1)\n",
    "feature_names = data.columns\n",
    "target = noExp_df['atLeast2Years']\n",
    "data.head()"
   ]
  },
  {
   "cell_type": "code",
   "execution_count": 37,
   "metadata": {
    "collapsed": true
   },
   "outputs": [],
   "source": [
    "from sklearn.model_selection import train_test_split\n",
    "\n",
    "X_train, X_test, y_train, y_test = train_test_split(data, target, random_state=1, stratify=target)"
   ]
  },
  {
   "cell_type": "code",
   "execution_count": 38,
   "metadata": {},
   "outputs": [
    {
     "name": "stderr",
     "output_type": "stream",
     "text": [
      "/Users/owen/anaconda/lib/python3.6/site-packages/sklearn/utils/validation.py:429: DataConversionWarning: Data with input dtype int64 was converted to float64 by StandardScaler.\n",
      "  warnings.warn(msg, _DataConversionWarning)\n",
      "/Users/owen/anaconda/lib/python3.6/site-packages/sklearn/preprocessing/data.py:586: DeprecationWarning: Passing 1d arrays as data is deprecated in 0.17 and will raise ValueError in 0.19. Reshape your data either using X.reshape(-1, 1) if your data has a single feature or X.reshape(1, -1) if it contains a single sample.\n",
      "  warnings.warn(DEPRECATION_MSG_1D, DeprecationWarning)\n"
     ]
    }
   ],
   "source": [
    "from sklearn.preprocessing import StandardScaler\n",
    "\n",
    "X_scaler = StandardScaler().fit(X_train)\n",
    "y_scaler = StandardScaler().fit(y_train)"
   ]
  },
  {
   "cell_type": "code",
   "execution_count": 39,
   "metadata": {},
   "outputs": [
    {
     "name": "stderr",
     "output_type": "stream",
     "text": [
      "/Users/owen/anaconda/lib/python3.6/site-packages/sklearn/utils/validation.py:429: DataConversionWarning: Data with input dtype int64 was converted to float64 by StandardScaler.\n",
      "  warnings.warn(msg, _DataConversionWarning)\n",
      "/Users/owen/anaconda/lib/python3.6/site-packages/sklearn/preprocessing/data.py:649: DeprecationWarning: Passing 1d arrays as data is deprecated in 0.17 and will raise ValueError in 0.19. Reshape your data either using X.reshape(-1, 1) if your data has a single feature or X.reshape(1, -1) if it contains a single sample.\n",
      "  warnings.warn(DEPRECATION_MSG_1D, DeprecationWarning)\n",
      "/Users/owen/anaconda/lib/python3.6/site-packages/sklearn/preprocessing/data.py:649: DeprecationWarning: Passing 1d arrays as data is deprecated in 0.17 and will raise ValueError in 0.19. Reshape your data either using X.reshape(-1, 1) if your data has a single feature or X.reshape(1, -1) if it contains a single sample.\n",
      "  warnings.warn(DEPRECATION_MSG_1D, DeprecationWarning)\n"
     ]
    }
   ],
   "source": [
    "X_train_scaled = X_scaler.transform(X_train)\n",
    "X_test_scaled = X_scaler.transform(X_test)\n",
    "y_train_scaled = y_scaler.transform(y_train)\n",
    "y_test_scaled = y_scaler.transform(y_test)"
   ]
  },
  {
   "cell_type": "code",
   "execution_count": 40,
   "metadata": {},
   "outputs": [
    {
     "data": {
      "text/plain": [
       "LogisticRegression(C=1.0, class_weight=None, dual=False, fit_intercept=True,\n",
       "          intercept_scaling=1, max_iter=100, multi_class='ovr', n_jobs=1,\n",
       "          penalty='l2', random_state=None, solver='liblinear', tol=0.0001,\n",
       "          verbose=0, warm_start=False)"
      ]
     },
     "execution_count": 40,
     "metadata": {},
     "output_type": "execute_result"
    }
   ],
   "source": [
    "from sklearn.linear_model import LogisticRegression\n",
    "classifier = LogisticRegression()\n",
    "classifier"
   ]
  },
  {
   "cell_type": "code",
   "execution_count": 41,
   "metadata": {},
   "outputs": [
    {
     "data": {
      "text/plain": [
       "LogisticRegression(C=1.0, class_weight=None, dual=False, fit_intercept=True,\n",
       "          intercept_scaling=1, max_iter=100, multi_class='ovr', n_jobs=1,\n",
       "          penalty='l2', random_state=None, solver='liblinear', tol=0.0001,\n",
       "          verbose=0, warm_start=False)"
      ]
     },
     "execution_count": 41,
     "metadata": {},
     "output_type": "execute_result"
    }
   ],
   "source": [
    "classifier.fit(X_train_scaled, y_train)"
   ]
  },
  {
   "cell_type": "code",
   "execution_count": 42,
   "metadata": {},
   "outputs": [
    {
     "name": "stdout",
     "output_type": "stream",
     "text": [
      "{'G': '0.96', 'GS': '-0.27', 'MP': '0.04', 'PER': '-0.04', 'TS%': '0.09', '3PAr': '-0.42', 'FTr': '-0.34', 'ORB%': '-0.14', 'DRB%': '0.13', 'TRB%': '-0.06', 'AST%': '-0.06', 'STL%': '0.03', 'BLK%': '-0.04', 'TOV%': '0.03', 'USG%': '0.19', 'OWS': '0.48', 'DWS': '-0.93', 'WS': '-0.67', 'WS/48': '0.73', 'OBPM': '-0.16', 'DBPM': '-0.05', 'BPM': '0.08', 'VORP': '0.01', 'FG': '-0.10', 'FGA': '0.02', 'FG%': '-0.33', '3P': '-0.85', '3PA': '0.81', '3P%': '0.08', '2P': '0.17', '2PA': '-0.33', '2P%': '0.33', 'eFG%': '-0.17', 'FT': '0.04', 'FTA': '-0.06', 'FT%': '-0.17', 'ORB': '-0.00', 'DRB': '0.33', 'TRB': '0.23', 'AST': '-0.85', 'STL': '0.62', 'BLK': '0.02', 'TOV': '1.03', 'PF': '-0.72', 'PTS': '-0.15', 'YrsExperience': '0.00', 'Height': '0.68', 'Weight': '0.22'}\n"
     ]
    }
   ],
   "source": [
    "coefficients = classifier.coef_.tolist()[0]\n",
    "coefficients = [ '%.2f' % elem for elem in coefficients ]\n",
    "features = data.columns.tolist()\n",
    "print(dict(zip(features, coefficients)))"
   ]
  },
  {
   "cell_type": "code",
   "execution_count": 43,
   "metadata": {},
   "outputs": [
    {
     "data": {
      "text/plain": [
       "'0.683'"
      ]
     },
     "execution_count": 43,
     "metadata": {},
     "output_type": "execute_result"
    }
   ],
   "source": [
    "score = classifier.score(X_test_scaled, y_test)\n",
    "score = \"%.3f\" % score\n",
    "score"
   ]
  },
  {
   "cell_type": "code",
   "execution_count": 44,
   "metadata": {},
   "outputs": [
    {
     "name": "stdout",
     "output_type": "stream",
     "text": [
      "Testing Data Score: 0.6825396825396826\n"
     ]
    }
   ],
   "source": [
    "print(f\"Testing Data Score: {classifier.score(X_test_scaled, y_test)}\")"
   ]
  },
  {
   "cell_type": "code",
   "execution_count": 45,
   "metadata": {},
   "outputs": [
    {
     "data": {
      "image/png": "[encoded data removed]",
      "text/plain": [
       "<matplotlib.figure.Figure at 0x11df78c88>"
      ]
     },
     "metadata": {},
     "output_type": "display_data"
    }
   ],
   "source": [
    "x_values = np.arange(len(feature_names))\n",
    "plt.figure(figsize=(10, 7))\n",
    "\n",
    "plt.title(\"Logistic Regression Feature Coefficient; Testing Data Score: \"f\"{score}\")\n",
    "plt.xlabel(\"Feature Name\")\n",
    "plt.ylabel(\"Regression Coefficient\")\n",
    "\n",
    "plt.bar(x_values, coefficients, facecolor=\"darkblue\",\n",
    "        alpha=0.75, tick_label=feature_names)\n",
    "plt.xticks(rotation='vertical')\n",
    "plt.savefig(\"Rookie_Success_Regression_Features\")\n",
    "plt.show()"
   ]
  },
  {
   "cell_type": "code",
   "execution_count": 46,
   "metadata": {},
   "outputs": [
    {
     "data": {
      "text/html": [
       "<div>\n",
       "<style>\n",
       "    .dataframe thead tr:only-child th {\n",
       "        text-align: right;\n",
       "    }\n",
       "\n",
       "    .dataframe thead th {\n",
       "        text-align: left;\n",
       "    }\n",
       "\n",
       "    .dataframe tbody tr th {\n",
       "        vertical-align: top;\n",
       "    }\n",
       "</style>\n",
       "<table border=\"1\" class=\"dataframe\">\n",
       "  <thead>\n",
       "    <tr style=\"text-align: right;\">\n",
       "      <th></th>\n",
       "      <th>Actual</th>\n",
       "      <th>Prediction</th>\n",
       "    </tr>\n",
       "  </thead>\n",
       "  <tbody>\n",
       "    <tr>\n",
       "      <th>840</th>\n",
       "      <td>0</td>\n",
       "      <td>1</td>\n",
       "    </tr>\n",
       "    <tr>\n",
       "      <th>844</th>\n",
       "      <td>1</td>\n",
       "      <td>0</td>\n",
       "    </tr>\n",
       "    <tr>\n",
       "      <th>573</th>\n",
       "      <td>0</td>\n",
       "      <td>1</td>\n",
       "    </tr>\n",
       "    <tr>\n",
       "      <th>252</th>\n",
       "      <td>1</td>\n",
       "      <td>0</td>\n",
       "    </tr>\n",
       "    <tr>\n",
       "      <th>873</th>\n",
       "      <td>1</td>\n",
       "      <td>0</td>\n",
       "    </tr>\n",
       "    <tr>\n",
       "      <th>604</th>\n",
       "      <td>1</td>\n",
       "      <td>0</td>\n",
       "    </tr>\n",
       "    <tr>\n",
       "      <th>270</th>\n",
       "      <td>1</td>\n",
       "      <td>0</td>\n",
       "    </tr>\n",
       "    <tr>\n",
       "      <th>803</th>\n",
       "      <td>1</td>\n",
       "      <td>0</td>\n",
       "    </tr>\n",
       "    <tr>\n",
       "      <th>773</th>\n",
       "      <td>0</td>\n",
       "      <td>1</td>\n",
       "    </tr>\n",
       "    <tr>\n",
       "      <th>843</th>\n",
       "      <td>0</td>\n",
       "      <td>1</td>\n",
       "    </tr>\n",
       "    <tr>\n",
       "      <th>728</th>\n",
       "      <td>0</td>\n",
       "      <td>1</td>\n",
       "    </tr>\n",
       "    <tr>\n",
       "      <th>402</th>\n",
       "      <td>1</td>\n",
       "      <td>0</td>\n",
       "    </tr>\n",
       "    <tr>\n",
       "      <th>394</th>\n",
       "      <td>1</td>\n",
       "      <td>0</td>\n",
       "    </tr>\n",
       "    <tr>\n",
       "      <th>289</th>\n",
       "      <td>0</td>\n",
       "      <td>1</td>\n",
       "    </tr>\n",
       "    <tr>\n",
       "      <th>839</th>\n",
       "      <td>1</td>\n",
       "      <td>0</td>\n",
       "    </tr>\n",
       "    <tr>\n",
       "      <th>68</th>\n",
       "      <td>0</td>\n",
       "      <td>1</td>\n",
       "    </tr>\n",
       "    <tr>\n",
       "      <th>553</th>\n",
       "      <td>1</td>\n",
       "      <td>0</td>\n",
       "    </tr>\n",
       "    <tr>\n",
       "      <th>269</th>\n",
       "      <td>0</td>\n",
       "      <td>1</td>\n",
       "    </tr>\n",
       "    <tr>\n",
       "      <th>274</th>\n",
       "      <td>0</td>\n",
       "      <td>1</td>\n",
       "    </tr>\n",
       "    <tr>\n",
       "      <th>589</th>\n",
       "      <td>0</td>\n",
       "      <td>1</td>\n",
       "    </tr>\n",
       "    <tr>\n",
       "      <th>617</th>\n",
       "      <td>0</td>\n",
       "      <td>1</td>\n",
       "    </tr>\n",
       "    <tr>\n",
       "      <th>742</th>\n",
       "      <td>1</td>\n",
       "      <td>0</td>\n",
       "    </tr>\n",
       "    <tr>\n",
       "      <th>28</th>\n",
       "      <td>0</td>\n",
       "      <td>1</td>\n",
       "    </tr>\n",
       "    <tr>\n",
       "      <th>813</th>\n",
       "      <td>0</td>\n",
       "      <td>1</td>\n",
       "    </tr>\n",
       "    <tr>\n",
       "      <th>331</th>\n",
       "      <td>1</td>\n",
       "      <td>0</td>\n",
       "    </tr>\n",
       "    <tr>\n",
       "      <th>172</th>\n",
       "      <td>0</td>\n",
       "      <td>1</td>\n",
       "    </tr>\n",
       "    <tr>\n",
       "      <th>356</th>\n",
       "      <td>1</td>\n",
       "      <td>0</td>\n",
       "    </tr>\n",
       "    <tr>\n",
       "      <th>211</th>\n",
       "      <td>0</td>\n",
       "      <td>1</td>\n",
       "    </tr>\n",
       "    <tr>\n",
       "      <th>543</th>\n",
       "      <td>1</td>\n",
       "      <td>0</td>\n",
       "    </tr>\n",
       "    <tr>\n",
       "      <th>326</th>\n",
       "      <td>0</td>\n",
       "      <td>1</td>\n",
       "    </tr>\n",
       "    <tr>\n",
       "      <th>...</th>\n",
       "      <td>...</td>\n",
       "      <td>...</td>\n",
       "    </tr>\n",
       "    <tr>\n",
       "      <th>114</th>\n",
       "      <td>0</td>\n",
       "      <td>1</td>\n",
       "    </tr>\n",
       "    <tr>\n",
       "      <th>893</th>\n",
       "      <td>0</td>\n",
       "      <td>1</td>\n",
       "    </tr>\n",
       "    <tr>\n",
       "      <th>9</th>\n",
       "      <td>0</td>\n",
       "      <td>1</td>\n",
       "    </tr>\n",
       "    <tr>\n",
       "      <th>689</th>\n",
       "      <td>0</td>\n",
       "      <td>1</td>\n",
       "    </tr>\n",
       "    <tr>\n",
       "      <th>651</th>\n",
       "      <td>1</td>\n",
       "      <td>0</td>\n",
       "    </tr>\n",
       "    <tr>\n",
       "      <th>110</th>\n",
       "      <td>0</td>\n",
       "      <td>1</td>\n",
       "    </tr>\n",
       "    <tr>\n",
       "      <th>430</th>\n",
       "      <td>1</td>\n",
       "      <td>0</td>\n",
       "    </tr>\n",
       "    <tr>\n",
       "      <th>771</th>\n",
       "      <td>1</td>\n",
       "      <td>0</td>\n",
       "    </tr>\n",
       "    <tr>\n",
       "      <th>919</th>\n",
       "      <td>0</td>\n",
       "      <td>1</td>\n",
       "    </tr>\n",
       "    <tr>\n",
       "      <th>243</th>\n",
       "      <td>1</td>\n",
       "      <td>0</td>\n",
       "    </tr>\n",
       "    <tr>\n",
       "      <th>536</th>\n",
       "      <td>0</td>\n",
       "      <td>1</td>\n",
       "    </tr>\n",
       "    <tr>\n",
       "      <th>808</th>\n",
       "      <td>0</td>\n",
       "      <td>1</td>\n",
       "    </tr>\n",
       "    <tr>\n",
       "      <th>874</th>\n",
       "      <td>1</td>\n",
       "      <td>0</td>\n",
       "    </tr>\n",
       "    <tr>\n",
       "      <th>478</th>\n",
       "      <td>1</td>\n",
       "      <td>0</td>\n",
       "    </tr>\n",
       "    <tr>\n",
       "      <th>618</th>\n",
       "      <td>1</td>\n",
       "      <td>0</td>\n",
       "    </tr>\n",
       "    <tr>\n",
       "      <th>624</th>\n",
       "      <td>0</td>\n",
       "      <td>1</td>\n",
       "    </tr>\n",
       "    <tr>\n",
       "      <th>748</th>\n",
       "      <td>1</td>\n",
       "      <td>0</td>\n",
       "    </tr>\n",
       "    <tr>\n",
       "      <th>494</th>\n",
       "      <td>1</td>\n",
       "      <td>0</td>\n",
       "    </tr>\n",
       "    <tr>\n",
       "      <th>86</th>\n",
       "      <td>0</td>\n",
       "      <td>1</td>\n",
       "    </tr>\n",
       "    <tr>\n",
       "      <th>436</th>\n",
       "      <td>1</td>\n",
       "      <td>0</td>\n",
       "    </tr>\n",
       "    <tr>\n",
       "      <th>147</th>\n",
       "      <td>0</td>\n",
       "      <td>1</td>\n",
       "    </tr>\n",
       "    <tr>\n",
       "      <th>55</th>\n",
       "      <td>0</td>\n",
       "      <td>1</td>\n",
       "    </tr>\n",
       "    <tr>\n",
       "      <th>983</th>\n",
       "      <td>1</td>\n",
       "      <td>0</td>\n",
       "    </tr>\n",
       "    <tr>\n",
       "      <th>541</th>\n",
       "      <td>0</td>\n",
       "      <td>1</td>\n",
       "    </tr>\n",
       "    <tr>\n",
       "      <th>855</th>\n",
       "      <td>0</td>\n",
       "      <td>1</td>\n",
       "    </tr>\n",
       "    <tr>\n",
       "      <th>217</th>\n",
       "      <td>0</td>\n",
       "      <td>1</td>\n",
       "    </tr>\n",
       "    <tr>\n",
       "      <th>884</th>\n",
       "      <td>1</td>\n",
       "      <td>0</td>\n",
       "    </tr>\n",
       "    <tr>\n",
       "      <th>263</th>\n",
       "      <td>0</td>\n",
       "      <td>1</td>\n",
       "    </tr>\n",
       "    <tr>\n",
       "      <th>858</th>\n",
       "      <td>0</td>\n",
       "      <td>1</td>\n",
       "    </tr>\n",
       "    <tr>\n",
       "      <th>479</th>\n",
       "      <td>1</td>\n",
       "      <td>0</td>\n",
       "    </tr>\n",
       "  </tbody>\n",
       "</table>\n",
       "<p>80 rows × 2 columns</p>\n",
       "</div>"
      ],
      "text/plain": [
       "     Actual  Prediction\n",
       "840       0           1\n",
       "844       1           0\n",
       "573       0           1\n",
       "252       1           0\n",
       "873       1           0\n",
       "604       1           0\n",
       "270       1           0\n",
       "803       1           0\n",
       "773       0           1\n",
       "843       0           1\n",
       "728       0           1\n",
       "402       1           0\n",
       "394       1           0\n",
       "289       0           1\n",
       "839       1           0\n",
       "68        0           1\n",
       "553       1           0\n",
       "269       0           1\n",
       "274       0           1\n",
       "589       0           1\n",
       "617       0           1\n",
       "742       1           0\n",
       "28        0           1\n",
       "813       0           1\n",
       "331       1           0\n",
       "172       0           1\n",
       "356       1           0\n",
       "211       0           1\n",
       "543       1           0\n",
       "326       0           1\n",
       "..      ...         ...\n",
       "114       0           1\n",
       "893       0           1\n",
       "9         0           1\n",
       "689       0           1\n",
       "651       1           0\n",
       "110       0           1\n",
       "430       1           0\n",
       "771       1           0\n",
       "919       0           1\n",
       "243       1           0\n",
       "536       0           1\n",
       "808       0           1\n",
       "874       1           0\n",
       "478       1           0\n",
       "618       1           0\n",
       "624       0           1\n",
       "748       1           0\n",
       "494       1           0\n",
       "86        0           1\n",
       "436       1           0\n",
       "147       0           1\n",
       "55        0           1\n",
       "983       1           0\n",
       "541       0           1\n",
       "855       0           1\n",
       "217       0           1\n",
       "884       1           0\n",
       "263       0           1\n",
       "858       0           1\n",
       "479       1           0\n",
       "\n",
       "[80 rows x 2 columns]"
      ]
     },
     "execution_count": 46,
     "metadata": {},
     "output_type": "execute_result"
    }
   ],
   "source": [
    "predictions = classifier.predict(X_test_scaled)\n",
    "predict_df = pd.DataFrame({\"Prediction\": predictions, \"Actual\": y_test})\n",
    "wrong_predict_df = predict_df.loc[predict_df['Actual'] != predict_df['Prediction']]\n",
    "wrong_predict_df"
   ]
  },
  {
   "cell_type": "code",
   "execution_count": 47,
   "metadata": {},
   "outputs": [
    {
     "data": {
      "text/plain": [
       "(252,)"
      ]
     },
     "execution_count": 47,
     "metadata": {},
     "output_type": "execute_result"
    }
   ],
   "source": [
    "predictions.shape"
   ]
  },
  {
   "cell_type": "code",
   "execution_count": 48,
   "metadata": {
    "collapsed": true
   },
   "outputs": [],
   "source": [
    "from sklearn import tree"
   ]
  },
  {
   "cell_type": "code",
   "execution_count": 49,
   "metadata": {
    "collapsed": true
   },
   "outputs": [],
   "source": [
    "X_train, X_test, y_train, y_test = train_test_split(data, target, random_state=42)"
   ]
  },
  {
   "cell_type": "code",
   "execution_count": 50,
   "metadata": {},
   "outputs": [
    {
     "data": {
      "text/plain": [
       "0.6428571428571429"
      ]
     },
     "execution_count": 50,
     "metadata": {},
     "output_type": "execute_result"
    }
   ],
   "source": [
    "clf = tree.DecisionTreeClassifier()\n",
    "clf = clf.fit(X_train, y_train)\n",
    "clf.score(X_test, y_test)"
   ]
  },
  {
   "cell_type": "code",
   "execution_count": 51,
   "metadata": {},
   "outputs": [
    {
     "data": {
      "text/plain": [
       "0.70238095238095233"
      ]
     },
     "execution_count": 51,
     "metadata": {},
     "output_type": "execute_result"
    }
   ],
   "source": [
    "from sklearn.ensemble import RandomForestClassifier\n",
    "rf = RandomForestClassifier(n_estimators=200)\n",
    "rf = rf.fit(X_train, y_train)\n",
    "rf.score(X_test, y_test)"
   ]
  },
  {
   "cell_type": "code",
   "execution_count": 52,
   "metadata": {},
   "outputs": [
    {
     "data": {
      "text/plain": [
       "'0.702'"
      ]
     },
     "execution_count": 52,
     "metadata": {},
     "output_type": "execute_result"
    }
   ],
   "source": [
    "score = rf.score(X_test, y_test)\n",
    "score = \"%.3f\" % score\n",
    "score"
   ]
  },
  {
   "cell_type": "code",
   "execution_count": 53,
   "metadata": {},
   "outputs": [
    {
     "data": {
      "image/png": "[encoded data removed]",
      "text/plain": [
       "<matplotlib.figure.Figure at 0x11de90eb8>"
      ]
     },
     "metadata": {},
     "output_type": "display_data"
    }
   ],
   "source": [
    "x_values = np.arange(len(feature_names))\n",
    "plt.figure(figsize=(10, 7))\n",
    "\n",
    "plt.title(\"Feature Importance; Testing Score: \"f\"{score}\")\n",
    "plt.xlabel(\"Feature Name\")\n",
    "plt.ylabel(\"Importance\")\n",
    "\n",
    "plt.bar(x_values, rf.feature_importances_, facecolor=\"darkblue\",\n",
    "        alpha=0.75, tick_label=feature_names)\n",
    "plt.xticks(rotation='vertical')\n",
    "plt.savefig(\"Rookie_Success_Features\")\n",
    "plt.show()"
   ]
  },
  {
   "cell_type": "code",
   "execution_count": 54,
   "metadata": {},
   "outputs": [
    {
     "data": {
      "text/plain": [
       "[(0.080609872505967767, 'Height'),\n",
       " (0.071604530756930934, 'Weight'),\n",
       " (0.029131213651616607, 'FT%'),\n",
       " (0.024143187480164006, 'PF'),\n",
       " (0.024074126347751426, 'TOV%'),\n",
       " (0.022618664450183706, 'PTS'),\n",
       " (0.022256017878533169, 'AST'),\n",
       " (0.021954696606144034, 'AST%'),\n",
       " (0.021622947440118518, 'FGA'),\n",
       " (0.021382884363488567, '3PA'),\n",
       " (0.021352647770868202, 'USG%'),\n",
       " (0.021183058405732411, '3PAr'),\n",
       " (0.020735489011505358, 'DRB%'),\n",
       " (0.020689647025289817, 'MP'),\n",
       " (0.020502659515891915, '3P%'),\n",
       " (0.020303890261845245, 'G'),\n",
       " (0.020246954928669406, '2P'),\n",
       " (0.020151217930374915, 'FG%'),\n",
       " (0.020124658514453175, 'FG'),\n",
       " (0.020111669549887082, 'STL%'),\n",
       " (0.020073881573369586, 'FTr'),\n",
       " (0.019806218616057907, 'OBPM'),\n",
       " (0.019437976438753266, '2PA'),\n",
       " (0.019354186486080404, 'DBPM'),\n",
       " (0.019036455577938684, '2P%'),\n",
       " (0.018723288005037989, 'ORB%'),\n",
       " (0.018370572101818063, 'BPM'),\n",
       " (0.018255006175389978, 'TRB'),\n",
       " (0.018192969986340353, 'TRB%'),\n",
       " (0.018009694783690546, 'STL'),\n",
       " (0.017483193442841702, 'DRB'),\n",
       " (0.017452419894453178, 'PER'),\n",
       " (0.017253921567139681, 'TOV'),\n",
       " (0.017249170741841728, 'TS%'),\n",
       " (0.017226290307010748, 'eFG%'),\n",
       " (0.01699120831508431, '3P'),\n",
       " (0.016723130843465814, 'BLK%'),\n",
       " (0.016068237087174534, 'ORB'),\n",
       " (0.015918992120682405, 'FTA'),\n",
       " (0.015630164283543888, 'GS'),\n",
       " (0.015604702068662766, 'FT'),\n",
       " (0.015375186226455844, 'WS/48'),\n",
       " (0.014222659507378152, 'VORP'),\n",
       " (0.013992482700910419, 'WS'),\n",
       " (0.013491850992476375, 'OWS'),\n",
       " (0.012699391372254452, 'BLK'),\n",
       " (0.012556714388731027, 'DWS'),\n",
       " (0.0, 'YrsExperience')]"
      ]
     },
     "execution_count": 54,
     "metadata": {},
     "output_type": "execute_result"
    }
   ],
   "source": [
    "sorted(zip(rf.feature_importances_, feature_names), reverse=True)"
   ]
  },
  {
   "cell_type": "code",
   "execution_count": null,
   "metadata": {
    "collapsed": true
   },
   "outputs": [],
   "source": []
  },
  {
   "cell_type": "markdown",
   "metadata": {},
   "source": [
    "# K Nearest Neighbors Player Position"
   ]
  },
  {
   "cell_type": "code",
   "execution_count": 55,
   "metadata": {
    "collapsed": true
   },
   "outputs": [],
   "source": [
    "from sklearn.neighbors import KNeighborsClassifier"
   ]
  },
  {
   "cell_type": "code",
   "execution_count": 56,
   "metadata": {},
   "outputs": [],
   "source": [
    "#df['Pos'].value_counts()"
   ]
  },
  {
   "cell_type": "code",
   "execution_count": 57,
   "metadata": {
    "collapsed": true
   },
   "outputs": [],
   "source": [
    "df = df.reset_index(drop=True)"
   ]
  },
  {
   "cell_type": "code",
   "execution_count": 58,
   "metadata": {},
   "outputs": [],
   "source": [
    "#df.index[df['Pos'] == 'C-SF'].tolist()"
   ]
  },
  {
   "cell_type": "code",
   "execution_count": 59,
   "metadata": {
    "collapsed": true
   },
   "outputs": [],
   "source": [
    "df = df.drop(df.index[[df.index[df['Pos'] == 'C-SF'].tolist()]])"
   ]
  },
  {
   "cell_type": "code",
   "execution_count": 60,
   "metadata": {
    "collapsed": true
   },
   "outputs": [],
   "source": [
    "df = df.reset_index(drop=True)"
   ]
  },
  {
   "cell_type": "code",
   "execution_count": 61,
   "metadata": {},
   "outputs": [],
   "source": [
    "#df.index[df['Pos'] == 'C-SF'].tolist()"
   ]
  },
  {
   "cell_type": "code",
   "execution_count": 62,
   "metadata": {},
   "outputs": [],
   "source": [
    "#df['Pos'].value_counts()"
   ]
  },
  {
   "cell_type": "code",
   "execution_count": 63,
   "metadata": {},
   "outputs": [],
   "source": [
    "df = df.drop(\"blanl\", axis=1)\n",
    "df = df.drop(\"blank2\", axis=1)\n",
    "df = df.dropna(axis=0, how='any')"
   ]
  },
  {
   "cell_type": "code",
   "execution_count": 64,
   "metadata": {},
   "outputs": [
    {
     "data": {
      "text/html": [
       "<div>\n",
       "<style>\n",
       "    .dataframe thead tr:only-child th {\n",
       "        text-align: right;\n",
       "    }\n",
       "\n",
       "    .dataframe thead th {\n",
       "        text-align: left;\n",
       "    }\n",
       "\n",
       "    .dataframe tbody tr th {\n",
       "        vertical-align: top;\n",
       "    }\n",
       "</style>\n",
       "<table border=\"1\" class=\"dataframe\">\n",
       "  <thead>\n",
       "    <tr style=\"text-align: right;\">\n",
       "      <th></th>\n",
       "      <th>G</th>\n",
       "      <th>GS</th>\n",
       "      <th>MP</th>\n",
       "      <th>PER</th>\n",
       "      <th>TS%</th>\n",
       "      <th>3PAr</th>\n",
       "      <th>FTr</th>\n",
       "      <th>ORB%</th>\n",
       "      <th>DRB%</th>\n",
       "      <th>TRB%</th>\n",
       "      <th>...</th>\n",
       "      <th>TRB</th>\n",
       "      <th>AST</th>\n",
       "      <th>STL</th>\n",
       "      <th>BLK</th>\n",
       "      <th>TOV</th>\n",
       "      <th>PF</th>\n",
       "      <th>PTS</th>\n",
       "      <th>YrsExperience</th>\n",
       "      <th>Height</th>\n",
       "      <th>Weight</th>\n",
       "    </tr>\n",
       "  </thead>\n",
       "  <tbody>\n",
       "    <tr>\n",
       "      <th>0</th>\n",
       "      <td>80</td>\n",
       "      <td>45</td>\n",
       "      <td>2015</td>\n",
       "      <td>13.1</td>\n",
       "      <td>0.524</td>\n",
       "      <td>0.031</td>\n",
       "      <td>0.358</td>\n",
       "      <td>7.0</td>\n",
       "      <td>16.4</td>\n",
       "      <td>11.6</td>\n",
       "      <td>...</td>\n",
       "      <td>398</td>\n",
       "      <td>109</td>\n",
       "      <td>53</td>\n",
       "      <td>40</td>\n",
       "      <td>116</td>\n",
       "      <td>243</td>\n",
       "      <td>793</td>\n",
       "      <td>10.0</td>\n",
       "      <td>81.0</td>\n",
       "      <td>225.0</td>\n",
       "    </tr>\n",
       "    <tr>\n",
       "      <th>1</th>\n",
       "      <td>61</td>\n",
       "      <td>8</td>\n",
       "      <td>495</td>\n",
       "      <td>13.0</td>\n",
       "      <td>0.577</td>\n",
       "      <td>0.007</td>\n",
       "      <td>0.267</td>\n",
       "      <td>8.4</td>\n",
       "      <td>9.9</td>\n",
       "      <td>9.2</td>\n",
       "      <td>...</td>\n",
       "      <td>77</td>\n",
       "      <td>13</td>\n",
       "      <td>17</td>\n",
       "      <td>4</td>\n",
       "      <td>22</td>\n",
       "      <td>47</td>\n",
       "      <td>174</td>\n",
       "      <td>0.0</td>\n",
       "      <td>76.0</td>\n",
       "      <td>220.0</td>\n",
       "    </tr>\n",
       "    <tr>\n",
       "      <th>2</th>\n",
       "      <td>32</td>\n",
       "      <td>1</td>\n",
       "      <td>214</td>\n",
       "      <td>2.9</td>\n",
       "      <td>0.408</td>\n",
       "      <td>0.214</td>\n",
       "      <td>0.471</td>\n",
       "      <td>0.6</td>\n",
       "      <td>11.0</td>\n",
       "      <td>5.9</td>\n",
       "      <td>...</td>\n",
       "      <td>21</td>\n",
       "      <td>7</td>\n",
       "      <td>4</td>\n",
       "      <td>3</td>\n",
       "      <td>15</td>\n",
       "      <td>27</td>\n",
       "      <td>69</td>\n",
       "      <td>0.0</td>\n",
       "      <td>77.0</td>\n",
       "      <td>202.0</td>\n",
       "    </tr>\n",
       "    <tr>\n",
       "      <th>3</th>\n",
       "      <td>63</td>\n",
       "      <td>22</td>\n",
       "      <td>1392</td>\n",
       "      <td>17.1</td>\n",
       "      <td>0.533</td>\n",
       "      <td>0.004</td>\n",
       "      <td>0.240</td>\n",
       "      <td>12.6</td>\n",
       "      <td>15.3</td>\n",
       "      <td>13.9</td>\n",
       "      <td>...</td>\n",
       "      <td>312</td>\n",
       "      <td>24</td>\n",
       "      <td>22</td>\n",
       "      <td>73</td>\n",
       "      <td>43</td>\n",
       "      <td>186</td>\n",
       "      <td>565</td>\n",
       "      <td>0.0</td>\n",
       "      <td>83.0</td>\n",
       "      <td>240.0</td>\n",
       "    </tr>\n",
       "    <tr>\n",
       "      <th>4</th>\n",
       "      <td>60</td>\n",
       "      <td>1</td>\n",
       "      <td>638</td>\n",
       "      <td>10.4</td>\n",
       "      <td>0.443</td>\n",
       "      <td>0.004</td>\n",
       "      <td>0.132</td>\n",
       "      <td>7.6</td>\n",
       "      <td>13.7</td>\n",
       "      <td>10.6</td>\n",
       "      <td>...</td>\n",
       "      <td>119</td>\n",
       "      <td>16</td>\n",
       "      <td>17</td>\n",
       "      <td>16</td>\n",
       "      <td>21</td>\n",
       "      <td>85</td>\n",
       "      <td>242</td>\n",
       "      <td>5.0</td>\n",
       "      <td>82.0</td>\n",
       "      <td>255.0</td>\n",
       "    </tr>\n",
       "  </tbody>\n",
       "</table>\n",
       "<p>5 rows × 48 columns</p>\n",
       "</div>"
      ],
      "text/plain": [
       "    G  GS    MP   PER    TS%   3PAr    FTr  ORB%  DRB%  TRB%   ...    TRB  \\\n",
       "0  80  45  2015  13.1  0.524  0.031  0.358   7.0  16.4  11.6   ...    398   \n",
       "1  61   8   495  13.0  0.577  0.007  0.267   8.4   9.9   9.2   ...     77   \n",
       "2  32   1   214   2.9  0.408  0.214  0.471   0.6  11.0   5.9   ...     21   \n",
       "3  63  22  1392  17.1  0.533  0.004  0.240  12.6  15.3  13.9   ...    312   \n",
       "4  60   1   638  10.4  0.443  0.004  0.132   7.6  13.7  10.6   ...    119   \n",
       "\n",
       "   AST  STL  BLK  TOV   PF  PTS  YrsExperience  Height  Weight  \n",
       "0  109   53   40  116  243  793           10.0    81.0   225.0  \n",
       "1   13   17    4   22   47  174            0.0    76.0   220.0  \n",
       "2    7    4    3   15   27   69            0.0    77.0   202.0  \n",
       "3   24   22   73   43  186  565            0.0    83.0   240.0  \n",
       "4   16   17   16   21   85  242            5.0    82.0   255.0  \n",
       "\n",
       "[5 rows x 48 columns]"
      ]
     },
     "execution_count": 64,
     "metadata": {},
     "output_type": "execute_result"
    }
   ],
   "source": [
    "data = df.drop(\"Pos\", axis=1)\n",
    "data = data.drop(\"Tm\", axis=1)\n",
    "data = data.drop(\"Player\", axis=1)\n",
    "data = data.drop(\"TrueSalary\", axis=1)\n",
    "data = data.drop(\"RoundedPosition\", axis=1)\n",
    "data = data.drop(\"Year\", axis=1)\n",
    "data = data.drop(\"Age\", axis=1)\n",
    "feature_names = data.columns\n",
    "target = df['Pos']\n",
    "target_names = target.value_counts().keys().tolist()\n",
    "data.head()"
   ]
  },
  {
   "cell_type": "code",
   "execution_count": 65,
   "metadata": {},
   "outputs": [],
   "source": [
    "#data.shape"
   ]
  },
  {
   "cell_type": "code",
   "execution_count": 66,
   "metadata": {},
   "outputs": [],
   "source": [
    "#target.shape"
   ]
  },
  {
   "cell_type": "code",
   "execution_count": 67,
   "metadata": {},
   "outputs": [],
   "source": [
    "#data.keys()"
   ]
  },
  {
   "cell_type": "code",
   "execution_count": 68,
   "metadata": {
    "collapsed": true
   },
   "outputs": [],
   "source": [
    "X_train, X_test, y_train, y_test = train_test_split(data, target, random_state=42)"
   ]
  },
  {
   "cell_type": "code",
   "execution_count": 69,
   "metadata": {},
   "outputs": [
    {
     "name": "stdout",
     "output_type": "stream",
     "text": [
      "k: 1, Train/Test Score: 1.000/0.552\n",
      "k: 3, Train/Test Score: 0.758/0.554\n",
      "k: 5, Train/Test Score: 0.719/0.571\n",
      "k: 7, Train/Test Score: 0.688/0.575\n",
      "k: 9, Train/Test Score: 0.668/0.586\n",
      "k: 11, Train/Test Score: 0.654/0.579\n",
      "k: 13, Train/Test Score: 0.652/0.578\n",
      "k: 15, Train/Test Score: 0.648/0.578\n",
      "k: 17, Train/Test Score: 0.643/0.573\n",
      "k: 19, Train/Test Score: 0.634/0.579\n",
      "k: 21, Train/Test Score: 0.629/0.587\n",
      "k: 23, Train/Test Score: 0.624/0.578\n",
      "k: 25, Train/Test Score: 0.633/0.572\n",
      "k: 27, Train/Test Score: 0.626/0.560\n",
      "k: 29, Train/Test Score: 0.623/0.550\n",
      "k: 31, Train/Test Score: 0.616/0.566\n",
      "k: 33, Train/Test Score: 0.616/0.569\n",
      "k: 35, Train/Test Score: 0.616/0.565\n",
      "k: 37, Train/Test Score: 0.615/0.561\n",
      "k: 39, Train/Test Score: 0.609/0.567\n",
      "k: 41, Train/Test Score: 0.609/0.554\n",
      "k: 43, Train/Test Score: 0.608/0.563\n",
      "k: 45, Train/Test Score: 0.607/0.559\n",
      "k: 47, Train/Test Score: 0.600/0.557\n",
      "k: 49, Train/Test Score: 0.604/0.562\n",
      "k: 51, Train/Test Score: 0.594/0.558\n",
      "k: 53, Train/Test Score: 0.592/0.562\n",
      "k: 55, Train/Test Score: 0.591/0.552\n",
      "k: 57, Train/Test Score: 0.592/0.555\n",
      "k: 59, Train/Test Score: 0.591/0.562\n",
      "k: 61, Train/Test Score: 0.589/0.561\n",
      "k: 63, Train/Test Score: 0.583/0.563\n",
      "k: 65, Train/Test Score: 0.586/0.570\n",
      "k: 67, Train/Test Score: 0.581/0.571\n",
      "k: 69, Train/Test Score: 0.581/0.568\n",
      "k: 71, Train/Test Score: 0.579/0.570\n",
      "k: 73, Train/Test Score: 0.576/0.580\n",
      "k: 75, Train/Test Score: 0.578/0.580\n",
      "k: 77, Train/Test Score: 0.575/0.576\n",
      "k: 79, Train/Test Score: 0.572/0.576\n",
      "k: 81, Train/Test Score: 0.575/0.570\n",
      "k: 83, Train/Test Score: 0.573/0.577\n",
      "k: 85, Train/Test Score: 0.569/0.572\n",
      "k: 87, Train/Test Score: 0.569/0.567\n",
      "k: 89, Train/Test Score: 0.566/0.558\n",
      "k: 91, Train/Test Score: 0.559/0.566\n",
      "k: 93, Train/Test Score: 0.561/0.562\n",
      "k: 95, Train/Test Score: 0.558/0.561\n",
      "k: 97, Train/Test Score: 0.560/0.567\n",
      "k: 99, Train/Test Score: 0.559/0.563\n"
     ]
    },
    {
     "data": {
      "image/png": "[encoded data removed]",
      "text/plain": [
       "<matplotlib.figure.Figure at 0x11e963780>"
      ]
     },
     "metadata": {},
     "output_type": "display_data"
    }
   ],
   "source": [
    "train_scores = []\n",
    "test_scores = []\n",
    "for k in range(1, 100, 2):\n",
    "    knn = KNeighborsClassifier(n_neighbors=k)\n",
    "    knn.fit(X_train, y_train)\n",
    "    train_score = knn.score(X_train, y_train)\n",
    "    test_score = knn.score(X_test, y_test)\n",
    "    train_scores.append(train_score)\n",
    "    test_scores.append(test_score)\n",
    "    print(f\"k: {k}, Train/Test Score: {train_score:.3f}/{test_score:.3f}\")\n",
    "    \n",
    "    \n",
    "plt.plot(range(1, 100, 2), train_scores, marker='o')\n",
    "plt.plot(range(1, 100, 2), test_scores, marker=\"x\")\n",
    "plt.xlabel(\"k neighbors\")\n",
    "plt.ylabel(\"Testing accuracy Score\")\n",
    "plt.savefig(\"KNN_Pos\")\n",
    "plt.show()"
   ]
  },
  {
   "cell_type": "code",
   "execution_count": 70,
   "metadata": {},
   "outputs": [
    {
     "name": "stdout",
     "output_type": "stream",
     "text": [
      "k=15 Test Acc: 0.578\n"
     ]
    }
   ],
   "source": [
    "knn = KNeighborsClassifier(n_neighbors=15)\n",
    "knn.fit(X_train, y_train)\n",
    "print('k=15 Test Acc: %.3f' % knn.score(X_test, y_test))"
   ]
  },
  {
   "cell_type": "markdown",
   "metadata": {},
   "source": [
    "# Stratified KNN Player Position"
   ]
  },
  {
   "cell_type": "code",
   "execution_count": 71,
   "metadata": {},
   "outputs": [],
   "source": [
    "#target.value_counts()"
   ]
  },
  {
   "cell_type": "code",
   "execution_count": 72,
   "metadata": {},
   "outputs": [],
   "source": [
    "from sklearn.model_selection import train_test_split\n",
    "from sklearn.preprocessing import StandardScaler\n",
    "X_train, X_test, y_train, y_test = train_test_split(data, target, random_state=42, stratify=target)"
   ]
  },
  {
   "cell_type": "code",
   "execution_count": 73,
   "metadata": {},
   "outputs": [],
   "source": [
    "#X_train.values.reshape(-1,1)"
   ]
  },
  {
   "cell_type": "code",
   "execution_count": 74,
   "metadata": {},
   "outputs": [],
   "source": [
    "X_scaler = StandardScaler().fit(X_train.values.reshape(-1, 1))"
   ]
  },
  {
   "cell_type": "code",
   "execution_count": 75,
   "metadata": {
    "collapsed": true
   },
   "outputs": [],
   "source": [
    "X_train_scaled = X_scaler.transform(X_train)\n",
    "X_test_scaled = X_scaler.transform(X_test)"
   ]
  },
  {
   "cell_type": "code",
   "execution_count": 76,
   "metadata": {},
   "outputs": [
    {
     "name": "stdout",
     "output_type": "stream",
     "text": [
      "k: 1, Train/Test Score: 1.000/0.549\n",
      "k: 3, Train/Test Score: 0.761/0.551\n",
      "k: 5, Train/Test Score: 0.723/0.552\n",
      "k: 7, Train/Test Score: 0.696/0.577\n",
      "k: 9, Train/Test Score: 0.674/0.572\n",
      "k: 11, Train/Test Score: 0.665/0.578\n",
      "k: 13, Train/Test Score: 0.658/0.557\n",
      "k: 15, Train/Test Score: 0.654/0.564\n",
      "k: 17, Train/Test Score: 0.645/0.569\n",
      "k: 19, Train/Test Score: 0.645/0.567\n",
      "k: 21, Train/Test Score: 0.634/0.574\n",
      "k: 23, Train/Test Score: 0.634/0.582\n",
      "k: 25, Train/Test Score: 0.628/0.577\n",
      "k: 27, Train/Test Score: 0.623/0.567\n",
      "k: 29, Train/Test Score: 0.624/0.572\n",
      "k: 31, Train/Test Score: 0.619/0.575\n",
      "k: 33, Train/Test Score: 0.616/0.573\n",
      "k: 35, Train/Test Score: 0.612/0.570\n",
      "k: 37, Train/Test Score: 0.607/0.567\n",
      "k: 39, Train/Test Score: 0.604/0.564\n",
      "k: 41, Train/Test Score: 0.607/0.560\n",
      "k: 43, Train/Test Score: 0.603/0.562\n",
      "k: 45, Train/Test Score: 0.600/0.566\n",
      "k: 47, Train/Test Score: 0.602/0.563\n",
      "k: 49, Train/Test Score: 0.598/0.560\n",
      "k: 51, Train/Test Score: 0.594/0.569\n",
      "k: 53, Train/Test Score: 0.595/0.556\n",
      "k: 55, Train/Test Score: 0.595/0.555\n",
      "k: 57, Train/Test Score: 0.586/0.563\n",
      "k: 59, Train/Test Score: 0.586/0.561\n",
      "k: 61, Train/Test Score: 0.585/0.567\n",
      "k: 63, Train/Test Score: 0.582/0.562\n",
      "k: 65, Train/Test Score: 0.580/0.566\n",
      "k: 67, Train/Test Score: 0.578/0.564\n",
      "k: 69, Train/Test Score: 0.575/0.555\n",
      "k: 71, Train/Test Score: 0.573/0.554\n",
      "k: 73, Train/Test Score: 0.569/0.556\n",
      "k: 75, Train/Test Score: 0.572/0.560\n",
      "k: 77, Train/Test Score: 0.569/0.557\n",
      "k: 79, Train/Test Score: 0.572/0.551\n",
      "k: 81, Train/Test Score: 0.570/0.556\n",
      "k: 83, Train/Test Score: 0.566/0.558\n",
      "k: 85, Train/Test Score: 0.562/0.560\n",
      "k: 87, Train/Test Score: 0.564/0.560\n",
      "k: 89, Train/Test Score: 0.567/0.553\n",
      "k: 91, Train/Test Score: 0.565/0.550\n",
      "k: 93, Train/Test Score: 0.559/0.546\n",
      "k: 95, Train/Test Score: 0.559/0.548\n",
      "k: 97, Train/Test Score: 0.557/0.554\n",
      "k: 99, Train/Test Score: 0.553/0.554\n"
     ]
    },
    {
     "data": {
      "image/png": "[encoded data removed]",
      "text/plain": [
       "<matplotlib.figure.Figure at 0x11eb34160>"
      ]
     },
     "metadata": {},
     "output_type": "display_data"
    }
   ],
   "source": [
    "train_scores = []\n",
    "test_scores = []\n",
    "for k in range(1, 100, 2):\n",
    "    knn = KNeighborsClassifier(n_neighbors=k)\n",
    "    knn.fit(X_train_scaled, y_train)\n",
    "    train_score = knn.score(X_train_scaled, y_train)\n",
    "    test_score = knn.score(X_test_scaled, y_test)\n",
    "    train_scores.append(train_score)\n",
    "    test_scores.append(test_score)\n",
    "    print(f\"k: {k}, Train/Test Score: {train_score:.3f}/{test_score:.3f}\")\n",
    "    \n",
    "    \n",
    "plt.plot(range(1, 100, 2), train_scores, marker='o')\n",
    "plt.plot(range(1, 100, 2), test_scores, marker=\"x\")\n",
    "plt.xlabel(\"k neighbors\")\n",
    "plt.ylabel(\"Testing accuracy Score\")\n",
    "plt.savefig(\"Strat_KNN_Pos\")\n",
    "plt.show()"
   ]
  },
  {
   "cell_type": "code",
   "execution_count": 77,
   "metadata": {},
   "outputs": [
    {
     "name": "stdout",
     "output_type": "stream",
     "text": [
      "k=23 Test Acc: 0.582\n"
     ]
    }
   ],
   "source": [
    "knn = KNeighborsClassifier(n_neighbors=23)\n",
    "knn.fit(X_train_scaled, y_train)\n",
    "print('k=23 Test Acc: %.3f' % knn.score(X_test_scaled, y_test))"
   ]
  },
  {
   "cell_type": "code",
   "execution_count": null,
   "metadata": {
    "collapsed": true
   },
   "outputs": [],
   "source": []
  },
  {
   "cell_type": "markdown",
   "metadata": {},
   "source": [
    "# Random Forests Player Position"
   ]
  },
  {
   "cell_type": "code",
   "execution_count": 78,
   "metadata": {
    "collapsed": true
   },
   "outputs": [],
   "source": [
    "from sklearn.ensemble import RandomForestClassifier"
   ]
  },
  {
   "cell_type": "code",
   "execution_count": 79,
   "metadata": {},
   "outputs": [
    {
     "data": {
      "text/plain": [
       "1.0"
      ]
     },
     "execution_count": 79,
     "metadata": {},
     "output_type": "execute_result"
    }
   ],
   "source": [
    "rf = RandomForestClassifier(n_estimators=200)\n",
    "rf = rf.fit(data, target)\n",
    "rf.score(data, target)"
   ]
  },
  {
   "cell_type": "code",
   "execution_count": 80,
   "metadata": {},
   "outputs": [
    {
     "data": {
      "text/plain": [
       "array([ 0.01011368,  0.01002852,  0.01061771,  0.01302769,  0.01121009,\n",
       "        0.0252408 ,  0.01505128,  0.0421313 ,  0.04251536,  0.06974062,\n",
       "        0.08948035,  0.01440844,  0.02823173,  0.02847596,  0.01699389,\n",
       "        0.00884395,  0.00810283,  0.00839193,  0.01122223,  0.01092223,\n",
       "        0.01505741,  0.0110784 ,  0.00821042,  0.00984244,  0.01048224,\n",
       "        0.01398507,  0.01546787,  0.02033787,  0.01572544,  0.0102076 ,\n",
       "        0.01073948,  0.01273094,  0.01244057,  0.01085104,  0.0108349 ,\n",
       "        0.01365053,  0.01832313,  0.01323485,  0.01450888,  0.02105034,\n",
       "        0.01158172,  0.0186325 ,  0.01161485,  0.01209735,  0.01069389,\n",
       "        0.01091784,  0.11790238,  0.06304945])"
      ]
     },
     "execution_count": 80,
     "metadata": {},
     "output_type": "execute_result"
    }
   ],
   "source": [
    "importances = rf.feature_importances_\n",
    "importances"
   ]
  },
  {
   "cell_type": "code",
   "execution_count": 81,
   "metadata": {},
   "outputs": [
    {
     "data": {
      "image/png": "[encoded data removed]",
      "text/plain": [
       "<matplotlib.figure.Figure at 0x11824d2b0>"
      ]
     },
     "metadata": {},
     "output_type": "display_data"
    }
   ],
   "source": [
    "x_values = np.arange(len(feature_names))\n",
    "plt.figure(figsize=(10, 7))\n",
    "\n",
    "plt.title(\"Feature Importance; Testing Score: \")\n",
    "plt.xlabel(\"Feature Name\")\n",
    "plt.ylabel(\"Importance\")\n",
    "\n",
    "plt.bar(x_values, rf.feature_importances_, facecolor=\"darkblue\",\n",
    "        alpha=0.75, tick_label=feature_names)\n",
    "plt.xticks(rotation='vertical')\n",
    "#plt.savefig(\"Pos_Features\")\n",
    "plt.show()"
   ]
  },
  {
   "cell_type": "code",
   "execution_count": 82,
   "metadata": {},
   "outputs": [
    {
     "data": {
      "text/plain": [
       "[(0.11790238029338841, 'Height'),\n",
       " (0.089480354483181743, 'AST%'),\n",
       " (0.069740621531463362, 'TRB%'),\n",
       " (0.06304945162402914, 'Weight'),\n",
       " (0.042515363068384097, 'DRB%'),\n",
       " (0.042131295707890114, 'ORB%'),\n",
       " (0.028475955610218005, 'TOV%'),\n",
       " (0.02823173270807957, 'BLK%'),\n",
       " (0.025240800454764577, '3PAr'),\n",
       " (0.021050336233052941, 'AST'),\n",
       " (0.020337865849699925, '3PA'),\n",
       " (0.018632497401122865, 'BLK'),\n",
       " (0.018323133323171096, 'ORB'),\n",
       " (0.016993887609141042, 'USG%'),\n",
       " (0.015725438885215666, '3P%'),\n",
       " (0.015467874115768231, '3P'),\n",
       " (0.015057413396989345, 'DBPM'),\n",
       " (0.015051275989309309, 'FTr'),\n",
       " (0.01450888442495013, 'TRB'),\n",
       " (0.014408442250753955, 'STL%'),\n",
       " (0.013985072909579184, 'FG%'),\n",
       " (0.013650533406907077, 'FT%'),\n",
       " (0.0132348547325279, 'DRB'),\n",
       " (0.01302768534864617, 'PER'),\n",
       " (0.012730937363824768, '2P%'),\n",
       " (0.012440567298004534, 'eFG%'),\n",
       " (0.012097348443119181, 'PF'),\n",
       " (0.011614852448771553, 'TOV'),\n",
       " (0.011581724253475711, 'STL'),\n",
       " (0.011222226102587926, 'WS/48'),\n",
       " (0.011210094702134289, 'TS%'),\n",
       " (0.011078404699702291, 'BPM'),\n",
       " (0.010922232170811811, 'OBPM'),\n",
       " (0.010917838967079572, 'YrsExperience'),\n",
       " (0.010851040171415209, 'FT'),\n",
       " (0.010834899834712444, 'FTA'),\n",
       " (0.010739475456370908, '2PA'),\n",
       " (0.010693888283334148, 'PTS'),\n",
       " (0.010617707632689835, 'MP'),\n",
       " (0.010482243122479801, 'FGA'),\n",
       " (0.010207595888070096, '2P'),\n",
       " (0.010113684188849493, 'G'),\n",
       " (0.010028521669124721, 'GS'),\n",
       " (0.0098424381487045558, 'FG'),\n",
       " (0.0088439529812934618, 'OWS'),\n",
       " (0.008391926377325493, 'WS'),\n",
       " (0.0082104181162881203, 'VORP'),\n",
       " (0.0081028303215962653, 'DWS')]"
      ]
     },
     "execution_count": 82,
     "metadata": {},
     "output_type": "execute_result"
    }
   ],
   "source": [
    "sorted(zip(rf.feature_importances_, feature_names), reverse=True)"
   ]
  },
  {
   "cell_type": "code",
   "execution_count": null,
   "metadata": {
    "collapsed": true
   },
   "outputs": [],
   "source": []
  },
  {
   "cell_type": "markdown",
   "metadata": {},
   "source": [
    "# Decision Tree and Random Forests Player Position"
   ]
  },
  {
   "cell_type": "code",
   "execution_count": 83,
   "metadata": {
    "collapsed": true
   },
   "outputs": [],
   "source": [
    "from sklearn import tree"
   ]
  },
  {
   "cell_type": "code",
   "execution_count": 84,
   "metadata": {
    "collapsed": true
   },
   "outputs": [],
   "source": [
    "X_train, X_test, y_train, y_test = train_test_split(data, target, random_state=42)"
   ]
  },
  {
   "cell_type": "code",
   "execution_count": 85,
   "metadata": {},
   "outputs": [
    {
     "data": {
      "text/plain": [
       "0.62426778242677827"
      ]
     },
     "execution_count": 85,
     "metadata": {},
     "output_type": "execute_result"
    }
   ],
   "source": [
    "clf = tree.DecisionTreeClassifier()\n",
    "clf = clf.fit(X_train, y_train)\n",
    "clf.score(X_test, y_test)"
   ]
  },
  {
   "cell_type": "code",
   "execution_count": 86,
   "metadata": {},
   "outputs": [
    {
     "data": {
      "text/plain": [
       "0.75481171548117154"
      ]
     },
     "execution_count": 86,
     "metadata": {},
     "output_type": "execute_result"
    }
   ],
   "source": [
    "from sklearn.ensemble import RandomForestClassifier\n",
    "rf = RandomForestClassifier(n_estimators=200)\n",
    "rf = rf.fit(X_train, y_train)\n",
    "rf.score(X_test, y_test)"
   ]
  },
  {
   "cell_type": "code",
   "execution_count": 87,
   "metadata": {},
   "outputs": [
    {
     "data": {
      "text/plain": [
       "'0.755'"
      ]
     },
     "execution_count": 87,
     "metadata": {},
     "output_type": "execute_result"
    }
   ],
   "source": [
    "score = rf.score(X_test, y_test)\n",
    "score = \"%.3f\" % score\n",
    "score"
   ]
  },
  {
   "cell_type": "code",
   "execution_count": 88,
   "metadata": {},
   "outputs": [
    {
     "data": {
      "image/png": "[encoded data removed]",
      "text/plain": [
       "<matplotlib.figure.Figure at 0x11e963518>"
      ]
     },
     "metadata": {},
     "output_type": "display_data"
    }
   ],
   "source": [
    "x_values = np.arange(len(feature_names))\n",
    "plt.figure(figsize=(10, 7))\n",
    "\n",
    "plt.title(\"Feature Importance; Testing Score: \"f\"{score}\")\n",
    "plt.xlabel(\"Feature Name\")\n",
    "plt.ylabel(\"Importance\")\n",
    "\n",
    "plt.bar(x_values, rf.feature_importances_, facecolor=\"darkblue\",\n",
    "        alpha=0.75, tick_label=feature_names)\n",
    "plt.xticks(rotation='vertical')\n",
    "plt.savefig(\"Pos_Features\")\n",
    "plt.show()"
   ]
  },
  {
   "cell_type": "code",
   "execution_count": 89,
   "metadata": {},
   "outputs": [
    {
     "data": {
      "text/plain": [
       "[(0.1070519387510763, 'Height'),\n",
       " (0.082095315226668394, 'AST%'),\n",
       " (0.066740892878489264, 'Weight'),\n",
       " (0.065892546218671216, 'TRB%'),\n",
       " (0.048015329847127967, 'ORB%'),\n",
       " (0.044811794969795996, 'DRB%'),\n",
       " (0.032660487065506769, '3PAr'),\n",
       " (0.031628556787747023, 'BLK%'),\n",
       " (0.02874617403228796, 'TOV%'),\n",
       " (0.022526627645584104, 'AST'),\n",
       " (0.018877560489323805, '3PA'),\n",
       " (0.018339646702994233, 'ORB'),\n",
       " (0.016740389917879808, 'USG%'),\n",
       " (0.016313416277307768, 'BLK'),\n",
       " (0.015760412077879139, 'DBPM'),\n",
       " (0.015591923715526788, '3P%'),\n",
       " (0.015476461067365182, '3P'),\n",
       " (0.015419883949921971, 'STL%'),\n",
       " (0.014379479926585113, 'FG%'),\n",
       " (0.014315064780770713, 'FT%'),\n",
       " (0.014061462286918534, 'TRB'),\n",
       " (0.013699125443330301, 'FTr'),\n",
       " (0.013286641851449154, 'DRB'),\n",
       " (0.01302748417501659, '2P%'),\n",
       " (0.012517929187860996, 'STL'),\n",
       " (0.012077788827859415, 'PF'),\n",
       " (0.012046982712111451, 'PER'),\n",
       " (0.011808521135161756, 'eFG%'),\n",
       " (0.011708610604083054, 'TS%'),\n",
       " (0.011556933825300753, 'TOV'),\n",
       " (0.011180519207103737, 'OBPM'),\n",
       " (0.011164589264484399, 'WS/48'),\n",
       " (0.010965385260209109, 'FGA'),\n",
       " (0.010953988732660987, 'FTA'),\n",
       " (0.010943673813467425, 'BPM'),\n",
       " (0.010851297816985208, '2P'),\n",
       " (0.010811497508441842, 'YrsExperience'),\n",
       " (0.010670324978683934, '2PA'),\n",
       " (0.010593216264659611, 'PTS'),\n",
       " (0.010462886587637473, 'FT'),\n",
       " (0.010125434490002147, 'G'),\n",
       " (0.010001108533316032, 'FG'),\n",
       " (0.0099451031161300676, 'MP'),\n",
       " (0.0092017950002316988, 'GS'),\n",
       " (0.0091203309494728227, 'VORP'),\n",
       " (0.009099931672231637, 'OWS'),\n",
       " (0.0084027447507617776, 'DWS'),\n",
       " (0.0083307896759186751, 'WS')]"
      ]
     },
     "execution_count": 89,
     "metadata": {},
     "output_type": "execute_result"
    }
   ],
   "source": [
    "sorted(zip(rf.feature_importances_, feature_names), reverse=True)"
   ]
  },
  {
   "cell_type": "code",
   "execution_count": null,
   "metadata": {
    "collapsed": true
   },
   "outputs": [],
   "source": []
  },
  {
   "cell_type": "markdown",
   "metadata": {},
   "source": [
    "# Team Classification"
   ]
  },
  {
   "cell_type": "code",
   "execution_count": 90,
   "metadata": {},
   "outputs": [
    {
     "data": {
      "text/plain": [
       "(5860, 57)"
      ]
     },
     "execution_count": 90,
     "metadata": {},
     "output_type": "execute_result"
    }
   ],
   "source": [
    "df = pd.read_csv('cleaned_data.csv')\n",
    "df.shape"
   ]
  },
  {
   "cell_type": "code",
   "execution_count": 91,
   "metadata": {},
   "outputs": [
    {
     "data": {
      "text/plain": [
       "(5827, 57)"
      ]
     },
     "execution_count": 91,
     "metadata": {},
     "output_type": "execute_result"
    }
   ],
   "source": [
    "df = df[np.isfinite(df['WS/48'])]\n",
    "df = df[np.isfinite(df['FG%'])]\n",
    "df = df[np.isfinite(df['YrsExperience'])]\n",
    "df.shape"
   ]
  },
  {
   "cell_type": "code",
   "execution_count": 92,
   "metadata": {
    "collapsed": true
   },
   "outputs": [],
   "source": [
    "df = df.reset_index(drop=True)"
   ]
  },
  {
   "cell_type": "code",
   "execution_count": 93,
   "metadata": {
    "collapsed": true
   },
   "outputs": [],
   "source": [
    "df = df.drop(\"blanl\", axis=1)\n",
    "df = df.drop(\"blank2\", axis=1)\n",
    "df = df.dropna(axis=0, how='any')"
   ]
  },
  {
   "cell_type": "code",
   "execution_count": 94,
   "metadata": {},
   "outputs": [
    {
     "data": {
      "text/plain": [
       "(4780, 55)"
      ]
     },
     "execution_count": 94,
     "metadata": {},
     "output_type": "execute_result"
    }
   ],
   "source": [
    "df.shape"
   ]
  },
  {
   "cell_type": "code",
   "execution_count": 95,
   "metadata": {},
   "outputs": [
    {
     "data": {
      "text/html": [
       "<div>\n",
       "<style>\n",
       "    .dataframe thead tr:only-child th {\n",
       "        text-align: right;\n",
       "    }\n",
       "\n",
       "    .dataframe thead th {\n",
       "        text-align: left;\n",
       "    }\n",
       "\n",
       "    .dataframe tbody tr th {\n",
       "        vertical-align: top;\n",
       "    }\n",
       "</style>\n",
       "<table border=\"1\" class=\"dataframe\">\n",
       "  <thead>\n",
       "    <tr style=\"text-align: right;\">\n",
       "      <th></th>\n",
       "      <th>Year</th>\n",
       "      <th>G</th>\n",
       "      <th>GS</th>\n",
       "      <th>MP</th>\n",
       "      <th>PER</th>\n",
       "      <th>TS%</th>\n",
       "      <th>3PAr</th>\n",
       "      <th>FTr</th>\n",
       "      <th>ORB%</th>\n",
       "      <th>DRB%</th>\n",
       "      <th>...</th>\n",
       "      <th>AST</th>\n",
       "      <th>STL</th>\n",
       "      <th>BLK</th>\n",
       "      <th>TOV</th>\n",
       "      <th>PF</th>\n",
       "      <th>PTS</th>\n",
       "      <th>YrsExperience</th>\n",
       "      <th>Height</th>\n",
       "      <th>Weight</th>\n",
       "      <th>RoundedPosition</th>\n",
       "    </tr>\n",
       "  </thead>\n",
       "  <tbody>\n",
       "    <tr>\n",
       "      <th>0</th>\n",
       "      <td>2007</td>\n",
       "      <td>80</td>\n",
       "      <td>45</td>\n",
       "      <td>2015</td>\n",
       "      <td>13.1</td>\n",
       "      <td>0.524</td>\n",
       "      <td>0.031</td>\n",
       "      <td>0.358</td>\n",
       "      <td>7.0</td>\n",
       "      <td>16.4</td>\n",
       "      <td>...</td>\n",
       "      <td>109</td>\n",
       "      <td>53</td>\n",
       "      <td>40</td>\n",
       "      <td>116</td>\n",
       "      <td>243</td>\n",
       "      <td>793</td>\n",
       "      <td>10.0</td>\n",
       "      <td>81.0</td>\n",
       "      <td>225.0</td>\n",
       "      <td>4.0</td>\n",
       "    </tr>\n",
       "    <tr>\n",
       "      <th>1</th>\n",
       "      <td>2007</td>\n",
       "      <td>61</td>\n",
       "      <td>8</td>\n",
       "      <td>495</td>\n",
       "      <td>13.0</td>\n",
       "      <td>0.577</td>\n",
       "      <td>0.007</td>\n",
       "      <td>0.267</td>\n",
       "      <td>8.4</td>\n",
       "      <td>9.9</td>\n",
       "      <td>...</td>\n",
       "      <td>13</td>\n",
       "      <td>17</td>\n",
       "      <td>4</td>\n",
       "      <td>22</td>\n",
       "      <td>47</td>\n",
       "      <td>174</td>\n",
       "      <td>0.0</td>\n",
       "      <td>76.0</td>\n",
       "      <td>220.0</td>\n",
       "      <td>2.0</td>\n",
       "    </tr>\n",
       "    <tr>\n",
       "      <th>2</th>\n",
       "      <td>2007</td>\n",
       "      <td>32</td>\n",
       "      <td>1</td>\n",
       "      <td>214</td>\n",
       "      <td>2.9</td>\n",
       "      <td>0.408</td>\n",
       "      <td>0.214</td>\n",
       "      <td>0.471</td>\n",
       "      <td>0.6</td>\n",
       "      <td>11.0</td>\n",
       "      <td>...</td>\n",
       "      <td>7</td>\n",
       "      <td>4</td>\n",
       "      <td>3</td>\n",
       "      <td>15</td>\n",
       "      <td>27</td>\n",
       "      <td>69</td>\n",
       "      <td>0.0</td>\n",
       "      <td>77.0</td>\n",
       "      <td>202.0</td>\n",
       "      <td>2.0</td>\n",
       "    </tr>\n",
       "    <tr>\n",
       "      <th>3</th>\n",
       "      <td>2007</td>\n",
       "      <td>63</td>\n",
       "      <td>22</td>\n",
       "      <td>1392</td>\n",
       "      <td>17.1</td>\n",
       "      <td>0.533</td>\n",
       "      <td>0.004</td>\n",
       "      <td>0.240</td>\n",
       "      <td>12.6</td>\n",
       "      <td>15.3</td>\n",
       "      <td>...</td>\n",
       "      <td>24</td>\n",
       "      <td>22</td>\n",
       "      <td>73</td>\n",
       "      <td>43</td>\n",
       "      <td>186</td>\n",
       "      <td>565</td>\n",
       "      <td>0.0</td>\n",
       "      <td>83.0</td>\n",
       "      <td>240.0</td>\n",
       "      <td>5.0</td>\n",
       "    </tr>\n",
       "    <tr>\n",
       "      <th>4</th>\n",
       "      <td>2007</td>\n",
       "      <td>60</td>\n",
       "      <td>1</td>\n",
       "      <td>638</td>\n",
       "      <td>10.4</td>\n",
       "      <td>0.443</td>\n",
       "      <td>0.004</td>\n",
       "      <td>0.132</td>\n",
       "      <td>7.6</td>\n",
       "      <td>13.7</td>\n",
       "      <td>...</td>\n",
       "      <td>16</td>\n",
       "      <td>17</td>\n",
       "      <td>16</td>\n",
       "      <td>21</td>\n",
       "      <td>85</td>\n",
       "      <td>242</td>\n",
       "      <td>5.0</td>\n",
       "      <td>82.0</td>\n",
       "      <td>255.0</td>\n",
       "      <td>4.0</td>\n",
       "    </tr>\n",
       "  </tbody>\n",
       "</table>\n",
       "<p>5 rows × 50 columns</p>\n",
       "</div>"
      ],
      "text/plain": [
       "   Year   G  GS    MP   PER    TS%   3PAr    FTr  ORB%  DRB%       ...         \\\n",
       "0  2007  80  45  2015  13.1  0.524  0.031  0.358   7.0  16.4       ...          \n",
       "1  2007  61   8   495  13.0  0.577  0.007  0.267   8.4   9.9       ...          \n",
       "2  2007  32   1   214   2.9  0.408  0.214  0.471   0.6  11.0       ...          \n",
       "3  2007  63  22  1392  17.1  0.533  0.004  0.240  12.6  15.3       ...          \n",
       "4  2007  60   1   638  10.4  0.443  0.004  0.132   7.6  13.7       ...          \n",
       "\n",
       "   AST  STL  BLK  TOV   PF  PTS  YrsExperience  Height  Weight  \\\n",
       "0  109   53   40  116  243  793           10.0    81.0   225.0   \n",
       "1   13   17    4   22   47  174            0.0    76.0   220.0   \n",
       "2    7    4    3   15   27   69            0.0    77.0   202.0   \n",
       "3   24   22   73   43  186  565            0.0    83.0   240.0   \n",
       "4   16   17   16   21   85  242            5.0    82.0   255.0   \n",
       "\n",
       "   RoundedPosition  \n",
       "0              4.0  \n",
       "1              2.0  \n",
       "2              2.0  \n",
       "3              5.0  \n",
       "4              4.0  \n",
       "\n",
       "[5 rows x 50 columns]"
      ]
     },
     "execution_count": 95,
     "metadata": {},
     "output_type": "execute_result"
    }
   ],
   "source": [
    "data = df.drop(\"Pos\", axis=1)\n",
    "data = data.drop(\"Tm\", axis=1)\n",
    "data = data.drop(\"Player\", axis=1)\n",
    "data = data.drop(\"TrueSalary\", axis=1)\n",
    "#data = data.drop(\"RoundedPosition\", axis=1)\n",
    "#data = data.drop(\"Year\", axis=1)\n",
    "data = data.drop(\"Age\", axis=1)\n",
    "feature_names = data.columns\n",
    "target = df['Tm']\n",
    "target_names = target.value_counts().keys().tolist()\n",
    "data.head()"
   ]
  },
  {
   "cell_type": "code",
   "execution_count": 96,
   "metadata": {},
   "outputs": [
    {
     "data": {
      "text/plain": [
       "(4780, 50)"
      ]
     },
     "execution_count": 96,
     "metadata": {},
     "output_type": "execute_result"
    }
   ],
   "source": [
    "data.shape"
   ]
  },
  {
   "cell_type": "code",
   "execution_count": 97,
   "metadata": {},
   "outputs": [
    {
     "data": {
      "text/plain": [
       "(4780,)"
      ]
     },
     "execution_count": 97,
     "metadata": {},
     "output_type": "execute_result"
    }
   ],
   "source": [
    "target.shape"
   ]
  },
  {
   "cell_type": "code",
   "execution_count": 98,
   "metadata": {
    "collapsed": true
   },
   "outputs": [],
   "source": [
    "from sklearn.model_selection import train_test_split\n",
    "from sklearn.preprocessing import StandardScaler\n",
    "X_train, X_test, y_train, y_test = train_test_split(data, target, random_state=42, stratify=target)"
   ]
  },
  {
   "cell_type": "code",
   "execution_count": 99,
   "metadata": {},
   "outputs": [],
   "source": [
    "X_scaler = StandardScaler().fit(X_train.values.reshape(-1, 1))"
   ]
  },
  {
   "cell_type": "code",
   "execution_count": 100,
   "metadata": {
    "collapsed": true
   },
   "outputs": [],
   "source": [
    "X_train_scaled = X_scaler.transform(X_train)\n",
    "X_test_scaled = X_scaler.transform(X_test)"
   ]
  },
  {
   "cell_type": "code",
   "execution_count": 101,
   "metadata": {},
   "outputs": [
    {
     "name": "stdout",
     "output_type": "stream",
     "text": [
      "k: 1, Train/Test Score: 1.000/0.160\n",
      "k: 3, Train/Test Score: 0.447/0.151\n",
      "k: 5, Train/Test Score: 0.365/0.156\n",
      "k: 7, Train/Test Score: 0.332/0.159\n",
      "k: 9, Train/Test Score: 0.317/0.156\n",
      "k: 11, Train/Test Score: 0.303/0.157\n",
      "k: 13, Train/Test Score: 0.282/0.154\n",
      "k: 15, Train/Test Score: 0.267/0.158\n",
      "k: 17, Train/Test Score: 0.259/0.149\n",
      "k: 19, Train/Test Score: 0.249/0.150\n",
      "k: 21, Train/Test Score: 0.245/0.147\n",
      "k: 23, Train/Test Score: 0.243/0.147\n",
      "k: 25, Train/Test Score: 0.238/0.145\n",
      "k: 27, Train/Test Score: 0.231/0.144\n",
      "k: 29, Train/Test Score: 0.227/0.146\n",
      "k: 31, Train/Test Score: 0.225/0.146\n",
      "k: 33, Train/Test Score: 0.221/0.148\n",
      "k: 35, Train/Test Score: 0.218/0.149\n",
      "k: 37, Train/Test Score: 0.213/0.151\n",
      "k: 39, Train/Test Score: 0.208/0.150\n",
      "k: 41, Train/Test Score: 0.205/0.150\n",
      "k: 43, Train/Test Score: 0.203/0.154\n",
      "k: 45, Train/Test Score: 0.207/0.158\n",
      "k: 47, Train/Test Score: 0.203/0.156\n",
      "k: 49, Train/Test Score: 0.207/0.149\n",
      "k: 51, Train/Test Score: 0.205/0.148\n",
      "k: 53, Train/Test Score: 0.201/0.147\n",
      "k: 55, Train/Test Score: 0.199/0.145\n",
      "k: 57, Train/Test Score: 0.200/0.146\n",
      "k: 59, Train/Test Score: 0.199/0.143\n",
      "k: 61, Train/Test Score: 0.195/0.146\n",
      "k: 63, Train/Test Score: 0.194/0.142\n",
      "k: 65, Train/Test Score: 0.190/0.143\n",
      "k: 67, Train/Test Score: 0.190/0.139\n",
      "k: 69, Train/Test Score: 0.189/0.140\n",
      "k: 71, Train/Test Score: 0.191/0.141\n",
      "k: 73, Train/Test Score: 0.188/0.146\n",
      "k: 75, Train/Test Score: 0.189/0.146\n",
      "k: 77, Train/Test Score: 0.186/0.148\n",
      "k: 79, Train/Test Score: 0.187/0.147\n",
      "k: 81, Train/Test Score: 0.183/0.146\n",
      "k: 83, Train/Test Score: 0.184/0.147\n",
      "k: 85, Train/Test Score: 0.185/0.149\n",
      "k: 87, Train/Test Score: 0.183/0.146\n",
      "k: 89, Train/Test Score: 0.184/0.146\n",
      "k: 91, Train/Test Score: 0.182/0.143\n",
      "k: 93, Train/Test Score: 0.182/0.141\n",
      "k: 95, Train/Test Score: 0.181/0.145\n",
      "k: 97, Train/Test Score: 0.179/0.145\n",
      "k: 99, Train/Test Score: 0.177/0.146\n"
     ]
    },
    {
     "data": {
      "image/png": "[encoded data removed]",
      "text/plain": [
       "<matplotlib.figure.Figure at 0x11eaa3860>"
      ]
     },
     "metadata": {},
     "output_type": "display_data"
    }
   ],
   "source": [
    "train_scores = []\n",
    "test_scores = []\n",
    "for k in range(1, 100, 2):\n",
    "    knn = KNeighborsClassifier(n_neighbors=k)\n",
    "    knn.fit(X_train_scaled, y_train)\n",
    "    train_score = knn.score(X_train_scaled, y_train)\n",
    "    test_score = knn.score(X_test_scaled, y_test)\n",
    "    train_scores.append(train_score)\n",
    "    test_scores.append(test_score)\n",
    "    print(f\"k: {k}, Train/Test Score: {train_score:.3f}/{test_score:.3f}\")\n",
    "    \n",
    "    \n",
    "plt.plot(range(1, 100, 2), train_scores, marker='o')\n",
    "plt.plot(range(1, 100, 2), test_scores, marker=\"x\")\n",
    "plt.xlabel(\"k neighbors\")\n",
    "plt.ylabel(\"Testing accuracy Score\")\n",
    "plt.savefig(\"Strat_KNN_Tm\")\n",
    "plt.show()"
   ]
  },
  {
   "cell_type": "code",
   "execution_count": 102,
   "metadata": {
    "collapsed": true
   },
   "outputs": [],
   "source": [
    "from sklearn import tree"
   ]
  },
  {
   "cell_type": "code",
   "execution_count": 103,
   "metadata": {
    "collapsed": true
   },
   "outputs": [],
   "source": [
    "X_train, X_test, y_train, y_test = train_test_split(data, target, random_state=42)"
   ]
  },
  {
   "cell_type": "code",
   "execution_count": 104,
   "metadata": {},
   "outputs": [
    {
     "data": {
      "text/plain": [
       "0.17656903765690377"
      ]
     },
     "execution_count": 104,
     "metadata": {},
     "output_type": "execute_result"
    }
   ],
   "source": [
    "clf = tree.DecisionTreeClassifier()\n",
    "clf = clf.fit(X_train, y_train)\n",
    "clf.score(X_test, y_test)"
   ]
  },
  {
   "cell_type": "code",
   "execution_count": 105,
   "metadata": {},
   "outputs": [
    {
     "data": {
      "text/plain": [
       "0.28033472803347281"
      ]
     },
     "execution_count": 105,
     "metadata": {},
     "output_type": "execute_result"
    }
   ],
   "source": [
    "from sklearn.ensemble import RandomForestClassifier\n",
    "rf = RandomForestClassifier(n_estimators=200)\n",
    "rf = rf.fit(X_train, y_train)\n",
    "rf.score(X_test, y_test)"
   ]
  },
  {
   "cell_type": "code",
   "execution_count": 106,
   "metadata": {},
   "outputs": [
    {
     "data": {
      "text/plain": [
       "'0.280'"
      ]
     },
     "execution_count": 106,
     "metadata": {},
     "output_type": "execute_result"
    }
   ],
   "source": [
    "score = rf.score(X_test, y_test)\n",
    "score = \"%.3f\" % score\n",
    "score"
   ]
  },
  {
   "cell_type": "code",
   "execution_count": 107,
   "metadata": {},
   "outputs": [
    {
     "data": {
      "image/png": "[encoded data removed]",
      "text/plain": [
       "<matplotlib.figure.Figure at 0x11de3bac8>"
      ]
     },
     "metadata": {},
     "output_type": "display_data"
    }
   ],
   "source": [
    "x_values = np.arange(len(feature_names))\n",
    "plt.figure(figsize=(10, 7))\n",
    "\n",
    "plt.title(\"Feature Importance; Testing Score: \"f\"{score}\")\n",
    "plt.xlabel(\"Feature Name\")\n",
    "plt.ylabel(\"Importance\")\n",
    "\n",
    "plt.bar(x_values, rf.feature_importances_, facecolor=\"darkblue\",\n",
    "        alpha=0.75, tick_label=feature_names)\n",
    "plt.xticks(rotation='vertical')\n",
    "plt.savefig(\"Tm_Features\")\n",
    "plt.show()"
   ]
  },
  {
   "cell_type": "code",
   "execution_count": 108,
   "metadata": {},
   "outputs": [
    {
     "data": {
      "text/plain": [
       "[(0.03983135765470068, 'Weight'),\n",
       " (0.035193967588305862, 'Height'),\n",
       " (0.031835187253715098, 'RoundedPosition'),\n",
       " (0.024252852443980243, 'YrsExperience'),\n",
       " (0.023460593702422209, 'USG%'),\n",
       " (0.023133426171382528, 'TOV%'),\n",
       " (0.022753792722245252, 'AST%'),\n",
       " (0.022676989696614688, 'FTr'),\n",
       " (0.022363890545226098, 'WS/48'),\n",
       " (0.022327101130549712, 'FT%'),\n",
       " (0.021832120924038648, '3PAr'),\n",
       " (0.021558022516844477, 'DBPM'),\n",
       " (0.021356419161359667, '2P%'),\n",
       " (0.021116338499304086, 'DRB%'),\n",
       " (0.020930685670270687, 'PER'),\n",
       " (0.020859346178900933, 'Year'),\n",
       " (0.020643848362817237, 'ORB%'),\n",
       " (0.020153371350546533, 'FG%'),\n",
       " (0.020116390127523261, 'STL%'),\n",
       " (0.020111352941294472, 'TS%'),\n",
       " (0.019863945832470829, 'BPM'),\n",
       " (0.0198015960268055, 'eFG%'),\n",
       " (0.019559430989770435, 'TRB%'),\n",
       " (0.019218215880275516, 'OBPM'),\n",
       " (0.019216402935233249, 'G'),\n",
       " (0.01917632021278819, 'PF'),\n",
       " (0.018786870842224464, 'DWS'),\n",
       " (0.018653842768071242, 'AST'),\n",
       " (0.018611399394005215, 'BLK%'),\n",
       " (0.018322773824535468, 'ORB'),\n",
       " (0.018141133259297872, 'FTA'),\n",
       " (0.018004967224997663, '3P%'),\n",
       " (0.017906738380570938, 'TOV'),\n",
       " (0.017881719641924341, 'STL'),\n",
       " (0.01764148603493822, 'DRB'),\n",
       " (0.017245407445798552, 'FT'),\n",
       " (0.017231871416990192, '3PA'),\n",
       " (0.017209321255222114, '2PA'),\n",
       " (0.017169133513515657, 'MP'),\n",
       " (0.017097238569464827, 'BLK'),\n",
       " (0.017043817733373386, 'TRB'),\n",
       " (0.016180334843230591, 'GS'),\n",
       " (0.015946309701589004, '2P'),\n",
       " (0.015943803904489039, 'FGA'),\n",
       " (0.015694438549563081, '3P'),\n",
       " (0.015427344720268032, 'PTS'),\n",
       " (0.0153596137928528, 'OWS'),\n",
       " (0.015312092852671631, 'FG'),\n",
       " (0.014953083003503573, 'WS'),\n",
       " (0.014892290807516051, 'VORP')]"
      ]
     },
     "execution_count": 108,
     "metadata": {},
     "output_type": "execute_result"
    }
   ],
   "source": [
    "sorted(zip(rf.feature_importances_, feature_names), reverse=True)"
   ]
  },
  {
   "cell_type": "code",
   "execution_count": null,
   "metadata": {
    "collapsed": true
   },
   "outputs": [],
   "source": []
  },
  {
   "cell_type": "markdown",
   "metadata": {},
   "source": [
    "# Combining With DPOY Data"
   ]
  },
  {
   "cell_type": "code",
   "execution_count": 109,
   "metadata": {
    "collapsed": true
   },
   "outputs": [],
   "source": [
    "season_stats = pd.read_csv('cleaned_data.csv')"
   ]
  },
  {
   "cell_type": "code",
   "execution_count": 110,
   "metadata": {},
   "outputs": [
    {
     "data": {
      "text/plain": [
       "Index(['Year', 'Player', 'Pos', 'Age', 'Tm', 'G', 'GS', 'MP', 'PER', 'TS%',\n",
       "       '3PAr', 'FTr', 'ORB%', 'DRB%', 'TRB%', 'AST%', 'STL%', 'BLK%', 'TOV%',\n",
       "       'USG%', 'blanl', 'OWS', 'DWS', 'WS', 'WS/48', 'blank2', 'OBPM', 'DBPM',\n",
       "       'BPM', 'VORP', 'FG', 'FGA', 'FG%', '3P', '3PA', '3P%', '2P', '2PA',\n",
       "       '2P%', 'eFG%', 'FT', 'FTA', 'FT%', 'ORB', 'DRB', 'TRB', 'AST', 'STL',\n",
       "       'BLK', 'TOV', 'PF', 'PTS', 'TrueSalary', 'YrsExperience', 'Height',\n",
       "       'Weight', 'RoundedPosition'],\n",
       "      dtype='object')"
      ]
     },
     "execution_count": 110,
     "metadata": {},
     "output_type": "execute_result"
    }
   ],
   "source": [
    "season_stats.columns"
   ]
  },
  {
   "cell_type": "code",
   "execution_count": 111,
   "metadata": {},
   "outputs": [
    {
     "data": {
      "text/html": [
       "<div>\n",
       "<style>\n",
       "    .dataframe thead tr:only-child th {\n",
       "        text-align: right;\n",
       "    }\n",
       "\n",
       "    .dataframe thead th {\n",
       "        text-align: left;\n",
       "    }\n",
       "\n",
       "    .dataframe tbody tr th {\n",
       "        vertical-align: top;\n",
       "    }\n",
       "</style>\n",
       "<table border=\"1\" class=\"dataframe\">\n",
       "  <thead>\n",
       "    <tr style=\"text-align: right;\">\n",
       "      <th></th>\n",
       "      <th>Year</th>\n",
       "      <th>Player</th>\n",
       "      <th>Pos</th>\n",
       "      <th>Age</th>\n",
       "      <th>Tm</th>\n",
       "      <th>G</th>\n",
       "      <th>GS</th>\n",
       "      <th>MP</th>\n",
       "      <th>PER</th>\n",
       "      <th>TS%</th>\n",
       "      <th>...</th>\n",
       "      <th>STL</th>\n",
       "      <th>BLK</th>\n",
       "      <th>TOV</th>\n",
       "      <th>PF</th>\n",
       "      <th>PTS</th>\n",
       "      <th>TrueSalary</th>\n",
       "      <th>YrsExperience</th>\n",
       "      <th>Height</th>\n",
       "      <th>Weight</th>\n",
       "      <th>RoundedPosition</th>\n",
       "    </tr>\n",
       "  </thead>\n",
       "  <tbody>\n",
       "    <tr>\n",
       "      <th>77</th>\n",
       "      <td>2007</td>\n",
       "      <td>Marcus Camby</td>\n",
       "      <td>C</td>\n",
       "      <td>32</td>\n",
       "      <td>DEN</td>\n",
       "      <td>70</td>\n",
       "      <td>70</td>\n",
       "      <td>2369</td>\n",
       "      <td>19.1</td>\n",
       "      <td>0.519</td>\n",
       "      <td>...</td>\n",
       "      <td>87</td>\n",
       "      <td>231</td>\n",
       "      <td>122</td>\n",
       "      <td>183</td>\n",
       "      <td>785</td>\n",
       "      <td>19300000</td>\n",
       "      <td>10.0</td>\n",
       "      <td>83.0</td>\n",
       "      <td>220.0</td>\n",
       "      <td>5.0</td>\n",
       "    </tr>\n",
       "    <tr>\n",
       "      <th>696</th>\n",
       "      <td>2008</td>\n",
       "      <td>Kevin Garnett</td>\n",
       "      <td>PF</td>\n",
       "      <td>31</td>\n",
       "      <td>BOS</td>\n",
       "      <td>71</td>\n",
       "      <td>71</td>\n",
       "      <td>2328</td>\n",
       "      <td>25.3</td>\n",
       "      <td>0.588</td>\n",
       "      <td>...</td>\n",
       "      <td>100</td>\n",
       "      <td>89</td>\n",
       "      <td>138</td>\n",
       "      <td>163</td>\n",
       "      <td>1337</td>\n",
       "      <td>24200000</td>\n",
       "      <td>12.0</td>\n",
       "      <td>83.0</td>\n",
       "      <td>220.0</td>\n",
       "      <td>4.0</td>\n",
       "    </tr>\n",
       "    <tr>\n",
       "      <th>1360</th>\n",
       "      <td>2009</td>\n",
       "      <td>Dwight Howard</td>\n",
       "      <td>C</td>\n",
       "      <td>23</td>\n",
       "      <td>ORL</td>\n",
       "      <td>79</td>\n",
       "      <td>79</td>\n",
       "      <td>2821</td>\n",
       "      <td>25.4</td>\n",
       "      <td>0.600</td>\n",
       "      <td>...</td>\n",
       "      <td>77</td>\n",
       "      <td>231</td>\n",
       "      <td>240</td>\n",
       "      <td>270</td>\n",
       "      <td>1624</td>\n",
       "      <td>19800000</td>\n",
       "      <td>4.0</td>\n",
       "      <td>83.0</td>\n",
       "      <td>240.0</td>\n",
       "      <td>5.0</td>\n",
       "    </tr>\n",
       "    <tr>\n",
       "      <th>1938</th>\n",
       "      <td>2010</td>\n",
       "      <td>Dwight Howard</td>\n",
       "      <td>C</td>\n",
       "      <td>24</td>\n",
       "      <td>ORL</td>\n",
       "      <td>82</td>\n",
       "      <td>82</td>\n",
       "      <td>2843</td>\n",
       "      <td>24.0</td>\n",
       "      <td>0.630</td>\n",
       "      <td>...</td>\n",
       "      <td>75</td>\n",
       "      <td>228</td>\n",
       "      <td>274</td>\n",
       "      <td>287</td>\n",
       "      <td>1503</td>\n",
       "      <td>21900000</td>\n",
       "      <td>5.0</td>\n",
       "      <td>83.0</td>\n",
       "      <td>240.0</td>\n",
       "      <td>5.0</td>\n",
       "    </tr>\n",
       "    <tr>\n",
       "      <th>2565</th>\n",
       "      <td>2011</td>\n",
       "      <td>Dwight Howard</td>\n",
       "      <td>C</td>\n",
       "      <td>25</td>\n",
       "      <td>ORL</td>\n",
       "      <td>78</td>\n",
       "      <td>78</td>\n",
       "      <td>2935</td>\n",
       "      <td>26.1</td>\n",
       "      <td>0.616</td>\n",
       "      <td>...</td>\n",
       "      <td>107</td>\n",
       "      <td>186</td>\n",
       "      <td>279</td>\n",
       "      <td>258</td>\n",
       "      <td>1784</td>\n",
       "      <td>20900000</td>\n",
       "      <td>6.0</td>\n",
       "      <td>83.0</td>\n",
       "      <td>240.0</td>\n",
       "      <td>5.0</td>\n",
       "    </tr>\n",
       "    <tr>\n",
       "      <th>2987</th>\n",
       "      <td>2012</td>\n",
       "      <td>Tyson Chandler</td>\n",
       "      <td>C</td>\n",
       "      <td>29</td>\n",
       "      <td>NYK</td>\n",
       "      <td>62</td>\n",
       "      <td>62</td>\n",
       "      <td>2061</td>\n",
       "      <td>18.7</td>\n",
       "      <td>0.708</td>\n",
       "      <td>...</td>\n",
       "      <td>56</td>\n",
       "      <td>89</td>\n",
       "      <td>102</td>\n",
       "      <td>186</td>\n",
       "      <td>699</td>\n",
       "      <td>17100000</td>\n",
       "      <td>10.0</td>\n",
       "      <td>85.0</td>\n",
       "      <td>235.0</td>\n",
       "      <td>5.0</td>\n",
       "    </tr>\n",
       "    <tr>\n",
       "      <th>3623</th>\n",
       "      <td>2013</td>\n",
       "      <td>Marc Gasol</td>\n",
       "      <td>C</td>\n",
       "      <td>28</td>\n",
       "      <td>MEM</td>\n",
       "      <td>80</td>\n",
       "      <td>80</td>\n",
       "      <td>2796</td>\n",
       "      <td>19.5</td>\n",
       "      <td>0.559</td>\n",
       "      <td>...</td>\n",
       "      <td>80</td>\n",
       "      <td>139</td>\n",
       "      <td>157</td>\n",
       "      <td>255</td>\n",
       "      <td>1127</td>\n",
       "      <td>22100000</td>\n",
       "      <td>4.0</td>\n",
       "      <td>85.0</td>\n",
       "      <td>265.0</td>\n",
       "      <td>5.0</td>\n",
       "    </tr>\n",
       "    <tr>\n",
       "      <th>4442</th>\n",
       "      <td>2014</td>\n",
       "      <td>Joakim Noah</td>\n",
       "      <td>C</td>\n",
       "      <td>28</td>\n",
       "      <td>CHI</td>\n",
       "      <td>80</td>\n",
       "      <td>80</td>\n",
       "      <td>2820</td>\n",
       "      <td>20.0</td>\n",
       "      <td>0.531</td>\n",
       "      <td>...</td>\n",
       "      <td>99</td>\n",
       "      <td>121</td>\n",
       "      <td>194</td>\n",
       "      <td>245</td>\n",
       "      <td>1007</td>\n",
       "      <td>22400000</td>\n",
       "      <td>6.0</td>\n",
       "      <td>83.0</td>\n",
       "      <td>232.0</td>\n",
       "      <td>4.0</td>\n",
       "    </tr>\n",
       "    <tr>\n",
       "      <th>4978</th>\n",
       "      <td>2015</td>\n",
       "      <td>Kawhi Leonard</td>\n",
       "      <td>SF</td>\n",
       "      <td>23</td>\n",
       "      <td>SAS</td>\n",
       "      <td>64</td>\n",
       "      <td>64</td>\n",
       "      <td>2033</td>\n",
       "      <td>22.0</td>\n",
       "      <td>0.567</td>\n",
       "      <td>...</td>\n",
       "      <td>148</td>\n",
       "      <td>48</td>\n",
       "      <td>97</td>\n",
       "      <td>128</td>\n",
       "      <td>1057</td>\n",
       "      <td>21600000</td>\n",
       "      <td>3.0</td>\n",
       "      <td>79.0</td>\n",
       "      <td>230.0</td>\n",
       "      <td>3.0</td>\n",
       "    </tr>\n",
       "    <tr>\n",
       "      <th>5604</th>\n",
       "      <td>2016</td>\n",
       "      <td>Kawhi Leonard</td>\n",
       "      <td>SF</td>\n",
       "      <td>24</td>\n",
       "      <td>SAS</td>\n",
       "      <td>72</td>\n",
       "      <td>72</td>\n",
       "      <td>2380</td>\n",
       "      <td>26.0</td>\n",
       "      <td>0.616</td>\n",
       "      <td>...</td>\n",
       "      <td>128</td>\n",
       "      <td>71</td>\n",
       "      <td>105</td>\n",
       "      <td>133</td>\n",
       "      <td>1523</td>\n",
       "      <td>11300000</td>\n",
       "      <td>4.0</td>\n",
       "      <td>79.0</td>\n",
       "      <td>230.0</td>\n",
       "      <td>3.0</td>\n",
       "    </tr>\n",
       "  </tbody>\n",
       "</table>\n",
       "<p>10 rows × 57 columns</p>\n",
       "</div>"
      ],
      "text/plain": [
       "      Year          Player Pos  Age   Tm   G  GS    MP   PER    TS%  \\\n",
       "77    2007    Marcus Camby   C   32  DEN  70  70  2369  19.1  0.519   \n",
       "696   2008   Kevin Garnett  PF   31  BOS  71  71  2328  25.3  0.588   \n",
       "1360  2009   Dwight Howard   C   23  ORL  79  79  2821  25.4  0.600   \n",
       "1938  2010   Dwight Howard   C   24  ORL  82  82  2843  24.0  0.630   \n",
       "2565  2011   Dwight Howard   C   25  ORL  78  78  2935  26.1  0.616   \n",
       "2987  2012  Tyson Chandler   C   29  NYK  62  62  2061  18.7  0.708   \n",
       "3623  2013      Marc Gasol   C   28  MEM  80  80  2796  19.5  0.559   \n",
       "4442  2014     Joakim Noah   C   28  CHI  80  80  2820  20.0  0.531   \n",
       "4978  2015   Kawhi Leonard  SF   23  SAS  64  64  2033  22.0  0.567   \n",
       "5604  2016   Kawhi Leonard  SF   24  SAS  72  72  2380  26.0  0.616   \n",
       "\n",
       "           ...         STL  BLK  TOV   PF   PTS  TrueSalary  YrsExperience  \\\n",
       "77         ...          87  231  122  183   785    19300000           10.0   \n",
       "696        ...         100   89  138  163  1337    24200000           12.0   \n",
       "1360       ...          77  231  240  270  1624    19800000            4.0   \n",
       "1938       ...          75  228  274  287  1503    21900000            5.0   \n",
       "2565       ...         107  186  279  258  1784    20900000            6.0   \n",
       "2987       ...          56   89  102  186   699    17100000           10.0   \n",
       "3623       ...          80  139  157  255  1127    22100000            4.0   \n",
       "4442       ...          99  121  194  245  1007    22400000            6.0   \n",
       "4978       ...         148   48   97  128  1057    21600000            3.0   \n",
       "5604       ...         128   71  105  133  1523    11300000            4.0   \n",
       "\n",
       "      Height  Weight  RoundedPosition  \n",
       "77      83.0   220.0              5.0  \n",
       "696     83.0   220.0              4.0  \n",
       "1360    83.0   240.0              5.0  \n",
       "1938    83.0   240.0              5.0  \n",
       "2565    83.0   240.0              5.0  \n",
       "2987    85.0   235.0              5.0  \n",
       "3623    85.0   265.0              5.0  \n",
       "4442    83.0   232.0              4.0  \n",
       "4978    79.0   230.0              3.0  \n",
       "5604    79.0   230.0              3.0  \n",
       "\n",
       "[10 rows x 57 columns]"
      ]
     },
     "execution_count": 111,
     "metadata": {},
     "output_type": "execute_result"
    }
   ],
   "source": [
    "dpoy_2016 = season_stats.loc[(season_stats['Year'] == 2016.0) & (season_stats['Player'] == 'Kawhi Leonard')]\n",
    "dpoy_2015 = season_stats.loc[(season_stats['Year'] == 2015.0) & (season_stats['Player'] == 'Kawhi Leonard')]\n",
    "dpoy_2014 = season_stats.loc[(season_stats['Year'] == 2014.0) & (season_stats['Player'] == 'Joakim Noah')]\n",
    "dpoy_2013 = season_stats.loc[(season_stats['Year'] == 2013.0) & (season_stats['Player'] == 'Marc Gasol')]\n",
    "dpoy_2012 = season_stats.loc[(season_stats['Year'] == 2012.0) & (season_stats['Player'] == 'Tyson Chandler')]\n",
    "dpoy_2011 = season_stats.loc[(season_stats['Year'] == 2011.0) & (season_stats['Player'] == 'Dwight Howard')]\n",
    "dpoy_2010 = season_stats.loc[(season_stats['Year'] == 2010.0) & (season_stats['Player'] == 'Dwight Howard')]\n",
    "dpoy_2009 = season_stats.loc[(season_stats['Year'] == 2009.0) & (season_stats['Player'] == 'Dwight Howard')]\n",
    "dpoy_2008 = season_stats.loc[(season_stats['Year'] == 2008.0) & (season_stats['Player'] == 'Kevin Garnett')]\n",
    "dpoy_2007 = season_stats.loc[(season_stats['Year'] == 2007.0) & (season_stats['Player'] == 'Marcus Camby')]\n",
    "\n",
    "dpoys = [dpoy_2007, dpoy_2008, dpoy_2009, dpoy_2010, dpoy_2011, dpoy_2012, dpoy_2013, dpoy_2014, dpoy_2015, dpoy_2016]\n",
    "\n",
    "dpoys_df = pd.concat(dpoys)\n",
    "dpoys_df"
   ]
  },
  {
   "cell_type": "code",
   "execution_count": 112,
   "metadata": {},
   "outputs": [
    {
     "data": {
      "text/plain": [
       "Index(['Year', 'Player', 'Pos', 'Age', 'Tm', 'G', 'GS', 'MP', 'PER', 'TS%',\n",
       "       '3PAr', 'FTr', 'ORB%', 'DRB%', 'TRB%', 'AST%', 'STL%', 'BLK%', 'TOV%',\n",
       "       'USG%', 'blanl', 'OWS', 'DWS', 'WS', 'WS/48', 'blank2', 'OBPM', 'DBPM',\n",
       "       'BPM', 'VORP', 'FG', 'FGA', 'FG%', '3P', '3PA', '3P%', '2P', '2PA',\n",
       "       '2P%', 'eFG%', 'FT', 'FTA', 'FT%', 'ORB', 'DRB', 'TRB', 'AST', 'STL',\n",
       "       'BLK', 'TOV', 'PF', 'PTS', 'TrueSalary', 'YrsExperience', 'Height',\n",
       "       'Weight', 'RoundedPosition'],\n",
       "      dtype='object')"
      ]
     },
     "execution_count": 112,
     "metadata": {},
     "output_type": "execute_result"
    }
   ],
   "source": [
    "df = season_stats\n",
    "df.columns"
   ]
  },
  {
   "cell_type": "code",
   "execution_count": 113,
   "metadata": {},
   "outputs": [
    {
     "data": {
      "text/plain": [
       "[77, 696, 1360, 1938, 2565, 2987, 3623, 4442, 4978, 5604]"
      ]
     },
     "execution_count": 113,
     "metadata": {},
     "output_type": "execute_result"
    }
   ],
   "source": [
    "dpoys_index = dpoys_df.index.values.tolist()\n",
    "dpoys_index"
   ]
  },
  {
   "cell_type": "code",
   "execution_count": 114,
   "metadata": {},
   "outputs": [],
   "source": [
    "dpoy = []\n",
    "for i in range(0, len(df)):\n",
    "    if i in dpoys_index:\n",
    "        value = 1\n",
    "        dpoy.append(value)\n",
    "    else:\n",
    "        value = 0\n",
    "        dpoy.append(value)\n",
    "            "
   ]
  },
  {
   "cell_type": "code",
   "execution_count": 115,
   "metadata": {},
   "outputs": [
    {
     "data": {
      "text/plain": [
       "5860"
      ]
     },
     "execution_count": 115,
     "metadata": {},
     "output_type": "execute_result"
    }
   ],
   "source": [
    "len(dpoy)"
   ]
  },
  {
   "cell_type": "code",
   "execution_count": 116,
   "metadata": {},
   "outputs": [
    {
     "name": "stdout",
     "output_type": "stream",
     "text": [
      "10\n"
     ]
    }
   ],
   "source": [
    "sum = 0\n",
    "for i in range(0, len(dpoy)):\n",
    "    sum = sum + dpoy[i]\n",
    "print(sum)"
   ]
  },
  {
   "cell_type": "code",
   "execution_count": 117,
   "metadata": {},
   "outputs": [],
   "source": [
    "df['dpoy'] = dpoy"
   ]
  },
  {
   "cell_type": "code",
   "execution_count": 118,
   "metadata": {},
   "outputs": [
    {
     "data": {
      "text/plain": [
       "(5860, 58)"
      ]
     },
     "execution_count": 118,
     "metadata": {},
     "output_type": "execute_result"
    }
   ],
   "source": [
    "df.shape"
   ]
  },
  {
   "cell_type": "code",
   "execution_count": 119,
   "metadata": {},
   "outputs": [
    {
     "data": {
      "text/plain": [
       "Index(['Year', 'Player', 'Pos', 'Age', 'Tm', 'G', 'GS', 'MP', 'PER', 'TS%',\n",
       "       '3PAr', 'FTr', 'ORB%', 'DRB%', 'TRB%', 'AST%', 'STL%', 'BLK%', 'TOV%',\n",
       "       'USG%', 'blanl', 'OWS', 'DWS', 'WS', 'WS/48', 'blank2', 'OBPM', 'DBPM',\n",
       "       'BPM', 'VORP', 'FG', 'FGA', 'FG%', '3P', '3PA', '3P%', '2P', '2PA',\n",
       "       '2P%', 'eFG%', 'FT', 'FTA', 'FT%', 'ORB', 'DRB', 'TRB', 'AST', 'STL',\n",
       "       'BLK', 'TOV', 'PF', 'PTS', 'TrueSalary', 'YrsExperience', 'Height',\n",
       "       'Weight', 'RoundedPosition', 'dpoy'],\n",
       "      dtype='object')"
      ]
     },
     "execution_count": 119,
     "metadata": {},
     "output_type": "execute_result"
    }
   ],
   "source": [
    "df.keys()"
   ]
  },
  {
   "cell_type": "code",
   "execution_count": 120,
   "metadata": {},
   "outputs": [
    {
     "data": {
      "text/html": [
       "<div>\n",
       "<style>\n",
       "    .dataframe thead tr:only-child th {\n",
       "        text-align: right;\n",
       "    }\n",
       "\n",
       "    .dataframe thead th {\n",
       "        text-align: left;\n",
       "    }\n",
       "\n",
       "    .dataframe tbody tr th {\n",
       "        vertical-align: top;\n",
       "    }\n",
       "</style>\n",
       "<table border=\"1\" class=\"dataframe\">\n",
       "  <thead>\n",
       "    <tr style=\"text-align: right;\">\n",
       "      <th></th>\n",
       "      <th>Year</th>\n",
       "      <th>Player</th>\n",
       "      <th>Pos</th>\n",
       "      <th>Age</th>\n",
       "      <th>Tm</th>\n",
       "      <th>G</th>\n",
       "      <th>GS</th>\n",
       "      <th>MP</th>\n",
       "      <th>PER</th>\n",
       "      <th>TS%</th>\n",
       "      <th>...</th>\n",
       "      <th>BLK</th>\n",
       "      <th>TOV</th>\n",
       "      <th>PF</th>\n",
       "      <th>PTS</th>\n",
       "      <th>TrueSalary</th>\n",
       "      <th>YrsExperience</th>\n",
       "      <th>Height</th>\n",
       "      <th>Weight</th>\n",
       "      <th>RoundedPosition</th>\n",
       "      <th>dpoy</th>\n",
       "    </tr>\n",
       "  </thead>\n",
       "  <tbody>\n",
       "    <tr>\n",
       "      <th>0</th>\n",
       "      <td>2007</td>\n",
       "      <td>Shareef Abdur-Rahim</td>\n",
       "      <td>C</td>\n",
       "      <td>30</td>\n",
       "      <td>SAC</td>\n",
       "      <td>80</td>\n",
       "      <td>45</td>\n",
       "      <td>2015</td>\n",
       "      <td>13.1</td>\n",
       "      <td>0.524</td>\n",
       "      <td>...</td>\n",
       "      <td>40</td>\n",
       "      <td>116</td>\n",
       "      <td>243</td>\n",
       "      <td>793</td>\n",
       "      <td>1800000</td>\n",
       "      <td>10.0</td>\n",
       "      <td>81.0</td>\n",
       "      <td>225.0</td>\n",
       "      <td>4.0</td>\n",
       "      <td>0</td>\n",
       "    </tr>\n",
       "    <tr>\n",
       "      <th>1</th>\n",
       "      <td>2007</td>\n",
       "      <td>Hassan Adams</td>\n",
       "      <td>SG</td>\n",
       "      <td>22</td>\n",
       "      <td>NJN</td>\n",
       "      <td>61</td>\n",
       "      <td>8</td>\n",
       "      <td>495</td>\n",
       "      <td>13.0</td>\n",
       "      <td>0.577</td>\n",
       "      <td>...</td>\n",
       "      <td>4</td>\n",
       "      <td>22</td>\n",
       "      <td>47</td>\n",
       "      <td>174</td>\n",
       "      <td>0</td>\n",
       "      <td>0.0</td>\n",
       "      <td>76.0</td>\n",
       "      <td>220.0</td>\n",
       "      <td>2.0</td>\n",
       "      <td>0</td>\n",
       "    </tr>\n",
       "    <tr>\n",
       "      <th>2</th>\n",
       "      <td>2007</td>\n",
       "      <td>Maurice Ager</td>\n",
       "      <td>SG</td>\n",
       "      <td>22</td>\n",
       "      <td>DAL</td>\n",
       "      <td>32</td>\n",
       "      <td>1</td>\n",
       "      <td>214</td>\n",
       "      <td>2.9</td>\n",
       "      <td>0.408</td>\n",
       "      <td>...</td>\n",
       "      <td>3</td>\n",
       "      <td>15</td>\n",
       "      <td>27</td>\n",
       "      <td>69</td>\n",
       "      <td>0</td>\n",
       "      <td>0.0</td>\n",
       "      <td>77.0</td>\n",
       "      <td>202.0</td>\n",
       "      <td>2.0</td>\n",
       "      <td>0</td>\n",
       "    </tr>\n",
       "    <tr>\n",
       "      <th>3</th>\n",
       "      <td>2007</td>\n",
       "      <td>LaMarcus Aldridge</td>\n",
       "      <td>C</td>\n",
       "      <td>21</td>\n",
       "      <td>POR</td>\n",
       "      <td>63</td>\n",
       "      <td>22</td>\n",
       "      <td>1392</td>\n",
       "      <td>17.1</td>\n",
       "      <td>0.533</td>\n",
       "      <td>...</td>\n",
       "      <td>73</td>\n",
       "      <td>43</td>\n",
       "      <td>186</td>\n",
       "      <td>565</td>\n",
       "      <td>1900000</td>\n",
       "      <td>0.0</td>\n",
       "      <td>83.0</td>\n",
       "      <td>240.0</td>\n",
       "      <td>5.0</td>\n",
       "      <td>0</td>\n",
       "    </tr>\n",
       "    <tr>\n",
       "      <th>4</th>\n",
       "      <td>2007</td>\n",
       "      <td>Malik Allen</td>\n",
       "      <td>PF</td>\n",
       "      <td>28</td>\n",
       "      <td>CHI</td>\n",
       "      <td>60</td>\n",
       "      <td>1</td>\n",
       "      <td>638</td>\n",
       "      <td>10.4</td>\n",
       "      <td>0.443</td>\n",
       "      <td>...</td>\n",
       "      <td>16</td>\n",
       "      <td>21</td>\n",
       "      <td>85</td>\n",
       "      <td>242</td>\n",
       "      <td>0</td>\n",
       "      <td>5.0</td>\n",
       "      <td>82.0</td>\n",
       "      <td>255.0</td>\n",
       "      <td>4.0</td>\n",
       "      <td>0</td>\n",
       "    </tr>\n",
       "  </tbody>\n",
       "</table>\n",
       "<p>5 rows × 58 columns</p>\n",
       "</div>"
      ],
      "text/plain": [
       "   Year               Player Pos  Age   Tm   G  GS    MP   PER    TS%  ...   \\\n",
       "0  2007  Shareef Abdur-Rahim   C   30  SAC  80  45  2015  13.1  0.524  ...    \n",
       "1  2007         Hassan Adams  SG   22  NJN  61   8   495  13.0  0.577  ...    \n",
       "2  2007         Maurice Ager  SG   22  DAL  32   1   214   2.9  0.408  ...    \n",
       "3  2007    LaMarcus Aldridge   C   21  POR  63  22  1392  17.1  0.533  ...    \n",
       "4  2007          Malik Allen  PF   28  CHI  60   1   638  10.4  0.443  ...    \n",
       "\n",
       "   BLK  TOV   PF  PTS  TrueSalary  YrsExperience  Height  Weight  \\\n",
       "0   40  116  243  793     1800000           10.0    81.0   225.0   \n",
       "1    4   22   47  174           0            0.0    76.0   220.0   \n",
       "2    3   15   27   69           0            0.0    77.0   202.0   \n",
       "3   73   43  186  565     1900000            0.0    83.0   240.0   \n",
       "4   16   21   85  242           0            5.0    82.0   255.0   \n",
       "\n",
       "   RoundedPosition  dpoy  \n",
       "0              4.0     0  \n",
       "1              2.0     0  \n",
       "2              2.0     0  \n",
       "3              5.0     0  \n",
       "4              4.0     0  \n",
       "\n",
       "[5 rows x 58 columns]"
      ]
     },
     "execution_count": 120,
     "metadata": {},
     "output_type": "execute_result"
    }
   ],
   "source": [
    "df.head()"
   ]
  },
  {
   "cell_type": "code",
   "execution_count": 121,
   "metadata": {},
   "outputs": [
    {
     "data": {
      "text/html": [
       "<div>\n",
       "<style>\n",
       "    .dataframe thead tr:only-child th {\n",
       "        text-align: right;\n",
       "    }\n",
       "\n",
       "    .dataframe thead th {\n",
       "        text-align: left;\n",
       "    }\n",
       "\n",
       "    .dataframe tbody tr th {\n",
       "        vertical-align: top;\n",
       "    }\n",
       "</style>\n",
       "<table border=\"1\" class=\"dataframe\">\n",
       "  <thead>\n",
       "    <tr style=\"text-align: right;\">\n",
       "      <th></th>\n",
       "      <th>Year</th>\n",
       "      <th>Player</th>\n",
       "      <th>Pos</th>\n",
       "      <th>Age</th>\n",
       "      <th>Tm</th>\n",
       "      <th>G</th>\n",
       "      <th>GS</th>\n",
       "      <th>MP</th>\n",
       "      <th>PER</th>\n",
       "      <th>TS%</th>\n",
       "      <th>...</th>\n",
       "      <th>BLK</th>\n",
       "      <th>TOV</th>\n",
       "      <th>PF</th>\n",
       "      <th>PTS</th>\n",
       "      <th>TrueSalary</th>\n",
       "      <th>YrsExperience</th>\n",
       "      <th>Height</th>\n",
       "      <th>Weight</th>\n",
       "      <th>RoundedPosition</th>\n",
       "      <th>dpoy</th>\n",
       "    </tr>\n",
       "  </thead>\n",
       "  <tbody>\n",
       "    <tr>\n",
       "      <th>77</th>\n",
       "      <td>2007</td>\n",
       "      <td>Marcus Camby</td>\n",
       "      <td>C</td>\n",
       "      <td>32</td>\n",
       "      <td>DEN</td>\n",
       "      <td>70</td>\n",
       "      <td>70</td>\n",
       "      <td>2369</td>\n",
       "      <td>19.1</td>\n",
       "      <td>0.519</td>\n",
       "      <td>...</td>\n",
       "      <td>231</td>\n",
       "      <td>122</td>\n",
       "      <td>183</td>\n",
       "      <td>785</td>\n",
       "      <td>19300000</td>\n",
       "      <td>10.0</td>\n",
       "      <td>83.0</td>\n",
       "      <td>220.0</td>\n",
       "      <td>5.0</td>\n",
       "      <td>1</td>\n",
       "    </tr>\n",
       "    <tr>\n",
       "      <th>696</th>\n",
       "      <td>2008</td>\n",
       "      <td>Kevin Garnett</td>\n",
       "      <td>PF</td>\n",
       "      <td>31</td>\n",
       "      <td>BOS</td>\n",
       "      <td>71</td>\n",
       "      <td>71</td>\n",
       "      <td>2328</td>\n",
       "      <td>25.3</td>\n",
       "      <td>0.588</td>\n",
       "      <td>...</td>\n",
       "      <td>89</td>\n",
       "      <td>138</td>\n",
       "      <td>163</td>\n",
       "      <td>1337</td>\n",
       "      <td>24200000</td>\n",
       "      <td>12.0</td>\n",
       "      <td>83.0</td>\n",
       "      <td>220.0</td>\n",
       "      <td>4.0</td>\n",
       "      <td>1</td>\n",
       "    </tr>\n",
       "    <tr>\n",
       "      <th>1360</th>\n",
       "      <td>2009</td>\n",
       "      <td>Dwight Howard</td>\n",
       "      <td>C</td>\n",
       "      <td>23</td>\n",
       "      <td>ORL</td>\n",
       "      <td>79</td>\n",
       "      <td>79</td>\n",
       "      <td>2821</td>\n",
       "      <td>25.4</td>\n",
       "      <td>0.600</td>\n",
       "      <td>...</td>\n",
       "      <td>231</td>\n",
       "      <td>240</td>\n",
       "      <td>270</td>\n",
       "      <td>1624</td>\n",
       "      <td>19800000</td>\n",
       "      <td>4.0</td>\n",
       "      <td>83.0</td>\n",
       "      <td>240.0</td>\n",
       "      <td>5.0</td>\n",
       "      <td>1</td>\n",
       "    </tr>\n",
       "    <tr>\n",
       "      <th>1938</th>\n",
       "      <td>2010</td>\n",
       "      <td>Dwight Howard</td>\n",
       "      <td>C</td>\n",
       "      <td>24</td>\n",
       "      <td>ORL</td>\n",
       "      <td>82</td>\n",
       "      <td>82</td>\n",
       "      <td>2843</td>\n",
       "      <td>24.0</td>\n",
       "      <td>0.630</td>\n",
       "      <td>...</td>\n",
       "      <td>228</td>\n",
       "      <td>274</td>\n",
       "      <td>287</td>\n",
       "      <td>1503</td>\n",
       "      <td>21900000</td>\n",
       "      <td>5.0</td>\n",
       "      <td>83.0</td>\n",
       "      <td>240.0</td>\n",
       "      <td>5.0</td>\n",
       "      <td>1</td>\n",
       "    </tr>\n",
       "    <tr>\n",
       "      <th>2565</th>\n",
       "      <td>2011</td>\n",
       "      <td>Dwight Howard</td>\n",
       "      <td>C</td>\n",
       "      <td>25</td>\n",
       "      <td>ORL</td>\n",
       "      <td>78</td>\n",
       "      <td>78</td>\n",
       "      <td>2935</td>\n",
       "      <td>26.1</td>\n",
       "      <td>0.616</td>\n",
       "      <td>...</td>\n",
       "      <td>186</td>\n",
       "      <td>279</td>\n",
       "      <td>258</td>\n",
       "      <td>1784</td>\n",
       "      <td>20900000</td>\n",
       "      <td>6.0</td>\n",
       "      <td>83.0</td>\n",
       "      <td>240.0</td>\n",
       "      <td>5.0</td>\n",
       "      <td>1</td>\n",
       "    </tr>\n",
       "    <tr>\n",
       "      <th>2987</th>\n",
       "      <td>2012</td>\n",
       "      <td>Tyson Chandler</td>\n",
       "      <td>C</td>\n",
       "      <td>29</td>\n",
       "      <td>NYK</td>\n",
       "      <td>62</td>\n",
       "      <td>62</td>\n",
       "      <td>2061</td>\n",
       "      <td>18.7</td>\n",
       "      <td>0.708</td>\n",
       "      <td>...</td>\n",
       "      <td>89</td>\n",
       "      <td>102</td>\n",
       "      <td>186</td>\n",
       "      <td>699</td>\n",
       "      <td>17100000</td>\n",
       "      <td>10.0</td>\n",
       "      <td>85.0</td>\n",
       "      <td>235.0</td>\n",
       "      <td>5.0</td>\n",
       "      <td>1</td>\n",
       "    </tr>\n",
       "    <tr>\n",
       "      <th>3623</th>\n",
       "      <td>2013</td>\n",
       "      <td>Marc Gasol</td>\n",
       "      <td>C</td>\n",
       "      <td>28</td>\n",
       "      <td>MEM</td>\n",
       "      <td>80</td>\n",
       "      <td>80</td>\n",
       "      <td>2796</td>\n",
       "      <td>19.5</td>\n",
       "      <td>0.559</td>\n",
       "      <td>...</td>\n",
       "      <td>139</td>\n",
       "      <td>157</td>\n",
       "      <td>255</td>\n",
       "      <td>1127</td>\n",
       "      <td>22100000</td>\n",
       "      <td>4.0</td>\n",
       "      <td>85.0</td>\n",
       "      <td>265.0</td>\n",
       "      <td>5.0</td>\n",
       "      <td>1</td>\n",
       "    </tr>\n",
       "    <tr>\n",
       "      <th>4442</th>\n",
       "      <td>2014</td>\n",
       "      <td>Joakim Noah</td>\n",
       "      <td>C</td>\n",
       "      <td>28</td>\n",
       "      <td>CHI</td>\n",
       "      <td>80</td>\n",
       "      <td>80</td>\n",
       "      <td>2820</td>\n",
       "      <td>20.0</td>\n",
       "      <td>0.531</td>\n",
       "      <td>...</td>\n",
       "      <td>121</td>\n",
       "      <td>194</td>\n",
       "      <td>245</td>\n",
       "      <td>1007</td>\n",
       "      <td>22400000</td>\n",
       "      <td>6.0</td>\n",
       "      <td>83.0</td>\n",
       "      <td>232.0</td>\n",
       "      <td>4.0</td>\n",
       "      <td>1</td>\n",
       "    </tr>\n",
       "    <tr>\n",
       "      <th>4978</th>\n",
       "      <td>2015</td>\n",
       "      <td>Kawhi Leonard</td>\n",
       "      <td>SF</td>\n",
       "      <td>23</td>\n",
       "      <td>SAS</td>\n",
       "      <td>64</td>\n",
       "      <td>64</td>\n",
       "      <td>2033</td>\n",
       "      <td>22.0</td>\n",
       "      <td>0.567</td>\n",
       "      <td>...</td>\n",
       "      <td>48</td>\n",
       "      <td>97</td>\n",
       "      <td>128</td>\n",
       "      <td>1057</td>\n",
       "      <td>21600000</td>\n",
       "      <td>3.0</td>\n",
       "      <td>79.0</td>\n",
       "      <td>230.0</td>\n",
       "      <td>3.0</td>\n",
       "      <td>1</td>\n",
       "    </tr>\n",
       "    <tr>\n",
       "      <th>5604</th>\n",
       "      <td>2016</td>\n",
       "      <td>Kawhi Leonard</td>\n",
       "      <td>SF</td>\n",
       "      <td>24</td>\n",
       "      <td>SAS</td>\n",
       "      <td>72</td>\n",
       "      <td>72</td>\n",
       "      <td>2380</td>\n",
       "      <td>26.0</td>\n",
       "      <td>0.616</td>\n",
       "      <td>...</td>\n",
       "      <td>71</td>\n",
       "      <td>105</td>\n",
       "      <td>133</td>\n",
       "      <td>1523</td>\n",
       "      <td>11300000</td>\n",
       "      <td>4.0</td>\n",
       "      <td>79.0</td>\n",
       "      <td>230.0</td>\n",
       "      <td>3.0</td>\n",
       "      <td>1</td>\n",
       "    </tr>\n",
       "  </tbody>\n",
       "</table>\n",
       "<p>10 rows × 58 columns</p>\n",
       "</div>"
      ],
      "text/plain": [
       "      Year          Player Pos  Age   Tm   G  GS    MP   PER    TS%  ...   \\\n",
       "77    2007    Marcus Camby   C   32  DEN  70  70  2369  19.1  0.519  ...    \n",
       "696   2008   Kevin Garnett  PF   31  BOS  71  71  2328  25.3  0.588  ...    \n",
       "1360  2009   Dwight Howard   C   23  ORL  79  79  2821  25.4  0.600  ...    \n",
       "1938  2010   Dwight Howard   C   24  ORL  82  82  2843  24.0  0.630  ...    \n",
       "2565  2011   Dwight Howard   C   25  ORL  78  78  2935  26.1  0.616  ...    \n",
       "2987  2012  Tyson Chandler   C   29  NYK  62  62  2061  18.7  0.708  ...    \n",
       "3623  2013      Marc Gasol   C   28  MEM  80  80  2796  19.5  0.559  ...    \n",
       "4442  2014     Joakim Noah   C   28  CHI  80  80  2820  20.0  0.531  ...    \n",
       "4978  2015   Kawhi Leonard  SF   23  SAS  64  64  2033  22.0  0.567  ...    \n",
       "5604  2016   Kawhi Leonard  SF   24  SAS  72  72  2380  26.0  0.616  ...    \n",
       "\n",
       "      BLK  TOV   PF   PTS  TrueSalary  YrsExperience  Height  Weight  \\\n",
       "77    231  122  183   785    19300000           10.0    83.0   220.0   \n",
       "696    89  138  163  1337    24200000           12.0    83.0   220.0   \n",
       "1360  231  240  270  1624    19800000            4.0    83.0   240.0   \n",
       "1938  228  274  287  1503    21900000            5.0    83.0   240.0   \n",
       "2565  186  279  258  1784    20900000            6.0    83.0   240.0   \n",
       "2987   89  102  186   699    17100000           10.0    85.0   235.0   \n",
       "3623  139  157  255  1127    22100000            4.0    85.0   265.0   \n",
       "4442  121  194  245  1007    22400000            6.0    83.0   232.0   \n",
       "4978   48   97  128  1057    21600000            3.0    79.0   230.0   \n",
       "5604   71  105  133  1523    11300000            4.0    79.0   230.0   \n",
       "\n",
       "      RoundedPosition  dpoy  \n",
       "77                5.0     1  \n",
       "696               4.0     1  \n",
       "1360              5.0     1  \n",
       "1938              5.0     1  \n",
       "2565              5.0     1  \n",
       "2987              5.0     1  \n",
       "3623              5.0     1  \n",
       "4442              4.0     1  \n",
       "4978              3.0     1  \n",
       "5604              3.0     1  \n",
       "\n",
       "[10 rows x 58 columns]"
      ]
     },
     "execution_count": 121,
     "metadata": {},
     "output_type": "execute_result"
    }
   ],
   "source": [
    "df.loc[df['dpoy'] == 1]"
   ]
  },
  {
   "cell_type": "markdown",
   "metadata": {},
   "source": [
    "# Logistic Regression/Random Forests of Player Obtaining Defensive Player of Year"
   ]
  },
  {
   "cell_type": "code",
   "execution_count": 122,
   "metadata": {},
   "outputs": [
    {
     "data": {
      "text/html": [
       "<div>\n",
       "<style>\n",
       "    .dataframe thead tr:only-child th {\n",
       "        text-align: right;\n",
       "    }\n",
       "\n",
       "    .dataframe thead th {\n",
       "        text-align: left;\n",
       "    }\n",
       "\n",
       "    .dataframe tbody tr th {\n",
       "        vertical-align: top;\n",
       "    }\n",
       "</style>\n",
       "<table border=\"1\" class=\"dataframe\">\n",
       "  <thead>\n",
       "    <tr style=\"text-align: right;\">\n",
       "      <th></th>\n",
       "      <th>G</th>\n",
       "      <th>GS</th>\n",
       "      <th>MP</th>\n",
       "      <th>PER</th>\n",
       "      <th>TS%</th>\n",
       "      <th>3PAr</th>\n",
       "      <th>FTr</th>\n",
       "      <th>ORB%</th>\n",
       "      <th>DRB%</th>\n",
       "      <th>TRB%</th>\n",
       "      <th>...</th>\n",
       "      <th>TRB</th>\n",
       "      <th>AST</th>\n",
       "      <th>STL</th>\n",
       "      <th>BLK</th>\n",
       "      <th>TOV</th>\n",
       "      <th>PF</th>\n",
       "      <th>PTS</th>\n",
       "      <th>YrsExperience</th>\n",
       "      <th>Height</th>\n",
       "      <th>Weight</th>\n",
       "    </tr>\n",
       "  </thead>\n",
       "  <tbody>\n",
       "    <tr>\n",
       "      <th>0</th>\n",
       "      <td>80</td>\n",
       "      <td>45</td>\n",
       "      <td>2015</td>\n",
       "      <td>13.1</td>\n",
       "      <td>0.524</td>\n",
       "      <td>0.031</td>\n",
       "      <td>0.358</td>\n",
       "      <td>7.0</td>\n",
       "      <td>16.4</td>\n",
       "      <td>11.6</td>\n",
       "      <td>...</td>\n",
       "      <td>398</td>\n",
       "      <td>109</td>\n",
       "      <td>53</td>\n",
       "      <td>40</td>\n",
       "      <td>116</td>\n",
       "      <td>243</td>\n",
       "      <td>793</td>\n",
       "      <td>10.0</td>\n",
       "      <td>81.0</td>\n",
       "      <td>225.0</td>\n",
       "    </tr>\n",
       "    <tr>\n",
       "      <th>1</th>\n",
       "      <td>61</td>\n",
       "      <td>8</td>\n",
       "      <td>495</td>\n",
       "      <td>13.0</td>\n",
       "      <td>0.577</td>\n",
       "      <td>0.007</td>\n",
       "      <td>0.267</td>\n",
       "      <td>8.4</td>\n",
       "      <td>9.9</td>\n",
       "      <td>9.2</td>\n",
       "      <td>...</td>\n",
       "      <td>77</td>\n",
       "      <td>13</td>\n",
       "      <td>17</td>\n",
       "      <td>4</td>\n",
       "      <td>22</td>\n",
       "      <td>47</td>\n",
       "      <td>174</td>\n",
       "      <td>0.0</td>\n",
       "      <td>76.0</td>\n",
       "      <td>220.0</td>\n",
       "    </tr>\n",
       "    <tr>\n",
       "      <th>2</th>\n",
       "      <td>32</td>\n",
       "      <td>1</td>\n",
       "      <td>214</td>\n",
       "      <td>2.9</td>\n",
       "      <td>0.408</td>\n",
       "      <td>0.214</td>\n",
       "      <td>0.471</td>\n",
       "      <td>0.6</td>\n",
       "      <td>11.0</td>\n",
       "      <td>5.9</td>\n",
       "      <td>...</td>\n",
       "      <td>21</td>\n",
       "      <td>7</td>\n",
       "      <td>4</td>\n",
       "      <td>3</td>\n",
       "      <td>15</td>\n",
       "      <td>27</td>\n",
       "      <td>69</td>\n",
       "      <td>0.0</td>\n",
       "      <td>77.0</td>\n",
       "      <td>202.0</td>\n",
       "    </tr>\n",
       "    <tr>\n",
       "      <th>3</th>\n",
       "      <td>63</td>\n",
       "      <td>22</td>\n",
       "      <td>1392</td>\n",
       "      <td>17.1</td>\n",
       "      <td>0.533</td>\n",
       "      <td>0.004</td>\n",
       "      <td>0.240</td>\n",
       "      <td>12.6</td>\n",
       "      <td>15.3</td>\n",
       "      <td>13.9</td>\n",
       "      <td>...</td>\n",
       "      <td>312</td>\n",
       "      <td>24</td>\n",
       "      <td>22</td>\n",
       "      <td>73</td>\n",
       "      <td>43</td>\n",
       "      <td>186</td>\n",
       "      <td>565</td>\n",
       "      <td>0.0</td>\n",
       "      <td>83.0</td>\n",
       "      <td>240.0</td>\n",
       "    </tr>\n",
       "    <tr>\n",
       "      <th>4</th>\n",
       "      <td>60</td>\n",
       "      <td>1</td>\n",
       "      <td>638</td>\n",
       "      <td>10.4</td>\n",
       "      <td>0.443</td>\n",
       "      <td>0.004</td>\n",
       "      <td>0.132</td>\n",
       "      <td>7.6</td>\n",
       "      <td>13.7</td>\n",
       "      <td>10.6</td>\n",
       "      <td>...</td>\n",
       "      <td>119</td>\n",
       "      <td>16</td>\n",
       "      <td>17</td>\n",
       "      <td>16</td>\n",
       "      <td>21</td>\n",
       "      <td>85</td>\n",
       "      <td>242</td>\n",
       "      <td>5.0</td>\n",
       "      <td>82.0</td>\n",
       "      <td>255.0</td>\n",
       "    </tr>\n",
       "  </tbody>\n",
       "</table>\n",
       "<p>5 rows × 48 columns</p>\n",
       "</div>"
      ],
      "text/plain": [
       "    G  GS    MP   PER    TS%   3PAr    FTr  ORB%  DRB%  TRB%   ...    TRB  \\\n",
       "0  80  45  2015  13.1  0.524  0.031  0.358   7.0  16.4  11.6   ...    398   \n",
       "1  61   8   495  13.0  0.577  0.007  0.267   8.4   9.9   9.2   ...     77   \n",
       "2  32   1   214   2.9  0.408  0.214  0.471   0.6  11.0   5.9   ...     21   \n",
       "3  63  22  1392  17.1  0.533  0.004  0.240  12.6  15.3  13.9   ...    312   \n",
       "4  60   1   638  10.4  0.443  0.004  0.132   7.6  13.7  10.6   ...    119   \n",
       "\n",
       "   AST  STL  BLK  TOV   PF  PTS  YrsExperience  Height  Weight  \n",
       "0  109   53   40  116  243  793           10.0    81.0   225.0  \n",
       "1   13   17    4   22   47  174            0.0    76.0   220.0  \n",
       "2    7    4    3   15   27   69            0.0    77.0   202.0  \n",
       "3   24   22   73   43  186  565            0.0    83.0   240.0  \n",
       "4   16   17   16   21   85  242            5.0    82.0   255.0  \n",
       "\n",
       "[5 rows x 48 columns]"
      ]
     },
     "execution_count": 122,
     "metadata": {},
     "output_type": "execute_result"
    }
   ],
   "source": [
    "df = df[np.isfinite(df['WS/48'])]\n",
    "df = df[np.isfinite(df['FG%'])]\n",
    "df = df[np.isfinite(df['YrsExperience'])]\n",
    "df = df.drop(\"blanl\", axis=1)\n",
    "df = df.drop(\"blank2\", axis=1)\n",
    "df = df.dropna(axis=0, how='any')\n",
    "df = df.reset_index(drop=True) #RESET INDEX\n",
    "data = df.drop(\"Pos\", axis=1)\n",
    "data = data.drop(\"Tm\", axis=1)\n",
    "data = data.drop(\"Player\", axis=1)\n",
    "data = data.drop(\"TrueSalary\", axis=1)\n",
    "data = data.drop(\"RoundedPosition\", axis=1)\n",
    "data = data.drop(\"Year\", axis=1)\n",
    "data = data.drop(\"Age\", axis=1)\n",
    "data = data.drop(\"dpoy\", axis=1)\n",
    "feature_names = data.columns\n",
    "target = df['dpoy']\n",
    "#target_names = target.value_counts().keys().tolist()\n",
    "data.head()"
   ]
  },
  {
   "cell_type": "code",
   "execution_count": 123,
   "metadata": {},
   "outputs": [
    {
     "data": {
      "text/plain": [
       "(4780, 48)"
      ]
     },
     "execution_count": 123,
     "metadata": {},
     "output_type": "execute_result"
    }
   ],
   "source": [
    "data.shape"
   ]
  },
  {
   "cell_type": "code",
   "execution_count": 124,
   "metadata": {},
   "outputs": [
    {
     "data": {
      "text/plain": [
       "(4780,)"
      ]
     },
     "execution_count": 124,
     "metadata": {},
     "output_type": "execute_result"
    }
   ],
   "source": [
    "#target = target.reshape(-1,1)\n",
    "target.shape"
   ]
  },
  {
   "cell_type": "code",
   "execution_count": 125,
   "metadata": {
    "collapsed": true
   },
   "outputs": [],
   "source": [
    "from sklearn.model_selection import train_test_split\n",
    "\n",
    "X_train, X_test, y_train, y_test = train_test_split(data, target, random_state=1, stratify=target)"
   ]
  },
  {
   "cell_type": "code",
   "execution_count": 126,
   "metadata": {},
   "outputs": [
    {
     "name": "stderr",
     "output_type": "stream",
     "text": [
      "/Users/owen/anaconda/lib/python3.6/site-packages/sklearn/utils/validation.py:429: DataConversionWarning: Data with input dtype int64 was converted to float64 by StandardScaler.\n",
      "  warnings.warn(msg, _DataConversionWarning)\n",
      "/Users/owen/anaconda/lib/python3.6/site-packages/sklearn/preprocessing/data.py:586: DeprecationWarning: Passing 1d arrays as data is deprecated in 0.17 and will raise ValueError in 0.19. Reshape your data either using X.reshape(-1, 1) if your data has a single feature or X.reshape(1, -1) if it contains a single sample.\n",
      "  warnings.warn(DEPRECATION_MSG_1D, DeprecationWarning)\n"
     ]
    }
   ],
   "source": [
    "from sklearn.preprocessing import StandardScaler\n",
    "\n",
    "X_scaler = StandardScaler().fit(X_train)\n",
    "y_scaler = StandardScaler().fit(y_train)"
   ]
  },
  {
   "cell_type": "code",
   "execution_count": 127,
   "metadata": {},
   "outputs": [
    {
     "name": "stderr",
     "output_type": "stream",
     "text": [
      "/Users/owen/anaconda/lib/python3.6/site-packages/sklearn/utils/validation.py:429: DataConversionWarning: Data with input dtype int64 was converted to float64 by StandardScaler.\n",
      "  warnings.warn(msg, _DataConversionWarning)\n",
      "/Users/owen/anaconda/lib/python3.6/site-packages/sklearn/preprocessing/data.py:649: DeprecationWarning: Passing 1d arrays as data is deprecated in 0.17 and will raise ValueError in 0.19. Reshape your data either using X.reshape(-1, 1) if your data has a single feature or X.reshape(1, -1) if it contains a single sample.\n",
      "  warnings.warn(DEPRECATION_MSG_1D, DeprecationWarning)\n",
      "/Users/owen/anaconda/lib/python3.6/site-packages/sklearn/preprocessing/data.py:649: DeprecationWarning: Passing 1d arrays as data is deprecated in 0.17 and will raise ValueError in 0.19. Reshape your data either using X.reshape(-1, 1) if your data has a single feature or X.reshape(1, -1) if it contains a single sample.\n",
      "  warnings.warn(DEPRECATION_MSG_1D, DeprecationWarning)\n"
     ]
    }
   ],
   "source": [
    "X_train_scaled = X_scaler.transform(X_train)\n",
    "X_test_scaled = X_scaler.transform(X_test)\n",
    "y_train_scaled = y_scaler.transform(y_train)\n",
    "y_test_scaled = y_scaler.transform(y_test)"
   ]
  },
  {
   "cell_type": "code",
   "execution_count": 128,
   "metadata": {},
   "outputs": [
    {
     "data": {
      "text/plain": [
       "LogisticRegression(C=1.0, class_weight=None, dual=False, fit_intercept=True,\n",
       "          intercept_scaling=1, max_iter=100, multi_class='ovr', n_jobs=1,\n",
       "          penalty='l2', random_state=None, solver='liblinear', tol=0.0001,\n",
       "          verbose=0, warm_start=False)"
      ]
     },
     "execution_count": 128,
     "metadata": {},
     "output_type": "execute_result"
    }
   ],
   "source": [
    "from sklearn.linear_model import LogisticRegression\n",
    "classifier = LogisticRegression()\n",
    "classifier"
   ]
  },
  {
   "cell_type": "code",
   "execution_count": 129,
   "metadata": {},
   "outputs": [
    {
     "data": {
      "text/plain": [
       "LogisticRegression(C=1.0, class_weight=None, dual=False, fit_intercept=True,\n",
       "          intercept_scaling=1, max_iter=100, multi_class='ovr', n_jobs=1,\n",
       "          penalty='l2', random_state=None, solver='liblinear', tol=0.0001,\n",
       "          verbose=0, warm_start=False)"
      ]
     },
     "execution_count": 129,
     "metadata": {},
     "output_type": "execute_result"
    }
   ],
   "source": [
    "classifier.fit(X_train_scaled, y_train)"
   ]
  },
  {
   "cell_type": "code",
   "execution_count": 130,
   "metadata": {},
   "outputs": [
    {
     "name": "stdout",
     "output_type": "stream",
     "text": [
      "{'G': '-0.14', 'GS': '0.05', 'MP': '-0.52', 'PER': '0.09', 'TS%': '-0.02', '3PAr': '0.07', 'FTr': '-0.05', 'ORB%': '-0.17', 'DRB%': '-0.01', 'TRB%': '-0.06', 'AST%': '0.01', 'STL%': '0.07', 'BLK%': '-0.20', 'TOV%': '-0.06', 'USG%': '0.19', 'OWS': '-0.15', 'DWS': '1.03', 'WS': '0.35', 'WS/48': '0.05', 'OBPM': '-0.06', 'DBPM': '0.06', 'BPM': '0.01', 'VORP': '0.45', 'FG': '-0.15', 'FGA': '-0.26', 'FG%': '-0.00', '3P': '-0.04', '3PA': '-0.25', '3P%': '-0.32', '2P': '-0.16', '2PA': '-0.21', '2P%': '-0.15', 'eFG%': '0.13', 'FT': '0.07', 'FTA': '0.16', 'FT%': '0.36', 'ORB': '-0.02', 'DRB': '0.06', 'TRB': '0.03', 'AST': '-0.22', 'STL': '0.19', 'BLK': '0.17', 'TOV': '-0.24', 'PF': '0.12', 'PTS': '-0.10', 'YrsExperience': '-0.27', 'Height': '0.04', 'Weight': '0.04'}\n"
     ]
    }
   ],
   "source": [
    "coefficients = classifier.coef_.tolist()[0]\n",
    "coefficients = [ '%.2f' % elem for elem in coefficients ]\n",
    "features = data.columns.tolist()\n",
    "print(dict(zip(features, coefficients)))"
   ]
  },
  {
   "cell_type": "code",
   "execution_count": 131,
   "metadata": {},
   "outputs": [
    {
     "data": {
      "text/plain": [
       "'0.997'"
      ]
     },
     "execution_count": 131,
     "metadata": {},
     "output_type": "execute_result"
    }
   ],
   "source": [
    "score = classifier.score(X_test_scaled, y_test)\n",
    "score = \"%.3f\" % score\n",
    "score"
   ]
  },
  {
   "cell_type": "code",
   "execution_count": 132,
   "metadata": {},
   "outputs": [
    {
     "name": "stdout",
     "output_type": "stream",
     "text": [
      "Testing Data Score: 0.9974895397489539\n"
     ]
    }
   ],
   "source": [
    "print(f\"Testing Data Score: {classifier.score(X_test_scaled, y_test)}\")"
   ]
  },
  {
   "cell_type": "code",
   "execution_count": 133,
   "metadata": {},
   "outputs": [
    {
     "data": {
      "image/png": "[encoded data removed]",
      "text/plain": [
       "<matplotlib.figure.Figure at 0x11e9d94e0>"
      ]
     },
     "metadata": {},
     "output_type": "display_data"
    }
   ],
   "source": [
    "x_values = np.arange(len(feature_names))\n",
    "plt.figure(figsize=(10, 7))\n",
    "\n",
    "plt.title(\"Logistic Regression Feature Coefficient; Testing Data Score: \"f\"{score}\")\n",
    "plt.xlabel(\"Feature Name\")\n",
    "plt.ylabel(\"Regression Coefficient\")\n",
    "\n",
    "plt.bar(x_values, coefficients, facecolor=\"darkblue\",\n",
    "        alpha=0.75, tick_label=feature_names)\n",
    "plt.xticks(rotation='vertical')\n",
    "plt.savefig(\"DPOY_Regression_Features\")\n",
    "plt.show()"
   ]
  },
  {
   "cell_type": "code",
   "execution_count": 134,
   "metadata": {},
   "outputs": [
    {
     "data": {
      "text/html": [
       "<div>\n",
       "<style>\n",
       "    .dataframe thead tr:only-child th {\n",
       "        text-align: right;\n",
       "    }\n",
       "\n",
       "    .dataframe thead th {\n",
       "        text-align: left;\n",
       "    }\n",
       "\n",
       "    .dataframe tbody tr th {\n",
       "        vertical-align: top;\n",
       "    }\n",
       "</style>\n",
       "<table border=\"1\" class=\"dataframe\">\n",
       "  <thead>\n",
       "    <tr style=\"text-align: right;\">\n",
       "      <th></th>\n",
       "      <th>Actual</th>\n",
       "      <th>Prediction</th>\n",
       "    </tr>\n",
       "  </thead>\n",
       "  <tbody>\n",
       "    <tr>\n",
       "      <th>1095</th>\n",
       "      <td>0</td>\n",
       "      <td>1</td>\n",
       "    </tr>\n",
       "    <tr>\n",
       "      <th>65</th>\n",
       "      <td>1</td>\n",
       "      <td>0</td>\n",
       "    </tr>\n",
       "    <tr>\n",
       "      <th>2385</th>\n",
       "      <td>1</td>\n",
       "      <td>0</td>\n",
       "    </tr>\n",
       "  </tbody>\n",
       "</table>\n",
       "</div>"
      ],
      "text/plain": [
       "      Actual  Prediction\n",
       "1095       0           1\n",
       "65         1           0\n",
       "2385       1           0"
      ]
     },
     "execution_count": 134,
     "metadata": {},
     "output_type": "execute_result"
    }
   ],
   "source": [
    "predictions = classifier.predict(X_test_scaled)\n",
    "predict_df = pd.DataFrame({\"Prediction\": predictions, \"Actual\": y_test})\n",
    "wrong_predict_df = predict_df.loc[predict_df['Actual'] != predict_df['Prediction']]\n",
    "wrong_predict_df"
   ]
  },
  {
   "cell_type": "code",
   "execution_count": 135,
   "metadata": {},
   "outputs": [
    {
     "data": {
      "text/html": [
       "<div>\n",
       "<style>\n",
       "    .dataframe thead tr:only-child th {\n",
       "        text-align: right;\n",
       "    }\n",
       "\n",
       "    .dataframe thead th {\n",
       "        text-align: left;\n",
       "    }\n",
       "\n",
       "    .dataframe tbody tr th {\n",
       "        vertical-align: top;\n",
       "    }\n",
       "</style>\n",
       "<table border=\"1\" class=\"dataframe\">\n",
       "  <thead>\n",
       "    <tr style=\"text-align: right;\">\n",
       "      <th></th>\n",
       "      <th>Actual</th>\n",
       "      <th>Prediction</th>\n",
       "    </tr>\n",
       "  </thead>\n",
       "  <tbody>\n",
       "    <tr>\n",
       "      <th>2053</th>\n",
       "      <td>1</td>\n",
       "      <td>1</td>\n",
       "    </tr>\n",
       "    <tr>\n",
       "      <th>65</th>\n",
       "      <td>1</td>\n",
       "      <td>0</td>\n",
       "    </tr>\n",
       "    <tr>\n",
       "      <th>2385</th>\n",
       "      <td>1</td>\n",
       "      <td>0</td>\n",
       "    </tr>\n",
       "  </tbody>\n",
       "</table>\n",
       "</div>"
      ],
      "text/plain": [
       "      Actual  Prediction\n",
       "2053       1           1\n",
       "65         1           0\n",
       "2385       1           0"
      ]
     },
     "execution_count": 135,
     "metadata": {},
     "output_type": "execute_result"
    }
   ],
   "source": [
    "act_df_1 = predict_df.loc[predict_df['Actual'] == 1]\n",
    "act_df_1"
   ]
  },
  {
   "cell_type": "code",
   "execution_count": 136,
   "metadata": {},
   "outputs": [
    {
     "data": {
      "text/html": [
       "<div>\n",
       "<style>\n",
       "    .dataframe thead tr:only-child th {\n",
       "        text-align: right;\n",
       "    }\n",
       "\n",
       "    .dataframe thead th {\n",
       "        text-align: left;\n",
       "    }\n",
       "\n",
       "    .dataframe tbody tr th {\n",
       "        vertical-align: top;\n",
       "    }\n",
       "</style>\n",
       "<table border=\"1\" class=\"dataframe\">\n",
       "  <thead>\n",
       "    <tr style=\"text-align: right;\">\n",
       "      <th></th>\n",
       "      <th>Actual</th>\n",
       "      <th>Prediction</th>\n",
       "    </tr>\n",
       "  </thead>\n",
       "  <tbody>\n",
       "    <tr>\n",
       "      <th>2053</th>\n",
       "      <td>1</td>\n",
       "      <td>1</td>\n",
       "    </tr>\n",
       "    <tr>\n",
       "      <th>1095</th>\n",
       "      <td>0</td>\n",
       "      <td>1</td>\n",
       "    </tr>\n",
       "  </tbody>\n",
       "</table>\n",
       "</div>"
      ],
      "text/plain": [
       "      Actual  Prediction\n",
       "2053       1           1\n",
       "1095       0           1"
      ]
     },
     "execution_count": 136,
     "metadata": {},
     "output_type": "execute_result"
    }
   ],
   "source": [
    "predict_df_1 = predict_df.loc[predict_df['Prediction'] == 1]\n",
    "predict_df_1"
   ]
  },
  {
   "cell_type": "code",
   "execution_count": 137,
   "metadata": {},
   "outputs": [
    {
     "data": {
      "text/plain": [
       "(1195,)"
      ]
     },
     "execution_count": 137,
     "metadata": {},
     "output_type": "execute_result"
    }
   ],
   "source": [
    "predictions.shape"
   ]
  },
  {
   "cell_type": "code",
   "execution_count": 138,
   "metadata": {},
   "outputs": [
    {
     "data": {
      "text/plain": [
       "G                  2.000\n",
       "GS                 0.000\n",
       "MP                 9.000\n",
       "PER               15.700\n",
       "TS%                0.425\n",
       "3PAr               0.200\n",
       "FTr                0.400\n",
       "ORB%               0.000\n",
       "DRB%              25.200\n",
       "TRB%              12.200\n",
       "AST%               0.000\n",
       "STL%               0.000\n",
       "BLK%               8.100\n",
       "TOV%               0.000\n",
       "USG%              28.400\n",
       "OWS                0.000\n",
       "DWS                0.000\n",
       "WS                 0.000\n",
       "WS/48             -0.010\n",
       "OBPM              -9.900\n",
       "DBPM              -4.900\n",
       "BPM              -14.900\n",
       "VORP               0.000\n",
       "FG                 2.000\n",
       "FGA                5.000\n",
       "FG%                0.400\n",
       "3P                 0.000\n",
       "3PA                1.000\n",
       "3P%                0.000\n",
       "2P                 2.000\n",
       "2PA                4.000\n",
       "2P%                0.500\n",
       "eFG%               0.400\n",
       "FT                 1.000\n",
       "FTA                2.000\n",
       "FT%                0.500\n",
       "ORB                0.000\n",
       "DRB                2.000\n",
       "TRB                2.000\n",
       "AST                0.000\n",
       "STL                0.000\n",
       "BLK                1.000\n",
       "TOV                0.000\n",
       "PF                 0.000\n",
       "PTS                5.000\n",
       "YrsExperience      1.000\n",
       "Height            80.000\n",
       "Weight           216.000\n",
       "Name: 1183, dtype: float64"
      ]
     },
     "execution_count": 138,
     "metadata": {},
     "output_type": "execute_result"
    }
   ],
   "source": [
    "data.iloc[1183]"
   ]
  },
  {
   "cell_type": "code",
   "execution_count": null,
   "metadata": {
    "collapsed": true
   },
   "outputs": [],
   "source": []
  },
  {
   "cell_type": "code",
   "execution_count": 139,
   "metadata": {
    "collapsed": true
   },
   "outputs": [],
   "source": [
    "from sklearn import tree"
   ]
  },
  {
   "cell_type": "code",
   "execution_count": 140,
   "metadata": {
    "collapsed": true
   },
   "outputs": [],
   "source": [
    "X_train, X_test, y_train, y_test = train_test_split(data, target, random_state=42)"
   ]
  },
  {
   "cell_type": "code",
   "execution_count": 141,
   "metadata": {},
   "outputs": [
    {
     "data": {
      "text/plain": [
       "0.99748953974895394"
      ]
     },
     "execution_count": 141,
     "metadata": {},
     "output_type": "execute_result"
    }
   ],
   "source": [
    "clf = tree.DecisionTreeClassifier()\n",
    "clf = clf.fit(X_train, y_train)\n",
    "clf.score(X_test, y_test)"
   ]
  },
  {
   "cell_type": "code",
   "execution_count": 142,
   "metadata": {},
   "outputs": [
    {
     "data": {
      "text/plain": [
       "0.99832635983263596"
      ]
     },
     "execution_count": 142,
     "metadata": {},
     "output_type": "execute_result"
    }
   ],
   "source": [
    "from sklearn.ensemble import RandomForestClassifier\n",
    "rf = RandomForestClassifier(n_estimators=200)\n",
    "rf = rf.fit(X_train, y_train)\n",
    "rf.score(X_test, y_test)"
   ]
  },
  {
   "cell_type": "code",
   "execution_count": 143,
   "metadata": {},
   "outputs": [
    {
     "data": {
      "text/plain": [
       "'0.998'"
      ]
     },
     "execution_count": 143,
     "metadata": {},
     "output_type": "execute_result"
    }
   ],
   "source": [
    "score = rf.score(X_test, y_test)\n",
    "score = \"%.3f\" % score\n",
    "score"
   ]
  },
  {
   "cell_type": "code",
   "execution_count": 144,
   "metadata": {},
   "outputs": [
    {
     "data": {
      "image/png": "[encoded data removed]",
      "text/plain": [
       "<matplotlib.figure.Figure at 0x11d803780>"
      ]
     },
     "metadata": {},
     "output_type": "display_data"
    }
   ],
   "source": [
    "x_values = np.arange(len(feature_names))\n",
    "plt.figure(figsize=(10, 7))\n",
    "\n",
    "plt.title(\"Feature Importance; Testing Score: \"f\"{score}\")\n",
    "plt.xlabel(\"Feature Name\")\n",
    "plt.ylabel(\"Importance\")\n",
    "\n",
    "plt.bar(x_values, rf.feature_importances_, facecolor=\"darkblue\",\n",
    "        alpha=0.75, tick_label=feature_names)\n",
    "plt.xticks(rotation='vertical')\n",
    "plt.savefig(\"DPOY_Features\")\n",
    "plt.show()"
   ]
  },
  {
   "cell_type": "code",
   "execution_count": 145,
   "metadata": {},
   "outputs": [
    {
     "data": {
      "text/plain": [
       "[(0.088242132367699691, 'DWS'),\n",
       " (0.069841432439575635, 'DBPM'),\n",
       " (0.041739913860900195, 'BPM'),\n",
       " (0.032290855366228929, 'WS'),\n",
       " (0.031440311295045931, 'FTA'),\n",
       " (0.031391338013240684, 'TOV%'),\n",
       " (0.029304280290625272, 'PER'),\n",
       " (0.029246133948842578, 'BLK'),\n",
       " (0.027291900009885527, 'TRB'),\n",
       " (0.027062662571994345, 'OWS'),\n",
       " (0.026974804999094534, 'ORB'),\n",
       " (0.025319808007634958, 'TOV'),\n",
       " (0.02415991118486125, 'FTr'),\n",
       " (0.02411119050896993, 'VORP'),\n",
       " (0.02368619698224363, '3P%'),\n",
       " (0.023385638126222283, 'AST'),\n",
       " (0.022434120937423755, 'PTS'),\n",
       " (0.020512899295187053, 'WS/48'),\n",
       " (0.020122408599936196, 'Height'),\n",
       " (0.019726573413533927, 'MP'),\n",
       " (0.019387382189394561, 'OBPM'),\n",
       " (0.018739089019777899, 'PF'),\n",
       " (0.018468892626697146, 'STL'),\n",
       " (0.017418137177337627, 'TS%'),\n",
       " (0.01697871634212457, 'FGA'),\n",
       " (0.016569522637655185, 'FG%'),\n",
       " (0.016353706148382073, 'AST%'),\n",
       " (0.015117598184013464, 'eFG%'),\n",
       " (0.014142032914584192, '2P%'),\n",
       " (0.014117036968330506, 'FT'),\n",
       " (0.014088017568563656, 'USG%'),\n",
       " (0.01408518360915046, 'STL%'),\n",
       " (0.013918127845562955, 'DRB%'),\n",
       " (0.01384957950439712, 'Weight'),\n",
       " (0.013261517469106117, '3PA'),\n",
       " (0.012677230269876848, 'FT%'),\n",
       " (0.012479065569884252, 'FG'),\n",
       " (0.012081281329514524, 'BLK%'),\n",
       " (0.011594228782526394, '3P'),\n",
       " (0.011391389837026446, 'DRB'),\n",
       " (0.010709305372512129, 'ORB%'),\n",
       " (0.0091412466079781526, 'G'),\n",
       " (0.008660754500712662, 'TRB%'),\n",
       " (0.0080765429942678962, '3PAr'),\n",
       " (0.0076838878242173961, '2PA'),\n",
       " (0.0075358145058266445, 'YrsExperience'),\n",
       " (0.0067512508996839058, 'GS'),\n",
       " (0.0064389490817489473, '2P')]"
      ]
     },
     "execution_count": 145,
     "metadata": {},
     "output_type": "execute_result"
    }
   ],
   "source": [
    "sorted(zip(rf.feature_importances_, feature_names), reverse=True)"
   ]
  },
  {
   "cell_type": "code",
   "execution_count": 146,
   "metadata": {},
   "outputs": [
    {
     "data": {
      "text/html": [
       "<div>\n",
       "<style>\n",
       "    .dataframe thead tr:only-child th {\n",
       "        text-align: right;\n",
       "    }\n",
       "\n",
       "    .dataframe thead th {\n",
       "        text-align: left;\n",
       "    }\n",
       "\n",
       "    .dataframe tbody tr th {\n",
       "        vertical-align: top;\n",
       "    }\n",
       "</style>\n",
       "<table border=\"1\" class=\"dataframe\">\n",
       "  <thead>\n",
       "    <tr style=\"text-align: right;\">\n",
       "      <th></th>\n",
       "      <th>Actual</th>\n",
       "      <th>Prediction</th>\n",
       "    </tr>\n",
       "  </thead>\n",
       "  <tbody>\n",
       "    <tr>\n",
       "      <th>65</th>\n",
       "      <td>1</td>\n",
       "      <td>0</td>\n",
       "    </tr>\n",
       "    <tr>\n",
       "      <th>2053</th>\n",
       "      <td>1</td>\n",
       "      <td>0</td>\n",
       "    </tr>\n",
       "  </tbody>\n",
       "</table>\n",
       "</div>"
      ],
      "text/plain": [
       "      Actual  Prediction\n",
       "65         1           0\n",
       "2053       1           0"
      ]
     },
     "execution_count": 146,
     "metadata": {},
     "output_type": "execute_result"
    }
   ],
   "source": [
    "predictions = rf.predict(X_test)\n",
    "predict_df = pd.DataFrame({\"Prediction\": predictions, \"Actual\": y_test})\n",
    "wrong_predict_df = predict_df.loc[predict_df['Actual'] != predict_df['Prediction']]\n",
    "wrong_predict_df"
   ]
  },
  {
   "cell_type": "code",
   "execution_count": 147,
   "metadata": {},
   "outputs": [
    {
     "data": {
      "text/plain": [
       "Year                        2011\n",
       "Player             Dwight Howard\n",
       "Pos                            C\n",
       "Age                           25\n",
       "Tm                           ORL\n",
       "G                             78\n",
       "GS                            78\n",
       "MP                          2935\n",
       "PER                         26.1\n",
       "TS%                        0.616\n",
       "3PAr                       0.007\n",
       "FTr                        0.877\n",
       "ORB%                        12.6\n",
       "DRB%                        30.6\n",
       "TRB%                        21.8\n",
       "AST%                         6.8\n",
       "STL%                         1.9\n",
       "BLK%                         4.9\n",
       "TOV%                        16.2\n",
       "USG%                        27.2\n",
       "OWS                          6.7\n",
       "DWS                          7.7\n",
       "WS                          14.4\n",
       "WS/48                      0.235\n",
       "OBPM                         0.9\n",
       "DBPM                         3.9\n",
       "BPM                          4.8\n",
       "VORP                           5\n",
       "FG                           619\n",
       "FGA                         1044\n",
       "FG%                        0.593\n",
       "3P                             0\n",
       "3PA                            7\n",
       "3P%                            0\n",
       "2P                           619\n",
       "2PA                         1037\n",
       "2P%                        0.597\n",
       "eFG%                       0.593\n",
       "FT                           546\n",
       "FTA                          916\n",
       "FT%                        0.596\n",
       "ORB                          309\n",
       "DRB                          789\n",
       "TRB                         1098\n",
       "AST                          107\n",
       "STL                          107\n",
       "BLK                          186\n",
       "TOV                          279\n",
       "PF                           258\n",
       "PTS                         1784\n",
       "TrueSalary              20900000\n",
       "YrsExperience                  6\n",
       "Height                        83\n",
       "Weight                       240\n",
       "RoundedPosition                5\n",
       "dpoy                           1\n",
       "Name: 2053, dtype: object"
      ]
     },
     "execution_count": 147,
     "metadata": {},
     "output_type": "execute_result"
    }
   ],
   "source": [
    "df.iloc[2053]"
   ]
  },
  {
   "cell_type": "code",
   "execution_count": 148,
   "metadata": {},
   "outputs": [
    {
     "data": {
      "text/html": [
       "<div>\n",
       "<style>\n",
       "    .dataframe thead tr:only-child th {\n",
       "        text-align: right;\n",
       "    }\n",
       "\n",
       "    .dataframe thead th {\n",
       "        text-align: left;\n",
       "    }\n",
       "\n",
       "    .dataframe tbody tr th {\n",
       "        vertical-align: top;\n",
       "    }\n",
       "</style>\n",
       "<table border=\"1\" class=\"dataframe\">\n",
       "  <thead>\n",
       "    <tr style=\"text-align: right;\">\n",
       "      <th></th>\n",
       "      <th>Actual</th>\n",
       "      <th>Prediction</th>\n",
       "    </tr>\n",
       "  </thead>\n",
       "  <tbody>\n",
       "    <tr>\n",
       "      <th>65</th>\n",
       "      <td>1</td>\n",
       "      <td>0</td>\n",
       "    </tr>\n",
       "    <tr>\n",
       "      <th>2053</th>\n",
       "      <td>1</td>\n",
       "      <td>0</td>\n",
       "    </tr>\n",
       "  </tbody>\n",
       "</table>\n",
       "</div>"
      ],
      "text/plain": [
       "      Actual  Prediction\n",
       "65         1           0\n",
       "2053       1           0"
      ]
     },
     "execution_count": 148,
     "metadata": {},
     "output_type": "execute_result"
    }
   ],
   "source": [
    "act_df_1 = predict_df.loc[predict_df['Actual'] == 1]\n",
    "act_df_1"
   ]
  },
  {
   "cell_type": "code",
   "execution_count": 149,
   "metadata": {},
   "outputs": [
    {
     "data": {
      "text/html": [
       "<div>\n",
       "<style>\n",
       "    .dataframe thead tr:only-child th {\n",
       "        text-align: right;\n",
       "    }\n",
       "\n",
       "    .dataframe thead th {\n",
       "        text-align: left;\n",
       "    }\n",
       "\n",
       "    .dataframe tbody tr th {\n",
       "        vertical-align: top;\n",
       "    }\n",
       "</style>\n",
       "<table border=\"1\" class=\"dataframe\">\n",
       "  <thead>\n",
       "    <tr style=\"text-align: right;\">\n",
       "      <th></th>\n",
       "      <th>Actual</th>\n",
       "      <th>Prediction</th>\n",
       "    </tr>\n",
       "  </thead>\n",
       "  <tbody>\n",
       "  </tbody>\n",
       "</table>\n",
       "</div>"
      ],
      "text/plain": [
       "Empty DataFrame\n",
       "Columns: [Actual, Prediction]\n",
       "Index: []"
      ]
     },
     "execution_count": 149,
     "metadata": {},
     "output_type": "execute_result"
    }
   ],
   "source": [
    "predict_df_1 = predict_df.loc[predict_df['Prediction'] == 1]\n",
    "predict_df_1"
   ]
  },
  {
   "cell_type": "code",
   "execution_count": 150,
   "metadata": {},
   "outputs": [
    {
     "data": {
      "text/plain": [
       "(1195, 2)"
      ]
     },
     "execution_count": 150,
     "metadata": {},
     "output_type": "execute_result"
    }
   ],
   "source": [
    "predict_df.shape"
   ]
  },
  {
   "cell_type": "code",
   "execution_count": null,
   "metadata": {
    "collapsed": true
   },
   "outputs": [],
   "source": []
  },
  {
   "cell_type": "markdown",
   "metadata": {},
   "source": [
    "# Combining DPOY, 6th Man, ROY, and MVP Data"
   ]
  },
  {
   "cell_type": "code",
   "execution_count": 151,
   "metadata": {
    "collapsed": true
   },
   "outputs": [],
   "source": [
    "season_stats = pd.read_csv('cleaned_data.csv')"
   ]
  },
  {
   "cell_type": "code",
   "execution_count": 152,
   "metadata": {},
   "outputs": [],
   "source": [
    "dpoy_2016 = season_stats.loc[(season_stats['Year'] == 2016.0) & (season_stats['Player'] == 'Kawhi Leonard')]\n",
    "dpoy_2015 = season_stats.loc[(season_stats['Year'] == 2015.0) & (season_stats['Player'] == 'Kawhi Leonard')]\n",
    "dpoy_2014 = season_stats.loc[(season_stats['Year'] == 2014.0) & (season_stats['Player'] == 'Joakim Noah')]\n",
    "dpoy_2013 = season_stats.loc[(season_stats['Year'] == 2013.0) & (season_stats['Player'] == 'Marc Gasol')]\n",
    "dpoy_2012 = season_stats.loc[(season_stats['Year'] == 2012.0) & (season_stats['Player'] == 'Tyson Chandler')]\n",
    "dpoy_2011 = season_stats.loc[(season_stats['Year'] == 2011.0) & (season_stats['Player'] == 'Dwight Howard')]\n",
    "dpoy_2010 = season_stats.loc[(season_stats['Year'] == 2010.0) & (season_stats['Player'] == 'Dwight Howard')]\n",
    "dpoy_2009 = season_stats.loc[(season_stats['Year'] == 2009.0) & (season_stats['Player'] == 'Dwight Howard')]\n",
    "dpoy_2008 = season_stats.loc[(season_stats['Year'] == 2008.0) & (season_stats['Player'] == 'Kevin Garnett')]\n",
    "dpoy_2007 = season_stats.loc[(season_stats['Year'] == 2007.0) & (season_stats['Player'] == 'Marcus Camby')]\n",
    "\n",
    "dpoys = [dpoy_2007, dpoy_2008, dpoy_2009, dpoy_2010, dpoy_2011, dpoy_2012, dpoy_2013, dpoy_2014, dpoy_2015, dpoy_2016]\n",
    "\n",
    "dpoys_df = pd.concat(dpoys)\n",
    "#dpoys_df"
   ]
  },
  {
   "cell_type": "code",
   "execution_count": 153,
   "metadata": {
    "collapsed": true
   },
   "outputs": [],
   "source": [
    "sixman_2016 = season_stats.loc[(season_stats['Year'] == 2016.0) & (season_stats['Player'] == 'Jamal Crawford')]\n",
    "sixman_2015 = season_stats.loc[(season_stats['Year'] == 2015.0) & (season_stats['Player'] == 'Lou Williams')]\n",
    "sixman_2014 = season_stats.loc[(season_stats['Year'] == 2014.0) & (season_stats['Player'] == 'Jamal Crawford')]\n",
    "sixman_2013 = season_stats.loc[(season_stats['Year'] == 2013.0) & (season_stats['Player'] == 'J.R. Smith')]\n",
    "sixman_2012 = season_stats.loc[(season_stats['Year'] == 2012.0) & (season_stats['Player'] == 'James Harden')]\n",
    "sixman_2011 = season_stats.loc[(season_stats['Year'] == 2011.0) & (season_stats['Player'] == 'Lamar Odom')]\n",
    "sixman_2010 = season_stats.loc[(season_stats['Year'] == 2010.0) & (season_stats['Player'] == 'Jamal Crawford')]\n",
    "sixman_2009 = season_stats.loc[(season_stats['Year'] == 2009.0) & (season_stats['Player'] == 'Jason Terry')]\n",
    "sixman_2008 = season_stats.loc[(season_stats['Year'] == 2008.0) & (season_stats['Player'] == 'Manu Ginobili')]\n",
    "sixman_2007 = season_stats.loc[(season_stats['Year'] == 2007.0) & (season_stats['Player'] == 'Leandro Barbosa')]\n",
    "\n",
    "sixmen = [sixman_2007, sixman_2008, sixman_2009, sixman_2010, sixman_2011, sixman_2012, sixman_2013, sixman_2014, sixman_2015, sixman_2016]\n",
    "\n",
    "sixmen_df = pd.concat(sixmen)"
   ]
  },
  {
   "cell_type": "code",
   "execution_count": 154,
   "metadata": {
    "collapsed": true
   },
   "outputs": [],
   "source": [
    "roy_2016 = season_stats.loc[(season_stats['Year'] == 2016.0) & (season_stats['Player'] == 'Karl-Anthony Towns')]\n",
    "roy_2015 = season_stats.loc[(season_stats['Year'] == 2015.0) & (season_stats['Player'] == 'Andrew Wiggins')]\n",
    "roy_2014 = season_stats.loc[(season_stats['Year'] == 2014.0) & (season_stats['Player'] == 'Michael Carter-Williams')]\n",
    "roy_2013 = season_stats.loc[(season_stats['Year'] == 2013.0) & (season_stats['Player'] == 'Damian Lillard')]\n",
    "roy_2012 = season_stats.loc[(season_stats['Year'] == 2012.0) & (season_stats['Player'] == 'Kyrie Irving')]\n",
    "roy_2011 = season_stats.loc[(season_stats['Year'] == 2011.0) & (season_stats['Player'] == 'Blake Griffin')]\n",
    "roy_2010 = season_stats.loc[(season_stats['Year'] == 2010.0) & (season_stats['Player'] == 'Tyreke Evans')]\n",
    "roy_2009 = season_stats.loc[(season_stats['Year'] == 2009.0) & (season_stats['Player'] == 'Derrick Rose')]\n",
    "roy_2008 = season_stats.loc[(season_stats['Year'] == 2008.0) & (season_stats['Player'] == 'Kevin Durant')]\n",
    "roy_2007 = season_stats.loc[(season_stats['Year'] == 2007.0) & (season_stats['Player'] == 'Brandon Roy')]\n",
    "\n",
    "rookies = [roy_2007, roy_2008, roy_2009, roy_2010, roy_2011, roy_2012, roy_2013, roy_2014, roy_2015, roy_2016]\n",
    "\n",
    "rookies_df = pd.concat(rookies)"
   ]
  },
  {
   "cell_type": "code",
   "execution_count": 155,
   "metadata": {
    "collapsed": true
   },
   "outputs": [],
   "source": [
    "mvp_2016 = season_stats.loc[(season_stats['Year'] == 2016.0) & (season_stats['Player'] == 'Stephen Curry')]\n",
    "mvp_2015 = season_stats.loc[(season_stats['Year'] == 2015.0) & (season_stats['Player'] == 'Stephen Curry')]\n",
    "mvp_2014 = season_stats.loc[(season_stats['Year'] == 2014.0) & (season_stats['Player'] == 'Kevin Durant')]\n",
    "mvp_2013 = season_stats.loc[(season_stats['Year'] == 2013.0) & (season_stats['Player'] == 'LeBron James')]\n",
    "mvp_2012 = season_stats.loc[(season_stats['Year'] == 2012.0) & (season_stats['Player'] == 'LeBron James')]\n",
    "mvp_2011 = season_stats.loc[(season_stats['Year'] == 2011.0) & (season_stats['Player'] == 'Derrick Rose')]\n",
    "mvp_2010 = season_stats.loc[(season_stats['Year'] == 2010.0) & (season_stats['Player'] == 'LeBron James')]\n",
    "mvp_2009 = season_stats.loc[(season_stats['Year'] == 2009.0) & (season_stats['Player'] == 'LeBron James')]\n",
    "mvp_2008 = season_stats.loc[(season_stats['Year'] == 2008.0) & (season_stats['Player'] == 'Kobe Bryant')]\n",
    "mvp_2007 = season_stats.loc[(season_stats['Year'] == 2007.0) & (season_stats['Player'] == 'Dirk Nowitzki')]\n",
    "\n",
    "mvps = [mvp_2007, mvp_2008, mvp_2009, mvp_2010, mvp_2011, mvp_2012, mvp_2013, mvp_2014, mvp_2015, mvp_2016]\n",
    "\n",
    "mvps_df = pd.concat(mvps)"
   ]
  },
  {
   "cell_type": "code",
   "execution_count": 156,
   "metadata": {
    "collapsed": true
   },
   "outputs": [],
   "source": [
    "df = season_stats"
   ]
  },
  {
   "cell_type": "code",
   "execution_count": 157,
   "metadata": {},
   "outputs": [
    {
     "data": {
      "text/plain": [
       "[77, 696, 1360, 1938, 2565, 2987, 3623, 4442, 4978, 5604]"
      ]
     },
     "execution_count": 157,
     "metadata": {},
     "output_type": "execute_result"
    }
   ],
   "source": [
    "dpoys_index = dpoys_df.index.values.tolist()\n",
    "dpoys_index"
   ]
  },
  {
   "cell_type": "code",
   "execution_count": 158,
   "metadata": {},
   "outputs": [
    {
     "data": {
      "text/plain": [
       "[25, 708, 1626, 1809, 2703, 3107, 3920, 4157, 5256, 5391]"
      ]
     },
     "execution_count": 158,
     "metadata": {},
     "output_type": "execute_result"
    }
   ],
   "source": [
    "sixmen_index = sixmen_df.index.values.tolist()\n",
    "sixmen_index"
   ]
  },
  {
   "cell_type": "code",
   "execution_count": 159,
   "metadata": {},
   "outputs": [
    {
     "data": {
      "text/plain": [
       "[413, 667, 1565, 1850, 2529, 3156, 3763, 4136, 5249, 5805]"
      ]
     },
     "execution_count": 159,
     "metadata": {},
     "output_type": "execute_result"
    }
   ],
   "source": [
    "rookies_index = rookies_df.index.values.tolist()\n",
    "rookies_index"
   ]
  },
  {
   "cell_type": "code",
   "execution_count": 160,
   "metadata": {},
   "outputs": [
    {
     "data": {
      "text/plain": [
       "[343, 598, 1383, 1978, 2761, 3164, 3701, 4205, 4766, 5398]"
      ]
     },
     "execution_count": 160,
     "metadata": {},
     "output_type": "execute_result"
    }
   ],
   "source": [
    "mvps_index = mvps_df.index.values.tolist()\n",
    "mvps_index"
   ]
  },
  {
   "cell_type": "code",
   "execution_count": 161,
   "metadata": {
    "collapsed": true
   },
   "outputs": [],
   "source": [
    "dpoy = []\n",
    "for i in range(0, len(df)):\n",
    "    if i in dpoys_index:\n",
    "        value = 1\n",
    "        dpoy.append(value)\n",
    "    else:\n",
    "        value = 0\n",
    "        dpoy.append(value)"
   ]
  },
  {
   "cell_type": "code",
   "execution_count": 162,
   "metadata": {
    "collapsed": true
   },
   "outputs": [],
   "source": [
    "sixmen = []\n",
    "for i in range(0, len(df)):\n",
    "    if i in sixmen_index:\n",
    "        value = 1\n",
    "        sixmen.append(value)\n",
    "    else:\n",
    "        value = 0\n",
    "        sixmen.append(value)"
   ]
  },
  {
   "cell_type": "code",
   "execution_count": 163,
   "metadata": {
    "collapsed": true
   },
   "outputs": [],
   "source": [
    "rookies = []\n",
    "for i in range(0, len(df)):\n",
    "    if i in rookies_index:\n",
    "        value = 1\n",
    "        rookies.append(value)\n",
    "    else:\n",
    "        value = 0\n",
    "        rookies.append(value)"
   ]
  },
  {
   "cell_type": "code",
   "execution_count": 164,
   "metadata": {
    "collapsed": true
   },
   "outputs": [],
   "source": [
    "mvps = []\n",
    "for i in range(0, len(df)):\n",
    "    if i in mvps_index:\n",
    "        value = 1\n",
    "        mvps.append(value)\n",
    "    else:\n",
    "        value = 0\n",
    "        mvps.append(value)"
   ]
  },
  {
   "cell_type": "code",
   "execution_count": 165,
   "metadata": {},
   "outputs": [
    {
     "data": {
      "text/plain": [
       "5860"
      ]
     },
     "execution_count": 165,
     "metadata": {},
     "output_type": "execute_result"
    }
   ],
   "source": [
    "len(dpoy)"
   ]
  },
  {
   "cell_type": "code",
   "execution_count": 166,
   "metadata": {},
   "outputs": [
    {
     "data": {
      "text/plain": [
       "5860"
      ]
     },
     "execution_count": 166,
     "metadata": {},
     "output_type": "execute_result"
    }
   ],
   "source": [
    "len(sixmen)"
   ]
  },
  {
   "cell_type": "code",
   "execution_count": 167,
   "metadata": {},
   "outputs": [
    {
     "data": {
      "text/plain": [
       "5860"
      ]
     },
     "execution_count": 167,
     "metadata": {},
     "output_type": "execute_result"
    }
   ],
   "source": [
    "len(rookies)"
   ]
  },
  {
   "cell_type": "code",
   "execution_count": 168,
   "metadata": {},
   "outputs": [
    {
     "data": {
      "text/plain": [
       "5860"
      ]
     },
     "execution_count": 168,
     "metadata": {},
     "output_type": "execute_result"
    }
   ],
   "source": [
    "len(mvps)"
   ]
  },
  {
   "cell_type": "code",
   "execution_count": 169,
   "metadata": {},
   "outputs": [
    {
     "name": "stdout",
     "output_type": "stream",
     "text": [
      "10\n"
     ]
    }
   ],
   "source": [
    "sum = 0\n",
    "for i in range(0, len(dpoy)):\n",
    "    sum = sum + dpoy[i]\n",
    "print(sum)"
   ]
  },
  {
   "cell_type": "code",
   "execution_count": 170,
   "metadata": {},
   "outputs": [
    {
     "name": "stdout",
     "output_type": "stream",
     "text": [
      "10\n"
     ]
    }
   ],
   "source": [
    "sum = 0\n",
    "for i in range(0, len(sixmen)):\n",
    "    sum = sum + sixmen[i]\n",
    "print(sum)"
   ]
  },
  {
   "cell_type": "code",
   "execution_count": 171,
   "metadata": {},
   "outputs": [
    {
     "name": "stdout",
     "output_type": "stream",
     "text": [
      "10\n"
     ]
    }
   ],
   "source": [
    "sum = 0\n",
    "for i in range(0, len(rookies)):\n",
    "    sum = sum + rookies[i]\n",
    "print(sum)"
   ]
  },
  {
   "cell_type": "code",
   "execution_count": 172,
   "metadata": {},
   "outputs": [
    {
     "name": "stdout",
     "output_type": "stream",
     "text": [
      "10\n"
     ]
    }
   ],
   "source": [
    "sum = 0\n",
    "for i in range(0, len(mvps)):\n",
    "    sum = sum + mvps[i]\n",
    "print(sum)"
   ]
  },
  {
   "cell_type": "code",
   "execution_count": 173,
   "metadata": {
    "collapsed": true
   },
   "outputs": [],
   "source": [
    "df['dpoy'] = dpoy\n",
    "df['sixmen'] = sixmen\n",
    "df['rookies'] = rookies\n",
    "df['mvps'] = mvps"
   ]
  },
  {
   "cell_type": "code",
   "execution_count": 174,
   "metadata": {},
   "outputs": [
    {
     "data": {
      "text/plain": [
       "(5860, 61)"
      ]
     },
     "execution_count": 174,
     "metadata": {},
     "output_type": "execute_result"
    }
   ],
   "source": [
    "df.shape"
   ]
  },
  {
   "cell_type": "code",
   "execution_count": 175,
   "metadata": {},
   "outputs": [
    {
     "data": {
      "text/plain": [
       "Index(['Year', 'Player', 'Pos', 'Age', 'Tm', 'G', 'GS', 'MP', 'PER', 'TS%',\n",
       "       '3PAr', 'FTr', 'ORB%', 'DRB%', 'TRB%', 'AST%', 'STL%', 'BLK%', 'TOV%',\n",
       "       'USG%', 'blanl', 'OWS', 'DWS', 'WS', 'WS/48', 'blank2', 'OBPM', 'DBPM',\n",
       "       'BPM', 'VORP', 'FG', 'FGA', 'FG%', '3P', '3PA', '3P%', '2P', '2PA',\n",
       "       '2P%', 'eFG%', 'FT', 'FTA', 'FT%', 'ORB', 'DRB', 'TRB', 'AST', 'STL',\n",
       "       'BLK', 'TOV', 'PF', 'PTS', 'TrueSalary', 'YrsExperience', 'Height',\n",
       "       'Weight', 'RoundedPosition', 'dpoy', 'sixmen', 'rookies', 'mvps'],\n",
       "      dtype='object')"
      ]
     },
     "execution_count": 175,
     "metadata": {},
     "output_type": "execute_result"
    }
   ],
   "source": [
    "df.keys()"
   ]
  },
  {
   "cell_type": "markdown",
   "metadata": {},
   "source": [
    "# Logistic Regression/Random Forests 6th Man"
   ]
  },
  {
   "cell_type": "code",
   "execution_count": 176,
   "metadata": {},
   "outputs": [],
   "source": [
    "sixmen_df = df[np.isfinite(df['WS/48'])]\n",
    "sixmen_df = sixmen_df[np.isfinite(sixmen_df['FG%'])]\n",
    "sixmen_df = sixmen_df[np.isfinite(sixmen_df['YrsExperience'])]\n",
    "sixmen_df = sixmen_df.drop(\"blanl\", axis=1)\n",
    "sixmen_df = sixmen_df.drop(\"blank2\", axis=1)\n",
    "sixmen_df = sixmen_df.dropna(axis=0, how='any')\n",
    "sixmen_df = sixmen_df.reset_index(drop=True) #RESET INDEX\n",
    "data = sixmen_df.drop(\"Pos\", axis=1)\n",
    "data = data.drop(\"Tm\", axis=1)\n",
    "data = data.drop(\"Player\", axis=1)\n",
    "data = data.drop(\"TrueSalary\", axis=1)\n",
    "data = data.drop(\"RoundedPosition\", axis=1)\n",
    "data = data.drop(\"Year\", axis=1)\n",
    "data = data.drop(\"Age\", axis=1)\n",
    "data = data.drop(\"sixmen\", axis=1)\n",
    "feature_names = data.columns\n",
    "target = sixmen_df['sixmen']\n",
    "#target_names = target.value_counts().keys().tolist()\n",
    "#data.head()"
   ]
  },
  {
   "cell_type": "code",
   "execution_count": 177,
   "metadata": {},
   "outputs": [
    {
     "data": {
      "text/plain": [
       "(4780, 51)"
      ]
     },
     "execution_count": 177,
     "metadata": {},
     "output_type": "execute_result"
    }
   ],
   "source": [
    "data.shape"
   ]
  },
  {
   "cell_type": "code",
   "execution_count": 178,
   "metadata": {},
   "outputs": [
    {
     "data": {
      "text/plain": [
       "(4780,)"
      ]
     },
     "execution_count": 178,
     "metadata": {},
     "output_type": "execute_result"
    }
   ],
   "source": [
    "target.shape"
   ]
  },
  {
   "cell_type": "code",
   "execution_count": 179,
   "metadata": {},
   "outputs": [],
   "source": [
    "#target = target.values.reshape(-1,1)"
   ]
  },
  {
   "cell_type": "code",
   "execution_count": 180,
   "metadata": {
    "collapsed": true
   },
   "outputs": [],
   "source": [
    "from sklearn.model_selection import train_test_split\n",
    "\n",
    "X_train, X_test, y_train, y_test = train_test_split(data, target, random_state=1, stratify=target)"
   ]
  },
  {
   "cell_type": "code",
   "execution_count": 181,
   "metadata": {},
   "outputs": [
    {
     "name": "stderr",
     "output_type": "stream",
     "text": [
      "/Users/owen/anaconda/lib/python3.6/site-packages/sklearn/utils/validation.py:429: DataConversionWarning: Data with input dtype int64 was converted to float64 by StandardScaler.\n",
      "  warnings.warn(msg, _DataConversionWarning)\n",
      "/Users/owen/anaconda/lib/python3.6/site-packages/sklearn/preprocessing/data.py:586: DeprecationWarning: Passing 1d arrays as data is deprecated in 0.17 and will raise ValueError in 0.19. Reshape your data either using X.reshape(-1, 1) if your data has a single feature or X.reshape(1, -1) if it contains a single sample.\n",
      "  warnings.warn(DEPRECATION_MSG_1D, DeprecationWarning)\n"
     ]
    }
   ],
   "source": [
    "from sklearn.preprocessing import StandardScaler\n",
    "\n",
    "X_scaler = StandardScaler().fit(X_train)\n",
    "y_scaler = StandardScaler().fit(y_train)"
   ]
  },
  {
   "cell_type": "code",
   "execution_count": 182,
   "metadata": {},
   "outputs": [
    {
     "name": "stderr",
     "output_type": "stream",
     "text": [
      "/Users/owen/anaconda/lib/python3.6/site-packages/sklearn/utils/validation.py:429: DataConversionWarning: Data with input dtype int64 was converted to float64 by StandardScaler.\n",
      "  warnings.warn(msg, _DataConversionWarning)\n",
      "/Users/owen/anaconda/lib/python3.6/site-packages/sklearn/preprocessing/data.py:649: DeprecationWarning: Passing 1d arrays as data is deprecated in 0.17 and will raise ValueError in 0.19. Reshape your data either using X.reshape(-1, 1) if your data has a single feature or X.reshape(1, -1) if it contains a single sample.\n",
      "  warnings.warn(DEPRECATION_MSG_1D, DeprecationWarning)\n",
      "/Users/owen/anaconda/lib/python3.6/site-packages/sklearn/preprocessing/data.py:649: DeprecationWarning: Passing 1d arrays as data is deprecated in 0.17 and will raise ValueError in 0.19. Reshape your data either using X.reshape(-1, 1) if your data has a single feature or X.reshape(1, -1) if it contains a single sample.\n",
      "  warnings.warn(DEPRECATION_MSG_1D, DeprecationWarning)\n"
     ]
    }
   ],
   "source": [
    "X_train_scaled = X_scaler.transform(X_train)\n",
    "X_test_scaled = X_scaler.transform(X_test)\n",
    "y_train_scaled = y_scaler.transform(y_train)\n",
    "y_test_scaled = y_scaler.transform(y_test)"
   ]
  },
  {
   "cell_type": "code",
   "execution_count": 183,
   "metadata": {},
   "outputs": [
    {
     "data": {
      "text/plain": [
       "LogisticRegression(C=1.0, class_weight=None, dual=False, fit_intercept=True,\n",
       "          intercept_scaling=1, max_iter=100, multi_class='ovr', n_jobs=1,\n",
       "          penalty='l2', random_state=None, solver='liblinear', tol=0.0001,\n",
       "          verbose=0, warm_start=False)"
      ]
     },
     "execution_count": 183,
     "metadata": {},
     "output_type": "execute_result"
    }
   ],
   "source": [
    "from sklearn.linear_model import LogisticRegression\n",
    "classifier = LogisticRegression()\n",
    "classifier"
   ]
  },
  {
   "cell_type": "code",
   "execution_count": 184,
   "metadata": {},
   "outputs": [
    {
     "data": {
      "text/plain": [
       "LogisticRegression(C=1.0, class_weight=None, dual=False, fit_intercept=True,\n",
       "          intercept_scaling=1, max_iter=100, multi_class='ovr', n_jobs=1,\n",
       "          penalty='l2', random_state=None, solver='liblinear', tol=0.0001,\n",
       "          verbose=0, warm_start=False)"
      ]
     },
     "execution_count": 184,
     "metadata": {},
     "output_type": "execute_result"
    }
   ],
   "source": [
    "classifier.fit(X_train_scaled, y_train)"
   ]
  },
  {
   "cell_type": "code",
   "execution_count": 185,
   "metadata": {},
   "outputs": [
    {
     "name": "stdout",
     "output_type": "stream",
     "text": [
      "{'G': '-0.11', 'GS': '-1.46', 'MP': '0.25', 'PER': '0.25', 'TS%': '-0.14', '3PAr': '-0.31', 'FTr': '0.08', 'ORB%': '0.02', 'DRB%': '-0.12', 'TRB%': '-0.15', 'AST%': '-0.15', 'STL%': '-0.04', 'BLK%': '-0.02', 'TOV%': '0.12', 'USG%': '0.13', 'OWS': '0.02', 'DWS': '0.33', 'WS': '0.16', 'WS/48': '0.06', 'OBPM': '-0.07', 'DBPM': '0.05', 'BPM': '0.01', 'VORP': '-0.01', 'FG': '0.15', 'FGA': '0.27', 'FG%': '0.05', '3P': '0.35', '3PA': '0.63', '3P%': '-0.16', '2P': '0.06', '2PA': '0.07', '2P%': '0.08', 'eFG%': '-0.18', 'FT': '0.22', 'FTA': '0.08', 'FT%': '0.02', 'ORB': '0.11', 'DRB': '-0.30', 'TRB': '-0.19', 'AST': '-0.20', 'STL': '0.06', 'BLK': '-0.01', 'TOV': '-0.35', 'PF': '-0.24', 'PTS': '0.19', 'YrsExperience': '0.42', 'Height': '0.00', 'Weight': '-0.07', 'dpoy': '-0.02', 'rookies': '0.05', 'mvps': '-0.18'}\n"
     ]
    }
   ],
   "source": [
    "coefficients = classifier.coef_.tolist()[0]\n",
    "coefficients = [ '%.2f' % elem for elem in coefficients ]\n",
    "features = data.columns.tolist()\n",
    "print(dict(zip(features, coefficients)))"
   ]
  },
  {
   "cell_type": "code",
   "execution_count": 186,
   "metadata": {},
   "outputs": [
    {
     "data": {
      "text/plain": [
       "'0.997'"
      ]
     },
     "execution_count": 186,
     "metadata": {},
     "output_type": "execute_result"
    }
   ],
   "source": [
    "score = classifier.score(X_test_scaled, y_test)\n",
    "score = \"%.3f\" % score\n",
    "score"
   ]
  },
  {
   "cell_type": "code",
   "execution_count": 187,
   "metadata": {},
   "outputs": [
    {
     "name": "stdout",
     "output_type": "stream",
     "text": [
      "Testing Data Score: 0.9974895397489539\n"
     ]
    }
   ],
   "source": [
    "print(f\"Testing Data Score: {classifier.score(X_test_scaled, y_test)}\")"
   ]
  },
  {
   "cell_type": "code",
   "execution_count": 188,
   "metadata": {},
   "outputs": [
    {
     "data": {
      "image/png": "[encoded data removed]",
      "text/plain": [
       "<matplotlib.figure.Figure at 0x1308dd828>"
      ]
     },
     "metadata": {},
     "output_type": "display_data"
    }
   ],
   "source": [
    "x_values = np.arange(len(feature_names))\n",
    "plt.figure(figsize=(10, 7))\n",
    "\n",
    "plt.title(\"Logistic Regression Feature Coefficient; Testing Data Score: \"f\"{score}\")\n",
    "plt.xlabel(\"Feature Name\")\n",
    "plt.ylabel(\"Regression Coefficient\")\n",
    "\n",
    "plt.bar(x_values, coefficients, facecolor=\"darkblue\",\n",
    "        alpha=0.75, tick_label=feature_names)\n",
    "plt.xticks(rotation='vertical')\n",
    "plt.savefig(\"6Man_Regression_Features\")\n",
    "plt.show()"
   ]
  },
  {
   "cell_type": "code",
   "execution_count": 189,
   "metadata": {},
   "outputs": [
    {
     "data": {
      "text/html": [
       "<div>\n",
       "<style>\n",
       "    .dataframe thead tr:only-child th {\n",
       "        text-align: right;\n",
       "    }\n",
       "\n",
       "    .dataframe thead th {\n",
       "        text-align: left;\n",
       "    }\n",
       "\n",
       "    .dataframe tbody tr th {\n",
       "        vertical-align: top;\n",
       "    }\n",
       "</style>\n",
       "<table border=\"1\" class=\"dataframe\">\n",
       "  <thead>\n",
       "    <tr style=\"text-align: right;\">\n",
       "      <th></th>\n",
       "      <th>Actual</th>\n",
       "      <th>Prediction</th>\n",
       "    </tr>\n",
       "  </thead>\n",
       "  <tbody>\n",
       "    <tr>\n",
       "      <th>2162</th>\n",
       "      <td>1</td>\n",
       "      <td>0</td>\n",
       "    </tr>\n",
       "    <tr>\n",
       "      <th>19</th>\n",
       "      <td>1</td>\n",
       "      <td>0</td>\n",
       "    </tr>\n",
       "    <tr>\n",
       "      <th>2484</th>\n",
       "      <td>1</td>\n",
       "      <td>0</td>\n",
       "    </tr>\n",
       "  </tbody>\n",
       "</table>\n",
       "</div>"
      ],
      "text/plain": [
       "      Actual  Prediction\n",
       "2162       1           0\n",
       "19         1           0\n",
       "2484       1           0"
      ]
     },
     "execution_count": 189,
     "metadata": {},
     "output_type": "execute_result"
    }
   ],
   "source": [
    "predictions = classifier.predict(X_test_scaled)\n",
    "predict_df = pd.DataFrame({\"Prediction\": predictions, \"Actual\": y_test})\n",
    "wrong_predict_df = predict_df.loc[predict_df['Actual'] != predict_df['Prediction']]\n",
    "wrong_predict_df"
   ]
  },
  {
   "cell_type": "code",
   "execution_count": 190,
   "metadata": {},
   "outputs": [
    {
     "data": {
      "text/html": [
       "<div>\n",
       "<style>\n",
       "    .dataframe thead tr:only-child th {\n",
       "        text-align: right;\n",
       "    }\n",
       "\n",
       "    .dataframe thead th {\n",
       "        text-align: left;\n",
       "    }\n",
       "\n",
       "    .dataframe tbody tr th {\n",
       "        vertical-align: top;\n",
       "    }\n",
       "</style>\n",
       "<table border=\"1\" class=\"dataframe\">\n",
       "  <thead>\n",
       "    <tr style=\"text-align: right;\">\n",
       "      <th></th>\n",
       "      <th>Actual</th>\n",
       "      <th>Prediction</th>\n",
       "    </tr>\n",
       "  </thead>\n",
       "  <tbody>\n",
       "    <tr>\n",
       "      <th>2162</th>\n",
       "      <td>1</td>\n",
       "      <td>0</td>\n",
       "    </tr>\n",
       "    <tr>\n",
       "      <th>19</th>\n",
       "      <td>1</td>\n",
       "      <td>0</td>\n",
       "    </tr>\n",
       "    <tr>\n",
       "      <th>2484</th>\n",
       "      <td>1</td>\n",
       "      <td>0</td>\n",
       "    </tr>\n",
       "  </tbody>\n",
       "</table>\n",
       "</div>"
      ],
      "text/plain": [
       "      Actual  Prediction\n",
       "2162       1           0\n",
       "19         1           0\n",
       "2484       1           0"
      ]
     },
     "execution_count": 190,
     "metadata": {},
     "output_type": "execute_result"
    }
   ],
   "source": [
    "act_df_1 = predict_df.loc[predict_df['Actual'] == 1]\n",
    "act_df_1"
   ]
  },
  {
   "cell_type": "code",
   "execution_count": 191,
   "metadata": {},
   "outputs": [
    {
     "data": {
      "text/html": [
       "<div>\n",
       "<style>\n",
       "    .dataframe thead tr:only-child th {\n",
       "        text-align: right;\n",
       "    }\n",
       "\n",
       "    .dataframe thead th {\n",
       "        text-align: left;\n",
       "    }\n",
       "\n",
       "    .dataframe tbody tr th {\n",
       "        vertical-align: top;\n",
       "    }\n",
       "</style>\n",
       "<table border=\"1\" class=\"dataframe\">\n",
       "  <thead>\n",
       "    <tr style=\"text-align: right;\">\n",
       "      <th></th>\n",
       "      <th>Actual</th>\n",
       "      <th>Prediction</th>\n",
       "    </tr>\n",
       "  </thead>\n",
       "  <tbody>\n",
       "  </tbody>\n",
       "</table>\n",
       "</div>"
      ],
      "text/plain": [
       "Empty DataFrame\n",
       "Columns: [Actual, Prediction]\n",
       "Index: []"
      ]
     },
     "execution_count": 191,
     "metadata": {},
     "output_type": "execute_result"
    }
   ],
   "source": [
    "predict_df_1 = predict_df.loc[predict_df['Prediction'] == 1]\n",
    "predict_df_1"
   ]
  },
  {
   "cell_type": "code",
   "execution_count": null,
   "metadata": {
    "collapsed": true
   },
   "outputs": [],
   "source": []
  },
  {
   "cell_type": "code",
   "execution_count": 192,
   "metadata": {
    "collapsed": true
   },
   "outputs": [],
   "source": [
    "from sklearn import tree"
   ]
  },
  {
   "cell_type": "code",
   "execution_count": 193,
   "metadata": {
    "collapsed": true
   },
   "outputs": [],
   "source": [
    "X_train, X_test, y_train, y_test = train_test_split(data, target, random_state=42)"
   ]
  },
  {
   "cell_type": "code",
   "execution_count": 194,
   "metadata": {},
   "outputs": [
    {
     "data": {
      "text/plain": [
       "0.99748953974895394"
      ]
     },
     "execution_count": 194,
     "metadata": {},
     "output_type": "execute_result"
    }
   ],
   "source": [
    "clf = tree.DecisionTreeClassifier()\n",
    "clf = clf.fit(X_train, y_train)\n",
    "clf.score(X_test, y_test)"
   ]
  },
  {
   "cell_type": "code",
   "execution_count": 195,
   "metadata": {},
   "outputs": [
    {
     "data": {
      "text/plain": [
       "0.99748953974895394"
      ]
     },
     "execution_count": 195,
     "metadata": {},
     "output_type": "execute_result"
    }
   ],
   "source": [
    "from sklearn.ensemble import RandomForestClassifier\n",
    "rf = RandomForestClassifier(n_estimators=200)\n",
    "rf = rf.fit(X_train, y_train)\n",
    "rf.score(X_test, y_test)"
   ]
  },
  {
   "cell_type": "code",
   "execution_count": 196,
   "metadata": {},
   "outputs": [
    {
     "data": {
      "text/plain": [
       "'0.997'"
      ]
     },
     "execution_count": 196,
     "metadata": {},
     "output_type": "execute_result"
    }
   ],
   "source": [
    "score = rf.score(X_test, y_test)\n",
    "score = \"%.3f\" % score\n",
    "score"
   ]
  },
  {
   "cell_type": "code",
   "execution_count": 197,
   "metadata": {},
   "outputs": [
    {
     "data": {
      "image/png": "[encoded data removed]",
      "text/plain": [
       "<matplotlib.figure.Figure at 0x1182f77b8>"
      ]
     },
     "metadata": {},
     "output_type": "display_data"
    }
   ],
   "source": [
    "x_values = np.arange(len(feature_names))\n",
    "plt.figure(figsize=(10, 7))\n",
    "\n",
    "plt.title(\"Feature Importance; Testing Score: \"f\"{score}\")\n",
    "plt.xlabel(\"Feature Name\")\n",
    "plt.ylabel(\"Importance\")\n",
    "\n",
    "plt.bar(x_values, rf.feature_importances_, facecolor=\"darkblue\",\n",
    "        alpha=0.75, tick_label=feature_names)\n",
    "plt.xticks(rotation='vertical')\n",
    "plt.savefig(\"6Man_Features\")\n",
    "plt.show()"
   ]
  },
  {
   "cell_type": "code",
   "execution_count": 198,
   "metadata": {},
   "outputs": [
    {
     "data": {
      "text/plain": [
       "[(0.15750655791722956, 'GS'),\n",
       " (0.044214680848855693, '3PA'),\n",
       " (0.039369430009664245, 'TRB'),\n",
       " (0.035235728329207634, '3P'),\n",
       " (0.031604639401588988, 'DRB'),\n",
       " (0.026697793347798121, 'TRB%'),\n",
       " (0.026559700225403864, 'PER'),\n",
       " (0.026542609342711718, '2PA'),\n",
       " (0.02428548077122257, 'FG'),\n",
       " (0.024271731049420455, 'TS%'),\n",
       " (0.023887554560261263, 'PTS'),\n",
       " (0.022489675520277495, 'WS'),\n",
       " (0.021203800997546592, 'MP'),\n",
       " (0.021047324659644005, 'OBPM'),\n",
       " (0.020665146593934734, 'DRB%'),\n",
       " (0.019486977335768846, '3PAr'),\n",
       " (0.019455382604515306, 'FTr'),\n",
       " (0.019426626738529004, 'DBPM'),\n",
       " (0.019122470576858334, 'eFG%'),\n",
       " (0.017837903004758803, '2P'),\n",
       " (0.017307298255001227, 'TOV%'),\n",
       " (0.017237574778618984, 'FGA'),\n",
       " (0.017004057202118204, 'YrsExperience'),\n",
       " (0.016922146024288331, 'ORB'),\n",
       " (0.016771061974993451, 'WS/48'),\n",
       " (0.016719161408468523, 'USG%'),\n",
       " (0.016409317094880419, 'BPM'),\n",
       " (0.016233171329359423, 'FT'),\n",
       " (0.016161067563161671, 'STL'),\n",
       " (0.016060136524286815, '3P%'),\n",
       " (0.014663338822180976, 'FTA'),\n",
       " (0.014350216045240278, 'STL%'),\n",
       " (0.014331336898234332, 'OWS'),\n",
       " (0.014279620415134755, 'PF'),\n",
       " (0.014192313547631077, 'FG%'),\n",
       " (0.013388465486073029, 'AST'),\n",
       " (0.012542470134172905, '2P%'),\n",
       " (0.011918432278519409, 'VORP'),\n",
       " (0.011720250647911519, 'TOV'),\n",
       " (0.01166733677942209, 'AST%'),\n",
       " (0.0090562861893942539, 'ORB%'),\n",
       " (0.0089577984602316561, 'G'),\n",
       " (0.008842358387114533, 'FT%'),\n",
       " (0.0077296235976856099, 'DWS'),\n",
       " (0.0071194951546175844, 'Weight'),\n",
       " (0.0070493663351598387, 'Height'),\n",
       " (0.0061183144434152218, 'BLK'),\n",
       " (0.0043367703874866402, 'BLK%'),\n",
       " (0.0, 'rookies'),\n",
       " (0.0, 'mvps'),\n",
       " (0.0, 'dpoy')]"
      ]
     },
     "execution_count": 198,
     "metadata": {},
     "output_type": "execute_result"
    }
   ],
   "source": [
    "sorted(zip(rf.feature_importances_, feature_names), reverse=True)"
   ]
  },
  {
   "cell_type": "code",
   "execution_count": 199,
   "metadata": {},
   "outputs": [
    {
     "data": {
      "text/html": [
       "<div>\n",
       "<style>\n",
       "    .dataframe thead tr:only-child th {\n",
       "        text-align: right;\n",
       "    }\n",
       "\n",
       "    .dataframe thead th {\n",
       "        text-align: left;\n",
       "    }\n",
       "\n",
       "    .dataframe tbody tr th {\n",
       "        vertical-align: top;\n",
       "    }\n",
       "</style>\n",
       "<table border=\"1\" class=\"dataframe\">\n",
       "  <thead>\n",
       "    <tr style=\"text-align: right;\">\n",
       "      <th></th>\n",
       "      <th>Actual</th>\n",
       "      <th>Prediction</th>\n",
       "    </tr>\n",
       "  </thead>\n",
       "  <tbody>\n",
       "    <tr>\n",
       "      <th>4369</th>\n",
       "      <td>1</td>\n",
       "      <td>0</td>\n",
       "    </tr>\n",
       "    <tr>\n",
       "      <th>19</th>\n",
       "      <td>1</td>\n",
       "      <td>0</td>\n",
       "    </tr>\n",
       "    <tr>\n",
       "      <th>3333</th>\n",
       "      <td>1</td>\n",
       "      <td>0</td>\n",
       "    </tr>\n",
       "  </tbody>\n",
       "</table>\n",
       "</div>"
      ],
      "text/plain": [
       "      Actual  Prediction\n",
       "4369       1           0\n",
       "19         1           0\n",
       "3333       1           0"
      ]
     },
     "execution_count": 199,
     "metadata": {},
     "output_type": "execute_result"
    }
   ],
   "source": [
    "predictions = rf.predict(X_test)\n",
    "predict_df = pd.DataFrame({\"Prediction\": predictions, \"Actual\": y_test})\n",
    "wrong_predict_df = predict_df.loc[predict_df['Actual'] != predict_df['Prediction']]\n",
    "wrong_predict_df"
   ]
  },
  {
   "cell_type": "markdown",
   "metadata": {},
   "source": [
    "# Logistic Regression/Random Forests Rookie of the Year"
   ]
  },
  {
   "cell_type": "code",
   "execution_count": 200,
   "metadata": {},
   "outputs": [],
   "source": [
    "rookies_df = df[np.isfinite(df['WS/48'])]\n",
    "rookies_df = rookies_df[np.isfinite(rookies_df['FG%'])]\n",
    "rookies_df = rookies_df[np.isfinite(rookies_df['YrsExperience'])]\n",
    "rookies_df = rookies_df.drop(\"blanl\", axis=1)\n",
    "rookies_df = rookies_df.drop(\"blank2\", axis=1)\n",
    "rookies_df = rookies_df.dropna(axis=0, how='any')\n",
    "rookies_df = rookies_df.reset_index(drop=True) #RESET INDEX\n",
    "data = rookies_df.drop(\"Pos\", axis=1)\n",
    "data = data.drop(\"Tm\", axis=1)\n",
    "data = data.drop(\"Player\", axis=1)\n",
    "data = data.drop(\"TrueSalary\", axis=1)\n",
    "data = data.drop(\"RoundedPosition\", axis=1)\n",
    "data = data.drop(\"Year\", axis=1)\n",
    "data = data.drop(\"Age\", axis=1)\n",
    "data = data.drop(\"rookies\", axis=1)\n",
    "feature_names = data.columns\n",
    "target = sixmen_df['rookies']\n",
    "#target_names = target.value_counts().keys().tolist()\n",
    "#data.head()"
   ]
  },
  {
   "cell_type": "code",
   "execution_count": 201,
   "metadata": {
    "collapsed": true
   },
   "outputs": [],
   "source": [
    "from sklearn.model_selection import train_test_split\n",
    "\n",
    "X_train, X_test, y_train, y_test = train_test_split(data, target, random_state=1, stratify=target)"
   ]
  },
  {
   "cell_type": "code",
   "execution_count": 202,
   "metadata": {},
   "outputs": [
    {
     "name": "stderr",
     "output_type": "stream",
     "text": [
      "/Users/owen/anaconda/lib/python3.6/site-packages/sklearn/utils/validation.py:429: DataConversionWarning: Data with input dtype int64 was converted to float64 by StandardScaler.\n",
      "  warnings.warn(msg, _DataConversionWarning)\n",
      "/Users/owen/anaconda/lib/python3.6/site-packages/sklearn/preprocessing/data.py:586: DeprecationWarning: Passing 1d arrays as data is deprecated in 0.17 and will raise ValueError in 0.19. Reshape your data either using X.reshape(-1, 1) if your data has a single feature or X.reshape(1, -1) if it contains a single sample.\n",
      "  warnings.warn(DEPRECATION_MSG_1D, DeprecationWarning)\n"
     ]
    }
   ],
   "source": [
    "from sklearn.preprocessing import StandardScaler\n",
    "\n",
    "X_scaler = StandardScaler().fit(X_train)\n",
    "y_scaler = StandardScaler().fit(y_train)"
   ]
  },
  {
   "cell_type": "code",
   "execution_count": 203,
   "metadata": {},
   "outputs": [
    {
     "name": "stderr",
     "output_type": "stream",
     "text": [
      "/Users/owen/anaconda/lib/python3.6/site-packages/sklearn/utils/validation.py:429: DataConversionWarning: Data with input dtype int64 was converted to float64 by StandardScaler.\n",
      "  warnings.warn(msg, _DataConversionWarning)\n",
      "/Users/owen/anaconda/lib/python3.6/site-packages/sklearn/preprocessing/data.py:649: DeprecationWarning: Passing 1d arrays as data is deprecated in 0.17 and will raise ValueError in 0.19. Reshape your data either using X.reshape(-1, 1) if your data has a single feature or X.reshape(1, -1) if it contains a single sample.\n",
      "  warnings.warn(DEPRECATION_MSG_1D, DeprecationWarning)\n",
      "/Users/owen/anaconda/lib/python3.6/site-packages/sklearn/preprocessing/data.py:649: DeprecationWarning: Passing 1d arrays as data is deprecated in 0.17 and will raise ValueError in 0.19. Reshape your data either using X.reshape(-1, 1) if your data has a single feature or X.reshape(1, -1) if it contains a single sample.\n",
      "  warnings.warn(DEPRECATION_MSG_1D, DeprecationWarning)\n"
     ]
    }
   ],
   "source": [
    "X_train_scaled = X_scaler.transform(X_train)\n",
    "X_test_scaled = X_scaler.transform(X_test)\n",
    "y_train_scaled = y_scaler.transform(y_train)\n",
    "y_test_scaled = y_scaler.transform(y_test)"
   ]
  },
  {
   "cell_type": "code",
   "execution_count": 204,
   "metadata": {},
   "outputs": [
    {
     "data": {
      "text/plain": [
       "LogisticRegression(C=1.0, class_weight=None, dual=False, fit_intercept=True,\n",
       "          intercept_scaling=1, max_iter=100, multi_class='ovr', n_jobs=1,\n",
       "          penalty='l2', random_state=None, solver='liblinear', tol=0.0001,\n",
       "          verbose=0, warm_start=False)"
      ]
     },
     "execution_count": 204,
     "metadata": {},
     "output_type": "execute_result"
    }
   ],
   "source": [
    "from sklearn.linear_model import LogisticRegression\n",
    "classifier = LogisticRegression()\n",
    "classifier"
   ]
  },
  {
   "cell_type": "code",
   "execution_count": 205,
   "metadata": {},
   "outputs": [
    {
     "data": {
      "text/plain": [
       "LogisticRegression(C=1.0, class_weight=None, dual=False, fit_intercept=True,\n",
       "          intercept_scaling=1, max_iter=100, multi_class='ovr', n_jobs=1,\n",
       "          penalty='l2', random_state=None, solver='liblinear', tol=0.0001,\n",
       "          verbose=0, warm_start=False)"
      ]
     },
     "execution_count": 205,
     "metadata": {},
     "output_type": "execute_result"
    }
   ],
   "source": [
    "classifier.fit(X_train_scaled, y_train)"
   ]
  },
  {
   "cell_type": "code",
   "execution_count": 206,
   "metadata": {},
   "outputs": [
    {
     "name": "stdout",
     "output_type": "stream",
     "text": [
      "{'G': '-0.17', 'GS': '0.23', 'MP': '0.11', 'PER': '-0.29', 'TS%': '0.07', '3PAr': '0.24', 'FTr': '-0.01', 'ORB%': '0.04', 'DRB%': '0.01', 'TRB%': '0.10', 'AST%': '0.02', 'STL%': '0.01', 'BLK%': '0.06', 'TOV%': '-0.08', 'USG%': '-0.27', 'OWS': '-0.22', 'DWS': '-0.90', 'WS': '-0.50', 'WS/48': '-0.04', 'OBPM': '-0.01', 'DBPM': '0.18', 'BPM': '0.07', 'VORP': '0.19', 'FG': '0.29', 'FGA': '0.28', 'FG%': '-0.02', '3P': '-0.36', '3PA': '0.16', '3P%': '-0.00', '2P': '0.45', '2PA': '0.28', '2P%': '0.05', 'eFG%': '0.03', 'FT': '0.10', 'FTA': '0.04', 'FT%': '0.07', 'ORB': '-0.05', 'DRB': '0.12', 'TRB': '0.07', 'AST': '0.39', 'STL': '-0.20', 'BLK': '0.28', 'TOV': '0.37', 'PF': '-0.54', 'PTS': '0.20', 'YrsExperience': '-0.93', 'Height': '0.37', 'Weight': '-0.02', 'dpoy': '0.02', 'sixmen': '0.05', 'mvps': '-0.04'}\n"
     ]
    }
   ],
   "source": [
    "coefficients = classifier.coef_.tolist()[0]\n",
    "coefficients = [ '%.2f' % elem for elem in coefficients ]\n",
    "features = data.columns.tolist()\n",
    "print(dict(zip(features, coefficients)))"
   ]
  },
  {
   "cell_type": "code",
   "execution_count": 207,
   "metadata": {},
   "outputs": [
    {
     "data": {
      "text/plain": [
       "'0.997'"
      ]
     },
     "execution_count": 207,
     "metadata": {},
     "output_type": "execute_result"
    }
   ],
   "source": [
    "score = classifier.score(X_test_scaled, y_test)\n",
    "score = \"%.3f\" % score\n",
    "score"
   ]
  },
  {
   "cell_type": "code",
   "execution_count": 208,
   "metadata": {},
   "outputs": [
    {
     "name": "stdout",
     "output_type": "stream",
     "text": [
      "Testing Data Score: 0.9974895397489539\n"
     ]
    }
   ],
   "source": [
    "print(f\"Testing Data Score: {classifier.score(X_test_scaled, y_test)}\")"
   ]
  },
  {
   "cell_type": "code",
   "execution_count": 209,
   "metadata": {},
   "outputs": [
    {
     "data": {
      "image/png": "[encoded data removed]",
      "text/plain": [
       "<matplotlib.figure.Figure at 0x11e983a90>"
      ]
     },
     "metadata": {},
     "output_type": "display_data"
    }
   ],
   "source": [
    "x_values = np.arange(len(feature_names))\n",
    "plt.figure(figsize=(10, 7))\n",
    "\n",
    "plt.title(\"Logistic Regression Feature Coefficient; Testing Data Score: \"f\"{score}\")\n",
    "plt.xlabel(\"Feature Name\")\n",
    "plt.ylabel(\"Regression Coefficient\")\n",
    "\n",
    "plt.bar(x_values, coefficients, facecolor=\"darkblue\",\n",
    "        alpha=0.75, tick_label=feature_names)\n",
    "plt.xticks(rotation='vertical')\n",
    "plt.savefig(\"ROY_Regression_Features\")\n",
    "plt.show()"
   ]
  },
  {
   "cell_type": "code",
   "execution_count": null,
   "metadata": {
    "collapsed": true
   },
   "outputs": [],
   "source": []
  },
  {
   "cell_type": "code",
   "execution_count": 210,
   "metadata": {
    "collapsed": true
   },
   "outputs": [],
   "source": [
    "from sklearn import tree"
   ]
  },
  {
   "cell_type": "code",
   "execution_count": 211,
   "metadata": {
    "collapsed": true
   },
   "outputs": [],
   "source": [
    "X_train, X_test, y_train, y_test = train_test_split(data, target, random_state=42, stratify=target)"
   ]
  },
  {
   "cell_type": "code",
   "execution_count": 212,
   "metadata": {},
   "outputs": [
    {
     "data": {
      "text/plain": [
       "0.99832635983263596"
      ]
     },
     "execution_count": 212,
     "metadata": {},
     "output_type": "execute_result"
    }
   ],
   "source": [
    "clf = tree.DecisionTreeClassifier()\n",
    "clf = clf.fit(X_train, y_train)\n",
    "clf.score(X_test, y_test)"
   ]
  },
  {
   "cell_type": "code",
   "execution_count": 213,
   "metadata": {},
   "outputs": [
    {
     "data": {
      "text/plain": [
       "0.99832635983263596"
      ]
     },
     "execution_count": 213,
     "metadata": {},
     "output_type": "execute_result"
    }
   ],
   "source": [
    "from sklearn.ensemble import RandomForestClassifier\n",
    "rf = RandomForestClassifier(n_estimators=200)\n",
    "rf = rf.fit(X_train, y_train)\n",
    "rf.score(X_test, y_test)"
   ]
  },
  {
   "cell_type": "code",
   "execution_count": 214,
   "metadata": {},
   "outputs": [
    {
     "data": {
      "text/plain": [
       "'0.998'"
      ]
     },
     "execution_count": 214,
     "metadata": {},
     "output_type": "execute_result"
    }
   ],
   "source": [
    "score = rf.score(X_test, y_test)\n",
    "score = \"%.3f\" % score\n",
    "score"
   ]
  },
  {
   "cell_type": "code",
   "execution_count": 215,
   "metadata": {},
   "outputs": [
    {
     "data": {
      "image/png": "[encoded data removed]",
      "text/plain": [
       "<matplotlib.figure.Figure at 0x122dc37f0>"
      ]
     },
     "metadata": {},
     "output_type": "display_data"
    }
   ],
   "source": [
    "x_values = np.arange(len(feature_names))\n",
    "plt.figure(figsize=(10, 7))\n",
    "\n",
    "plt.title(\"Feature Importance; Testing Score: \"f\"{score}\")\n",
    "plt.xlabel(\"Feature Name\")\n",
    "plt.ylabel(\"Importance\")\n",
    "\n",
    "plt.bar(x_values, rf.feature_importances_, facecolor=\"darkblue\",\n",
    "        alpha=0.75, tick_label=feature_names)\n",
    "plt.xticks(rotation='vertical')\n",
    "plt.savefig(\"ROY_Features\")\n",
    "plt.show()"
   ]
  },
  {
   "cell_type": "code",
   "execution_count": 216,
   "metadata": {},
   "outputs": [
    {
     "data": {
      "text/plain": [
       "[(0.068866900709348949, 'YrsExperience'),\n",
       " (0.044539251998795423, 'DWS'),\n",
       " (0.043408526388484754, 'WS'),\n",
       " (0.042744684689741581, 'WS/48'),\n",
       " (0.032031132543304239, 'MP'),\n",
       " (0.031548936034655056, 'TS%'),\n",
       " (0.029497980495329538, 'FTA'),\n",
       " (0.027243732212753415, '2P'),\n",
       " (0.026942843789878462, 'VORP'),\n",
       " (0.026693101843938263, 'PER'),\n",
       " (0.025571535509442144, 'OBPM'),\n",
       " (0.025239271238287765, 'PTS'),\n",
       " (0.025127430486222617, '3PA'),\n",
       " (0.023423638582093776, 'OWS'),\n",
       " (0.022980611876503004, 'BPM'),\n",
       " (0.021610678277390192, 'AST%'),\n",
       " (0.020541616171679471, 'eFG%'),\n",
       " (0.020524029666936158, 'TOV'),\n",
       " (0.020411314991987825, 'AST'),\n",
       " (0.02038655825974944, 'FG'),\n",
       " (0.019982375817099732, '3P'),\n",
       " (0.019701128294832761, 'FGA'),\n",
       " (0.018898195503960838, '3PAr'),\n",
       " (0.018890223560554083, 'FT'),\n",
       " (0.018634990544894547, '3P%'),\n",
       " (0.017642225418603327, '2PA'),\n",
       " (0.017213719241061597, 'GS'),\n",
       " (0.016998097354557953, 'TRB%'),\n",
       " (0.016846285638870293, 'FT%'),\n",
       " (0.016794638081340706, 'FTr'),\n",
       " (0.016507508945090305, 'DRB%'),\n",
       " (0.015403181378957258, 'G'),\n",
       " (0.014366330541672903, '2P%'),\n",
       " (0.014257365009411504, 'BLK%'),\n",
       " (0.013793991073635921, 'DRB'),\n",
       " (0.01356027846524855, 'STL%'),\n",
       " (0.013253107906186874, 'FG%'),\n",
       " (0.013137642815867023, 'BLK'),\n",
       " (0.013026182682810694, 'ORB'),\n",
       " (0.012938174711078729, 'PF'),\n",
       " (0.012698582549162977, 'Weight'),\n",
       " (0.011419725101774797, 'Height'),\n",
       " (0.010835469657359754, 'TRB'),\n",
       " (0.010584191612584925, 'DBPM'),\n",
       " (0.0099044992686667527, 'TOV%'),\n",
       " (0.0094431948274478292, 'USG%'),\n",
       " (0.0087670524471656561, 'ORB%'),\n",
       " (0.0044631682367526678, 'STL'),\n",
       " (0.00070469754682694744, 'mvps'),\n",
       " (0.0, 'sixmen'),\n",
       " (0.0, 'dpoy')]"
      ]
     },
     "execution_count": 216,
     "metadata": {},
     "output_type": "execute_result"
    }
   ],
   "source": [
    "sorted(zip(rf.feature_importances_, feature_names), reverse=True)"
   ]
  },
  {
   "cell_type": "code",
   "execution_count": 217,
   "metadata": {},
   "outputs": [
    {
     "data": {
      "text/html": [
       "<div>\n",
       "<style>\n",
       "    .dataframe thead tr:only-child th {\n",
       "        text-align: right;\n",
       "    }\n",
       "\n",
       "    .dataframe thead th {\n",
       "        text-align: left;\n",
       "    }\n",
       "\n",
       "    .dataframe tbody tr th {\n",
       "        vertical-align: top;\n",
       "    }\n",
       "</style>\n",
       "<table border=\"1\" class=\"dataframe\">\n",
       "  <thead>\n",
       "    <tr style=\"text-align: right;\">\n",
       "      <th></th>\n",
       "      <th>Actual</th>\n",
       "      <th>Prediction</th>\n",
       "    </tr>\n",
       "  </thead>\n",
       "  <tbody>\n",
       "    <tr>\n",
       "      <th>2020</th>\n",
       "      <td>1</td>\n",
       "      <td>0</td>\n",
       "    </tr>\n",
       "    <tr>\n",
       "      <th>1240</th>\n",
       "      <td>1</td>\n",
       "      <td>0</td>\n",
       "    </tr>\n",
       "  </tbody>\n",
       "</table>\n",
       "</div>"
      ],
      "text/plain": [
       "      Actual  Prediction\n",
       "2020       1           0\n",
       "1240       1           0"
      ]
     },
     "execution_count": 217,
     "metadata": {},
     "output_type": "execute_result"
    }
   ],
   "source": [
    "predictions = rf.predict(X_test)\n",
    "predict_df = pd.DataFrame({\"Prediction\": predictions, \"Actual\": y_test})\n",
    "wrong_predict_df = predict_df.loc[predict_df['Actual'] != predict_df['Prediction']]\n",
    "wrong_predict_df"
   ]
  },
  {
   "cell_type": "code",
   "execution_count": 218,
   "metadata": {},
   "outputs": [
    {
     "data": {
      "text/html": [
       "<div>\n",
       "<style>\n",
       "    .dataframe thead tr:only-child th {\n",
       "        text-align: right;\n",
       "    }\n",
       "\n",
       "    .dataframe thead th {\n",
       "        text-align: left;\n",
       "    }\n",
       "\n",
       "    .dataframe tbody tr th {\n",
       "        vertical-align: top;\n",
       "    }\n",
       "</style>\n",
       "<table border=\"1\" class=\"dataframe\">\n",
       "  <thead>\n",
       "    <tr style=\"text-align: right;\">\n",
       "      <th></th>\n",
       "      <th>Actual</th>\n",
       "      <th>Prediction</th>\n",
       "    </tr>\n",
       "  </thead>\n",
       "  <tbody>\n",
       "    <tr>\n",
       "      <th>2020</th>\n",
       "      <td>1</td>\n",
       "      <td>0</td>\n",
       "    </tr>\n",
       "    <tr>\n",
       "      <th>1240</th>\n",
       "      <td>1</td>\n",
       "      <td>0</td>\n",
       "    </tr>\n",
       "  </tbody>\n",
       "</table>\n",
       "</div>"
      ],
      "text/plain": [
       "      Actual  Prediction\n",
       "2020       1           0\n",
       "1240       1           0"
      ]
     },
     "execution_count": 218,
     "metadata": {},
     "output_type": "execute_result"
    }
   ],
   "source": [
    "act_df_1 = predict_df.loc[predict_df['Actual'] == 1]\n",
    "act_df_1"
   ]
  },
  {
   "cell_type": "markdown",
   "metadata": {},
   "source": [
    "# Logistic Regression/Random Forests MVP"
   ]
  },
  {
   "cell_type": "code",
   "execution_count": 219,
   "metadata": {
    "collapsed": true
   },
   "outputs": [],
   "source": [
    "mvp_df = df[np.isfinite(df['WS/48'])]\n",
    "mvp_df = mvp_df[np.isfinite(mvp_df['FG%'])]\n",
    "mvp_df = mvp_df[np.isfinite(mvp_df['YrsExperience'])]\n",
    "mvp_df = mvp_df.drop(\"blanl\", axis=1)\n",
    "mvp_df = mvp_df.drop(\"blank2\", axis=1)\n",
    "mvp_df = mvp_df.dropna(axis=0, how='any')\n",
    "mvp_df = mvp_df.reset_index(drop=True) #RESET INDEX\n",
    "data = mvp_df.drop(\"Pos\", axis=1)\n",
    "data = data.drop(\"Tm\", axis=1)\n",
    "data = data.drop(\"Player\", axis=1)\n",
    "data = data.drop(\"TrueSalary\", axis=1)\n",
    "data = data.drop(\"RoundedPosition\", axis=1)\n",
    "data = data.drop(\"Year\", axis=1)\n",
    "data = data.drop(\"Age\", axis=1)\n",
    "data = data.drop(\"mvps\", axis=1)\n",
    "feature_names = data.columns\n",
    "target = sixmen_df['mvps']"
   ]
  },
  {
   "cell_type": "code",
   "execution_count": 220,
   "metadata": {
    "collapsed": true
   },
   "outputs": [],
   "source": [
    "from sklearn.model_selection import train_test_split\n",
    "\n",
    "X_train, X_test, y_train, y_test = train_test_split(data, target, random_state=1, stratify=target)"
   ]
  },
  {
   "cell_type": "code",
   "execution_count": 221,
   "metadata": {},
   "outputs": [
    {
     "name": "stderr",
     "output_type": "stream",
     "text": [
      "/Users/owen/anaconda/lib/python3.6/site-packages/sklearn/utils/validation.py:429: DataConversionWarning: Data with input dtype int64 was converted to float64 by StandardScaler.\n",
      "  warnings.warn(msg, _DataConversionWarning)\n",
      "/Users/owen/anaconda/lib/python3.6/site-packages/sklearn/preprocessing/data.py:586: DeprecationWarning: Passing 1d arrays as data is deprecated in 0.17 and will raise ValueError in 0.19. Reshape your data either using X.reshape(-1, 1) if your data has a single feature or X.reshape(1, -1) if it contains a single sample.\n",
      "  warnings.warn(DEPRECATION_MSG_1D, DeprecationWarning)\n"
     ]
    }
   ],
   "source": [
    "from sklearn.preprocessing import StandardScaler\n",
    "\n",
    "X_scaler = StandardScaler().fit(X_train)\n",
    "y_scaler = StandardScaler().fit(y_train)"
   ]
  },
  {
   "cell_type": "code",
   "execution_count": 222,
   "metadata": {},
   "outputs": [
    {
     "name": "stderr",
     "output_type": "stream",
     "text": [
      "/Users/owen/anaconda/lib/python3.6/site-packages/sklearn/utils/validation.py:429: DataConversionWarning: Data with input dtype int64 was converted to float64 by StandardScaler.\n",
      "  warnings.warn(msg, _DataConversionWarning)\n",
      "/Users/owen/anaconda/lib/python3.6/site-packages/sklearn/preprocessing/data.py:649: DeprecationWarning: Passing 1d arrays as data is deprecated in 0.17 and will raise ValueError in 0.19. Reshape your data either using X.reshape(-1, 1) if your data has a single feature or X.reshape(1, -1) if it contains a single sample.\n",
      "  warnings.warn(DEPRECATION_MSG_1D, DeprecationWarning)\n",
      "/Users/owen/anaconda/lib/python3.6/site-packages/sklearn/preprocessing/data.py:649: DeprecationWarning: Passing 1d arrays as data is deprecated in 0.17 and will raise ValueError in 0.19. Reshape your data either using X.reshape(-1, 1) if your data has a single feature or X.reshape(1, -1) if it contains a single sample.\n",
      "  warnings.warn(DEPRECATION_MSG_1D, DeprecationWarning)\n"
     ]
    }
   ],
   "source": [
    "X_train_scaled = X_scaler.transform(X_train)\n",
    "X_test_scaled = X_scaler.transform(X_test)\n",
    "y_train_scaled = y_scaler.transform(y_train)\n",
    "y_test_scaled = y_scaler.transform(y_test)"
   ]
  },
  {
   "cell_type": "code",
   "execution_count": 223,
   "metadata": {},
   "outputs": [
    {
     "data": {
      "text/plain": [
       "LogisticRegression(C=1.0, class_weight=None, dual=False, fit_intercept=True,\n",
       "          intercept_scaling=1, max_iter=100, multi_class='ovr', n_jobs=1,\n",
       "          penalty='l2', random_state=None, solver='liblinear', tol=0.0001,\n",
       "          verbose=0, warm_start=False)"
      ]
     },
     "execution_count": 223,
     "metadata": {},
     "output_type": "execute_result"
    }
   ],
   "source": [
    "from sklearn.linear_model import LogisticRegression\n",
    "classifier = LogisticRegression()\n",
    "classifier"
   ]
  },
  {
   "cell_type": "code",
   "execution_count": 224,
   "metadata": {},
   "outputs": [
    {
     "data": {
      "text/plain": [
       "LogisticRegression(C=1.0, class_weight=None, dual=False, fit_intercept=True,\n",
       "          intercept_scaling=1, max_iter=100, multi_class='ovr', n_jobs=1,\n",
       "          penalty='l2', random_state=None, solver='liblinear', tol=0.0001,\n",
       "          verbose=0, warm_start=False)"
      ]
     },
     "execution_count": 224,
     "metadata": {},
     "output_type": "execute_result"
    }
   ],
   "source": [
    "classifier.fit(X_train_scaled, y_train)"
   ]
  },
  {
   "cell_type": "code",
   "execution_count": 225,
   "metadata": {},
   "outputs": [
    {
     "name": "stdout",
     "output_type": "stream",
     "text": [
      "{'G': '0.10', 'GS': '-0.32', 'MP': '-0.57', 'PER': '-0.05', 'TS%': '-0.14', '3PAr': '-0.14', 'FTr': '-0.11', 'ORB%': '0.01', 'DRB%': '-0.01', 'TRB%': '0.09', 'AST%': '-0.08', 'STL%': '0.03', 'BLK%': '-0.01', 'TOV%': '0.13', 'USG%': '0.04', 'OWS': '0.28', 'DWS': '0.10', 'WS': '0.28', 'WS/48': '0.02', 'OBPM': '-0.05', 'DBPM': '-0.01', 'BPM': '-0.04', 'VORP': '0.66', 'FG': '0.24', 'FGA': '-0.07', 'FG%': '0.09', '3P': '0.37', '3PA': '-0.01', '3P%': '-0.05', '2P': '0.15', '2PA': '-0.08', '2P%': '0.01', 'eFG%': '0.04', 'FT': '-0.03', 'FTA': '0.04', 'FT%': '-0.06', 'ORB': '-0.16', 'DRB': '-0.05', 'TRB': '-0.08', 'AST': '-0.22', 'STL': '0.09', 'BLK': '-0.14', 'TOV': '-0.13', 'PF': '-0.23', 'PTS': '0.21', 'YrsExperience': '0.12', 'Height': '-0.02', 'Weight': '-0.13', 'dpoy': '-0.11', 'sixmen': '-0.10', 'rookies': '0.03'}\n"
     ]
    }
   ],
   "source": [
    "coefficients = classifier.coef_.tolist()[0]\n",
    "coefficients = [ '%.2f' % elem for elem in coefficients ]\n",
    "features = data.columns.tolist()\n",
    "print(dict(zip(features, coefficients)))"
   ]
  },
  {
   "cell_type": "code",
   "execution_count": 226,
   "metadata": {},
   "outputs": [
    {
     "data": {
      "text/plain": [
       "'0.997'"
      ]
     },
     "execution_count": 226,
     "metadata": {},
     "output_type": "execute_result"
    }
   ],
   "source": [
    "score = classifier.score(X_test_scaled, y_test)\n",
    "score = \"%.3f\" % score\n",
    "score"
   ]
  },
  {
   "cell_type": "code",
   "execution_count": 227,
   "metadata": {},
   "outputs": [
    {
     "name": "stdout",
     "output_type": "stream",
     "text": [
      "Testing Data Score: 0.9974895397489539\n"
     ]
    }
   ],
   "source": [
    "print(f\"Testing Data Score: {classifier.score(X_test_scaled, y_test)}\")"
   ]
  },
  {
   "cell_type": "code",
   "execution_count": 228,
   "metadata": {},
   "outputs": [
    {
     "data": {
      "image/png": "[encoded data removed]",
      "text/plain": [
       "<matplotlib.figure.Figure at 0x11f428748>"
      ]
     },
     "metadata": {},
     "output_type": "display_data"
    }
   ],
   "source": [
    "x_values = np.arange(len(feature_names))\n",
    "plt.figure(figsize=(10, 7))\n",
    "\n",
    "plt.title(\"Logistic Regression Feature Coefficient; Testing Data Score: \"f\"{score}\")\n",
    "plt.xlabel(\"Feature Name\")\n",
    "plt.ylabel(\"Regression Coefficient\")\n",
    "\n",
    "plt.bar(x_values, coefficients, facecolor=\"darkblue\",\n",
    "        alpha=0.75, tick_label=feature_names)\n",
    "plt.xticks(rotation='vertical')\n",
    "plt.savefig(\"MVP_Regression_Features\")\n",
    "plt.show()"
   ]
  },
  {
   "cell_type": "code",
   "execution_count": null,
   "metadata": {
    "collapsed": true
   },
   "outputs": [],
   "source": []
  },
  {
   "cell_type": "code",
   "execution_count": 229,
   "metadata": {
    "collapsed": true
   },
   "outputs": [],
   "source": [
    "from sklearn import tree"
   ]
  },
  {
   "cell_type": "code",
   "execution_count": 230,
   "metadata": {
    "collapsed": true
   },
   "outputs": [],
   "source": [
    "X_train, X_test, y_train, y_test = train_test_split(data, target, random_state=42, stratify=target)"
   ]
  },
  {
   "cell_type": "code",
   "execution_count": 231,
   "metadata": {},
   "outputs": [
    {
     "data": {
      "text/plain": [
       "0.99832635983263596"
      ]
     },
     "execution_count": 231,
     "metadata": {},
     "output_type": "execute_result"
    }
   ],
   "source": [
    "clf = tree.DecisionTreeClassifier()\n",
    "clf = clf.fit(X_train, y_train)\n",
    "clf.score(X_test, y_test)"
   ]
  },
  {
   "cell_type": "code",
   "execution_count": 232,
   "metadata": {},
   "outputs": [
    {
     "data": {
      "text/plain": [
       "0.99916317991631798"
      ]
     },
     "execution_count": 232,
     "metadata": {},
     "output_type": "execute_result"
    }
   ],
   "source": [
    "from sklearn.ensemble import RandomForestClassifier\n",
    "rf = RandomForestClassifier(n_estimators=200)\n",
    "rf = rf.fit(X_train, y_train)\n",
    "rf.score(X_test, y_test)"
   ]
  },
  {
   "cell_type": "code",
   "execution_count": 233,
   "metadata": {},
   "outputs": [
    {
     "data": {
      "text/plain": [
       "'0.999'"
      ]
     },
     "execution_count": 233,
     "metadata": {},
     "output_type": "execute_result"
    }
   ],
   "source": [
    "score = rf.score(X_test, y_test)\n",
    "score = \"%.3f\" % score\n",
    "score"
   ]
  },
  {
   "cell_type": "code",
   "execution_count": 234,
   "metadata": {},
   "outputs": [
    {
     "data": {
      "image/png": "[encoded data removed]",
      "text/plain": [
       "<matplotlib.figure.Figure at 0x11d9c40b8>"
      ]
     },
     "metadata": {},
     "output_type": "display_data"
    }
   ],
   "source": [
    "x_values = np.arange(len(feature_names))\n",
    "plt.figure(figsize=(10, 7))\n",
    "\n",
    "plt.title(\"Feature Importance; Testing Score: \"f\"{score}\")\n",
    "plt.xlabel(\"Feature Name\")\n",
    "plt.ylabel(\"Importance\")\n",
    "\n",
    "plt.bar(x_values, rf.feature_importances_, facecolor=\"darkblue\",\n",
    "        alpha=0.75, tick_label=feature_names)\n",
    "plt.xticks(rotation='vertical')\n",
    "plt.savefig(\"MVP_Features\")\n",
    "plt.show()"
   ]
  },
  {
   "cell_type": "code",
   "execution_count": 235,
   "metadata": {},
   "outputs": [
    {
     "data": {
      "text/plain": [
       "[(0.16010002010936941, 'WS/48'),\n",
       " (0.092749894925329895, 'OWS'),\n",
       " (0.074994965876564304, 'OBPM'),\n",
       " (0.064462539183918657, 'WS'),\n",
       " (0.056263769955145808, 'BPM'),\n",
       " (0.053158034655373478, 'PER'),\n",
       " (0.041240905978125915, 'PTS'),\n",
       " (0.03682499626912511, 'VORP'),\n",
       " (0.034042363474985869, '3P'),\n",
       " (0.02841328478225242, 'FG'),\n",
       " (0.026449119318612584, '3PA'),\n",
       " (0.016886683073354582, 'FTA'),\n",
       " (0.016401497982804394, 'TS%'),\n",
       " (0.016391961550051772, 'FGA'),\n",
       " (0.016238813659778469, 'eFG%'),\n",
       " (0.015755679116857359, '3P%'),\n",
       " (0.01526903176428915, 'FT%'),\n",
       " (0.013914343163676538, '3PAr'),\n",
       " (0.013780178951891138, 'PF'),\n",
       " (0.01281913490305173, '2P'),\n",
       " (0.012597125101428313, 'MP'),\n",
       " (0.012329710283878572, 'AST%'),\n",
       " (0.012246644788818262, 'FT'),\n",
       " (0.011343492241242528, 'STL'),\n",
       " (0.010518259472205685, 'YrsExperience'),\n",
       " (0.0095594388633609678, 'USG%'),\n",
       " (0.0092584592444991641, 'FTr'),\n",
       " (0.0085191225382746077, 'Weight'),\n",
       " (0.0079559768624677309, 'AST'),\n",
       " (0.007296965124279217, 'TOV%'),\n",
       " (0.0072052910455477513, 'TRB%'),\n",
       " (0.0070809248188959785, 'ORB%'),\n",
       " (0.0070665516733972008, '2PA'),\n",
       " (0.0068258771169746437, 'STL%'),\n",
       " (0.0066106728704685928, '2P%'),\n",
       " (0.0060032610093264686, 'DBPM'),\n",
       " (0.0055519600238595167, 'DWS'),\n",
       " (0.0054965670350114451, 'ORB'),\n",
       " (0.0053863182403191814, 'GS'),\n",
       " (0.0052605489272978864, 'DRB%'),\n",
       " (0.0051543202406750298, 'G'),\n",
       " (0.0044432704782793675, 'TOV'),\n",
       " (0.0044217368051047657, 'BLK%'),\n",
       " (0.003814129993217051, 'TRB'),\n",
       " (0.0034483740098900629, 'BLK'),\n",
       " (0.0034420529190128338, 'DRB'),\n",
       " (0.0025449213248055001, 'FG%'),\n",
       " (0.0024608082529031191, 'Height'),\n",
       " (0.0, 'sixmen'),\n",
       " (0.0, 'rookies'),\n",
       " (0.0, 'dpoy')]"
      ]
     },
     "execution_count": 235,
     "metadata": {},
     "output_type": "execute_result"
    }
   ],
   "source": [
    "sorted(zip(rf.feature_importances_, feature_names), reverse=True)"
   ]
  },
  {
   "cell_type": "code",
   "execution_count": 236,
   "metadata": {},
   "outputs": [
    {
     "data": {
      "text/html": [
       "<div>\n",
       "<style>\n",
       "    .dataframe thead tr:only-child th {\n",
       "        text-align: right;\n",
       "    }\n",
       "\n",
       "    .dataframe thead th {\n",
       "        text-align: left;\n",
       "    }\n",
       "\n",
       "    .dataframe tbody tr th {\n",
       "        vertical-align: top;\n",
       "    }\n",
       "</style>\n",
       "<table border=\"1\" class=\"dataframe\">\n",
       "  <thead>\n",
       "    <tr style=\"text-align: right;\">\n",
       "      <th></th>\n",
       "      <th>Actual</th>\n",
       "      <th>Prediction</th>\n",
       "    </tr>\n",
       "  </thead>\n",
       "  <tbody>\n",
       "    <tr>\n",
       "      <th>2206</th>\n",
       "      <td>1</td>\n",
       "      <td>0</td>\n",
       "    </tr>\n",
       "  </tbody>\n",
       "</table>\n",
       "</div>"
      ],
      "text/plain": [
       "      Actual  Prediction\n",
       "2206       1           0"
      ]
     },
     "execution_count": 236,
     "metadata": {},
     "output_type": "execute_result"
    }
   ],
   "source": [
    "predictions = rf.predict(X_test)\n",
    "predict_df = pd.DataFrame({\"Prediction\": predictions, \"Actual\": y_test})\n",
    "wrong_predict_df = predict_df.loc[predict_df['Actual'] != predict_df['Prediction']]\n",
    "wrong_predict_df"
   ]
  },
  {
   "cell_type": "code",
   "execution_count": 237,
   "metadata": {},
   "outputs": [
    {
     "data": {
      "text/html": [
       "<div>\n",
       "<style>\n",
       "    .dataframe thead tr:only-child th {\n",
       "        text-align: right;\n",
       "    }\n",
       "\n",
       "    .dataframe thead th {\n",
       "        text-align: left;\n",
       "    }\n",
       "\n",
       "    .dataframe tbody tr th {\n",
       "        vertical-align: top;\n",
       "    }\n",
       "</style>\n",
       "<table border=\"1\" class=\"dataframe\">\n",
       "  <thead>\n",
       "    <tr style=\"text-align: right;\">\n",
       "      <th></th>\n",
       "      <th>Actual</th>\n",
       "      <th>Prediction</th>\n",
       "    </tr>\n",
       "  </thead>\n",
       "  <tbody>\n",
       "    <tr>\n",
       "      <th>2206</th>\n",
       "      <td>1</td>\n",
       "      <td>0</td>\n",
       "    </tr>\n",
       "    <tr>\n",
       "      <th>1095</th>\n",
       "      <td>1</td>\n",
       "      <td>1</td>\n",
       "    </tr>\n",
       "  </tbody>\n",
       "</table>\n",
       "</div>"
      ],
      "text/plain": [
       "      Actual  Prediction\n",
       "2206       1           0\n",
       "1095       1           1"
      ]
     },
     "execution_count": 237,
     "metadata": {},
     "output_type": "execute_result"
    }
   ],
   "source": [
    "act_df_1 = predict_df.loc[predict_df['Actual'] == 1]\n",
    "act_df_1"
   ]
  },
  {
   "cell_type": "code",
   "execution_count": 239,
   "metadata": {},
   "outputs": [
    {
     "data": {
      "text/plain": [
       "Year                       2009\n",
       "Player             LeBron James\n",
       "Pos                          SF\n",
       "Age                          24\n",
       "Tm                          CLE\n",
       "G                            81\n",
       "GS                           81\n",
       "MP                         3054\n",
       "PER                        31.7\n",
       "TS%                       0.591\n",
       "3PAr                      0.238\n",
       "FTr                       0.472\n",
       "ORB%                        4.3\n",
       "DRB%                         19\n",
       "TRB%                       11.9\n",
       "AST%                         38\n",
       "STL%                        2.4\n",
       "BLK%                        2.4\n",
       "TOV%                         11\n",
       "USG%                       33.8\n",
       "OWS                        13.7\n",
       "DWS                         6.5\n",
       "WS                         20.3\n",
       "WS/48                     0.318\n",
       "OBPM                        9.4\n",
       "DBPM                        3.6\n",
       "BPM                          13\n",
       "VORP                       11.6\n",
       "FG                          789\n",
       "FGA                        1613\n",
       "FG%                       0.489\n",
       "3P                          132\n",
       "3PA                         384\n",
       "3P%                       0.344\n",
       "2P                          657\n",
       "2PA                        1229\n",
       "2P%                       0.535\n",
       "eFG%                       0.53\n",
       "FT                          594\n",
       "FTA                         762\n",
       "FT%                        0.78\n",
       "ORB                         106\n",
       "DRB                         507\n",
       "TRB                         613\n",
       "AST                         587\n",
       "STL                         137\n",
       "BLK                          93\n",
       "TOV                         241\n",
       "PF                          139\n",
       "PTS                        2304\n",
       "TrueSalary             36700000\n",
       "YrsExperience                 5\n",
       "Height                       80\n",
       "Weight                      240\n",
       "RoundedPosition               3\n",
       "dpoy                          0\n",
       "sixmen                        0\n",
       "rookies                       0\n",
       "mvps                          1\n",
       "Name: 1095, dtype: object"
      ]
     },
     "execution_count": 239,
     "metadata": {},
     "output_type": "execute_result"
    }
   ],
   "source": [
    "mvp_df.iloc[1095]"
   ]
  },
  {
   "cell_type": "code",
   "execution_count": null,
   "metadata": {
    "collapsed": true
   },
   "outputs": [],
   "source": []
  }
 ],
 "metadata": {
  "kernelspec": {
   "display_name": "Python 3",
   "language": "python",
   "name": "python3"
  },
  "language_info": {
   "codemirror_mode": {
    "name": "ipython",
    "version": 3
   },
   "file_extension": ".py",
   "mimetype": "text/x-python",
   "name": "python",
   "nbconvert_exporter": "python",
   "pygments_lexer": "ipython3",
   "version": "3.6.1"
  }
 },
 "nbformat": 4,
 "nbformat_minor": 2
}
